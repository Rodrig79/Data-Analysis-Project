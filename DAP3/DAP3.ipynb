{
 "cells": [
  {
   "cell_type": "code",
   "execution_count": 44,
   "metadata": {
    "colab": {},
    "colab_type": "code",
    "id": "y2E1jbS4ZluC"
   },
   "outputs": [
    {
     "name": "stdout",
     "output_type": "stream",
     "text": [
      "Requirement already satisfied: scikit-learn in /usr/local/Cellar/jupyterlab/2.2.2/libexec/lib/python3.8/site-packages (0.23.2)\n",
      "Requirement already satisfied: scipy>=0.19.1 in /usr/local/Cellar/jupyterlab/2.2.2/libexec/lib/python3.8/site-packages (from scikit-learn) (1.5.2)\n",
      "Requirement already satisfied: numpy>=1.13.3 in /usr/local/Cellar/jupyterlab/2.2.2/libexec/lib/python3.8/site-packages (from scikit-learn) (1.19.1)\n",
      "Requirement already satisfied: threadpoolctl>=2.0.0 in /usr/local/Cellar/jupyterlab/2.2.2/libexec/lib/python3.8/site-packages (from scikit-learn) (2.1.0)\n",
      "Requirement already satisfied: joblib>=0.11 in /usr/local/Cellar/jupyterlab/2.2.2/libexec/lib/python3.8/site-packages (from scikit-learn) (0.16.0)\n",
      "\u001b[33mWARNING: You are using pip version 20.2; however, version 20.2.1 is available.\n",
      "You should consider upgrading via the '/usr/local/Cellar/jupyterlab/2.2.2/libexec/bin/python3.8 -m pip install --upgrade pip' command.\u001b[0m\n",
      "Note: you may need to restart the kernel to use updated packages.\n",
      "Requirement already satisfied: pandas in /usr/local/Cellar/jupyterlab/2.2.2/libexec/lib/python3.8/site-packages (1.1.0)\n",
      "Requirement already satisfied: python-dateutil>=2.7.3 in /usr/local/Cellar/jupyterlab/2.2.2/libexec/lib/python3.8/site-packages (from pandas) (2.8.1)\n",
      "Requirement already satisfied: numpy>=1.15.4 in /usr/local/Cellar/jupyterlab/2.2.2/libexec/lib/python3.8/site-packages (from pandas) (1.19.1)\n",
      "Requirement already satisfied: pytz>=2017.2 in /usr/local/Cellar/jupyterlab/2.2.2/libexec/lib/python3.8/site-packages (from pandas) (2020.1)\n",
      "Requirement already satisfied: six>=1.5 in /usr/local/Cellar/jupyterlab/2.2.2/libexec/lib/python3.8/site-packages (from python-dateutil>=2.7.3->pandas) (1.15.0)\n",
      "\u001b[33mWARNING: You are using pip version 20.2; however, version 20.2.1 is available.\n",
      "You should consider upgrading via the '/usr/local/Cellar/jupyterlab/2.2.2/libexec/bin/python3.8 -m pip install --upgrade pip' command.\u001b[0m\n",
      "Note: you may need to restart the kernel to use updated packages.\n",
      "Requirement already satisfied: matplotlib in /usr/local/Cellar/jupyterlab/2.2.2/libexec/lib/python3.8/site-packages (3.3.0)\n",
      "Requirement already satisfied: pillow>=6.2.0 in /usr/local/Cellar/jupyterlab/2.2.2/libexec/lib/python3.8/site-packages (from matplotlib) (7.2.0)\n",
      "Requirement already satisfied: cycler>=0.10 in /usr/local/Cellar/jupyterlab/2.2.2/libexec/lib/python3.8/site-packages (from matplotlib) (0.10.0)\n",
      "Requirement already satisfied: numpy>=1.15 in /usr/local/Cellar/jupyterlab/2.2.2/libexec/lib/python3.8/site-packages (from matplotlib) (1.19.1)\n",
      "Requirement already satisfied: pyparsing!=2.0.4,!=2.1.2,!=2.1.6,>=2.0.3 in /usr/local/Cellar/jupyterlab/2.2.2/libexec/lib/python3.8/site-packages (from matplotlib) (2.4.7)\n",
      "Requirement already satisfied: kiwisolver>=1.0.1 in /usr/local/Cellar/jupyterlab/2.2.2/libexec/lib/python3.8/site-packages (from matplotlib) (1.2.0)\n",
      "Requirement already satisfied: python-dateutil>=2.1 in /usr/local/Cellar/jupyterlab/2.2.2/libexec/lib/python3.8/site-packages (from matplotlib) (2.8.1)\n",
      "Requirement already satisfied: six in /usr/local/Cellar/jupyterlab/2.2.2/libexec/lib/python3.8/site-packages (from cycler>=0.10->matplotlib) (1.15.0)\n",
      "\u001b[33mWARNING: You are using pip version 20.2; however, version 20.2.1 is available.\n",
      "You should consider upgrading via the '/usr/local/Cellar/jupyterlab/2.2.2/libexec/bin/python3.8 -m pip install --upgrade pip' command.\u001b[0m\n",
      "Note: you may need to restart the kernel to use updated packages.\n"
     ]
    }
   ],
   "source": [
    "#If you need to install in modules in jupyter notebook \n",
    "%pip install scikit-learn\n",
    "%pip install pandas\n",
    "%pip install matplotlib \n",
    "\n",
    "\n",
    "#Python ≥3.5 is required\n",
    "import sys\n",
    "assert sys.version_info >= (3, 5)\n",
    "import datetime\n",
    "\n",
    "# Scikit-Learn ≥0.20 is required\n",
    "import sklearn\n",
    "assert sklearn.__version__ >= \"0.20\"\n",
    "\n",
    "# Common imports\n",
    "import numpy as np\n",
    "import pandas as pd\n",
    "import os\n",
    "from sklearn.metrics import confusion_matrix\n",
    "from sklearn.metrics import classification_report\n",
    "from sklearn.model_selection import train_test_split\n",
    "import matplotlib.pyplot as plt\n",
    "from scipy import stats\n",
    "\n",
    "\n",
    "# To plot pretty figures\n",
    "%matplotlib inline\n",
    "import matplotlib as mpl\n",
    "import matplotlib.pyplot as plt\n",
    "mpl.rc('axes', labelsize=14)\n",
    "mpl.rc('xtick', labelsize=12)\n",
    "mpl.rc('ytick', labelsize=12)\n",
    "\n",
    "# to make this notebook's output stable across runs\n",
    "np.random.seed(42)\n",
    "\n",
    "# Where to save the figures\n",
    "PROJECT_ROOT_DIR = \".\"\n",
    "CHAPTER_ID = \"decision_trees\"\n",
    "IMAGES_PATH = os.path.join(PROJECT_ROOT_DIR, \"images\", CHAPTER_ID)\n",
    "\n",
    "os.makedirs(IMAGES_PATH, exist_ok=True)\n",
    "def save_fig(fig_id, tight_layout=True, fig_extension=\"png\", resolution=300):\n",
    "\n",
    "    path = os.path.join(IMAGES_PATH, fig_id + \".\" + fig_extension)\n",
    "    print(\"Saving figure\", fig_id)\n",
    "    if tight_layout:\n",
    "        plt.tight_layout()\n",
    "    plt.savefig(path, format=fig_extension, dpi=resolution)"
   ]
  },
  {
   "cell_type": "code",
   "execution_count": null,
   "metadata": {},
   "outputs": [],
   "source": []
  },
  {
   "cell_type": "code",
   "execution_count": 45,
   "metadata": {
    "colab": {},
    "colab_type": "code",
    "id": "IvsV2RSPapC6"
   },
   "outputs": [],
   "source": [
    "#changes the output for the print statements\n",
    "pd.set_option('display.max_rows', 10)\n",
    "pd.set_option('display.max_columns', None)\n",
    "pd.set_option('display.width', None)\n",
    "pd.set_option('display.max_colwidth',0)"
   ]
  },
  {
   "cell_type": "code",
   "execution_count": 46,
   "metadata": {
    "colab": {},
    "colab_type": "code",
    "id": "vtW9LfInZ_x2"
   },
   "outputs": [],
   "source": [
    "#Pull \n",
    "df = pd.read_csv('https://raw.githubusercontent.com/Rodrig79/Machine-Learning-Data-Analysis-Project/master/rawData/pokemon.csv') "
   ]
  },
  {
   "cell_type": "markdown",
   "metadata": {
    "colab_type": "text",
    "id": "I2M6ZDuG6bD1"
   },
   "source": [
    "#Confusion Matrix"
   ]
  },
  {
   "cell_type": "markdown",
   "metadata": {
    "colab_type": "text",
    "id": "mNxkFo_Pck8Z"
   },
   "source": [
    "# Decision Tree"
   ]
  },
  {
   "cell_type": "code",
   "execution_count": 47,
   "metadata": {
    "colab": {},
    "colab_type": "code",
    "id": "3XiwSvN4JiWz"
   },
   "outputs": [],
   "source": [
    "#imports\n",
    "from sklearn.model_selection import KFold\n",
    "from sklearn.tree import DecisionTreeClassifier\n",
    "from sklearn.model_selection import train_test_split  "
   ]
  },
  {
   "cell_type": "code",
   "execution_count": 48,
   "metadata": {},
   "outputs": [],
   "source": [
    "from sklearn import preprocessing\n",
    "\n",
    "#Data Cleaning\n",
    "df = df[~df.Name.str.contains('Mega')] #removed pokemon with \"Mega\" in it\n",
    "df = df.drop(columns = [\"Name\",\"Type 1\",\"Type 2\",\"#\",\"Generation\"]) #Removed columns with names\n",
    "\n",
    "#normalization\n",
    "x = df.values #returns a numpy array\n",
    "min_max_scaler = preprocessing.MinMaxScaler()\n",
    "x_scaled = min_max_scaler.fit_transform(x)\n",
    "df=pd.DataFrame(x_scaled, columns=df.columns)"
   ]
  },
  {
   "cell_type": "code",
   "execution_count": 55,
   "metadata": {},
   "outputs": [],
   "source": [
    "y = df.Legendary\n",
    "X = df.drop(columns = \"Legendary\")\n",
    "\n"
   ]
  },
  {
   "cell_type": "code",
   "execution_count": 56,
   "metadata": {},
   "outputs": [
    {
     "name": "stdout",
     "output_type": "stream",
     "text": [
      "0      0.0\n",
      "1      0.0\n",
      "2      0.0\n",
      "3      0.0\n",
      "4      0.0\n",
      "      ... \n",
      "746    1.0\n",
      "747    1.0\n",
      "748    1.0\n",
      "749    1.0\n",
      "750    1.0\n",
      "Name: Legendary, Length: 751, dtype: float64\n",
      "        Total        HP    Attack   Defense   Sp. Atk   Sp. Def     Speed\n",
      "0    0.233898  0.173228  0.251429  0.195556  0.323529  0.214286  0.228571\n",
      "1    0.381356  0.232283  0.325714  0.257778  0.411765  0.285714  0.314286\n",
      "2    0.584746  0.311024  0.440000  0.346667  0.529412  0.380952  0.428571\n",
      "3    0.218644  0.149606  0.268571  0.168889  0.294118  0.142857  0.342857\n",
      "4    0.381356  0.224409  0.337143  0.235556  0.411765  0.214286  0.428571\n",
      "..        ...       ...       ...       ...       ...       ...       ...\n",
      "746  0.711864  0.421260  0.542857  0.515556  0.417647  0.357143  0.514286\n",
      "747  0.711864  0.192913  0.542857  0.644444  0.529412  0.619048  0.257143\n",
      "748  0.711864  0.311024  0.600000  0.244444  0.823529  0.523810  0.371429\n",
      "749  0.847458  0.311024  0.885714  0.244444  0.941176  0.523810  0.428571\n",
      "750  0.711864  0.311024  0.600000  0.511111  0.705882  0.333333  0.371429\n",
      "\n",
      "[751 rows x 7 columns]\n"
     ]
    }
   ],
   "source": [
    "print(y)\n",
    "print(X)"
   ]
  },
  {
   "cell_type": "code",
   "execution_count": 81,
   "metadata": {
    "colab": {},
    "colab_type": "code",
    "id": "aNanvUIZnkBv"
   },
   "outputs": [],
   "source": [
    "#functions for entropy \n",
    "\n",
    "def decisionTreeEntropy(X,y):\n",
    "  X_train, X_test, y_train, y_test = train_test_split(X, y, test_size=0.30)\n",
    "  tree_clf = DecisionTreeClassifier(max_depth=2, criterion=\"entropy\", random_state=42)\n",
    "  tree_clf.fit(X_train, y_train)\n",
    "  kf = KFold(n_splits=7, random_state=None, shuffle=True)\n",
    "  kf.get_n_splits(X)\n",
    "  target_names = ['0','1']\n",
    "  for train_index, test_index in kf.split(X):\n",
    "      tree_clf.fit(X_train, y_train)  \n",
    "      y_pred = tree_clf.predict(X_test)\n",
    "      print(classification_report(y_test, y_pred, target_names=target_names))  "
   ]
  },
  {
   "cell_type": "code",
   "execution_count": 102,
   "metadata": {},
   "outputs": [],
   "source": [
    "def decisionTreeGini(X,y):\n",
    "  X_train, X_test, y_train, y_test = train_test_split(X, y, test_size=0.30)\n",
    "  tree_clf = DecisionTreeClassifier(max_depth=2, criterion = \"gini\", random_state=42)\n",
    "  tree_clf.fit(X_train, y_train)\n",
    "  kf = KFold(n_splits=7, random_state=None, shuffle=True)\n",
    "  kf.get_n_splits(X)\n",
    "  target_names = ['0','1']\n",
    "  for train_index, test_index in kf.split(X):\n",
    "      tree_clf.fit(X_train, y_train)  \n",
    "      y_pred = tree_clf.predict(X_test)\n",
    "      print(classification_report(y_test, y_pred, target_names=target_names))"
   ]
  },
  {
   "cell_type": "code",
   "execution_count": 79,
   "metadata": {},
   "outputs": [
    {
     "name": "stdout",
     "output_type": "stream",
     "text": [
      "              precision    recall  f1-score   support\n",
      "\n",
      "           0       1.00      0.97      0.99       206\n",
      "           1       0.77      1.00      0.87        20\n",
      "\n",
      "    accuracy                           0.97       226\n",
      "   macro avg       0.88      0.99      0.93       226\n",
      "weighted avg       0.98      0.97      0.97       226\n",
      "\n",
      "              precision    recall  f1-score   support\n",
      "\n",
      "           0       1.00      0.97      0.99       206\n",
      "           1       0.77      1.00      0.87        20\n",
      "\n",
      "    accuracy                           0.97       226\n",
      "   macro avg       0.88      0.99      0.93       226\n",
      "weighted avg       0.98      0.97      0.97       226\n",
      "\n",
      "              precision    recall  f1-score   support\n",
      "\n",
      "           0       1.00      0.97      0.99       206\n",
      "           1       0.77      1.00      0.87        20\n",
      "\n",
      "    accuracy                           0.97       226\n",
      "   macro avg       0.88      0.99      0.93       226\n",
      "weighted avg       0.98      0.97      0.97       226\n",
      "\n",
      "              precision    recall  f1-score   support\n",
      "\n",
      "           0       1.00      0.97      0.99       206\n",
      "           1       0.77      1.00      0.87        20\n",
      "\n",
      "    accuracy                           0.97       226\n",
      "   macro avg       0.88      0.99      0.93       226\n",
      "weighted avg       0.98      0.97      0.97       226\n",
      "\n",
      "              precision    recall  f1-score   support\n",
      "\n",
      "           0       1.00      0.97      0.99       206\n",
      "           1       0.77      1.00      0.87        20\n",
      "\n",
      "    accuracy                           0.97       226\n",
      "   macro avg       0.88      0.99      0.93       226\n",
      "weighted avg       0.98      0.97      0.97       226\n",
      "\n",
      "              precision    recall  f1-score   support\n",
      "\n",
      "           0       1.00      0.97      0.99       206\n",
      "           1       0.77      1.00      0.87        20\n",
      "\n",
      "    accuracy                           0.97       226\n",
      "   macro avg       0.88      0.99      0.93       226\n",
      "weighted avg       0.98      0.97      0.97       226\n",
      "\n",
      "              precision    recall  f1-score   support\n",
      "\n",
      "           0       1.00      0.97      0.99       206\n",
      "           1       0.77      1.00      0.87        20\n",
      "\n",
      "    accuracy                           0.97       226\n",
      "   macro avg       0.88      0.99      0.93       226\n",
      "weighted avg       0.98      0.97      0.97       226\n",
      "\n"
     ]
    }
   ],
   "source": [
    "decisionTreeEntropy(X,y)"
   ]
  },
  {
   "cell_type": "code",
   "execution_count": 105,
   "metadata": {},
   "outputs": [
    {
     "name": "stdout",
     "output_type": "stream",
     "text": [
      "              precision    recall  f1-score   support\n",
      "\n",
      "           0       1.00      0.98      0.99       206\n",
      "           1       0.79      0.95      0.86        20\n",
      "\n",
      "    accuracy                           0.97       226\n",
      "   macro avg       0.89      0.96      0.92       226\n",
      "weighted avg       0.98      0.97      0.97       226\n",
      "\n",
      "              precision    recall  f1-score   support\n",
      "\n",
      "           0       1.00      0.98      0.99       206\n",
      "           1       0.79      0.95      0.86        20\n",
      "\n",
      "    accuracy                           0.97       226\n",
      "   macro avg       0.89      0.96      0.92       226\n",
      "weighted avg       0.98      0.97      0.97       226\n",
      "\n",
      "              precision    recall  f1-score   support\n",
      "\n",
      "           0       1.00      0.98      0.99       206\n",
      "           1       0.79      0.95      0.86        20\n",
      "\n",
      "    accuracy                           0.97       226\n",
      "   macro avg       0.89      0.96      0.92       226\n",
      "weighted avg       0.98      0.97      0.97       226\n",
      "\n",
      "              precision    recall  f1-score   support\n",
      "\n",
      "           0       1.00      0.98      0.99       206\n",
      "           1       0.79      0.95      0.86        20\n",
      "\n",
      "    accuracy                           0.97       226\n",
      "   macro avg       0.89      0.96      0.92       226\n",
      "weighted avg       0.98      0.97      0.97       226\n",
      "\n",
      "              precision    recall  f1-score   support\n",
      "\n",
      "           0       1.00      0.98      0.99       206\n",
      "           1       0.79      0.95      0.86        20\n",
      "\n",
      "    accuracy                           0.97       226\n",
      "   macro avg       0.89      0.96      0.92       226\n",
      "weighted avg       0.98      0.97      0.97       226\n",
      "\n",
      "              precision    recall  f1-score   support\n",
      "\n",
      "           0       1.00      0.98      0.99       206\n",
      "           1       0.79      0.95      0.86        20\n",
      "\n",
      "    accuracy                           0.97       226\n",
      "   macro avg       0.89      0.96      0.92       226\n",
      "weighted avg       0.98      0.97      0.97       226\n",
      "\n",
      "              precision    recall  f1-score   support\n",
      "\n",
      "           0       1.00      0.98      0.99       206\n",
      "           1       0.79      0.95      0.86        20\n",
      "\n",
      "    accuracy                           0.97       226\n",
      "   macro avg       0.89      0.96      0.92       226\n",
      "weighted avg       0.98      0.97      0.97       226\n",
      "\n"
     ]
    }
   ],
   "source": [
    "decisionTreeGini(X,y)"
   ]
  }
 ],
 "metadata": {
  "colab": {
   "collapsed_sections": [],
   "name": "DAP3.ipynb",
   "provenance": [],
   "toc_visible": true
  },
  "kernelspec": {
   "display_name": "Python 3",
   "language": "python",
   "name": "python3"
  },
  "language_info": {
   "codemirror_mode": {
    "name": "ipython",
    "version": 3
   },
   "file_extension": ".py",
   "mimetype": "text/x-python",
   "name": "python",
   "nbconvert_exporter": "python",
   "pygments_lexer": "ipython3",
   "version": "3.8.5"
  }
 },
 "nbformat": 4,
 "nbformat_minor": 1
}
