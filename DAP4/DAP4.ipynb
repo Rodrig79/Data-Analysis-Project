{
 "cells": [
  {
   "cell_type": "code",
   "execution_count": 34,
   "metadata": {
    "colab": {},
    "colab_type": "code",
    "id": "y2E1jbS4ZluC",
    "scrolled": false,
    "tags": []
   },
   "outputs": [
    {
     "name": "stdout",
     "output_type": "stream",
     "text": [
      "Requirement already satisfied: scikit-learn in /usr/local/Cellar/jupyterlab/2.2.2/libexec/lib/python3.8/site-packages (0.23.2)\n",
      "Requirement already satisfied: threadpoolctl>=2.0.0 in /usr/local/Cellar/jupyterlab/2.2.2/libexec/lib/python3.8/site-packages (from scikit-learn) (2.1.0)\n",
      "Requirement already satisfied: numpy>=1.13.3 in /usr/local/Cellar/jupyterlab/2.2.2/libexec/lib/python3.8/site-packages (from scikit-learn) (1.19.1)\n",
      "Requirement already satisfied: joblib>=0.11 in /usr/local/Cellar/jupyterlab/2.2.2/libexec/lib/python3.8/site-packages (from scikit-learn) (0.16.0)\n",
      "Requirement already satisfied: scipy>=0.19.1 in /usr/local/Cellar/jupyterlab/2.2.2/libexec/lib/python3.8/site-packages (from scikit-learn) (1.5.2)\n",
      "\u001b[33mWARNING: You are using pip version 20.2; however, version 20.2.2 is available.\n",
      "You should consider upgrading via the '/usr/local/Cellar/jupyterlab/2.2.2/libexec/bin/python3.8 -m pip install --upgrade pip' command.\u001b[0m\n",
      "Note: you may need to restart the kernel to use updated packages.\n",
      "Requirement already satisfied: pandas in /usr/local/Cellar/jupyterlab/2.2.2/libexec/lib/python3.8/site-packages (1.1.0)\n",
      "Requirement already satisfied: pytz>=2017.2 in /usr/local/Cellar/jupyterlab/2.2.2/libexec/lib/python3.8/site-packages (from pandas) (2020.1)\n",
      "Requirement already satisfied: numpy>=1.15.4 in /usr/local/Cellar/jupyterlab/2.2.2/libexec/lib/python3.8/site-packages (from pandas) (1.19.1)\n",
      "Requirement already satisfied: python-dateutil>=2.7.3 in /usr/local/Cellar/jupyterlab/2.2.2/libexec/lib/python3.8/site-packages (from pandas) (2.8.1)\n",
      "Requirement already satisfied: six>=1.5 in /usr/local/Cellar/jupyterlab/2.2.2/libexec/lib/python3.8/site-packages (from python-dateutil>=2.7.3->pandas) (1.15.0)\n",
      "\u001b[33mWARNING: You are using pip version 20.2; however, version 20.2.2 is available.\n",
      "You should consider upgrading via the '/usr/local/Cellar/jupyterlab/2.2.2/libexec/bin/python3.8 -m pip install --upgrade pip' command.\u001b[0m\n",
      "Note: you may need to restart the kernel to use updated packages.\n",
      "Requirement already satisfied: matplotlib in /usr/local/Cellar/jupyterlab/2.2.2/libexec/lib/python3.8/site-packages (3.3.0)\n",
      "Requirement already satisfied: numpy>=1.15 in /usr/local/Cellar/jupyterlab/2.2.2/libexec/lib/python3.8/site-packages (from matplotlib) (1.19.1)\n",
      "Requirement already satisfied: pyparsing!=2.0.4,!=2.1.2,!=2.1.6,>=2.0.3 in /usr/local/Cellar/jupyterlab/2.2.2/libexec/lib/python3.8/site-packages (from matplotlib) (2.4.7)\n",
      "Requirement already satisfied: pillow>=6.2.0 in /usr/local/Cellar/jupyterlab/2.2.2/libexec/lib/python3.8/site-packages (from matplotlib) (7.2.0)\n",
      "Requirement already satisfied: cycler>=0.10 in /usr/local/Cellar/jupyterlab/2.2.2/libexec/lib/python3.8/site-packages (from matplotlib) (0.10.0)\n",
      "Requirement already satisfied: kiwisolver>=1.0.1 in /usr/local/Cellar/jupyterlab/2.2.2/libexec/lib/python3.8/site-packages (from matplotlib) (1.2.0)\n",
      "Requirement already satisfied: python-dateutil>=2.1 in /usr/local/Cellar/jupyterlab/2.2.2/libexec/lib/python3.8/site-packages (from matplotlib) (2.8.1)\n",
      "Requirement already satisfied: six in /usr/local/Cellar/jupyterlab/2.2.2/libexec/lib/python3.8/site-packages (from cycler>=0.10->matplotlib) (1.15.0)\n",
      "\u001b[33mWARNING: You are using pip version 20.2; however, version 20.2.2 is available.\n",
      "You should consider upgrading via the '/usr/local/Cellar/jupyterlab/2.2.2/libexec/bin/python3.8 -m pip install --upgrade pip' command.\u001b[0m\n",
      "Note: you may need to restart the kernel to use updated packages.\n",
      "Requirement already satisfied: seaborn in /usr/local/Cellar/jupyterlab/2.2.2/libexec/lib/python3.8/site-packages (0.10.1)\n",
      "Requirement already satisfied: numpy>=1.13.3 in /usr/local/Cellar/jupyterlab/2.2.2/libexec/lib/python3.8/site-packages (from seaborn) (1.19.1)\n",
      "Requirement already satisfied: scipy>=1.0.1 in /usr/local/Cellar/jupyterlab/2.2.2/libexec/lib/python3.8/site-packages (from seaborn) (1.5.2)\n",
      "Requirement already satisfied: pandas>=0.22.0 in /usr/local/Cellar/jupyterlab/2.2.2/libexec/lib/python3.8/site-packages (from seaborn) (1.1.0)\n",
      "Requirement already satisfied: matplotlib>=2.1.2 in /usr/local/Cellar/jupyterlab/2.2.2/libexec/lib/python3.8/site-packages (from seaborn) (3.3.0)\n",
      "Requirement already satisfied: python-dateutil>=2.7.3 in /usr/local/Cellar/jupyterlab/2.2.2/libexec/lib/python3.8/site-packages (from pandas>=0.22.0->seaborn) (2.8.1)\n",
      "Requirement already satisfied: pytz>=2017.2 in /usr/local/Cellar/jupyterlab/2.2.2/libexec/lib/python3.8/site-packages (from pandas>=0.22.0->seaborn) (2020.1)\n",
      "Requirement already satisfied: pillow>=6.2.0 in /usr/local/Cellar/jupyterlab/2.2.2/libexec/lib/python3.8/site-packages (from matplotlib>=2.1.2->seaborn) (7.2.0)\n",
      "Requirement already satisfied: pyparsing!=2.0.4,!=2.1.2,!=2.1.6,>=2.0.3 in /usr/local/Cellar/jupyterlab/2.2.2/libexec/lib/python3.8/site-packages (from matplotlib>=2.1.2->seaborn) (2.4.7)\n",
      "Requirement already satisfied: kiwisolver>=1.0.1 in /usr/local/Cellar/jupyterlab/2.2.2/libexec/lib/python3.8/site-packages (from matplotlib>=2.1.2->seaborn) (1.2.0)\n",
      "Requirement already satisfied: cycler>=0.10 in /usr/local/Cellar/jupyterlab/2.2.2/libexec/lib/python3.8/site-packages (from matplotlib>=2.1.2->seaborn) (0.10.0)\n",
      "Requirement already satisfied: six>=1.5 in /usr/local/Cellar/jupyterlab/2.2.2/libexec/lib/python3.8/site-packages (from python-dateutil>=2.7.3->pandas>=0.22.0->seaborn) (1.15.0)\n",
      "\u001b[33mWARNING: You are using pip version 20.2; however, version 20.2.2 is available.\n",
      "You should consider upgrading via the '/usr/local/Cellar/jupyterlab/2.2.2/libexec/bin/python3.8 -m pip install --upgrade pip' command.\u001b[0m\n",
      "Note: you may need to restart the kernel to use updated packages.\n",
      "Requirement already satisfied: graphviz in /usr/local/Cellar/jupyterlab/2.2.2/libexec/lib/python3.8/site-packages (0.14.1)\n",
      "\u001b[33mWARNING: You are using pip version 20.2; however, version 20.2.2 is available.\n",
      "You should consider upgrading via the '/usr/local/Cellar/jupyterlab/2.2.2/libexec/bin/python3.8 -m pip install --upgrade pip' command.\u001b[0m\n",
      "Note: you may need to restart the kernel to use updated packages.\n",
      "Requirement already satisfied: scikit-plot in /usr/local/Cellar/jupyterlab/2.2.2/libexec/lib/python3.8/site-packages (0.3.7)\n",
      "Requirement already satisfied: joblib>=0.10 in /usr/local/Cellar/jupyterlab/2.2.2/libexec/lib/python3.8/site-packages (from scikit-plot) (0.16.0)\n",
      "Requirement already satisfied: scipy>=0.9 in /usr/local/Cellar/jupyterlab/2.2.2/libexec/lib/python3.8/site-packages (from scikit-plot) (1.5.2)\n",
      "Requirement already satisfied: matplotlib>=1.4.0 in /usr/local/Cellar/jupyterlab/2.2.2/libexec/lib/python3.8/site-packages (from scikit-plot) (3.3.0)\n",
      "Requirement already satisfied: scikit-learn>=0.18 in /usr/local/Cellar/jupyterlab/2.2.2/libexec/lib/python3.8/site-packages (from scikit-plot) (0.23.2)\n",
      "Requirement already satisfied: numpy>=1.14.5 in /usr/local/Cellar/jupyterlab/2.2.2/libexec/lib/python3.8/site-packages (from scipy>=0.9->scikit-plot) (1.19.1)\n",
      "Requirement already satisfied: cycler>=0.10 in /usr/local/Cellar/jupyterlab/2.2.2/libexec/lib/python3.8/site-packages (from matplotlib>=1.4.0->scikit-plot) (0.10.0)\n",
      "Requirement already satisfied: pyparsing!=2.0.4,!=2.1.2,!=2.1.6,>=2.0.3 in /usr/local/Cellar/jupyterlab/2.2.2/libexec/lib/python3.8/site-packages (from matplotlib>=1.4.0->scikit-plot) (2.4.7)\n",
      "Requirement already satisfied: pillow>=6.2.0 in /usr/local/Cellar/jupyterlab/2.2.2/libexec/lib/python3.8/site-packages (from matplotlib>=1.4.0->scikit-plot) (7.2.0)\n",
      "Requirement already satisfied: kiwisolver>=1.0.1 in /usr/local/Cellar/jupyterlab/2.2.2/libexec/lib/python3.8/site-packages (from matplotlib>=1.4.0->scikit-plot) (1.2.0)\n",
      "Requirement already satisfied: python-dateutil>=2.1 in /usr/local/Cellar/jupyterlab/2.2.2/libexec/lib/python3.8/site-packages (from matplotlib>=1.4.0->scikit-plot) (2.8.1)\n",
      "Requirement already satisfied: threadpoolctl>=2.0.0 in /usr/local/Cellar/jupyterlab/2.2.2/libexec/lib/python3.8/site-packages (from scikit-learn>=0.18->scikit-plot) (2.1.0)\n",
      "Requirement already satisfied: six in /usr/local/Cellar/jupyterlab/2.2.2/libexec/lib/python3.8/site-packages (from cycler>=0.10->matplotlib>=1.4.0->scikit-plot) (1.15.0)\n",
      "\u001b[33mWARNING: You are using pip version 20.2; however, version 20.2.2 is available.\n",
      "You should consider upgrading via the '/usr/local/Cellar/jupyterlab/2.2.2/libexec/bin/python3.8 -m pip install --upgrade pip' command.\u001b[0m\n"
     ]
    },
    {
     "name": "stdout",
     "output_type": "stream",
     "text": [
      "Note: you may need to restart the kernel to use updated packages.\n",
      "Requirement already satisfied: statsmodels in /usr/local/Cellar/jupyterlab/2.2.2/libexec/lib/python3.8/site-packages (0.11.1)\n",
      "Requirement already satisfied: pandas>=0.21 in /usr/local/Cellar/jupyterlab/2.2.2/libexec/lib/python3.8/site-packages (from statsmodels) (1.1.0)\n",
      "Requirement already satisfied: scipy>=1.0 in /usr/local/Cellar/jupyterlab/2.2.2/libexec/lib/python3.8/site-packages (from statsmodels) (1.5.2)\n",
      "Requirement already satisfied: patsy>=0.5 in /usr/local/Cellar/jupyterlab/2.2.2/libexec/lib/python3.8/site-packages (from statsmodels) (0.5.1)\n",
      "Requirement already satisfied: numpy>=1.14 in /usr/local/Cellar/jupyterlab/2.2.2/libexec/lib/python3.8/site-packages (from statsmodels) (1.19.1)\n",
      "Requirement already satisfied: python-dateutil>=2.7.3 in /usr/local/Cellar/jupyterlab/2.2.2/libexec/lib/python3.8/site-packages (from pandas>=0.21->statsmodels) (2.8.1)\n",
      "Requirement already satisfied: pytz>=2017.2 in /usr/local/Cellar/jupyterlab/2.2.2/libexec/lib/python3.8/site-packages (from pandas>=0.21->statsmodels) (2020.1)\n",
      "Requirement already satisfied: six in /usr/local/Cellar/jupyterlab/2.2.2/libexec/lib/python3.8/site-packages (from patsy>=0.5->statsmodels) (1.15.0)\n",
      "\u001b[33mWARNING: You are using pip version 20.2; however, version 20.2.2 is available.\n",
      "You should consider upgrading via the '/usr/local/Cellar/jupyterlab/2.2.2/libexec/bin/python3.8 -m pip install --upgrade pip' command.\u001b[0m\n",
      "Note: you may need to restart the kernel to use updated packages.\n"
     ]
    }
   ],
   "source": [
    "#If you need to install in modules in jupyter notebook \n",
    "%pip install scikit-learn\n",
    "%pip install pandas\n",
    "%pip install matplotlib \n",
    "%pip install seaborn \n",
    "%pip install graphviz\n",
    "%pip install scikit-plot   \n",
    "%pip install statsmodels   \n",
    "\n",
    "\n",
    "#Python ≥3.5 is required\n",
    "import sys\n",
    "assert sys.version_info >= (3, 5)\n",
    "import datetime # Scikit-Learn ≥0.20 is required\n",
    "import sklearn\n",
    "assert sklearn.__version__ >= \"0.20\"\n",
    "\n",
    "\n",
    "# Common imports\n",
    "import numpy as np\n",
    "import pandas as pd\n",
    "import os\n",
    "from sklearn.model_selection import train_test_split\n",
    "import matplotlib.pyplot as plt\n",
    "from scipy import stats\n",
    "import scikitplot as skplt\n",
    "from sklearn.neighbors import KNeighborsClassifier  \n",
    "from sklearn.linear_model import LinearRegression\n",
    "# To plot pretty figures\n",
    "%matplotlib inline\n",
    "import matplotlib as mpl\n",
    "import matplotlib.pyplot as plt\n",
    "mpl.rc('axes', labelsize=14)\n",
    "mpl.rc('xtick', labelsize=12)\n",
    "mpl.rc('ytick', labelsize=12)\n",
    "from sklearn.model_selection import KFold\n",
    "from sklearn.metrics import mean_squared_error\n",
    "from sklearn.metrics import r2_score\n",
    "from sklearn.preprocessing import StandardScaler\n",
    "\n",
    "# to make this notebook's output stable across runs\n",
    "np.random.seed(42)\n",
    "\n",
    "# Where to save the figures\n",
    "PROJECT_ROOT_DIR = \".\"\n",
    "CHAPTER_ID = \"decision_trees\"\n",
    "IMAGES_PATH = os.path.join(PROJECT_ROOT_DIR, \"images\", CHAPTER_ID)\n",
    "\n",
    "os.makedirs(IMAGES_PATH, exist_ok=True)\n",
    "def save_fig(fig_id, tight_layout=True, fig_extension=\"png\", resolution=300):\n",
    "\n",
    "    path = os.path.join(IMAGES_PATH, fig_id + \".\" + fig_extension)\n",
    "    print(\"Saving figure\", fig_id)\n",
    "    if tight_layout:\n",
    "        plt.tight_layout()\n",
    "    plt.savefig(path, format=fig_extension, dpi=resolution)"
   ]
  },
  {
   "cell_type": "code",
   "execution_count": 43,
   "metadata": {
    "colab": {},
    "colab_type": "code",
    "id": "IvsV2RSPapC6",
    "scrolled": false
   },
   "outputs": [],
   "source": [
    "#changes the output for the print statements\n",
    "pd.set_option('display.max_rows', 10)\n",
    "pd.set_option('display.max_columns', None)\n",
    "pd.set_option('display.width', None)\n",
    "pd.set_option('display.max_colwidth',0)"
   ]
  },
  {
   "cell_type": "code",
   "execution_count": 114,
   "metadata": {
    "colab": {},
    "colab_type": "code",
    "id": "vtW9LfInZ_x2",
    "scrolled": false
   },
   "outputs": [],
   "source": [
    "#Pull \n",
    "df = pd.read_csv('https://raw.githubusercontent.com/Rodrig79/Machine-Learning-Data-Analysis-Project/master/rawData/pokemon.csv') "
   ]
  },
  {
   "cell_type": "code",
   "execution_count": 115,
   "metadata": {},
   "outputs": [],
   "source": [
    "from sklearn import preprocessing\n",
    "\n",
    "#Data Cleaning\n",
    "df = df[~df.Name.str.contains('Mega')] #removed pokemon with \"Mega\" in it\n",
    "df = df.drop(columns = [\"Name\",\"Type 1\",\"Type 2\",\"#\",\"Generation\"]) #Removed columns with names\n",
    "\n",
    "#normalization\n",
    "# X = df.values #returns a numpy array\n",
    "# min_max_scaler = preprocessing.MinMaxScaler()\n",
    "# x_scaled = min_max_scaler.fit_transform(X)\n",
    "# df=pd.DataFrame(x_scaled, columns=df.columns)\n"
   ]
  },
  {
   "cell_type": "code",
   "execution_count": 116,
   "metadata": {},
   "outputs": [],
   "source": [
    " #Splitting dataset to x and y\n",
    "y = df.Attack\n",
    "X = df[['Defense','HP','Sp. Atk','Sp. Def','Speed']]"
   ]
  },
  {
   "cell_type": "code",
   "execution_count": 117,
   "metadata": {},
   "outputs": [],
   "source": [
    "def plot_learning_curves(model, X, y):\n",
    "    X_train, X_val, y_train, y_val = train_test_split(X, y, test_size=0.2, random_state=10)\n",
    "    \n",
    "    train_errors, val_errors = [], []\n",
    "    \n",
    "    for m in range(1, len(X_train)):\n",
    "        model.fit(X_train[:m], y_train[:m])\n",
    "        y_train_predict = model.predict(X_train[:m])\n",
    "        y_val_predict = model.predict(X_val)\n",
    "        train_errors.append(mean_squared_error(y_train[:m], y_train_predict))\n",
    "        val_errors.append(mean_squared_error(y_val, y_val_predict))\n",
    "        \n",
    "    plt.plot(np.sqrt(train_errors), \"r-+\", linewidth=2, label=\"train\")\n",
    "    plt.plot(np.sqrt(val_errors), \"b-\", linewidth=3, label=\"val\")\n",
    "    plt.legend(loc=\"upper right\", fontsize=14)   # not shown in the book\n",
    "    plt.xlabel(\"Training set size\", fontsize=14) # not shown\n",
    "    plt.ylabel(\"RMSE\", fontsize=14)              # not shown"
   ]
  },
  {
   "cell_type": "markdown",
   "metadata": {},
   "source": [
    "# MultiVariate  Regression with sklearn"
   ]
  },
  {
   "cell_type": "code",
   "execution_count": 118,
   "metadata": {},
   "outputs": [],
   "source": [
    " from sklearn.linear_model import LinearRegression\n",
    " from sklearn import metrics\n",
    "X = df[['HP']]"
   ]
  },
  {
   "cell_type": "code",
   "execution_count": 119,
   "metadata": {},
   "outputs": [],
   "source": [
    "def MultiVariateLinearRegression(X,y):\n",
    "    X_train, X_test, y_train, y_test = train_test_split(X, y, test_size=0.60)\n",
    "    regr = LinearRegression()\n",
    "    regr.fit(X, y) \n",
    "    print('linear model coeff (w): {}'.format(regr.coef_)) \n",
    "    print('linear model intercept (b): {:.3f}'.format(regr.intercept_)) \n",
    "    print('R-squared score (training): {:.3f}'.format(regr.score(X_train, y_train))) \n",
    "    print('R-squared score (test): {:.3f}'.format(regr.score(X_test, y_test)))  \n",
    "    # make predictions on the testing set\n",
    "    y_pred = regr.predict(X_test)\n",
    "    print('RMSE: {:.3f}'.format(np.sqrt(metrics.mean_squared_error(y_test, y_pred))))  \n",
    "    plt.figure(figsize=(5,4))\n",
    "    plt.scatter(X, y)\n",
    "    plt.plot(X, regr.coef_ * X + regr.intercept_, 'r-')\n",
    "    plt.title('Least-squares linear regression')\n",
    "    plt.xlabel('Feature value (x)')\n",
    "    plt.ylabel('Target value (y)')\n",
    "    plt.show()\n"
   ]
  },
  {
   "cell_type": "code",
   "execution_count": 120,
   "metadata": {},
   "outputs": [
    {
     "name": "stdout",
     "output_type": "stream",
     "text": [
      "linear model coeff (w): [0.49688982]\n",
      "linear model intercept (b): 41.857\n",
      "R-squared score (training): 0.178\n",
      "R-squared score (test): 0.189\n",
      "RMSE: 27.929\n"
     ]
    },
    {
     "data": {
      "image/png": "[encoded data removed]",
      "text/plain": [
       "<Figure size 360x288 with 1 Axes>"
      ]
     },
     "metadata": {
      "needs_background": "light"
     },
     "output_type": "display_data"
    }
   ],
   "source": [
    "MultiVariateLinearRegression(X,y)"
   ]
  },
  {
   "cell_type": "markdown",
   "metadata": {},
   "source": [
    "# Linear Regression with Gradient Descent "
   ]
  },
  {
   "cell_type": "code",
   "execution_count": 121,
   "metadata": {},
   "outputs": [
    {
     "name": "stdout",
     "output_type": "stream",
     "text": [
      "[41.85738349  0.49688982]\n"
     ]
    }
   ],
   "source": [
    "X_b = np.c_[np.ones((751, 1)), X]  # add x0 = 1 to each instance\n",
    "\n",
    "theta_best = np.linalg.inv(X_b.T.dot(X_b)).dot(X_b.T).dot(y)\n",
    "\n",
    "print(theta_best)"
   ]
  },
  {
   "cell_type": "code",
   "execution_count": 122,
   "metadata": {},
   "outputs": [
    {
     "data": {
      "text/plain": [
       "array([41.85738349, 42.85116314])"
      ]
     },
     "execution_count": 122,
     "metadata": {},
     "output_type": "execute_result"
    }
   ],
   "source": [
    "\n",
    "X_new = np.array([[0], [2]])\n",
    "X_new_b = np.c_[np.ones((2, 1)), X_new]  # add x0 = 1 to each instance\n",
    "\n",
    "y_predict = X_new_b.dot(theta_best)\n",
    "y_predict"
   ]
  },
  {
   "cell_type": "code",
   "execution_count": 123,
   "metadata": {},
   "outputs": [
    {
     "name": "stdout",
     "output_type": "stream",
     "text": [
      "[ 0.16965289 -0.0030126 ]\n"
     ]
    },
    {
     "data": {
      "text/plain": [
       "array([-1.58368011e+37, -1.24252981e+39])"
      ]
     },
     "execution_count": 123,
     "metadata": {},
     "output_type": "execute_result"
    }
   ],
   "source": [
    "eta = 0.1\n",
    "n_iterations = 10\n",
    "m = 100\n",
    "theta = np.random.randn(2, 1)\n",
    "theta = np.squeeze(np.asarray(theta))\n",
    "print (theta)\n",
    "for iteration in range(n_iterations):\n",
    "    gradients = 2/m * X_b.T.dot(X_b.dot(theta) - y)\n",
    "    theta = theta - eta * gradients\n",
    "theta"
   ]
  },
  {
   "cell_type": "code",
   "execution_count": 124,
   "metadata": {},
   "outputs": [
    {
     "data": {
      "text/plain": [
       "array([-5.59296784e+40, -7.45676256e+40, -9.94182219e+40, -4.84744995e+40,\n",
       "       -7.20825660e+40, -9.69331622e+40, -5.46871486e+40, -7.33250958e+40,\n",
       "       -9.81756921e+40, -5.59296784e+40, -6.21423275e+40, -7.45676256e+40,\n",
       "       -4.97170293e+40, -5.59296784e+40, -8.07802747e+40, -4.97170293e+40,\n",
       "       -7.82952150e+40, -1.03145811e+41, -3.72917312e+40, -6.83549765e+40,\n",
       "       -4.97170293e+40, -8.07802747e+40, -4.35043803e+40, -7.45676256e+40,\n",
       "       -4.35043803e+40, -7.45676256e+40, -6.21423275e+40, -9.32055728e+40,\n",
       "       -6.83549765e+40, -8.69929237e+40, -1.11843520e+41, -5.71722082e+40,\n",
       "       -7.58101554e+40, -1.00660752e+41, -8.69929237e+40, -1.18056169e+41,\n",
       "       -4.72319697e+40, -9.07205132e+40, -1.42906765e+41, -1.73970011e+41,\n",
       "       -4.97170293e+40, -9.32055728e+40, -5.59296784e+40, -7.45676256e+40,\n",
       "       -9.32055728e+40, -4.35043803e+40, -7.45676256e+40, -7.45676256e+40,\n",
       "       -8.69929237e+40, -1.24411349e+40, -4.35043803e+40, -4.97170293e+40,\n",
       "       -8.07802747e+40, -6.21423275e+40, -9.94182219e+40, -4.97170293e+40,\n",
       "       -8.07802747e+40, -6.83549765e+40, -1.11843520e+41, -4.97170293e+40,\n",
       "       -8.07802747e+40, -1.11843520e+41, -3.10790821e+40, -4.97170293e+40,\n",
       "       -6.83549765e+40, -8.69929237e+40, -9.94182219e+40, -1.11843520e+41,\n",
       "       -6.21423275e+40, -8.07802747e+40, -9.94182219e+40, -4.97170293e+40,\n",
       "       -9.94182219e+40, -4.97170293e+40, -6.83549765e+40, -9.94182219e+40,\n",
       "       -6.21423275e+40, -8.07802747e+40, -1.11843520e+41, -1.18056169e+41,\n",
       "       -3.10790821e+40, -6.21423275e+40, -6.46273871e+40, -4.35043803e+40,\n",
       "       -7.45676256e+40, -8.07802747e+40, -1.11843520e+41, -9.94182219e+40,\n",
       "       -1.30481467e+41, -3.72917312e+40, -6.21423275e+40, -3.72917312e+40,\n",
       "       -5.59296784e+40, -7.45676256e+40, -4.35043803e+40, -7.45676256e+40,\n",
       "       -1.05630871e+41, -3.72917312e+40, -6.83549765e+40, -4.97170293e+40,\n",
       "       -7.45676256e+40, -7.45676256e+40, -1.18056169e+41, -6.21423275e+40,\n",
       "       -7.45676256e+40, -6.21423275e+40, -6.21423275e+40, -1.11843520e+41,\n",
       "       -4.97170293e+40, -8.07802747e+40, -9.94182219e+40, -1.30481467e+41,\n",
       "       -3.10648290e+41, -8.07802747e+40, -1.30481467e+41, -3.72917312e+40,\n",
       "       -6.83549765e+40, -5.59296784e+40, -9.94182219e+40, -3.72917312e+40,\n",
       "       -7.45676256e+40, -4.97170293e+40, -8.69929237e+40, -8.07802747e+40,\n",
       "       -8.07802747e+40, -8.07802747e+40, -8.07802747e+40, -9.32055728e+40,\n",
       "       -2.48664331e+40, -1.18056169e+41, -1.61544713e+41, -5.96572678e+40,\n",
       "       -6.83549765e+40, -1.61544713e+41, -8.07802747e+40, -8.07802747e+40,\n",
       "       -8.07802747e+40, -4.35043803e+40, -8.69929237e+40, -3.72917312e+40,\n",
       "       -7.45676256e+40, -9.94182219e+40, -1.98820607e+41, -1.11843520e+41,\n",
       "       -1.11843520e+41, -1.11843520e+41, -5.09595591e+40, -7.58101554e+40,\n",
       "       -1.13086050e+41, -1.31723997e+41, -1.24268818e+41, -5.59296784e+40,\n",
       "       -7.45676256e+40, -4.84744995e+40, -7.20825660e+40, -9.69331622e+40,\n",
       "       -6.21423275e+40, -8.07802747e+40, -1.05630871e+41, -4.35043803e+40,\n",
       "       -1.05630871e+41, -7.45676256e+40, -1.24268818e+41, -4.97170293e+40,\n",
       "       -6.83549765e+40, -4.97170293e+40, -8.69929237e+40, -1.05630871e+41,\n",
       "       -9.32055728e+40, -1.55332063e+41, -2.48664331e+40, -6.21423275e+40,\n",
       "       -1.11843520e+41, -4.35043803e+40, -6.83549765e+40, -4.97170293e+40,\n",
       "       -8.07802747e+40, -6.83549765e+40, -8.69929237e+40, -1.11843520e+41,\n",
       "       -9.32055728e+40, -8.69929237e+40, -1.24268818e+41, -8.69929237e+40,\n",
       "       -1.11843520e+41, -4.35043803e+40, -6.83549765e+40, -9.32055728e+40,\n",
       "       -6.83549765e+40, -3.72917312e+40, -9.32055728e+40, -8.07802747e+40,\n",
       "       -6.83549765e+40, -1.18056169e+41, -8.07802747e+40, -1.18056169e+41,\n",
       "       -7.45676256e+40, -1.18056169e+41, -7.45676256e+40, -5.96572678e+40,\n",
       "       -2.36096501e+41, -8.69929237e+40, -6.21423275e+40, -9.32055728e+40,\n",
       "       -1.24268818e+41, -8.07802747e+40, -9.32055728e+40, -7.45676256e+40,\n",
       "       -1.11843520e+41, -8.07802747e+40, -8.69929237e+40, -2.48664331e+40,\n",
       "       -9.94182219e+40, -6.83549765e+40, -7.45676256e+40, -1.11843520e+41,\n",
       "       -4.97170293e+40, -6.21423275e+40, -6.21423275e+40, -1.24268818e+41,\n",
       "       -6.83549765e+40, -4.35043803e+40, -9.32055728e+40, -5.59296784e+40,\n",
       "       -8.07802747e+40, -8.07802747e+40, -5.59296784e+40, -9.32055728e+40,\n",
       "       -9.32055728e+40, -1.11843520e+41, -1.11843520e+41, -1.05630871e+41,\n",
       "       -9.07205132e+40, -6.83549765e+40, -4.35043803e+40, -6.21423275e+40,\n",
       "       -5.59296784e+40, -5.59296784e+40, -5.59296784e+40, -1.18056169e+41,\n",
       "       -3.16860939e+41, -1.11843520e+41, -1.42906765e+41, -1.24268818e+41,\n",
       "       -6.21423275e+40, -8.69929237e+40, -1.24268818e+41, -1.31723997e+41,\n",
       "       -1.31723997e+41, -1.24268818e+41, -4.97170293e+40, -6.21423275e+40,\n",
       "       -8.69929237e+40, -5.59296784e+40, -7.45676256e+40, -9.94182219e+40,\n",
       "       -6.21423275e+40, -8.69929237e+40, -1.24268818e+41, -4.35043803e+40,\n",
       "       -8.69929237e+40, -4.72319697e+40, -9.69331622e+40, -5.59296784e+40,\n",
       "       -6.21423275e+40, -7.45676256e+40, -6.21423275e+40, -7.45676256e+40,\n",
       "       -4.97170293e+40, -7.45676256e+40, -9.94182219e+40, -4.97170293e+40,\n",
       "       -8.69929237e+40, -1.11843520e+41, -4.97170293e+40, -7.45676256e+40,\n",
       "       -4.97170293e+40, -7.45676256e+40, -3.48066716e+40, -4.72319697e+40,\n",
       "       -8.45078641e+40, -4.97170293e+40, -8.69929237e+40, -7.45676256e+40,\n",
       "       -7.45676256e+40, -7.45676256e+40, -9.94182219e+40, -1.86395309e+41,\n",
       "       -3.85342610e+40, -7.58101554e+40, -1.25836661e+39, -7.95377449e+40,\n",
       "       -1.04388341e+41, -1.29238937e+41, -8.94779834e+40, -1.78940130e+41,\n",
       "       -6.21423275e+40, -3.72917312e+40, -6.21423275e+40, -8.69929237e+40,\n",
       "       -6.21423275e+40, -6.21423275e+40, -6.21423275e+40, -7.45676256e+40,\n",
       "       -8.69929237e+40, -3.72917312e+40, -7.45676256e+40, -4.97170293e+40,\n",
       "       -8.69929237e+40, -7.45676256e+40, -7.45676256e+40, -8.07802747e+40,\n",
       "       -8.07802747e+40, -6.21423275e+40, -8.69929237e+40, -1.24268818e+41,\n",
       "       -5.59296784e+40, -8.69929237e+40, -1.61544713e+41, -2.11245905e+41,\n",
       "       -7.45676256e+40, -8.69929237e+40, -8.69929237e+40, -7.45676256e+40,\n",
       "       -9.94182219e+40, -7.45676256e+40, -5.59296784e+40, -6.21423275e+40,\n",
       "       -9.94182219e+40, -6.21423275e+40, -8.69929237e+40, -5.59296784e+40,\n",
       "       -9.32055728e+40, -9.07205132e+40, -9.07205132e+40, -8.69929237e+40,\n",
       "       -8.69929237e+40, -6.21423275e+40, -1.36694116e+41, -5.34446188e+40,\n",
       "       -7.82952150e+40, -4.97170293e+40, -7.45676256e+40, -8.20228045e+40,\n",
       "       -1.06873401e+41, -5.59296784e+40, -9.32055728e+40, -2.48664331e+40,\n",
       "       -1.18056169e+41, -8.69929237e+40, -7.45676256e+40, -5.46871486e+40,\n",
       "       -7.95377449e+40, -2.48664331e+40, -4.97170293e+40, -1.23026288e+41,\n",
       "       -8.07802747e+40, -8.07802747e+40, -1.18056169e+41, -6.21423275e+40,\n",
       "       -9.94182219e+40, -8.69929237e+40, -1.11843520e+41, -1.36694116e+41,\n",
       "       -4.35043803e+40, -6.83549765e+40, -6.83549765e+40, -1.24268818e+41,\n",
       "       -5.34446188e+40, -5.59296784e+40, -8.07802747e+40, -1.18056169e+41,\n",
       "       -4.97170293e+40, -7.45676256e+40, -9.94182219e+40, -9.94182219e+40,\n",
       "       -9.94182219e+40, -9.94182219e+40, -9.94182219e+40, -9.94182219e+40,\n",
       "       -1.24268818e+41, -1.24268818e+41, -1.24268818e+41, -1.24268818e+41,\n",
       "       -1.30481467e+41, -1.24268818e+41, -6.21423275e+40, -6.21423275e+40,\n",
       "       -6.21423275e+40, -6.21423275e+40, -6.83549765e+40, -9.32055728e+40,\n",
       "       -1.18056169e+41, -5.46871486e+40, -7.95377449e+40, -9.44481026e+40,\n",
       "       -6.58699169e+40, -7.95377449e+40, -1.04388341e+41, -4.97170293e+40,\n",
       "       -6.83549765e+40, -1.05630871e+41, -7.33250958e+40, -9.81756921e+40,\n",
       "       -4.59894399e+40, -9.56906324e+40, -5.59296784e+40, -7.45676256e+40,\n",
       "       -9.94182219e+40, -4.97170293e+40, -7.45676256e+40, -8.32653343e+40,\n",
       "       -1.20541229e+41, -3.72917312e+40, -7.45676256e+40, -4.97170293e+40,\n",
       "       -7.45676256e+40, -7.45676256e+40, -7.45676256e+40, -8.69929237e+40,\n",
       "       -3.72917312e+40, -8.69929237e+40, -7.45676256e+40, -6.83549765e+40,\n",
       "       -1.05630871e+41, -5.59296784e+40, -8.69929237e+40, -9.44481026e+40,\n",
       "       -1.37936646e+41, -9.32055728e+40, -1.11843520e+41, -1.86395309e+41,\n",
       "       -6.83549765e+40, -8.07802747e+40, -7.45676256e+40, -1.24268818e+41,\n",
       "       -6.08997977e+40, -8.82354535e+40, -5.59296784e+40, -7.82952150e+40,\n",
       "       -1.27996408e+41, -7.08400362e+40, -8.32653343e+40, -6.21423275e+40,\n",
       "       -2.48664331e+40, -1.24268818e+41, -9.44481026e+40, -6.21423275e+40,\n",
       "       -7.20825660e+40, -8.45078641e+40, -1.34209057e+41, -1.67757362e+41,\n",
       "       -4.97170293e+40, -8.69929237e+40, -8.45078641e+40, -1.34209057e+41,\n",
       "       -4.97170293e+40, -8.69929237e+40, -5.96572678e+40, -1.03145811e+41,\n",
       "       -9.19630430e+40, -6.08997977e+40, -8.57503939e+40, -5.59296784e+40,\n",
       "       -7.45676256e+40, -1.11843520e+41, -8.69929237e+40, -8.69929237e+40,\n",
       "       -1.36694116e+41, -1.42906765e+41, -1.24268818e+41, -9.32055728e+40,\n",
       "       -9.32055728e+40, -1.05630871e+41, -1.06873401e+41, -8.07802747e+40,\n",
       "       -8.07802747e+40, -9.32055728e+40, -1.36694116e+41, -1.05630871e+41,\n",
       "       -8.45078641e+40, -7.45676256e+40, -5.59296784e+40, -8.69929237e+40,\n",
       "       -6.21423275e+40, -6.21423275e+40, -6.21423275e+40, -6.21423275e+40,\n",
       "       -6.21423275e+40, -6.21423275e+40, -9.32055728e+40, -9.94182219e+40,\n",
       "       -9.32055728e+40, -1.24268818e+41, -1.11843520e+41, -1.13086050e+41,\n",
       "       -1.36694116e+41, -1.86395309e+41, -1.86395309e+41, -1.49119414e+41,\n",
       "       -9.94182219e+40, -1.24268818e+41, -8.69929237e+40, -1.24268818e+41,\n",
       "       -1.24268818e+41, -1.49119414e+41, -1.24268818e+41, -5.59296784e+40,\n",
       "       -7.45676256e+40, -9.32055728e+40, -8.07802747e+40, -1.11843520e+41,\n",
       "       -1.36694116e+41, -6.83549765e+40, -9.32055728e+40, -1.18056169e+41,\n",
       "       -5.59296784e+40, -7.45676256e+40, -5.59296784e+40, -8.07802747e+40,\n",
       "       -1.05630871e+41, -5.09595591e+40, -7.95377449e+40, -6.21423275e+40,\n",
       "       -9.32055728e+40, -6.21423275e+40, -9.32055728e+40, -6.21423275e+40,\n",
       "       -9.32055728e+40, -9.44481026e+40, -1.44149295e+41, -6.21423275e+40,\n",
       "       -7.70526852e+40, -9.94182219e+40, -5.59296784e+40, -9.32055728e+40,\n",
       "       -6.83549765e+40, -8.69929237e+40, -1.05630871e+41, -6.83549765e+40,\n",
       "       -8.32653343e+40, -7.45676256e+40, -1.36694116e+41, -1.27996408e+41,\n",
       "       -9.32055728e+40, -1.05630871e+41, -1.30481467e+41, -6.21423275e+40,\n",
       "       -9.32055728e+40, -1.30481467e+41, -1.49119414e+41, -9.32055728e+40,\n",
       "       -5.59296784e+40, -6.83549765e+40, -9.32055728e+40, -3.72917312e+40,\n",
       "       -4.97170293e+40, -7.45676256e+40, -4.97170293e+40, -7.45676256e+40,\n",
       "       -5.59296784e+40, -8.69929237e+40, -8.69929237e+40, -6.21423275e+40,\n",
       "       -7.45676256e+40, -1.18056169e+41, -8.69929237e+40, -1.30481467e+41,\n",
       "       -1.30481467e+41, -9.32055728e+40, -6.21423275e+40, -8.69929237e+40,\n",
       "       -6.21423275e+40, -8.07802747e+40, -8.94779834e+40, -4.72319697e+40,\n",
       "       -7.20825660e+40, -6.71124467e+40, -9.19630430e+40, -6.83549765e+40,\n",
       "       -9.32055728e+40, -6.21423275e+40, -9.94182219e+40, -4.97170293e+40,\n",
       "       -7.45676256e+40, -6.83549765e+40, -9.32055728e+40, -5.59296784e+40,\n",
       "       -7.45676256e+40, -8.69929237e+40, -5.59296784e+40, -8.07802747e+40,\n",
       "       -1.36694116e+41, -7.70526852e+40, -9.32055728e+40, -4.47469101e+40,\n",
       "       -6.33848573e+40, -8.82354535e+40, -7.45676256e+40, -9.94182219e+40,\n",
       "       -6.83549765e+40, -6.21423275e+40, -8.69929237e+40, -8.57503939e+40,\n",
       "       -1.41664236e+41, -6.83549765e+40, -1.24268818e+41, -2.05033256e+41,\n",
       "       -6.21423275e+40, -8.69929237e+40, -5.46871486e+40, -9.19630430e+40,\n",
       "       -4.97170293e+40, -7.45676256e+40, -7.45676256e+40, -4.35043803e+40,\n",
       "       -8.07802747e+40, -1.05630871e+41, -6.83549765e+40, -9.32055728e+40,\n",
       "       -6.21423275e+40, -7.45676256e+40, -7.45676256e+40, -5.71722082e+40,\n",
       "       -8.20228045e+40, -9.44481026e+40, -6.83549765e+40, -1.18056169e+41,\n",
       "       -8.69929237e+40, -6.21423275e+40, -9.94182219e+40, -1.35451586e+41,\n",
       "       -5.59296784e+40, -8.07802747e+40, -9.56906324e+40, -7.33250958e+40,\n",
       "       -1.10600990e+41, -5.59296784e+40, -8.07802747e+40, -1.18056169e+41,\n",
       "       -8.69929237e+40, -1.24268818e+41, -8.69929237e+40, -1.36694116e+41,\n",
       "       -1.05630871e+41, -7.20825660e+40, -6.46273871e+40, -8.94779834e+40,\n",
       "       -1.14328580e+41, -6.83549765e+40, -1.05630871e+41, -1.13086050e+41,\n",
       "       -1.13086050e+41, -1.13086050e+41, -9.81756921e+40, -9.81756921e+40,\n",
       "       -9.81756921e+40, -9.81756921e+40, -1.24268818e+41, -1.24268818e+41,\n",
       "       -1.10600990e+41, -1.10600990e+41, -1.55332063e+41, -1.55332063e+41,\n",
       "       -1.55332063e+41, -1.13086050e+41, -1.13086050e+41, -1.24268818e+41,\n",
       "       -1.24268818e+41, -8.82354535e+40, -6.95975063e+40, -7.58101554e+40,\n",
       "       -1.09358460e+41, -4.97170293e+40, -7.33250958e+40, -9.32055728e+40,\n",
       "       -5.09595591e+40, -6.71124467e+40, -8.94779834e+40, -4.72319697e+40,\n",
       "       -1.05630871e+41, -5.59296784e+40, -7.70526852e+40, -9.69331622e+40,\n",
       "       -4.72319697e+40, -5.59296784e+40, -9.94182219e+40, -7.70526852e+40,\n",
       "       -1.06873401e+41, -5.46871486e+40, -6.71124467e+40, -9.69331622e+40,\n",
       "       -8.20228045e+40, -1.52847004e+41, -8.32653343e+40, -1.18056169e+41,\n",
       "       -9.32055728e+40, -7.70526852e+40, -9.19630430e+40, -9.19630430e+40,\n",
       "       -5.59296784e+40, -7.33250958e+40, -7.45676256e+40, -7.45676256e+40,\n",
       "       -9.69331622e+40, -1.25511348e+41, -7.70526852e+40, -1.01903281e+41,\n",
       "       -6.58699169e+40, -1.06873401e+41, -5.22020890e+40, -8.94779834e+40,\n",
       "       -6.21423275e+40, -8.07802747e+40, -6.21423275e+40, -8.82354535e+40,\n",
       "       -5.46871486e+40, -7.70526852e+40, -7.20825660e+40, -1.01903281e+41,\n",
       "       -9.56906324e+40, -1.52847004e+41, -1.18056169e+41, -9.69331622e+40,\n",
       "       -8.32653343e+40, -6.21423275e+40, -5.59296784e+40, -8.45078641e+40,\n",
       "       -1.11843520e+41, -7.08400362e+40, -5.34446188e+40, -1.05630871e+41,\n",
       "       -6.08997977e+40, -5.46871486e+40, -6.71124467e+40, -7.33250958e+40,\n",
       "       -8.07802747e+40, -6.83549765e+40, -9.32055728e+40, -1.05630871e+41,\n",
       "       -6.83549765e+40, -1.18056169e+41, -4.97170293e+40, -1.05630871e+41,\n",
       "       -1.56574593e+41, -1.56574593e+41, -1.34209057e+41, -6.21423275e+40,\n",
       "       -9.94182219e+40, -9.94182219e+40, -9.94182219e+40])"
      ]
     },
     "execution_count": 124,
     "metadata": {},
     "output_type": "execute_result"
    }
   ],
   "source": [
    "X_b.dot(theta)"
   ]
  },
  {
   "cell_type": "code",
   "execution_count": 125,
   "metadata": {},
   "outputs": [],
   "source": [
    "theta_path_bgd = []\n",
    "\n",
    "def plot_gradient_descent(theta, eta, theta_path=None):\n",
    "    m = len(X_b)\n",
    "    plt.plot(X, y, \"b.\")\n",
    "    n_iterations = 1000\n",
    "    for iteration in range(n_iterations):\n",
    "        if iteration < 10:\n",
    "            y_predict = X_new_b.dot(theta)\n",
    "            style = \"b-\" if iteration > 0 else \"r--\"\n",
    "            plt.plot(X_new, y_predict, style)\n",
    "            \n",
    "        gradients = 2/m * X_b.T.dot(X_b.dot(theta) - y)\n",
    "        theta = theta - eta * gradients\n",
    "        if theta_path is not None:\n",
    "            theta_path.append(theta)\n",
    "    plt.xlabel(\"$x_1$\", fontsize=18)\n",
    "    plt.axis([0, 240, 0, 350])\n",
    "    plt.title(r\"$\\eta = {}$\".format(eta), fontsize=16)"
   ]
  },
  {
   "cell_type": "code",
   "execution_count": 126,
   "metadata": {},
   "outputs": [
    {
     "name": "stderr",
     "output_type": "stream",
     "text": [
      "<ipython-input-125-3ecd99aff936>:14: RuntimeWarning: invalid value encountered in subtract\n",
      "  theta = theta - eta * gradients\n",
      "<ipython-input-125-3ecd99aff936>:14: RuntimeWarning: invalid value encountered in subtract\n",
      "  theta = theta - eta * gradients\n",
      "<ipython-input-125-3ecd99aff936>:14: RuntimeWarning: invalid value encountered in subtract\n",
      "  theta = theta - eta * gradients\n"
     ]
    },
    {
     "name": "stdout",
     "output_type": "stream",
     "text": [
      "Saving figure gradient_descent_plot\n"
     ]
    },
    {
     "data": {
      "image/png": "[encoded data removed]",
      "text/plain": [
       "<Figure size 720x288 with 3 Axes>"
      ]
     },
     "metadata": {
      "needs_background": "light"
     },
     "output_type": "display_data"
    }
   ],
   "source": [
    "np.random.seed(42)\n",
    "theta = np.random.randn(2, 1)\n",
    "theta = np.squeeze(np.asarray(theta))\n",
    "\n",
    "plt.figure(figsize=(10,4))\n",
    "plt.subplot(131); plot_gradient_descent(theta, eta=0.02)\n",
    "plt.ylabel(\"$y$\", rotation=0, fontsize=18)\n",
    "plt.subplot(132); plot_gradient_descent(theta, eta=0.1, theta_path=theta_path_bgd)\n",
    "plt.subplot(133); plot_gradient_descent(theta, eta=0.5)\n",
    "\n",
    "save_fig(\"gradient_descent_plot\")\n",
    "plt.show()"
   ]
  },
  {
   "cell_type": "markdown",
   "metadata": {},
   "source": [
    "# Regularized Regression Model\n",
    "## Ridge"
   ]
  },
  {
   "cell_type": "code",
   "execution_count": 127,
   "metadata": {},
   "outputs": [
    {
     "name": "stdout",
     "output_type": "stream",
     "text": [
      "ridge regression linear model intercept: 37.879895479418444\n",
      "ridge regression linear model coeff:\n",
      "[0.55416038]\n",
      "R-squared score (training): 0.203\n",
      "R-squared score (test): 0.116\n",
      "Number of non-zero features: 1\n"
     ]
    }
   ],
   "source": [
    "from sklearn.linear_model import Ridge\n",
    "X_train, X_test, y_train, y_test = train_test_split(X, y, random_state=0)\n",
    "\n",
    "linridge = Ridge(alpha=25.0).fit(X_train, y_train)\n",
    "\n",
    "print('ridge regression linear model intercept: {}'\n",
    "     .format(linridge.intercept_))\n",
    "print('ridge regression linear model coeff:\\n{}'\n",
    "     .format(linridge.coef_))\n",
    "print('R-squared score (training): {:.3f}'\n",
    "     .format(linridge.score(X_train, y_train)))\n",
    "print('R-squared score (test): {:.3f}'\n",
    "     .format(linridge.score(X_test, y_test)))\n",
    "print('Number of non-zero features: {}'\n",
    "     .format(np.sum(linridge.coef_ != 0)))"
   ]
  },
  {
   "cell_type": "code",
   "execution_count": 128,
   "metadata": {},
   "outputs": [
    {
     "name": "stdout",
     "output_type": "stream",
     "text": [
      "ridge regression linear model intercept: 38.43131123444442\n",
      "ridge regression linear model coeff:\n",
      "[137.99618455]\n",
      "R-squared score (training): 0.203\n",
      "R-squared score (test): 0.116\n",
      "Number of non-zero features: 1\n"
     ]
    }
   ],
   "source": [
    "from sklearn.preprocessing import MinMaxScaler\n",
    "scaler = MinMaxScaler()\n",
    "\n",
    "from sklearn.linear_model import Ridge\n",
    "X_train, X_test, y_train, y_test = train_test_split(X, y, random_state = 0)\n",
    "\n",
    "X_train_scaled = scaler.fit_transform(X_train)\n",
    "X_test_scaled = scaler.transform(X_test)\n",
    "\n",
    "linridge = Ridge(alpha=0).fit(X_train_scaled, y_train)\n",
    "\n",
    "print('ridge regression linear model intercept: {}'\n",
    "     .format(linridge.intercept_))\n",
    "print('ridge regression linear model coeff:\\n{}'\n",
    "     .format(linridge.coef_))\n",
    "print('R-squared score (training): {:.3f}'\n",
    "     .format(linridge.score(X_train_scaled, y_train)))\n",
    "print('R-squared score (test): {:.3f}'\n",
    "     .format(linridge.score(X_test_scaled, y_test)))\n",
    "print('Number of non-zero features: {}'\n",
    "     .format(np.sum(linridge.coef_ != 0)))"
   ]
  },
  {
   "cell_type": "code",
   "execution_count": 129,
   "metadata": {},
   "outputs": [
    {
     "data": {
      "image/png": "[encoded data removed]",
      "text/plain": [
       "<Figure size 432x288 with 1 Axes>"
      ]
     },
     "metadata": {
      "needs_background": "light"
     },
     "output_type": "display_data"
    }
   ],
   "source": [
    "plot_learning_curves(linridge,X,y)"
   ]
  },
  {
   "cell_type": "code",
   "execution_count": 130,
   "metadata": {},
   "outputs": [
    {
     "name": "stdout",
     "output_type": "stream",
     "text": [
      "Ridge regression: effect of alpha regularization parameter\n",
      "\n",
      "Alpha = 0.00\n",
      "num abs(coeff) > 1.0: 1, r-squared training: 0.20, r-squared test: 0.12\n",
      "\n",
      "Alpha = 1.00\n",
      "num abs(coeff) > 1.0: 1, r-squared training: 0.20, r-squared test: 0.14\n",
      "\n",
      "Alpha = 10.00\n",
      "num abs(coeff) > 1.0: 1, r-squared training: 0.12, r-squared test: 0.11\n",
      "\n",
      "Alpha = 20.00\n",
      "num abs(coeff) > 1.0: 1, r-squared training: 0.08, r-squared test: 0.07\n",
      "\n",
      "Alpha = 50.00\n",
      "num abs(coeff) > 1.0: 1, r-squared training: 0.04, r-squared test: 0.03\n",
      "\n",
      "Alpha = 100.00\n",
      "num abs(coeff) > 1.0: 1, r-squared training: 0.02, r-squared test: 0.02\n",
      "\n",
      "Alpha = 1000.00\n",
      "num abs(coeff) > 1.0: 0, r-squared training: 0.00, r-squared test: -0.00\n",
      "\n"
     ]
    }
   ],
   "source": [
    "print('Ridge regression: effect of alpha regularization parameter\\n')\n",
    "for this_alpha in [0, 1, 10, 20, 50, 100, 1000]:\n",
    "    linridge = Ridge(alpha = this_alpha).fit(X_train_scaled, y_train)\n",
    "    r2_train = linridge.score(X_train_scaled, y_train)\n",
    "    r2_test = linridge.score(X_test_scaled, y_test)\n",
    "    num_coeff_bigger = np.sum(abs(linridge.coef_) > 1.0)\n",
    "    print('Alpha = {:.2f}\\nnum abs(coeff) > 1.0: {}, \\\n",
    "r-squared training: {:.2f}, r-squared test: {:.2f}\\n'\n",
    "         .format(this_alpha, num_coeff_bigger, r2_train, r2_test))"
   ]
  },
  {
   "cell_type": "markdown",
   "metadata": {},
   "source": [
    "## Lasso Regression"
   ]
  },
  {
   "cell_type": "code",
   "execution_count": 131,
   "metadata": {},
   "outputs": [
    {
     "name": "stdout",
     "output_type": "stream",
     "text": [
      "lasso regression linear model intercept: 66.20384241687611\n",
      "lasso regression linear model coeff:\n",
      "[34.28143912]\n",
      "Non-zero features: 1\n",
      "R-squared score (training): 0.089\n",
      "R-squared score (test): 0.084\n",
      "\n",
      "Features with non-zero weight (sorted by absolute magnitude):\n",
      "\tHP, 34.281\n"
     ]
    }
   ],
   "source": [
    "from sklearn.linear_model import Lasso\n",
    "from sklearn.preprocessing import MinMaxScaler\n",
    "scaler = MinMaxScaler()\n",
    "\n",
    "X_train, X_test, y_train, y_test = train_test_split(X, y, random_state = 0)\n",
    "\n",
    "X_train_scaled = scaler.fit_transform(X_train)\n",
    "X_test_scaled = scaler.transform(X_test)\n",
    "\n",
    "linlasso = Lasso(alpha=1, max_iter = 10000).fit(X_train_scaled, y_train)\n",
    "\n",
    "print('lasso regression linear model intercept: {}'\n",
    "     .format(linlasso.intercept_))\n",
    "print('lasso regression linear model coeff:\\n{}'\n",
    "     .format(linlasso.coef_))\n",
    "print('Non-zero features: {}'\n",
    "     .format(np.sum(linlasso.coef_ != 0)))\n",
    "print('R-squared score (training): {:.3f}'\n",
    "     .format(linlasso.score(X_train_scaled, y_train)))\n",
    "print('R-squared score (test): {:.3f}\\n'\n",
    "     .format(linlasso.score(X_test_scaled, y_test)))\n",
    "print('Features with non-zero weight (sorted by absolute magnitude):')\n",
    "\n",
    "for e in sorted (list(zip(list(X), linlasso.coef_)),\n",
    "                key = lambda e: -abs(e[1])):\n",
    "    if e[1] != 0:\n",
    "        print('\\t{}, {:.3f}'.format(e[0], e[1]))"
   ]
  },
  {
   "cell_type": "code",
   "execution_count": 132,
   "metadata": {},
   "outputs": [
    {
     "name": "stderr",
     "output_type": "stream",
     "text": [
      "/usr/local/Cellar/jupyterlab/2.2.2/libexec/lib/python3.8/site-packages/sklearn/linear_model/_coordinate_descent.py:529: ConvergenceWarning: Objective did not converge. You might want to increase the number of iterations. Duality gap: 0.0, tolerance: 0.0\n",
      "  model = cd_fast.enet_coordinate_descent(\n"
     ]
    },
    {
     "data": {
      "image/png": "[encoded data removed]",
      "text/plain": [
       "<Figure size 432x288 with 1 Axes>"
      ]
     },
     "metadata": {
      "needs_background": "light"
     },
     "output_type": "display_data"
    }
   ],
   "source": [
    "plot_learning_curves(linlasso,X,y)"
   ]
  },
  {
   "cell_type": "code",
   "execution_count": 133,
   "metadata": {},
   "outputs": [
    {
     "name": "stdout",
     "output_type": "stream",
     "text": [
      "Lasso regression: effect of alpha regularization\n",
      "parameter on number of features kept in final model\n",
      "\n",
      "Alpha = 0.50\n",
      "Features kept: 1, r-squared training: 0.17, r-squared test: 0.14\n",
      "\n",
      "Alpha = 1.00\n",
      "Features kept: 1, r-squared training: 0.09, r-squared test: 0.08\n",
      "\n",
      "Alpha = 2.00\n",
      "Features kept: 0, r-squared training: 0.00, r-squared test: -0.01\n",
      "\n",
      "Alpha = 3.00\n",
      "Features kept: 0, r-squared training: 0.00, r-squared test: -0.01\n",
      "\n",
      "Alpha = 5.00\n",
      "Features kept: 0, r-squared training: 0.00, r-squared test: -0.01\n",
      "\n",
      "Alpha = 10.00\n",
      "Features kept: 0, r-squared training: 0.00, r-squared test: -0.01\n",
      "\n",
      "Alpha = 20.00\n",
      "Features kept: 0, r-squared training: 0.00, r-squared test: -0.01\n",
      "\n",
      "Alpha = 50.00\n",
      "Features kept: 0, r-squared training: 0.00, r-squared test: -0.01\n",
      "\n"
     ]
    }
   ],
   "source": [
    "\n",
    "print('Lasso regression: effect of alpha regularization\\n\\\n",
    "parameter on number of features kept in final model\\n')\n",
    "\n",
    "for alpha in [0.5, 1, 2, 3, 5, 10, 20, 50]:\n",
    "    linlasso = Lasso(alpha, max_iter = 10000).fit(X_train_scaled, y_train)\n",
    "    r2_train = linlasso.score(X_train_scaled, y_train)\n",
    "    r2_test = linlasso.score(X_test_scaled, y_test)\n",
    "    \n",
    "    print('Alpha = {:.2f}\\nFeatures kept: {}, r-squared training: {:.2f}, \\\n",
    "r-squared test: {:.2f}\\n'\n",
    "         .format(alpha, np.sum(linlasso.coef_ != 0), r2_train, r2_test))"
   ]
  },
  {
   "cell_type": "markdown",
   "metadata": {},
   "source": [
    "## Polynomial regression"
   ]
  },
  {
   "cell_type": "code",
   "execution_count": 134,
   "metadata": {},
   "outputs": [],
   "source": [
    "from sklearn.preprocessing import PolynomialFeatures\n",
    "from sklearn.model_selection import KFold # import k-fold validation\n",
    "from sklearn.metrics import classification_report\n",
    "from sklearn.metrics import mean_squared_error\n",
    "from math import sqrt\n",
    "from sklearn.model_selection import train_test_split\n",
    "    \n",
    "\n",
    "def plot_learning_curves(model, X, y):\n",
    "    X_train, X_val, y_train, y_val = train_test_split(X, y, test_size=0.2, random_state=10)\n",
    "    \n",
    "    train_errors, val_errors = [], []\n",
    "    \n",
    "    for m in range(1, len(X_train)):\n",
    "        model.fit(X_train[:m], y_train[:m])\n",
    "        y_train_predict = model.predict(X_train[:m])\n",
    "        y_val_predict = model.predict(X_val)\n",
    "        train_errors.append(mean_squared_error(y_train[:m], y_train_predict))\n",
    "        val_errors.append(mean_squared_error(y_val, y_val_predict))\n",
    "        \n",
    "    plt.plot(np.sqrt(train_errors), \"r-+\", linewidth=2, label=\"train\")\n",
    "    plt.plot(np.sqrt(val_errors), \"b-\", linewidth=3, label=\"val\")\n",
    "    plt.legend(loc=\"upper right\", fontsize=14)   # not shown in the book\n",
    "    plt.xlabel(\"Training set size\", fontsize=14) # not shown\n",
    "    plt.ylabel(\"RMSE\", fontsize=14)              # not shown"
   ]
  },
  {
   "cell_type": "code",
   "execution_count": 135,
   "metadata": {},
   "outputs": [
    {
     "name": "stdout",
     "output_type": "stream",
     "text": [
      "POLYNOMIAL DEGREE-2 W/ LINEAR REGRESSION\n",
      "(poly deg 2) linear model coeff (w):\n",
      "[ 0.          1.73626401 -0.00691279]\n",
      "(poly deg 2) linear model intercept (b): -6.327\n",
      "(poly deg 2) R-squared score (training): 0.323\n",
      "(poly deg 2) R-squared score (test): 0.320\n",
      "(poly deg 2) RMSE score (train): 24.717\n",
      "(poly deg 2) RMSE score (test): 24.249\n",
      "\n",
      "POLYNOMIAL DEGREE-3 W/ LINEAR REGRESSION\n",
      "(poly deg 3) linear model coeff (w):\n",
      "[ 0.00000000e+00  1.47304682e+00 -4.10179920e-03 -8.16642267e-06]\n",
      "(poly deg 3) linear model intercept (b): 0.628\n",
      "(poly deg 3) R-squared score (training): 0.324\n",
      "(poly deg 3) R-squared score (test): 0.318\n",
      "(poly deg 3) RMSE score (train): 24.702\n",
      "(poly deg 3) RMSE score (test): 24.276\n",
      "\n",
      "POLYNOMIAL DEGREE-5 W/ LINEAR REGRESSION\n",
      "(poly deg 5) linear model coeff (w):\n",
      "[ 0.00000000e+00 -2.50873533e+00  8.06158414e-02 -7.83143911e-04\n",
      "  3.07805432e-06 -4.36221637e-09]\n",
      "(poly deg 5) linear model intercept (b): 64.435\n",
      "(poly deg 5) R-squared score (training): 0.341\n",
      "(poly deg 5) R-squared score (test): 0.313\n",
      "(poly deg 5) RMSE score (train): 24.396\n",
      "(poly deg 5) RMSE score (test): 24.366\n",
      "\n",
      "POLYNOMIAL DEGREE-10 W/ LINEAR REGRESSION\n",
      "(poly deg 10) linear model coeff (w):\n",
      "[ 0.00000000e+00 -2.45915942e-08  1.09437555e-11  3.68028357e-10\n",
      "  1.40372589e-08  3.09706290e-07 -9.05307883e-09  1.06505455e-10\n",
      " -6.24655023e-13  1.81502534e-15 -2.08161656e-18]\n",
      "(poly deg 10) linear model intercept (b): 42.315\n",
      "(poly deg 10) R-squared score (training): 0.339\n",
      "(poly deg 10) R-squared score (test): -5.350\n",
      "(poly deg 10) RMSE score (train): 24.418\n",
      "(poly deg 10) RMSE score (test): 74.082\n",
      "\n"
     ]
    },
    {
     "data": {
      "image/png": "[encoded data removed]",
      "text/plain": [
       "<Figure size 432x288 with 1 Axes>"
      ]
     },
     "metadata": {
      "needs_background": "light"
     },
     "output_type": "display_data"
    }
   ],
   "source": [
    "for degree in [2, 3, 5,10]:\n",
    "    poly = PolynomialFeatures(degree)\n",
    "    X_F1_poly = poly.fit_transform(X)\n",
    "    \n",
    "    X_train, X_test, y_train, y_test = train_test_split(X_F1_poly, y, random_state=0)\n",
    "    linreg = LinearRegression().fit(X_train, y_train)\n",
    "\n",
    "    print('POLYNOMIAL DEGREE-{} W/ LINEAR REGRESSION'.format(degree))\n",
    "    print('(poly deg {}) linear model coeff (w):\\n{}'\n",
    "         .format(degree, linreg.coef_))\n",
    "    print('(poly deg {}) linear model intercept (b): {:.3f}'\n",
    "         .format(degree, linreg.intercept_))\n",
    "    print('(poly deg {}) R-squared score (training): {:.3f}'\n",
    "         .format(degree, linreg.score(X_train, y_train)))\n",
    "    print('(poly deg {}) R-squared score (test): {:.3f}'\n",
    "         .format(degree, linreg.score(X_test, y_test)))\n",
    "    print('(poly deg {}) RMSE score (train): {:.3f}'\n",
    "         .format(degree, sqrt(mean_squared_error(y_train, linreg.predict(X_train)))))\n",
    "    print('(poly deg {}) RMSE score (test): {:.3f}\\n'\n",
    "         .format(degree, sqrt(mean_squared_error(y_test, linreg.predict(X_test)))))\n",
    "\n",
    "plot_learning_curves(linreg,  X,y)"
   ]
  },
  {
   "cell_type": "code",
   "execution_count": 136,
   "metadata": {},
   "outputs": [
    {
     "name": "stdout",
     "output_type": "stream",
     "text": [
      "POLYNOMIAL DEGREE-2 W/ RIDGE REGRESSION\n",
      "(poly deg 2) linear model coeff (w):\n",
      "[ 0.          1.73621897 -0.00691255]\n",
      "(poly deg 2) linear model intercept (b): -6.325\n",
      "(poly deg 2) R-squared score (training): 0.323\n",
      "(poly deg 2) R-squared score (test): 0.320\n",
      "(poly deg 2) RMSE score (train): 24.717\n",
      "(poly deg 2) RMSE score (test): 24.249\n",
      "\n",
      "POLYNOMIAL DEGREE-3 W/ RIDGE REGRESSION\n",
      "(poly deg 3) linear model coeff (w):\n",
      "[ 0.00000000e+00  1.47276330e+00 -4.09898156e-03 -8.17403368e-06]\n",
      "(poly deg 3) linear model intercept (b): 0.636\n",
      "(poly deg 3) R-squared score (training): 0.324\n",
      "(poly deg 3) R-squared score (test): 0.318\n",
      "(poly deg 3) RMSE score (train): 24.702\n",
      "(poly deg 3) RMSE score (test): 24.276\n",
      "\n",
      "POLYNOMIAL DEGREE-5 W/ RIDGE REGRESSION\n",
      "(poly deg 5) linear model coeff (w):\n",
      "[ 0.00000000e+00 -2.50118554e+00  8.04409296e-02 -7.81351547e-04\n",
      "  3.06986891e-06 -4.34876994e-09]\n",
      "(poly deg 5) linear model intercept (b): 64.321\n",
      "(poly deg 5) R-squared score (training): 0.341\n",
      "(poly deg 5) R-squared score (test): 0.313\n",
      "(poly deg 5) RMSE score (train): 24.396\n",
      "(poly deg 5) RMSE score (test): 24.365\n",
      "\n",
      "POLYNOMIAL DEGREE-10 W/ RIDGE REGRESSION\n",
      "(poly deg 10) linear model coeff (w):\n",
      "[ 0.00000000e+00 -1.10272431e+01  6.44215299e-01 -1.74898108e-02\n",
      "  2.52900311e-04 -1.63983782e-06 -2.86262011e-09  1.21280000e-10\n",
      " -8.12253265e-13  2.38678246e-15 -2.68972513e-18]\n",
      "(poly deg 10) linear model intercept (b): 97.523\n",
      "(poly deg 10) R-squared score (training): 0.347\n",
      "(poly deg 10) R-squared score (test): -5.304\n",
      "(poly deg 10) RMSE score (train): 24.277\n",
      "(poly deg 10) RMSE score (test): 73.813\n",
      "\n"
     ]
    },
    {
     "name": "stderr",
     "output_type": "stream",
     "text": [
      "/usr/local/Cellar/jupyterlab/2.2.2/libexec/lib/python3.8/site-packages/sklearn/linear_model/_ridge.py:147: LinAlgWarning: Ill-conditioned matrix (rcond=9.49706e-25): result may not be accurate.\n",
      "  return linalg.solve(A, Xy, sym_pos=True,\n",
      "/usr/local/Cellar/jupyterlab/2.2.2/libexec/lib/python3.8/site-packages/sklearn/linear_model/_ridge.py:147: LinAlgWarning: Ill-conditioned matrix (rcond=1.09263e-48): result may not be accurate.\n",
      "  return linalg.solve(A, Xy, sym_pos=True,\n"
     ]
    },
    {
     "data": {
      "image/png": "[encoded data removed]",
      "text/plain": [
       "<Figure size 432x288 with 1 Axes>"
      ]
     },
     "metadata": {
      "needs_background": "light"
     },
     "output_type": "display_data"
    }
   ],
   "source": [
    "for degree in [2, 3, 5, 10]:\n",
    "    poly = PolynomialFeatures(degree)\n",
    "    X_F1_poly = poly.fit_transform(X)\n",
    "\n",
    "    X_train, X_test, y_train, y_test = train_test_split(X_F1_poly, y, random_state=0)\n",
    "    linreg = Ridge().fit(X_train, y_train)\n",
    "\n",
    "    print('POLYNOMIAL DEGREE-{} W/ RIDGE REGRESSION'.format(degree))\n",
    "    print('(poly deg {}) linear model coeff (w):\\n{}'\n",
    "         .format(degree, linreg.coef_))\n",
    "    print('(poly deg {}) linear model intercept (b): {:.3f}'\n",
    "         .format(degree, linreg.intercept_))\n",
    "    print('(poly deg {}) R-squared score (training): {:.3f}'\n",
    "         .format(degree, linreg.score(X_train, y_train)))\n",
    "    print('(poly deg {}) R-squared score (test): {:.3f}'\n",
    "         .format(degree, linreg.score(X_test, y_test)))\n",
    "    print('(poly deg {}) RMSE score (train): {:.3f}'\n",
    "         .format(degree, sqrt(mean_squared_error(y_train, linreg.predict(X_train)))))\n",
    "    print('(poly deg {}) RMSE score (test): {:.3f}\\n'\n",
    "         .format(degree, sqrt(mean_squared_error(y_test, linreg.predict(X_test)))))\n",
    "\n",
    "plot_learning_curves(linreg,  X,y)"
   ]
  },
  {
   "cell_type": "code",
   "execution_count": null,
   "metadata": {},
   "outputs": [],
   "source": []
  }
 ],
 "metadata": {
  "colab": {
   "collapsed_sections": [],
   "name": "DAP3.ipynb",
   "provenance": [],
   "toc_visible": true
  },
  "kernelspec": {
   "display_name": "Python 3",
   "language": "python",
   "name": "python3"
  },
  "language_info": {
   "codemirror_mode": {
    "name": "ipython",
    "version": 3
   },
   "file_extension": ".py",
   "mimetype": "text/x-python",
   "name": "python",
   "nbconvert_exporter": "python",
   "pygments_lexer": "ipython3",
   "version": "3.8.5"
  }
 },
 "nbformat": 4,
 "nbformat_minor": 1
}
