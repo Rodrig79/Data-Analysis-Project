{
 "cells": [
  {
   "cell_type": "code",
   "execution_count": 6,
   "metadata": {
    "colab": {},
    "colab_type": "code",
    "id": "y2E1jbS4ZluC",
    "scrolled": false,
    "tags": []
   },
   "outputs": [
    {
     "name": "stdout",
     "output_type": "stream",
     "text": [
      "Requirement already satisfied: scikit-learn in c:\\users\\shaun\\appdata\\local\\programs\\python\\python37\\lib\\site-packages (0.23.2)Note: you may need to restart the kernel to use updated packages.\n"
     ]
    },
    {
     "name": "stderr",
     "output_type": "stream",
     "text": [
      "WARNING: You are using pip version 20.2.1; however, version 20.2.2 is available.\n",
      "You should consider upgrading via the 'c:\\users\\shaun\\appdata\\local\\programs\\python\\python37\\python.exe -m pip install --upgrade pip' command.\n"
     ]
    },
    {
     "name": "stdout",
     "output_type": "stream",
     "text": [
      "\n",
      "Requirement already satisfied: threadpoolctl>=2.0.0 in c:\\users\\shaun\\appdata\\local\\programs\\python\\python37\\lib\\site-packages (from scikit-learn) (2.1.0)\n",
      "Requirement already satisfied: scipy>=0.19.1 in c:\\users\\shaun\\appdata\\local\\programs\\python\\python37\\lib\\site-packages (from scikit-learn) (1.5.2)\n",
      "Requirement already satisfied: joblib>=0.11 in c:\\users\\shaun\\appdata\\local\\programs\\python\\python37\\lib\\site-packages (from scikit-learn) (0.16.0)\n",
      "Requirement already satisfied: numpy>=1.13.3 in c:\\users\\shaun\\appdata\\local\\programs\\python\\python37\\lib\\site-packages (from scikit-learn) (1.16.4)\n",
      "Requirement already satisfied: pandas in c:\\users\\shaun\\appdata\\local\\programs\\python\\python37\\lib\\site-packages (1.1.0)\n",
      "Requirement already satisfied: pytz>=2017.2 in c:\\users\\shaun\\appdata\\local\\programs\\python\\python37\\lib\\site-packages (from pandas) (2020.1)\n",
      "Requirement already satisfied: python-dateutil>=2.7.3 in c:\\users\\shaun\\appdata\\local\\programs\\python\\python37\\lib\\site-packages (from pandas) (2.8.1)\n",
      "Requirement already satisfied: numpy>=1.15.4 in c:\\users\\shaun\\appdata\\local\\programs\\python\\python37\\lib\\site-packages (from pandas) (1.16.4)\n",
      "Requirement already satisfied: six>=1.5 in c:\\users\\shaun\\appdata\\roaming\\python\\python37\\site-packages (from python-dateutil>=2.7.3->pandas) (1.12.0)\n",
      "Note: you may need to restart the kernel to use updated packages.\n"
     ]
    },
    {
     "name": "stderr",
     "output_type": "stream",
     "text": [
      "WARNING: You are using pip version 20.2.1; however, version 20.2.2 is available.\n",
      "You should consider upgrading via the 'c:\\users\\shaun\\appdata\\local\\programs\\python\\python37\\python.exe -m pip install --upgrade pip' command.\n"
     ]
    },
    {
     "name": "stdout",
     "output_type": "stream",
     "text": [
      "Requirement already satisfied: matplotlib in c:\\users\\shaun\\appdata\\local\\programs\\python\\python37\\lib\\site-packages (3.3.0)\n",
      "Requirement already satisfied: pyparsing!=2.0.4,!=2.1.2,!=2.1.6,>=2.0.3 in c:\\users\\shaun\\appdata\\local\\programs\\python\\python37\\lib\\site-packages (from matplotlib) (2.4.7)\n",
      "Requirement already satisfied: numpy>=1.15 in c:\\users\\shaun\\appdata\\local\\programs\\python\\python37\\lib\\site-packages (from matplotlib) (1.16.4)\n",
      "Requirement already satisfied: python-dateutil>=2.1 in c:\\users\\shaun\\appdata\\local\\programs\\python\\python37\\lib\\site-packages (from matplotlib) (2.8.1)\n",
      "Requirement already satisfied: kiwisolver>=1.0.1 in c:\\users\\shaun\\appdata\\local\\programs\\python\\python37\\lib\\site-packages (from matplotlib) (1.2.0)\n",
      "Requirement already satisfied: pillow>=6.2.0 in c:\\users\\shaun\\appdata\\local\\programs\\python\\python37\\lib\\site-packages (from matplotlib) (7.2.0)\n",
      "Requirement already satisfied: cycler>=0.10 in c:\\users\\shaun\\appdata\\local\\programs\\python\\python37\\lib\\site-packages (from matplotlib) (0.10.0)\n",
      "Note: you may need to restart the kernel to use updated packages.\n",
      "Requirement already satisfied: six>=1.5 in c:\\users\\shaun\\appdata\\roaming\\python\\python37\\site-packages (from python-dateutil>=2.1->matplotlib) (1.12.0)"
     ]
    },
    {
     "name": "stderr",
     "output_type": "stream",
     "text": [
      "WARNING: You are using pip version 20.2.1; however, version 20.2.2 is available.\n",
      "You should consider upgrading via the 'c:\\users\\shaun\\appdata\\local\\programs\\python\\python37\\python.exe -m pip install --upgrade pip' command.\n"
     ]
    },
    {
     "name": "stdout",
     "output_type": "stream",
     "text": [
      "\n",
      "Requirement already satisfied: seaborn in c:\\users\\shaun\\appdata\\local\\programs\\python\\python37\\lib\\site-packages (0.10.1)\n",
      "Requirement already satisfied: pandas>=0.22.0 in c:\\users\\shaun\\appdata\\local\\programs\\python\\python37\\lib\\site-packages (from seaborn) (1.1.0)\n",
      "Requirement already satisfied: numpy>=1.13.3 in c:\\users\\shaun\\appdata\\local\\programs\\python\\python37\\lib\\site-packages (from seaborn) (1.16.4)\n",
      "Requirement already satisfied: scipy>=1.0.1 in c:\\users\\shaun\\appdata\\local\\programs\\python\\python37\\lib\\site-packages (from seaborn) (1.5.2)\n",
      "Requirement already satisfied: matplotlib>=2.1.2 in c:\\users\\shaun\\appdata\\local\\programs\\python\\python37\\lib\\site-packages (from seaborn) (3.3.0)\n",
      "Requirement already satisfied: pytz>=2017.2 in c:\\users\\shaun\\appdata\\local\\programs\\python\\python37\\lib\\site-packages (from pandas>=0.22.0->seaborn) (2020.1)\n",
      "Requirement already satisfied: python-dateutil>=2.7.3 in c:\\users\\shaun\\appdata\\local\\programs\\python\\python37\\lib\\site-packages (from pandas>=0.22.0->seaborn) (2.8.1)\n",
      "Requirement already satisfied: kiwisolver>=1.0.1 in c:\\users\\shaun\\appdata\\local\\programs\\python\\python37\\lib\\site-packages (from matplotlib>=2.1.2->seaborn) (1.2.0)\n",
      "Requirement already satisfied: pillow>=6.2.0 in c:\\users\\shaun\\appdata\\local\\programs\\python\\python37\\lib\\site-packages (from matplotlib>=2.1.2->seaborn) (7.2.0)\n",
      "Requirement already satisfied: pyparsing!=2.0.4,!=2.1.2,!=2.1.6,>=2.0.3 in c:\\users\\shaun\\appdata\\local\\programs\\python\\python37\\lib\\site-packages (from matplotlib>=2.1.2->seaborn) (2.4.7)\n",
      "Requirement already satisfied: cycler>=0.10 in c:\\users\\shaun\\appdata\\local\\programs\\python\\python37\\lib\\site-packages (from matplotlib>=2.1.2->seaborn) (0.10.0)\n",
      "Requirement already satisfied: six>=1.5 in c:\\users\\shaun\\appdata\\roaming\\python\\python37\\site-packages (from python-dateutil>=2.7.3->pandas>=0.22.0->seaborn) (1.12.0)\n",
      "Note: you may need to restart the kernel to use updated packages.\n"
     ]
    },
    {
     "name": "stderr",
     "output_type": "stream",
     "text": [
      "WARNING: You are using pip version 20.2.1; however, version 20.2.2 is available.\n",
      "You should consider upgrading via the 'c:\\users\\shaun\\appdata\\local\\programs\\python\\python37\\python.exe -m pip install --upgrade pip' command.\n"
     ]
    },
    {
     "name": "stdout",
     "output_type": "stream",
     "text": [
      "Requirement already satisfied: graphviz in c:\\users\\shaun\\appdata\\local\\programs\\python\\python37\\lib\\site-packages (0.14.1)\n",
      "Note: you may need to restart the kernel to use updated packages.\n"
     ]
    },
    {
     "name": "stderr",
     "output_type": "stream",
     "text": [
      "WARNING: You are using pip version 20.2.1; however, version 20.2.2 is available.\n",
      "You should consider upgrading via the 'c:\\users\\shaun\\appdata\\local\\programs\\python\\python37\\python.exe -m pip install --upgrade pip' command.\n"
     ]
    },
    {
     "name": "stdout",
     "output_type": "stream",
     "text": [
      "Requirement already satisfied: scikit-plot in c:\\users\\shaun\\appdata\\local\\programs\\python\\python37\\lib\\site-packages (0.3.7)\n",
      "Requirement already satisfied: scipy>=0.9 in c:\\users\\shaun\\appdata\\local\\programs\\python\\python37\\lib\\site-packages (from scikit-plot) (1.5.2)\n",
      "Requirement already satisfied: joblib>=0.10 in c:\\users\\shaun\\appdata\\local\\programs\\python\\python37\\lib\\site-packages (from scikit-plot) (0.16.0)\n",
      "Requirement already satisfied: scikit-learn>=0.18 in c:\\users\\shaun\\appdata\\local\\programs\\python\\python37\\lib\\site-packages (from scikit-plot) (0.23.2)\n",
      "Requirement already satisfied: matplotlib>=1.4.0 in c:\\users\\shaun\\appdata\\local\\programs\\python\\python37\\lib\\site-packages (from scikit-plot) (3.3.0)\n",
      "Requirement already satisfied: numpy>=1.14.5 in c:\\users\\shaun\\appdata\\local\\programs\\python\\python37\\lib\\site-packages (from scipy>=0.9->scikit-plot) (1.16.4)\n",
      "Requirement already satisfied: threadpoolctl>=2.0.0 in c:\\users\\shaun\\appdata\\local\\programs\\python\\python37\\lib\\site-packages (from scikit-learn>=0.18->scikit-plot) (2.1.0)\n",
      "Requirement already satisfied: python-dateutil>=2.1 in c:\\users\\shaun\\appdata\\local\\programs\\python\\python37\\lib\\site-packages (from matplotlib>=1.4.0->scikit-plot) (2.8.1)\n",
      "Requirement already satisfied: pillow>=6.2.0 in c:\\users\\shaun\\appdata\\local\\programs\\python\\python37\\lib\\site-packages (from matplotlib>=1.4.0->scikit-plot) (7.2.0)\n",
      "Requirement already satisfied: kiwisolver>=1.0.1 in c:\\users\\shaun\\appdata\\local\\programs\\python\\python37\\lib\\site-packages (from matplotlib>=1.4.0->scikit-plot) (1.2.0)\n",
      "Requirement already satisfied: pyparsing!=2.0.4,!=2.1.2,!=2.1.6,>=2.0.3 in c:\\users\\shaun\\appdata\\local\\programs\\python\\python37\\lib\\site-packages (from matplotlib>=1.4.0->scikit-plot) (2.4.7)\n",
      "Requirement already satisfied: cycler>=0.10 in c:\\users\\shaun\\appdata\\local\\programs\\python\\python37\\lib\\site-packages (from matplotlib>=1.4.0->scikit-plot) (0.10.0)\n",
      "Requirement already satisfied: six>=1.5 in c:\\users\\shaun\\appdata\\roaming\\python\\python37\\site-packages (from python-dateutil>=2.1->matplotlib>=1.4.0->scikit-plot) (1.12.0)\n",
      "Note: you may need to restart the kernel to use updated packages.\n"
     ]
    },
    {
     "name": "stderr",
     "output_type": "stream",
     "text": [
      "WARNING: You are using pip version 20.2.1; however, version 20.2.2 is available.\n",
      "You should consider upgrading via the 'c:\\users\\shaun\\appdata\\local\\programs\\python\\python37\\python.exe -m pip install --upgrade pip' command.\n",
      "WARNING: You are using pip version 20.2.1; however, version 20.2.2 is available.\n",
      "You should consider upgrading via the 'c:\\users\\shaun\\appdata\\local\\programs\\python\\python37\\python.exe -m pip install --upgrade pip' command.\n"
     ]
    },
    {
     "name": "stdout",
     "output_type": "stream",
     "text": [
      "Requirement already satisfied: statsmodels in c:\\users\\shaun\\appdata\\local\\programs\\python\\python37\\lib\\site-packages (0.11.1)\n",
      "Requirement already satisfied: patsy>=0.5 in c:\\users\\shaun\\appdata\\local\\programs\\python\\python37\\lib\\site-packages (from statsmodels) (0.5.1)\n",
      "Requirement already satisfied: scipy>=1.0 in c:\\users\\shaun\\appdata\\local\\programs\\python\\python37\\lib\\site-packages (from statsmodels) (1.5.2)\n",
      "Requirement already satisfied: pandas>=0.21 in c:\\users\\shaun\\appdata\\local\\programs\\python\\python37\\lib\\site-packages (from statsmodels) (1.1.0)\n",
      "Requirement already satisfied: numpy>=1.14 in c:\\users\\shaun\\appdata\\local\\programs\\python\\python37\\lib\\site-packages (from statsmodels) (1.16.4)\n",
      "Requirement already satisfied: six in c:\\users\\shaun\\appdata\\roaming\\python\\python37\\site-packages (from patsy>=0.5->statsmodels) (1.12.0)\n",
      "Requirement already satisfied: python-dateutil>=2.7.3 in c:\\users\\shaun\\appdata\\local\\programs\\python\\python37\\lib\\site-packages (from pandas>=0.21->statsmodels) (2.8.1)\n",
      "Requirement already satisfied: pytz>=2017.2 in c:\\users\\shaun\\appdata\\local\\programs\\python\\python37\\lib\\site-packages (from pandas>=0.21->statsmodels) (2020.1)\n",
      "Note: you may need to restart the kernel to use updated packages.\n"
     ]
    }
   ],
   "source": [
    "#If you need to install in modules in jupyter notebook \n",
    "%pip install scikit-learn\n",
    "%pip install pandas\n",
    "%pip install matplotlib \n",
    "%pip install seaborn \n",
    "%pip install graphviz\n",
    "%pip install scikit-plot   \n",
    "%pip install statsmodels   \n",
    "\n",
    "\n",
    "#Python ≥3.5 is required\n",
    "import sys\n",
    "assert sys.version_info >= (3, 5)\n",
    "import datetime # Scikit-Learn ≥0.20 is required\n",
    "import sklearn\n",
    "assert sklearn.__version__ >= \"0.20\"\n",
    "\n",
    "\n",
    "# Common imports\n",
    "import numpy as np\n",
    "import pandas as pd\n",
    "import os\n",
    "from sklearn.model_selection import train_test_split\n",
    "import matplotlib.pyplot as plt\n",
    "from scipy import stats\n",
    "import scikitplot as skplt\n",
    "from sklearn.neighbors import KNeighborsClassifier  \n",
    "from sklearn.linear_model import LinearRegression\n",
    "# To plot pretty figures\n",
    "%matplotlib inline\n",
    "import matplotlib as mpl\n",
    "import matplotlib.pyplot as plt\n",
    "mpl.rc('axes', labelsize=14)\n",
    "mpl.rc('xtick', labelsize=12)\n",
    "mpl.rc('ytick', labelsize=12)\n",
    "from sklearn.model_selection import KFold\n",
    "from sklearn.metrics import mean_squared_error\n",
    "from sklearn.metrics import r2_score\n",
    "from sklearn.preprocessing import StandardScaler\n",
    "\n",
    "# to make this notebook's output stable across runs\n",
    "np.random.seed(42)\n",
    "\n",
    "# Where to save the figures\n",
    "PROJECT_ROOT_DIR = \".\"\n",
    "CHAPTER_ID = \"decision_trees\"\n",
    "IMAGES_PATH = os.path.join(PROJECT_ROOT_DIR, \"images\", CHAPTER_ID)\n",
    "\n",
    "os.makedirs(IMAGES_PATH, exist_ok=True)\n",
    "def save_fig(fig_id, tight_layout=True, fig_extension=\"png\", resolution=300):\n",
    "\n",
    "    path = os.path.join(IMAGES_PATH, fig_id + \".\" + fig_extension)\n",
    "    print(\"Saving figure\", fig_id)\n",
    "    if tight_layout:\n",
    "        plt.tight_layout()\n",
    "    plt.savefig(path, format=fig_extension, dpi=resolution)"
   ]
  },
  {
   "cell_type": "code",
   "execution_count": 7,
   "metadata": {
    "colab": {},
    "colab_type": "code",
    "id": "IvsV2RSPapC6",
    "scrolled": false
   },
   "outputs": [],
   "source": [
    "#changes the output for the print statements\n",
    "pd.set_option('display.max_rows', 10)\n",
    "pd.set_option('display.max_columns', None)\n",
    "pd.set_option('display.width', None)\n",
    "pd.set_option('display.max_colwidth',0)"
   ]
  },
  {
   "cell_type": "code",
   "execution_count": 1097,
   "metadata": {
    "colab": {},
    "colab_type": "code",
    "id": "vtW9LfInZ_x2",
    "scrolled": false
   },
   "outputs": [],
   "source": [
    "#Pull \n",
    "df = pd.read_csv('https://raw.githubusercontent.com/Rodrig79/Machine-Learning-Data-Analysis-Project/master/rawData/pokemon.csv') "
   ]
  },
  {
   "cell_type": "code",
   "execution_count": 1098,
   "metadata": {},
   "outputs": [],
   "source": [
    "from sklearn import preprocessing\n",
    "\n",
    "#Data Cleaning\n",
    "df = df[~df.Name.str.contains('Mega')] #removed pokemon with \"Mega\" in it\n",
    "df = df.drop(columns = [\"Name\",\"Type 1\",\"Type 2\",\"#\",\"Generation\"]) #Removed columns with names\n",
    "\n",
    "#normalization\n",
    "# X = df.values #returns a numpy array\n",
    "# min_max_scaler = preprocessing.MinMaxScaler()\n",
    "# x_scaled = min_max_scaler.fit_transform(X)\n",
    "# df=pd.DataFrame(x_scaled, columns=df.columns)\n"
   ]
  },
  {
   "cell_type": "code",
   "execution_count": 1099,
   "metadata": {},
   "outputs": [],
   "source": [
    " #Splitting dataset to x and y\n",
    "y = df.Attack\n",
    "X = df[['Defense','HP','Sp. Atk','Sp. Def','Speed']]"
   ]
  },
  {
   "cell_type": "code",
   "execution_count": 323,
   "metadata": {},
   "outputs": [],
   "source": [
    "def plot_learning_curves(model, X, y):\n",
    "    X_train, X_val, y_train, y_val = train_test_split(X, y, test_size=0.2, random_state=10)\n",
    "    \n",
    "    train_errors, val_errors = [], []\n",
    "    \n",
    "    for m in range(1, len(X_train)):\n",
    "        model.fit(X_train[:m], y_train[:m])\n",
    "        y_train_predict = model.predict(X_train[:m])\n",
    "        y_val_predict = model.predict(X_val)\n",
    "        train_errors.append(mean_squared_error(y_train[:m], y_train_predict))\n",
    "        val_errors.append(mean_squared_error(y_val, y_val_predict))\n",
    "        \n",
    "    plt.plot(np.sqrt(train_errors), \"r-+\", linewidth=2, label=\"train\")\n",
    "    plt.plot(np.sqrt(val_errors), \"b-\", linewidth=3, label=\"val\")\n",
    "    plt.legend(loc=\"upper right\", fontsize=14)   # not shown in the book\n",
    "    plt.xlabel(\"Training set size\", fontsize=14) # not shown\n",
    "    plt.ylabel(\"RMSE\", fontsize=14)              # not shown"
   ]
  },
  {
   "cell_type": "markdown",
   "metadata": {},
   "source": [
    "# MultiVariate  Regression with sklearn"
   ]
  },
  {
   "cell_type": "code",
   "execution_count": 39,
   "metadata": {},
   "outputs": [],
   "source": [
    " from sklearn.linear_model import LinearRegression"
   ]
  },
  {
   "cell_type": "code",
   "execution_count": 50,
   "metadata": {},
   "outputs": [],
   "source": [
    "def MultiVariateLinearRegression(X,y):\n",
    "  X_train, X_test, y_train, y_test = train_test_split(X, y, test_size=0.60)\n",
    "  regr = LinearRegression()\n",
    "  regr.fit(X, y)\n",
    "  print('Intercept: \\n', regr.intercept_)\n",
    "  print('Coefficients: \\n', regr.coef_)\n",
    "  kf = KFold(n_splits=10, random_state=None, shuffle=True)\n",
    "  kf.get_n_splits(X)\n",
    "  for train_index, test_index in kf.split(X):\n",
    "        regr.fit(X_train, y_train)\n",
    "        y_pred = regr.predict(X_train)\n",
    "  print(\"coefficient of determination score\",r2_score(y_train,y_pred))\n",
    "  print(\"mean squared error\",mean_squared_error(y_train,y_pred,squared =False))\n"
   ]
  },
  {
   "cell_type": "code",
   "execution_count": 51,
   "metadata": {},
   "outputs": [
    {
     "name": "stdout",
     "output_type": "stream",
     "text": [
      "Intercept: \n",
      " 8.210680550338907\n",
      "Coefficients: \n",
      " [ 0.44614817  0.36994363  0.18231691 -0.31638889  0.29630742]\n",
      "coefficient of determination score 0.4287816961403771\n",
      "mean squared error 22.285849382912\n"
     ]
    }
   ],
   "source": [
    "MultiVariateLinearRegression(X,y)"
   ]
  },
  {
   "cell_type": "markdown",
   "metadata": {},
   "source": [
    "# Linear Regression with Gradient Descent "
   ]
  },
  {
   "cell_type": "code",
   "execution_count": 1122,
   "metadata": {},
   "outputs": [
    {
     "name": "stdout",
     "output_type": "stream",
     "text": [
      "[46.15190005  0.41573725]\n"
     ]
    }
   ],
   "source": [
    "X_b = np.c_[np.ones((751, 1)), X]  # add x0 = 1 to each instance\n",
    "\n",
    "theta_best = np.linalg.inv(X_b.T.dot(X_b)).dot(X_b.T).dot(y)\n",
    "\n",
    "print(theta_best)"
   ]
  },
  {
   "cell_type": "code",
   "execution_count": 1123,
   "metadata": {},
   "outputs": [
    {
     "data": {
      "text/plain": [
       "array([46.15190005, 46.98337455])"
      ]
     },
     "execution_count": 1123,
     "metadata": {},
     "output_type": "execute_result"
    }
   ],
   "source": [
    "\n",
    "X_new = np.array([[0], [2]])\n",
    "X_new_b = np.c_[np.ones((2, 1)), X_new]  # add x0 = 1 to each instance\n",
    "\n",
    "y_predict = X_new_b.dot(theta_best)\n",
    "y_predict"
   ]
  },
  {
   "cell_type": "code",
   "execution_count": 1124,
   "metadata": {},
   "outputs": [
    {
     "name": "stdout",
     "output_type": "stream",
     "text": [
      "[0.64768854 1.52302986]\n"
     ]
    },
    {
     "data": {
      "text/plain": [
       "array([2.47657005e+37, 2.07940080e+39])"
      ]
     },
     "execution_count": 1124,
     "metadata": {},
     "output_type": "execute_result"
    }
   ],
   "source": [
    "eta = 0.1\n",
    "n_iterations = 10\n",
    "m = 100\n",
    "theta = np.random.randn(2, 1)\n",
    "theta = np.squeeze(np.asarray(theta))\n",
    "print (theta)\n",
    "for iteration in range(n_iterations):\n",
    "    gradients = 2/m * X_b.T.dot(X_b.dot(theta) - y)\n",
    "    theta = theta - eta * gradients\n",
    "theta"
   ]
  },
  {
   "cell_type": "code",
   "execution_count": 1125,
   "metadata": {},
   "outputs": [
    {
     "data": {
      "text/plain": [
       "array([1.01915405e+41, 1.31027016e+41, 1.72615032e+41, 8.94390002e+40,\n",
       "       1.20630012e+41, 1.62218028e+41, 1.35185818e+41, 1.66376830e+41,\n",
       "       2.07964846e+41, 7.28037937e+40, 1.14391810e+41, 1.03994806e+41,\n",
       "       6.24067897e+40, 1.03994806e+41, 8.32007978e+40, 8.32007978e+40,\n",
       "       1.14391810e+41, 1.55979826e+41, 7.28037937e+40, 1.24788814e+41,\n",
       "       6.24067897e+40, 1.35185818e+41, 9.15184010e+40, 1.43503421e+41,\n",
       "       8.32007978e+40, 1.14391810e+41, 1.76773834e+41, 2.28758854e+41,\n",
       "       1.08153607e+41, 1.39344619e+41, 1.80932635e+41, 8.32007978e+40,\n",
       "       1.18550611e+41, 1.60138627e+41, 9.98360042e+40, 1.51821024e+41,\n",
       "       8.32007978e+40, 1.55979826e+41, 4.16127817e+40, 9.35978018e+40,\n",
       "       7.28037937e+40, 1.45582822e+41, 1.14391810e+41, 1.45582822e+41,\n",
       "       1.76773834e+41, 1.14391810e+41, 1.66376830e+41, 1.03994806e+41,\n",
       "       1.24788814e+41, 5.20097857e+40, 1.03994806e+41, 7.28037937e+40,\n",
       "       1.24788814e+41, 9.98360042e+40, 1.62218028e+41, 7.28037937e+40,\n",
       "       1.24788814e+41, 9.35978018e+40, 1.66376830e+41, 8.32007978e+40,\n",
       "       1.35185818e+41, 1.97567842e+41, 3.12157777e+40, 6.24067897e+40,\n",
       "       9.35978018e+40, 1.03994806e+41, 1.45582822e+41, 1.66376830e+41,\n",
       "       7.28037937e+40, 1.03994806e+41, 1.35185818e+41, 7.28037937e+40,\n",
       "       1.35185818e+41, 2.07964846e+41, 2.39155858e+41, 2.70346870e+41,\n",
       "       1.14391810e+41, 1.45582822e+41, 1.35185818e+41, 2.28758854e+41,\n",
       "       1.45582822e+41, 1.97567842e+41, 1.14391810e+41, 9.35978018e+40,\n",
       "       1.45582822e+41, 1.14391810e+41, 1.66376830e+41, 1.03994806e+41,\n",
       "       1.55979826e+41, 2.07964846e+41, 3.74316910e+41, 6.24067897e+40,\n",
       "       9.35978018e+40, 1.24788814e+41, 3.32728894e+41, 9.35978018e+40,\n",
       "       1.45582822e+41, 1.87170838e+41, 2.39155858e+41, 1.03994806e+41,\n",
       "       1.45582822e+41, 1.66376830e+41, 1.76773834e+41, 1.97567842e+41,\n",
       "       2.28758854e+41, 1.10233008e+41, 1.64297429e+41, 1.55979826e+41,\n",
       "       1.97567842e+41, 2.49552862e+41, 1.97567842e+41, 2.49552862e+41,\n",
       "       1.04217697e+40, 2.39155858e+41, 1.66376830e+41, 1.45582822e+41,\n",
       "       1.97567842e+41, 1.24788814e+41, 1.35185818e+41, 1.14391810e+41,\n",
       "       1.76773834e+41, 1.35185818e+41, 1.66376830e+41, 7.28037937e+40,\n",
       "       1.18550611e+41, 1.18550611e+41, 2.07964846e+41, 1.97567842e+41,\n",
       "       1.14391810e+41, 1.64297429e+41, 1.66376830e+41, 9.98360042e+40,\n",
       "       1.03994806e+41, 1.24788814e+41, 1.24788814e+41, 1.24788814e+41,\n",
       "       1.45582822e+41, 2.07964846e+41, 2.59949866e+41, 1.87170838e+41,\n",
       "       2.18361850e+41, 1.35185818e+41, 1.35185818e+41, 2.07964846e+41,\n",
       "       1.76773834e+41, 1.87170838e+41, 9.35978018e+40, 1.35185818e+41,\n",
       "       1.97567842e+41, 1.87170838e+41, 2.07964846e+41, 1.35185818e+41,\n",
       "       1.66376830e+41, 8.94390002e+40, 1.20630012e+41, 1.62218028e+41,\n",
       "       1.33106417e+41, 1.66376830e+41, 2.07964846e+41, 7.07243929e+40,\n",
       "       1.33106417e+41, 6.24067897e+40, 1.03994806e+41, 6.24067897e+40,\n",
       "       1.03994806e+41, 8.32007978e+40, 1.45582822e+41, 1.66376830e+41,\n",
       "       7.90419962e+40, 1.20630012e+41, 3.12157777e+40, 5.82479881e+40,\n",
       "       3.12157777e+40, 1.35185818e+41, 1.76773834e+41, 9.35978018e+40,\n",
       "       1.45582822e+41, 8.32007978e+40, 1.14391810e+41, 1.76773834e+41,\n",
       "       1.97567842e+41, 1.03994806e+41, 1.66376830e+41, 2.39155858e+41,\n",
       "       1.55979826e+41, 8.32007978e+40, 1.03994806e+41, 1.45582822e+41,\n",
       "       1.14391810e+41, 6.24067897e+40, 1.14391810e+41, 9.35978018e+40,\n",
       "       9.35978018e+40, 1.76773834e+41, 1.24788814e+41, 2.28758854e+41,\n",
       "       8.73595994e+40, 1.66376830e+41, 1.24788814e+41, 9.98360042e+40,\n",
       "       1.20630012e+41, 1.35185818e+41, 1.87170838e+41, 2.91140878e+41,\n",
       "       1.45582822e+41, 2.18361850e+41, 4.15904926e+41, 1.03994806e+41,\n",
       "       1.55979826e+41, 1.55979826e+41, 2.07964846e+41, 4.78286950e+41,\n",
       "       1.55979826e+41, 1.14391810e+41, 1.03994806e+41, 1.55979826e+41,\n",
       "       8.32007978e+40, 2.49552862e+41, 8.32007978e+40, 1.66376830e+41,\n",
       "       1.76773834e+41, 7.28037937e+40, 1.55979826e+41, 9.35978018e+40,\n",
       "       1.45582822e+41, 2.91140878e+41, 6.24067897e+40, 1.03994806e+41,\n",
       "       1.97567842e+41, 1.24788814e+41, 2.49552862e+41, 1.87170838e+41,\n",
       "       1.28947615e+41, 7.28037937e+40, 7.28037937e+40, 1.97567842e+41,\n",
       "       3.12157777e+40, 7.69625954e+40, 7.69625954e+40, 2.18361850e+41,\n",
       "       2.08187737e+40, 1.55979826e+41, 1.76773834e+41, 2.39155858e+41,\n",
       "       1.03994806e+41, 1.45582822e+41, 2.28758854e+41, 2.70346870e+41,\n",
       "       1.87170838e+41, 2.07964846e+41, 7.28037937e+40, 9.35978018e+40,\n",
       "       1.35185818e+41, 8.32007978e+40, 1.24788814e+41, 1.45582822e+41,\n",
       "       1.03994806e+41, 1.45582822e+41, 1.87170838e+41, 7.28037937e+40,\n",
       "       1.45582822e+41, 8.52801986e+40, 1.26868215e+41, 7.28037937e+40,\n",
       "       1.14391810e+41, 1.03994806e+41, 1.14391810e+41, 1.45582822e+41,\n",
       "       6.24067897e+40, 1.03994806e+41, 1.45582822e+41, 1.03994806e+41,\n",
       "       8.32007978e+40, 1.24788814e+41, 6.24067897e+40, 1.24788814e+41,\n",
       "       6.24067897e+40, 2.07964846e+41, 5.20097857e+40, 7.28037937e+40,\n",
       "       1.35185818e+41, 6.65655913e+40, 1.28947615e+41, 1.24788814e+41,\n",
       "       1.66376830e+41, 1.24788814e+41, 1.66376830e+41, 2.07964846e+41,\n",
       "       1.87170838e+41, 9.35978018e+40, 9.35978018e+40, 4.78509841e+40,\n",
       "       8.94390002e+40, 1.31027016e+41, 6.24067897e+40, 1.24788814e+41,\n",
       "       8.32007978e+40, 2.80743874e+41, 9.35978018e+40, 1.35185818e+41,\n",
       "       1.55979826e+41, 1.76773834e+41, 2.07964846e+41, 2.91140878e+41,\n",
       "       3.74316910e+41, 1.14391810e+41, 1.55979826e+41, 8.32007978e+40,\n",
       "       1.24788814e+41, 8.32007978e+40, 1.03994806e+41, 1.14391810e+41,\n",
       "       1.14391810e+41, 9.35978018e+40, 1.10233008e+41, 1.72615032e+41,\n",
       "       4.16127817e+40, 8.32007978e+40, 7.28037937e+40, 9.35978018e+40,\n",
       "       8.32007978e+40, 1.45582822e+41, 2.91140878e+41, 7.28037937e+40,\n",
       "       1.35185818e+41, 1.24788814e+41, 9.35978018e+40, 1.03994806e+41,\n",
       "       1.66376830e+41, 8.32007978e+40, 1.24788814e+41, 1.24788814e+41,\n",
       "       1.87170838e+41, 1.24788814e+41, 1.24788814e+41, 1.35185818e+41,\n",
       "       1.76773834e+41, 8.94390002e+40, 1.51821024e+41, 1.35185818e+41,\n",
       "       1.76773834e+41, 1.14391810e+41, 2.18361850e+41, 1.60138627e+41,\n",
       "       2.01726643e+41, 1.03994806e+41, 2.07964846e+41, 4.16127817e+40,\n",
       "       1.64297429e+41, 1.45582822e+41, 1.45582822e+41, 7.28037937e+40,\n",
       "       1.35185818e+41, 1.87170838e+41, 2.70346870e+41, 1.72615032e+41,\n",
       "       1.45582822e+41, 1.24788814e+41, 9.98360042e+40, 1.03994806e+41,\n",
       "       1.66376830e+41, 1.03994806e+41, 1.45582822e+41, 1.87170838e+41,\n",
       "       1.76773834e+41, 2.18361850e+41, 2.18361850e+41, 2.70346870e+41,\n",
       "       1.14391810e+41, 1.24788814e+41, 2.07964846e+41, 1.66376830e+41,\n",
       "       1.66376830e+41, 2.07964846e+41, 2.70346870e+41, 4.15904926e+41,\n",
       "       2.07964846e+41, 3.11934886e+41, 1.87170838e+41, 1.66376830e+41,\n",
       "       1.87170838e+41, 1.87170838e+41, 2.91140878e+41, 3.32728894e+41,\n",
       "       1.87170838e+41, 2.07964846e+41, 1.03994806e+41, 4.16127817e+40,\n",
       "       3.32728894e+41, 1.87170838e+41, 1.33106417e+41, 1.76773834e+41,\n",
       "       2.18361850e+41, 9.15184010e+40, 1.08153607e+41, 1.47662223e+41,\n",
       "       1.10233008e+41, 1.41424020e+41, 1.83012036e+41, 6.24067897e+40,\n",
       "       1.03994806e+41, 1.45582822e+41, 8.32007978e+40, 1.24788814e+41,\n",
       "       8.52801986e+40, 1.06074207e+41, 7.07243929e+40, 1.01915405e+41,\n",
       "       1.64297429e+41, 7.28037937e+40, 1.35185818e+41, 8.32007978e+40,\n",
       "       1.24788814e+41, 2.45394060e+41, 3.49364100e+41, 9.35978018e+40,\n",
       "       1.76773834e+41, 2.18361850e+41, 1.97567842e+41, 1.03994806e+41,\n",
       "       8.73595994e+40, 2.12123647e+41, 1.45582822e+41, 7.28037937e+40,\n",
       "       1.14391810e+41, 9.35978018e+40, 1.45582822e+41, 9.98360042e+40,\n",
       "       1.41424020e+41, 1.37265219e+41, 7.07243929e+40, 9.15184010e+40,\n",
       "       9.15184010e+40, 1.74694433e+41, 1.24788814e+41, 1.08153607e+41,\n",
       "       8.73595994e+40, 1.33106417e+41, 1.03994806e+41, 9.77566034e+40,\n",
       "       1.39344619e+41, 1.78853235e+41, 2.41235259e+41, 1.97567842e+41,\n",
       "       9.35978018e+40, 1.04217697e+40, 9.35978018e+40, 2.24600052e+41,\n",
       "       9.35978018e+40, 1.35185818e+41, 1.97567842e+41, 8.32007978e+40,\n",
       "       8.32007978e+40, 1.45582822e+41, 1.62218028e+41, 2.45394060e+41,\n",
       "       1.87170838e+41, 2.28758854e+41, 8.32007978e+40, 1.35185818e+41,\n",
       "       1.49741623e+41, 1.16471211e+41, 1.58059227e+41, 1.03994806e+41,\n",
       "       1.03994806e+41, 1.55979826e+41, 1.35185818e+41, 2.39155858e+41,\n",
       "       1.97567842e+41, 2.70346870e+41, 2.59949866e+41, 1.39344619e+41,\n",
       "       1.39344619e+41, 1.97567842e+41, 1.78853235e+41, 2.70346870e+41,\n",
       "       2.28758854e+41, 2.59949866e+41, 1.66376830e+41, 1.45582822e+41,\n",
       "       1.35185818e+41, 3.01537882e+41, 2.80743874e+41, 1.45582822e+41,\n",
       "       1.60138627e+41, 2.22520651e+41, 2.22520651e+41, 2.22520651e+41,\n",
       "       2.22520651e+41, 2.22520651e+41, 2.70346870e+41, 2.18361850e+41,\n",
       "       1.45582822e+41, 2.49552862e+41, 2.07964846e+41, 2.20441251e+41,\n",
       "       2.28758854e+41, 2.49552862e+41, 2.07964846e+41, 2.49552862e+41,\n",
       "       1.66376830e+41, 2.07964846e+41, 1.87170838e+41, 2.07964846e+41,\n",
       "       1.55979826e+41, 2.49552862e+41, 2.07964846e+41, 1.14391810e+41,\n",
       "       1.55979826e+41, 1.97567842e+41, 9.35978018e+40, 1.14391810e+41,\n",
       "       1.35185818e+41, 9.35978018e+40, 1.24788814e+41, 1.76773834e+41,\n",
       "       8.11213970e+40, 1.43503421e+41, 9.35978018e+40, 1.35185818e+41,\n",
       "       1.87170838e+41, 7.69625954e+40, 1.03994806e+41, 9.98360042e+40,\n",
       "       1.31027016e+41, 9.98360042e+40, 1.31027016e+41, 9.98360042e+40,\n",
       "       1.31027016e+41, 9.35978018e+40, 1.76773834e+41, 1.03994806e+41,\n",
       "       1.28947615e+41, 1.66376830e+41, 6.65655913e+40, 1.31027016e+41,\n",
       "       1.76773834e+41, 2.18361850e+41, 2.70346870e+41, 8.94390002e+40,\n",
       "       1.14391810e+41, 8.32007978e+40, 1.24788814e+41, 1.78853235e+41,\n",
       "       1.14391810e+41, 1.76773834e+41, 1.97567842e+41, 8.32007978e+40,\n",
       "       1.14391810e+41, 1.55979826e+41, 1.76773834e+41, 1.55979826e+41,\n",
       "       1.45582822e+41, 1.87170838e+41, 1.66376830e+41, 1.22709413e+41,\n",
       "       2.05885445e+41, 1.85091437e+41, 1.24788814e+41, 1.76773834e+41,\n",
       "       1.03994806e+41, 1.55979826e+41, 1.35185818e+41, 7.28037937e+40,\n",
       "       9.35978018e+40, 1.66376830e+41, 9.35978018e+40, 1.14391810e+41,\n",
       "       2.18361850e+41, 1.39344619e+41, 1.76773834e+41, 2.59949866e+41,\n",
       "       1.45582822e+41, 2.39155858e+41, 1.66376830e+41, 1.76773834e+41,\n",
       "       3.01537882e+41, 2.14203048e+41, 2.76585072e+41, 9.35978018e+40,\n",
       "       1.35185818e+41, 1.28947615e+41, 1.70535631e+41, 8.32007978e+40,\n",
       "       1.24788814e+41, 8.32007978e+40, 1.24788814e+41, 1.03994806e+41,\n",
       "       1.45582822e+41, 1.97567842e+41, 8.32007978e+40, 1.03994806e+41,\n",
       "       1.55979826e+41, 1.03994806e+41, 1.31027016e+41, 1.03994806e+41,\n",
       "       1.35185818e+41, 1.76773834e+41, 1.03994806e+41, 1.45582822e+41,\n",
       "       1.24788814e+41, 9.35978018e+40, 2.18361850e+41, 9.35978018e+40,\n",
       "       1.45582822e+41, 1.03994806e+41, 1.45582822e+41, 1.66376830e+41,\n",
       "       1.03994806e+41, 1.24788814e+41, 1.89250239e+41, 2.72426271e+41,\n",
       "       1.45582822e+41, 1.97567842e+41, 2.39155858e+41, 8.32007978e+40,\n",
       "       1.45582822e+41, 1.66376830e+41, 1.14391810e+41, 1.55979826e+41,\n",
       "       1.14391810e+41, 1.24788814e+41, 1.87170838e+41, 1.24788814e+41,\n",
       "       1.45582822e+41, 1.87170838e+41, 8.32007978e+40, 1.66376830e+41,\n",
       "       6.24067897e+40, 1.76773834e+41, 8.32007978e+40, 1.74694433e+41,\n",
       "       1.03994806e+41, 1.24788814e+41, 1.87170838e+41, 1.03994806e+41,\n",
       "       1.66376830e+41, 1.45582822e+41, 2.07964846e+41, 1.97567842e+41,\n",
       "       1.03994806e+41, 1.55979826e+41, 1.55979826e+41, 2.18361850e+41,\n",
       "       1.37265219e+41, 2.32917655e+41, 1.03994806e+41, 1.45582822e+41,\n",
       "       1.87170838e+41, 1.14391810e+41, 1.35185818e+41, 2.68267469e+41,\n",
       "       1.87170838e+41, 1.49741623e+41, 1.45582822e+41, 1.66376830e+41,\n",
       "       1.45582822e+41, 1.45582822e+41, 2.07964846e+41, 2.49552862e+41,\n",
       "       1.87170838e+41, 1.87170838e+41, 1.87170838e+41, 2.07964846e+41,\n",
       "       1.87170838e+41, 1.87170838e+41, 1.87170838e+41, 1.60138627e+41,\n",
       "       1.87170838e+41, 1.97567842e+41, 1.35185818e+41, 1.97567842e+41,\n",
       "       2.53711663e+41, 8.32007978e+40, 1.20630012e+41, 1.49741623e+41,\n",
       "       8.32007978e+40, 1.08153607e+41, 1.39344619e+41, 7.90419962e+40,\n",
       "       1.60138627e+41, 8.94390002e+40, 1.14391810e+41, 1.47662223e+41,\n",
       "       8.32007978e+40, 1.24788814e+41, 1.03994806e+41, 1.20630012e+41,\n",
       "       1.49741623e+41, 8.11213970e+40, 9.77566034e+40, 1.41424020e+41,\n",
       "       9.98360042e+40, 1.28947615e+41, 1.28947615e+41, 1.62218028e+41,\n",
       "       1.24788814e+41, 1.12312409e+41, 1.58059227e+41, 1.58059227e+41,\n",
       "       2.07964846e+41, 3.11934886e+41, 1.03994806e+41, 3.11934886e+41,\n",
       "       1.24788814e+41, 1.49741623e+41, 1.37265219e+41, 1.78853235e+41,\n",
       "       1.10233008e+41, 1.83012036e+41, 1.39344619e+41, 2.39155858e+41,\n",
       "       1.24788814e+41, 1.87170838e+41, 1.28947615e+41, 1.83012036e+41,\n",
       "       6.86449921e+40, 1.08153607e+41, 1.60138627e+41, 2.47473461e+41,\n",
       "       1.03994806e+41, 1.49741623e+41, 1.35185818e+41, 1.55979826e+41,\n",
       "       1.18550611e+41, 3.11934886e+41, 7.28037937e+40, 1.10233008e+41,\n",
       "       1.45582822e+41, 1.89250239e+41, 9.98360042e+40, 1.58059227e+41,\n",
       "       1.45582822e+41, 1.45582822e+41, 1.45582822e+41, 1.45582822e+41,\n",
       "       2.53711663e+41, 2.53711663e+41, 2.53711663e+41, 2.53711663e+41,\n",
       "       1.76773834e+41, 3.82634513e+41, 7.28037937e+40, 1.66376830e+41,\n",
       "       1.97567842e+41, 1.97567842e+41, 2.51632263e+41, 3.11934886e+41,\n",
       "       1.24788814e+41, 1.24788814e+41, 2.49552862e+41])"
      ]
     },
     "execution_count": 1125,
     "metadata": {},
     "output_type": "execute_result"
    }
   ],
   "source": [
    "X_b.dot(theta)"
   ]
  },
  {
   "cell_type": "code",
   "execution_count": 1126,
   "metadata": {},
   "outputs": [],
   "source": [
    "theta_path_bgd = []\n",
    "\n",
    "def plot_gradient_descent(theta, eta, theta_path=None):\n",
    "    m = len(X_b)\n",
    "    plt.plot(X, y, \"b.\")\n",
    "    n_iterations = 1000\n",
    "    for iteration in range(n_iterations):\n",
    "        if iteration < 10:\n",
    "            y_predict = X_new_b.dot(theta)\n",
    "            style = \"b-\" if iteration > 0 else \"r--\"\n",
    "            plt.plot(X_new, y_predict, style)\n",
    "            \n",
    "        gradients = 2/m * X_b.T.dot(X_b.dot(theta) - y)\n",
    "        theta = theta - eta * gradients\n",
    "        if theta_path is not None:\n",
    "            theta_path.append(theta)\n",
    "    plt.xlabel(\"$x_1$\", fontsize=18)\n",
    "    plt.axis([0, 240, 0, 350])\n",
    "    plt.title(r\"$\\eta = {}$\".format(eta), fontsize=16)"
   ]
  },
  {
   "cell_type": "code",
   "execution_count": 1127,
   "metadata": {},
   "outputs": [
    {
     "name": "stderr",
     "output_type": "stream",
     "text": [
      "<ipython-input-1126-3ecd99aff936>:14: RuntimeWarning: invalid value encountered in subtract\n",
      "  theta = theta - eta * gradients\n",
      "<ipython-input-1126-3ecd99aff936>:14: RuntimeWarning: invalid value encountered in subtract\n",
      "  theta = theta - eta * gradients\n",
      "<ipython-input-1126-3ecd99aff936>:14: RuntimeWarning: invalid value encountered in subtract\n",
      "  theta = theta - eta * gradients\n"
     ]
    },
    {
     "name": "stdout",
     "output_type": "stream",
     "text": [
      "Saving figure gradient_descent_plot\n"
     ]
    },
    {
     "data": {
      "image/png": "[encoded data removed]",
      "text/plain": [
       "<Figure size 720x288 with 3 Axes>"
      ]
     },
     "metadata": {
      "needs_background": "light"
     },
     "output_type": "display_data"
    }
   ],
   "source": [
    "np.random.seed(42)\n",
    "theta = np.random.randn(2, 1)\n",
    "theta = np.squeeze(np.asarray(theta))\n",
    "\n",
    "plt.figure(figsize=(10,4))\n",
    "plt.subplot(131); plot_gradient_descent(theta, eta=0.02)\n",
    "plt.ylabel(\"$y$\", rotation=0, fontsize=18)\n",
    "plt.subplot(132); plot_gradient_descent(theta, eta=0.1, theta_path=theta_path_bgd)\n",
    "plt.subplot(133); plot_gradient_descent(theta, eta=0.5)\n",
    "\n",
    "save_fig(\"gradient_descent_plot\")\n",
    "plt.show()"
   ]
  },
  {
   "cell_type": "markdown",
   "metadata": {},
   "source": [
    "# Gradient Descent Mini Batch"
   ]
  },
  {
   "cell_type": "code",
   "execution_count": 279,
   "metadata": {},
   "outputs": [],
   "source": [
    "def minibatch(X,y,eta):\n",
    "    theta_path_mgd = []\n",
    "    X_b = np.c_[np.ones((751, 1)), X]  # add x0 = 1 to each instance\n",
    "    m = len(X_b)\n",
    "    n_iterations = 50\n",
    "    minibatch_size = 31  \n",
    "    np.random.seed(42)\n",
    "    theta = np.random.randn(2,1)  # random initialization \n",
    "    t0, t1 = 200, 1000\n",
    "    def learning_schedule(t):\n",
    "        return t0 / (t + t1) \n",
    "    t = 0\n",
    "    for epoch in range(n_iterations):\n",
    "        shuffled_indices = np.random.permutation(m)\n",
    "        X_b_shuffled = X_b[shuffled_indices]\n",
    "        y_shuffled = y[shuffled_indices]\n",
    "        for i in range(0, m, minibatch_size):\n",
    "            t += 1\n",
    "            xi = X_b_shuffled[i:i+minibatch_size]\n",
    "            yi = y_shuffled[i:i+minibatch_size]\n",
    "            gradients = 2/minibatch_size * xi.T.dot(xi.dot(theta) - yi)\n",
    "            eta = learning_schedule(t)\n",
    "            theta = theta - eta * gradients\n",
    "            theta_path_mgd.append(theta)\n",
    "    theta"
   ]
  },
  {
   "cell_type": "code",
   "execution_count": 280,
   "metadata": {},
   "outputs": [],
   "source": [
    "Xarr = [[i] for i in X]\n",
    "Xarr = np.array(Xarr)\n",
    "yarr = [[i] for i in y]\n",
    "yarr = np.array(yarr)"
   ]
  },
  {
   "cell_type": "code",
   "execution_count": 282,
   "metadata": {},
   "outputs": [
    {
     "data": {
      "text/plain": [
       "array([-1.03868168e+37, -8.14932855e+38])"
      ]
     },
     "execution_count": 282,
     "metadata": {},
     "output_type": "execute_result"
    }
   ],
   "source": [
    "minibatch(Xa,ya,0.1)\n",
    "theta"
   ]
  },
  {
   "cell_type": "markdown",
   "metadata": {},
   "source": [
    "# Regularized Regression Model\n",
    "## Ridge"
   ]
  },
  {
   "cell_type": "code",
   "execution_count": 1170,
   "metadata": {},
   "outputs": [
    {
     "name": "stdout",
     "output_type": "stream",
     "text": [
      "ridge regression linear model intercept: 7.009233212820845\n",
      "ridge regression linear model coeff:\n",
      "[ 0.41417311  0.40321748  0.19917968 -0.29035188  0.26331594]\n",
      "R-squared score (training): 0.417\n",
      "R-squared score (test): 0.443\n",
      "Number of non-zero features: 5\n"
     ]
    }
   ],
   "source": [
    "from sklearn.linear_model import Ridge\n",
    "X_train, X_test, y_train, y_test = train_test_split(X, y, random_state=0)\n",
    "\n",
    "linridge = Ridge(alpha=25.0).fit(X_train, y_train)\n",
    "\n",
    "print('ridge regression linear model intercept: {}'\n",
    "     .format(linridge.intercept_))\n",
    "print('ridge regression linear model coeff:\\n{}'\n",
    "     .format(linridge.coef_))\n",
    "print('R-squared score (training): {:.3f}'\n",
    "     .format(linridge.score(X_train, y_train)))\n",
    "print('R-squared score (test): {:.3f}'\n",
    "     .format(linridge.score(X_test, y_test)))\n",
    "print('Number of non-zero features: {}'\n",
    "     .format(np.sum(linridge.coef_ != 0)))"
   ]
  },
  {
   "cell_type": "code",
   "execution_count": 1171,
   "metadata": {},
   "outputs": [
    {
     "name": "stdout",
     "output_type": "stream",
     "text": [
      "ridge regression linear model intercept: 6.981054969701333\n",
      "ridge regression linear model coeff:\n",
      "[ 80.77108433 100.40955614  33.8626094  -52.27405793  46.08336067]\n",
      "R-squared score (training): 0.417\n",
      "R-squared score (test): 0.443\n",
      "Number of non-zero features: 5\n"
     ]
    }
   ],
   "source": [
    "from sklearn.preprocessing import MinMaxScaler\n",
    "scaler = MinMaxScaler()\n",
    "\n",
    "from sklearn.linear_model import Ridge\n",
    "X_train, X_test, y_train, y_test = train_test_split(X, y, random_state = 0)\n",
    "\n",
    "X_train_scaled = scaler.fit_transform(X_train)\n",
    "X_test_scaled = scaler.transform(X_test)\n",
    "\n",
    "linridge = Ridge(alpha=0).fit(X_train_scaled, y_train)\n",
    "\n",
    "print('ridge regression linear model intercept: {}'\n",
    "     .format(linridge.intercept_))\n",
    "print('ridge regression linear model coeff:\\n{}'\n",
    "     .format(linridge.coef_))\n",
    "print('R-squared score (training): {:.3f}'\n",
    "     .format(linridge.score(X_train_scaled, y_train)))\n",
    "print('R-squared score (test): {:.3f}'\n",
    "     .format(linridge.score(X_test_scaled, y_test)))\n",
    "print('Number of non-zero features: {}'\n",
    "     .format(np.sum(linridge.coef_ != 0)))"
   ]
  },
  {
   "cell_type": "code",
   "execution_count": 1172,
   "metadata": {},
   "outputs": [
    {
     "name": "stderr",
     "output_type": "stream",
     "text": [
      "/usr/local/Cellar/jupyterlab/2.2.2/libexec/lib/python3.8/site-packages/sklearn/linear_model/_ridge.py:190: UserWarning: Singular matrix in solving dual problem. Using least-squares solution instead.\n",
      "  warnings.warn(\"Singular matrix in solving dual problem. Using \"\n",
      "/usr/local/Cellar/jupyterlab/2.2.2/libexec/lib/python3.8/site-packages/sklearn/linear_model/_ridge.py:187: LinAlgWarning: Ill-conditioned matrix (rcond=9.26921e-17): result may not be accurate.\n",
      "  dual_coef = linalg.solve(K, y, sym_pos=True,\n",
      "/usr/local/Cellar/jupyterlab/2.2.2/libexec/lib/python3.8/site-packages/sklearn/linear_model/_ridge.py:187: LinAlgWarning: Ill-conditioned matrix (rcond=2.96239e-17): result may not be accurate.\n",
      "  dual_coef = linalg.solve(K, y, sym_pos=True,\n",
      "/usr/local/Cellar/jupyterlab/2.2.2/libexec/lib/python3.8/site-packages/sklearn/linear_model/_ridge.py:187: LinAlgWarning: Ill-conditioned matrix (rcond=2.45401e-17): result may not be accurate.\n",
      "  dual_coef = linalg.solve(K, y, sym_pos=True,\n",
      "/usr/local/Cellar/jupyterlab/2.2.2/libexec/lib/python3.8/site-packages/sklearn/linear_model/_ridge.py:147: LinAlgWarning: Ill-conditioned matrix (rcond=4.31266e-18): result may not be accurate.\n",
      "  return linalg.solve(A, Xy, sym_pos=True,\n"
     ]
    },
    {
     "data": {
      "image/png": "[encoded data removed]",
      "text/plain": [
       "<Figure size 432x288 with 1 Axes>"
      ]
     },
     "metadata": {
      "needs_background": "light"
     },
     "output_type": "display_data"
    }
   ],
   "source": [
    "plot_learning_curves(linridge,X,y)"
   ]
  },
  {
   "cell_type": "code",
   "execution_count": 1173,
   "metadata": {},
   "outputs": [
    {
     "name": "stdout",
     "output_type": "stream",
     "text": [
      "Ridge regression: effect of alpha regularization parameter\n",
      "\n",
      "Alpha = 0.00\n",
      "num abs(coeff) > 1.0: 5, r-squared training: 0.42, r-squared test: 0.44\n",
      "\n",
      "Alpha = 1.00\n",
      "num abs(coeff) > 1.0: 5, r-squared training: 0.41, r-squared test: 0.44\n",
      "\n",
      "Alpha = 10.00\n",
      "num abs(coeff) > 1.0: 5, r-squared training: 0.32, r-squared test: 0.33\n",
      "\n",
      "Alpha = 20.00\n",
      "num abs(coeff) > 1.0: 5, r-squared training: 0.26, r-squared test: 0.27\n",
      "\n",
      "Alpha = 50.00\n",
      "num abs(coeff) > 1.0: 5, r-squared training: 0.18, r-squared test: 0.18\n",
      "\n",
      "Alpha = 100.00\n",
      "num abs(coeff) > 1.0: 5, r-squared training: 0.11, r-squared test: 0.11\n",
      "\n",
      "Alpha = 1000.00\n",
      "num abs(coeff) > 1.0: 2, r-squared training: 0.02, r-squared test: 0.01\n",
      "\n"
     ]
    }
   ],
   "source": [
    "print('Ridge regression: effect of alpha regularization parameter\\n')\n",
    "for this_alpha in [0, 1, 10, 20, 50, 100, 1000]:\n",
    "    linridge = Ridge(alpha = this_alpha).fit(X_train_scaled, y_train)\n",
    "    r2_train = linridge.score(X_train_scaled, y_train)\n",
    "    r2_test = linridge.score(X_test_scaled, y_test)\n",
    "    num_coeff_bigger = np.sum(abs(linridge.coef_) > 1.0)\n",
    "    print('Alpha = {:.2f}\\nnum abs(coeff) > 1.0: {}, \\\n",
    "r-squared training: {:.2f}, r-squared test: {:.2f}\\n'\n",
    "         .format(this_alpha, num_coeff_bigger, r2_train, r2_test))"
   ]
  },
  {
   "cell_type": "markdown",
   "metadata": {},
   "source": [
    "## Lasso Regression"
   ]
  },
  {
   "cell_type": "code",
   "execution_count": 1174,
   "metadata": {},
   "outputs": [
    {
     "name": "stdout",
     "output_type": "stream",
     "text": [
      "lasso regression linear model intercept: 51.4179473980567\n",
      "lasso regression linear model coeff:\n",
      "[31.23253863  4.62098601 21.37208733  0.         12.45041015]\n",
      "Non-zero features: 4\n",
      "R-squared score (training): 0.219\n",
      "R-squared score (test): 0.223\n",
      "\n",
      "Features with non-zero weight (sorted by absolute magnitude):\n",
      "\tDefense, 31.233\n",
      "\tSp. Atk, 21.372\n",
      "\tSpeed, 12.450\n",
      "\tHP, 4.621\n"
     ]
    }
   ],
   "source": [
    "from sklearn.linear_model import Lasso\n",
    "from sklearn.preprocessing import MinMaxScaler\n",
    "scaler = MinMaxScaler()\n",
    "\n",
    "X_train, X_test, y_train, y_test = train_test_split(X, y, random_state = 0)\n",
    "\n",
    "X_train_scaled = scaler.fit_transform(X_train)\n",
    "X_test_scaled = scaler.transform(X_test)\n",
    "\n",
    "linlasso = Lasso(alpha=1, max_iter = 10000).fit(X_train_scaled, y_train)\n",
    "\n",
    "print('lasso regression linear model intercept: {}'\n",
    "     .format(linlasso.intercept_))\n",
    "print('lasso regression linear model coeff:\\n{}'\n",
    "     .format(linlasso.coef_))\n",
    "print('Non-zero features: {}'\n",
    "     .format(np.sum(linlasso.coef_ != 0)))\n",
    "print('R-squared score (training): {:.3f}'\n",
    "     .format(linlasso.score(X_train_scaled, y_train)))\n",
    "print('R-squared score (test): {:.3f}\\n'\n",
    "     .format(linlasso.score(X_test_scaled, y_test)))\n",
    "print('Features with non-zero weight (sorted by absolute magnitude):')\n",
    "\n",
    "for e in sorted (list(zip(list(X), linlasso.coef_)),\n",
    "                key = lambda e: -abs(e[1])):\n",
    "    if e[1] != 0:\n",
    "        print('\\t{}, {:.3f}'.format(e[0], e[1]))"
   ]
  },
  {
   "cell_type": "code",
   "execution_count": 1175,
   "metadata": {},
   "outputs": [
    {
     "name": "stderr",
     "output_type": "stream",
     "text": [
      "/usr/local/Cellar/jupyterlab/2.2.2/libexec/lib/python3.8/site-packages/sklearn/linear_model/_coordinate_descent.py:529: ConvergenceWarning: Objective did not converge. You might want to increase the number of iterations. Duality gap: 0.0, tolerance: 0.0\n",
      "  model = cd_fast.enet_coordinate_descent(\n"
     ]
    },
    {
     "data": {
      "image/png": "[encoded data removed]",
      "text/plain": [
       "<Figure size 432x288 with 1 Axes>"
      ]
     },
     "metadata": {
      "needs_background": "light"
     },
     "output_type": "display_data"
    }
   ],
   "source": [
    "plot_learning_curves(linlasso,X,y)"
   ]
  },
  {
   "cell_type": "code",
   "execution_count": 1176,
   "metadata": {},
   "outputs": [
    {
     "name": "stdout",
     "output_type": "stream",
     "text": [
      "Lasso regression: effect of alpha regularization\n",
      "parameter on number of features kept in final model\n",
      "\n",
      "Alpha = 0.50\n",
      "Features kept: 4, r-squared training: 0.34, r-squared test: 0.35\n",
      "\n",
      "Alpha = 1.00\n",
      "Features kept: 4, r-squared training: 0.22, r-squared test: 0.22\n",
      "\n",
      "Alpha = 2.00\n",
      "Features kept: 1, r-squared training: 0.01, r-squared test: 0.00\n",
      "\n",
      "Alpha = 3.00\n",
      "Features kept: 0, r-squared training: 0.00, r-squared test: -0.01\n",
      "\n",
      "Alpha = 5.00\n",
      "Features kept: 0, r-squared training: 0.00, r-squared test: -0.01\n",
      "\n",
      "Alpha = 10.00\n",
      "Features kept: 0, r-squared training: 0.00, r-squared test: -0.01\n",
      "\n",
      "Alpha = 20.00\n",
      "Features kept: 0, r-squared training: 0.00, r-squared test: -0.01\n",
      "\n",
      "Alpha = 50.00\n",
      "Features kept: 0, r-squared training: 0.00, r-squared test: -0.01\n",
      "\n"
     ]
    }
   ],
   "source": [
    "\n",
    "print('Lasso regression: effect of alpha regularization\\n\\\n",
    "parameter on number of features kept in final model\\n')\n",
    "\n",
    "for alpha in [0.5, 1, 2, 3, 5, 10, 20, 50]:\n",
    "    linlasso = Lasso(alpha, max_iter = 10000).fit(X_train_scaled, y_train)\n",
    "    r2_train = linlasso.score(X_train_scaled, y_train)\n",
    "    r2_test = linlasso.score(X_test_scaled, y_test)\n",
    "    \n",
    "    print('Alpha = {:.2f}\\nFeatures kept: {}, r-squared training: {:.2f}, \\\n",
    "r-squared test: {:.2f}\\n'\n",
    "         .format(alpha, np.sum(linlasso.coef_ != 0), r2_train, r2_test))"
   ]
  },
  {
   "cell_type": "markdown",
   "metadata": {},
   "source": [
    "## Polynomial regression"
   ]
  },
  {
   "cell_type": "code",
   "execution_count": 1177,
   "metadata": {},
   "outputs": [],
   "source": [
    "from sklearn.preprocessing import PolynomialFeatures\n",
    "from sklearn.model_selection import KFold # import k-fold validation\n",
    "from sklearn.metrics import classification_report\n",
    "from sklearn.metrics import mean_squared_error\n",
    "from math import sqrt\n",
    "from sklearn.model_selection import train_test_split\n",
    "    \n",
    "\n",
    "def plot_learning_curves(model, X, y):\n",
    "    X_train, X_val, y_train, y_val = train_test_split(X, y, test_size=0.2, random_state=10)\n",
    "    \n",
    "    train_errors, val_errors = [], []\n",
    "    \n",
    "    for m in range(1, len(X_train)):\n",
    "        model.fit(X_train[:m], y_train[:m])\n",
    "        y_train_predict = model.predict(X_train[:m])\n",
    "        y_val_predict = model.predict(X_val)\n",
    "        train_errors.append(mean_squared_error(y_train[:m], y_train_predict))\n",
    "        val_errors.append(mean_squared_error(y_val, y_val_predict))\n",
    "        \n",
    "    plt.plot(np.sqrt(train_errors), \"r-+\", linewidth=2, label=\"train\")\n",
    "    plt.plot(np.sqrt(val_errors), \"b-\", linewidth=3, label=\"val\")\n",
    "    plt.legend(loc=\"upper right\", fontsize=14)   # not shown in the book\n",
    "    plt.xlabel(\"Training set size\", fontsize=14) # not shown\n",
    "    plt.ylabel(\"RMSE\", fontsize=14)              # not shown"
   ]
  },
  {
   "cell_type": "code",
   "execution_count": 1178,
   "metadata": {},
   "outputs": [
    {
     "name": "stdout",
     "output_type": "stream",
     "text": [
      "POLYNOMIAL DEGREE-2 W/ LINEAR REGRESSION\n",
      "(poly deg 2) linear model coeff (w):\n",
      "[ 0.00000000e+00  7.83632395e-01  5.81316973e-01  8.36628758e-02\n",
      " -3.03589224e-01  2.17935028e-01 -2.64092610e-03  4.12878549e-03\n",
      " -2.05705057e-03 -1.36610177e-03 -5.91249232e-06 -3.96493171e-03\n",
      " -2.46874919e-03  2.19326197e-03  4.71140219e-03  5.30018156e-03\n",
      " -4.63437500e-03 -2.32196045e-03  2.37022152e-03 -8.05809773e-04\n",
      " -6.17839096e-04]\n",
      "(poly deg 2) linear model intercept (b): -6.663\n",
      "(poly deg 2) R-squared score (training): 0.514\n",
      "(poly deg 2) R-squared score (test): 0.477\n",
      "(poly deg 2) RMSE score (train): 20.939\n",
      "(poly deg 2) RMSE score (test): 21.262\n",
      "\n",
      "POLYNOMIAL DEGREE-3 W/ LINEAR REGRESSION\n",
      "(poly deg 3) linear model coeff (w):\n",
      "[ 1.09582330e-10  9.63693242e-01 -1.68716025e+00  2.32220783e+00\n",
      " -1.47109972e+00 -7.42478680e-02 -9.34907237e-03  1.87006590e-02\n",
      " -2.78074030e-02  1.70931737e-02  4.16698973e-03  1.27650489e-02\n",
      " -5.55729820e-03  1.19546395e-02  1.94395528e-02 -8.89151315e-03\n",
      " -8.15594151e-04 -5.39787789e-03  2.30581295e-03 -6.37891267e-03\n",
      " -2.27424818e-03  1.09719466e-05 -3.46605342e-05  1.01164047e-04\n",
      "  4.54683442e-07 -2.38523633e-05 -4.23440735e-05  1.91696677e-04\n",
      " -1.53060933e-04 -4.38951706e-05 -2.40531362e-04  1.54108782e-04\n",
      "  2.85242718e-04 -7.13653918e-05 -8.80119423e-05 -7.63471778e-05\n",
      " -4.69359841e-05 -3.44315685e-05  3.61804724e-05 -6.76359005e-05\n",
      "  4.60722453e-05 -2.82363629e-04  1.90551047e-04  1.03285955e-04\n",
      " -9.94710864e-05 -6.23269954e-05  2.38384891e-05  1.66829933e-04\n",
      "  9.79938105e-05  4.91061040e-06 -3.34109916e-04 -1.44307008e-04\n",
      " -2.27800627e-05  9.08953659e-05  2.27827441e-04  1.89342535e-05]\n",
      "(poly deg 3) linear model intercept (b): 19.873\n",
      "(poly deg 3) R-squared score (training): 0.609\n",
      "(poly deg 3) R-squared score (test): -1.122\n",
      "(poly deg 3) RMSE score (train): 18.796\n",
      "(poly deg 3) RMSE score (test): 42.820\n",
      "\n",
      "POLYNOMIAL DEGREE-5 W/ LINEAR REGRESSION\n",
      "(poly deg 5) linear model coeff (w):\n",
      "[ 2.80817175e+03 -7.67431645e+00  3.53508781e+00  2.66288734e+01\n",
      "  3.66818142e+01 -2.00835710e+01 -2.15536924e-02  4.92799198e-01\n",
      "  3.76759674e-01 -5.11396640e-01  2.06149314e-01  1.02829334e-01\n",
      " -2.87443219e-01 -8.66152664e-01  1.06589272e-01 -5.97216748e-01\n",
      " -4.25401258e-01  9.17776323e-02 -3.37565700e-01 -4.58518810e-02\n",
      "  4.39097245e-01  1.63688866e-03 -7.24823623e-03 -1.86092436e-03\n",
      "  4.11333251e-03 -1.92415017e-04 -6.91686293e-03 -5.81807999e-03\n",
      "  1.22808831e-02 -1.65418982e-03  5.52265724e-04 -1.89868912e-03\n",
      " -5.29225647e-03  3.38378940e-03 -7.05089033e-04 -1.05955300e-03\n",
      " -2.03011707e-03 -1.37852717e-03  1.04703567e-02  3.64974667e-03\n",
      "  7.87859937e-03  1.00444448e-02 -8.44189611e-03 -1.01898818e-03\n",
      "  2.35885588e-04 -2.88834126e-04  4.97537647e-03 -6.08704291e-03\n",
      "  6.96644787e-03  9.98325217e-03  5.07435660e-03 -5.44667365e-03\n",
      "  9.43091358e-05  3.35471491e-03 -4.24236557e-03 -2.91354605e-03\n",
      " -1.70644357e-05  5.65695166e-05  4.46820391e-06 -1.32617236e-05\n",
      " -3.40772175e-06  1.01980315e-04 -8.26119227e-05 -7.70069435e-05\n",
      " -3.99653760e-05 -2.20168252e-05  1.24536126e-04  2.45151478e-05\n",
      " -4.31487769e-05 -3.28409601e-05  2.94287818e-05 -2.30506674e-05\n",
      "  2.25280530e-05  7.27764342e-06  3.91652322e-05  2.08142127e-05\n",
      "  1.05757355e-04  1.86024681e-04 -6.22085550e-05 -1.30953816e-04\n",
      "  1.14946773e-05  7.23401556e-05 -1.04375332e-04 -1.36618837e-04\n",
      " -1.39015504e-04  2.27100406e-04 -3.49000532e-05  5.32421571e-05\n",
      " -5.54313627e-05  6.88730153e-05 -1.66297358e-05  9.87042542e-06\n",
      "  5.34633709e-05 -3.37439191e-05  5.64895807e-06 -7.90749837e-05\n",
      "  5.54352155e-06 -3.81092536e-05 -7.59118790e-05 -7.97083346e-05\n",
      " -3.21835388e-05  1.83515800e-07 -5.36969488e-05  1.60032192e-05\n",
      " -1.19269443e-04 -5.77026460e-05  9.19486732e-05  5.12226678e-05\n",
      "  1.93648130e-04 -5.56698530e-05  6.87369038e-06 -3.45548176e-05\n",
      " -3.35646119e-05 -1.66768423e-05  1.89161033e-04  2.65581361e-05\n",
      " -2.83953137e-05 -6.61039284e-05 -2.52372973e-04  9.00796301e-05\n",
      "  2.29027219e-05 -1.27864538e-05  5.31083861e-05 -8.20124689e-05\n",
      "  6.03348378e-05  2.45345520e-06  6.04021153e-08 -2.91984579e-08\n",
      " -1.56104066e-07 -4.55378046e-08  3.49725626e-08 -5.72845449e-07\n",
      "  6.87841821e-07 -1.55999473e-07  1.98899713e-07 -4.35439249e-08\n",
      " -3.56385890e-07  4.19249886e-07  5.11648632e-07 -2.69485630e-07\n",
      " -1.72559155e-07 -7.19265485e-08 -3.35200149e-07  1.08832516e-06\n",
      " -2.45186935e-07  2.78258364e-07 -5.59163676e-07 -2.60742886e-07\n",
      " -2.48189168e-07  2.99646269e-07 -4.45244752e-08  6.90715289e-08\n",
      " -9.67132827e-08  8.97366235e-08  1.08507267e-06 -2.18597733e-06\n",
      "  3.76312288e-07 -8.30386007e-07  1.05540929e-06  4.34158152e-07\n",
      " -1.74188651e-07  3.92904204e-07  5.76573669e-08 -8.14428125e-07\n",
      " -5.29140200e-07  6.96156092e-07 -6.03597586e-07 -8.95918339e-07\n",
      " -6.37654079e-07  2.29582595e-06  2.65212198e-07 -1.51021843e-06\n",
      "  1.40835017e-06  1.17120723e-06 -2.57244917e-07 -1.16584688e-06\n",
      " -1.01530162e-06  9.39564599e-07 -5.79691676e-07 -3.00843558e-07\n",
      "  2.10347609e-07 -5.90901283e-09  1.21548016e-07  2.65694676e-07\n",
      " -4.44313923e-08 -1.05461992e-07 -5.67871368e-08 -5.58576429e-07\n",
      "  1.62310354e-06 -2.27250481e-07  3.61037141e-07  3.74171960e-07\n",
      " -7.77070272e-07  7.04077152e-09 -5.32933750e-07  1.11690268e-07\n",
      " -6.21778611e-08 -2.97650233e-08  2.92635551e-08 -1.25529501e-07\n",
      " -1.75146853e-07 -9.27235618e-07  8.17434434e-07  6.68213747e-07\n",
      "  6.78169158e-07 -2.80449921e-07  6.44585188e-07  4.50012316e-08\n",
      " -1.34283204e-06  1.83208754e-06 -1.47024466e-07  1.01680127e-06\n",
      " -1.61267701e-07 -1.73058216e-06  1.92833836e-07 -6.46719294e-08\n",
      " -2.26684145e-07  6.75944675e-07  5.55630146e-07 -1.90651093e-06\n",
      "  1.01546178e-06 -8.10527448e-07  4.01995205e-07  5.62451142e-07\n",
      " -5.98052346e-07  4.30256719e-10 -3.43544693e-07 -5.52374919e-08\n",
      "  5.87175651e-07  1.04381696e-07 -6.96546381e-08  1.51492376e-07\n",
      " -3.23784901e-08 -2.04684400e-07 -9.71172218e-08  4.51696112e-08\n",
      "  1.79548483e-07  1.31667855e-07 -6.87250472e-07  5.64855780e-08\n",
      "  1.73708856e-07  1.28824384e-07  4.93795492e-07  5.16889389e-07\n",
      " -5.38109483e-07 -1.05741331e-07 -3.31211627e-08 -5.75150505e-09\n",
      " -2.02596021e-07  2.33843242e-07 -9.04279784e-08  2.34385968e-08]\n",
      "(poly deg 5) linear model intercept (b): -3229.763\n",
      "(poly deg 5) R-squared score (training): 0.792\n",
      "(poly deg 5) R-squared score (test): -2495.770\n",
      "(poly deg 5) RMSE score (train): 13.716\n",
      "(poly deg 5) RMSE score (test): 1468.935\n",
      "\n",
      "POLYNOMIAL DEGREE-10 W/ LINEAR REGRESSION\n",
      "(poly deg 10) linear model coeff (w):\n",
      "[ 2.49200575e-12 -1.24200888e-11  1.24983611e-11 ...  4.48849851e-14\n",
      " -1.30415844e-13 -1.00614254e-13]\n",
      "(poly deg 10) linear model intercept (b): 23.903\n",
      "(poly deg 10) R-squared score (training): 1.000\n",
      "(poly deg 10) R-squared score (test): -12398793083561872.000\n",
      "(poly deg 10) RMSE score (train): 0.020\n",
      "(poly deg 10) RMSE score (test): 3273429738.344\n",
      "\n"
     ]
    },
    {
     "data": {
      "image/png": "[encoded data removed]",
      "text/plain": [
       "<Figure size 432x288 with 1 Axes>"
      ]
     },
     "metadata": {
      "needs_background": "light"
     },
     "output_type": "display_data"
    }
   ],
   "source": [
    "for degree in [2, 3, 5,10]:\n",
    "    poly = PolynomialFeatures(degree)\n",
    "    X_F1_poly = poly.fit_transform(X)\n",
    "    \n",
    "    X_train, X_test, y_train, y_test = train_test_split(X_F1_poly, y, random_state=0)\n",
    "    linreg = LinearRegression().fit(X_train, y_train)\n",
    "\n",
    "    print('POLYNOMIAL DEGREE-{} W/ LINEAR REGRESSION'.format(degree))\n",
    "    print('(poly deg {}) linear model coeff (w):\\n{}'\n",
    "         .format(degree, linreg.coef_))\n",
    "    print('(poly deg {}) linear model intercept (b): {:.3f}'\n",
    "         .format(degree, linreg.intercept_))\n",
    "    print('(poly deg {}) R-squared score (training): {:.3f}'\n",
    "         .format(degree, linreg.score(X_train, y_train)))\n",
    "    print('(poly deg {}) R-squared score (test): {:.3f}'\n",
    "         .format(degree, linreg.score(X_test, y_test)))\n",
    "    print('(poly deg {}) RMSE score (train): {:.3f}'\n",
    "         .format(degree, sqrt(mean_squared_error(y_train, linreg.predict(X_train)))))\n",
    "    print('(poly deg {}) RMSE score (test): {:.3f}\\n'\n",
    "         .format(degree, sqrt(mean_squared_error(y_test, linreg.predict(X_test)))))\n",
    "\n",
    "plot_learning_curves(linreg,  X,y)"
   ]
  },
  {
   "cell_type": "code",
   "execution_count": 1179,
   "metadata": {},
   "outputs": [
    {
     "name": "stdout",
     "output_type": "stream",
     "text": [
      "POLYNOMIAL DEGREE-2 W/ RIDGE REGRESSION\n",
      "(poly deg 2) linear model coeff (w):\n",
      "[ 0.00000000e+00  7.83561256e-01  5.81248959e-01  8.36606865e-02\n",
      " -3.03533540e-01  2.17897801e-01 -2.64075722e-03  4.12917773e-03\n",
      " -2.05708348e-03 -1.36616736e-03 -5.60359635e-06 -3.96475273e-03\n",
      " -2.46871137e-03  2.19313880e-03  4.71163080e-03  5.30016917e-03\n",
      " -4.63433789e-03 -2.32194092e-03  2.37009827e-03 -8.06078647e-04\n",
      " -6.17730005e-04]\n",
      "(poly deg 2) linear model intercept (b): -6.659\n",
      "(poly deg 2) R-squared score (training): 0.514\n",
      "(poly deg 2) R-squared score (test): 0.477\n",
      "(poly deg 2) RMSE score (train): 20.939\n",
      "(poly deg 2) RMSE score (test): 21.262\n",
      "\n",
      "POLYNOMIAL DEGREE-3 W/ RIDGE REGRESSION\n",
      "(poly deg 3) linear model coeff (w):\n",
      "[ 0.00000000e+00  9.62069563e-01 -1.68358847e+00  2.31876270e+00\n",
      " -1.46747506e+00 -7.31761141e-02 -9.33646847e-03  1.86938416e-02\n",
      " -2.77955470e-02  1.70822169e-02  4.19307280e-03  1.27382279e-02\n",
      " -5.53520793e-03  1.19199550e-02  1.94080912e-02 -8.88527363e-03\n",
      " -8.00337144e-04 -5.36569520e-03  2.28899218e-03 -6.41651992e-03\n",
      " -2.28464225e-03  1.09450454e-05 -3.46712910e-05  1.01175577e-04\n",
      "  4.60659942e-07 -2.39465657e-05 -4.22856630e-05  1.91555001e-04\n",
      " -1.52904925e-04 -4.39060630e-05 -2.40488300e-04  1.54002169e-04\n",
      "  2.85199945e-04 -7.13331527e-05 -8.79852738e-05 -7.64079188e-05\n",
      " -4.68869056e-05 -3.44658935e-05  3.62910481e-05 -6.75496007e-05\n",
      "  4.60506413e-05 -2.82316725e-04  1.90478717e-04  1.03239802e-04\n",
      " -9.93243463e-05 -6.22361387e-05  2.38197342e-05  1.66805199e-04\n",
      "  9.79920579e-05  4.93306394e-06 -3.34246577e-04 -1.44394795e-04\n",
      " -2.27501270e-05  9.10029938e-05  2.27954872e-04  1.89586572e-05]\n",
      "(poly deg 3) linear model intercept (b): 19.808\n",
      "(poly deg 3) R-squared score (training): 0.609\n",
      "(poly deg 3) R-squared score (test): -1.121\n",
      "(poly deg 3) RMSE score (train): 18.796\n",
      "(poly deg 3) RMSE score (test): 42.812\n",
      "\n",
      "POLYNOMIAL DEGREE-5 W/ RIDGE REGRESSION\n",
      "(poly deg 5) linear model coeff (w):\n",
      "[ 0.00000000e+00 -1.58495107e+00  4.63260318e+00  1.93542423e+01\n",
      "  2.16510859e+01 -1.28797807e+01 -1.26766698e-01  3.34272404e-01\n",
      "  4.46082208e-01 -3.88849402e-01 -9.33766889e-03 -1.26661523e-02\n",
      " -5.59569257e-02 -5.01149549e-01 -1.45898769e-01 -5.71348395e-01\n",
      " -3.82618428e-01  1.50323714e-01 -1.91978281e-01  7.18044283e-02\n",
      "  3.47331751e-01  2.23053148e-03 -4.77254402e-03 -2.75645051e-03\n",
      "  3.88030610e-03  1.76120317e-03 -5.68326478e-03 -5.55282995e-03\n",
      "  8.19347465e-03  1.09361934e-03  6.37856867e-04 -2.04577777e-03\n",
      " -6.54540851e-03  2.35273093e-03  4.46351560e-04  6.85755435e-04\n",
      " -6.20115525e-04 -3.90495704e-03  8.40083433e-03  7.73358740e-03\n",
      "  6.96962069e-03  6.71611281e-03 -9.04837188e-03 -2.42162689e-03\n",
      " -1.10416923e-03  8.65500610e-04  4.99270705e-03 -5.93010294e-03\n",
      "  6.41324174e-03  9.96118410e-03  5.81269558e-03 -5.58879885e-03\n",
      " -4.56803614e-04  7.78418344e-04 -4.54697659e-03 -2.21921108e-03\n",
      " -1.83425546e-05  4.76361611e-05  5.94811692e-06 -1.44695104e-05\n",
      " -8.56347276e-06  8.17152290e-05 -7.63700872e-05 -6.43629099e-05\n",
      " -6.03279668e-05 -2.17470652e-05  1.21435918e-04  4.24633345e-05\n",
      " -3.71514284e-05 -4.96953548e-05  1.70232185e-05 -2.21703902e-05\n",
      "  1.53630038e-05  2.99508060e-05  3.44796353e-05  2.25325771e-05\n",
      "  1.01071221e-04  1.76336741e-04 -4.10086473e-05 -1.17279145e-04\n",
      " -2.67288526e-06  7.36000864e-05 -1.07796456e-04 -1.37829364e-04\n",
      " -1.23005224e-04  2.03630455e-04 -1.72050361e-05  4.95180164e-05\n",
      " -5.22878332e-05  7.04628952e-05 -2.83184218e-05  3.91649879e-06\n",
      "  6.26284907e-05 -3.75747850e-05 -1.79976328e-05 -6.61569128e-05\n",
      "  3.50972335e-05 -3.76140715e-05 -6.36393542e-05 -9.50257198e-05\n",
      " -4.46677519e-05 -4.09270460e-07 -5.52249356e-05  1.90452252e-05\n",
      " -9.80410865e-05 -4.88791804e-05  9.50698675e-05  3.70554186e-05\n",
      "  2.06900121e-04 -4.77679182e-05  4.95436466e-06 -3.18524505e-05\n",
      " -4.64473143e-05 -1.74787147e-05  1.99669581e-04  4.46280269e-05\n",
      " -2.86745177e-05 -7.84495416e-05 -2.60534769e-04  7.58946999e-05\n",
      "  2.27037148e-05 -7.54592065e-06  7.29394118e-05 -7.77301023e-05\n",
      "  6.19004414e-05 -1.17642906e-07  5.81759638e-08 -3.45788211e-08\n",
      " -1.28195982e-07 -1.94604355e-08  2.74526012e-08 -4.52544424e-07\n",
      "  5.62243511e-07 -1.95172203e-07  2.39421001e-07 -2.23136447e-08\n",
      " -3.07137815e-07  2.98851944e-07  4.10959765e-07 -1.55311145e-07\n",
      " -1.27850769e-07 -9.14183716e-08 -2.46630621e-07  9.14478066e-07\n",
      " -2.02103809e-07  3.28782920e-07 -4.52741634e-07 -3.43545210e-07\n",
      " -9.60150647e-08  2.18210986e-07  9.36463296e-08 -5.06661830e-09\n",
      " -2.84835705e-08  1.08188502e-07  7.64763861e-07 -1.81126532e-06\n",
      "  2.80586430e-07 -6.84448844e-07  9.96029359e-07  2.66560817e-07\n",
      " -1.26988030e-07  3.88933030e-07  7.42276870e-08 -7.56889588e-07\n",
      " -5.83721361e-07  5.95963205e-07 -5.88920648e-07 -7.94457391e-07\n",
      " -7.01726200e-07  2.27291296e-06  2.61384990e-07 -1.43372881e-06\n",
      "  1.09805822e-06  1.29805402e-06 -4.56715614e-08 -1.17840532e-06\n",
      " -1.04707301e-06  6.76824957e-07 -4.71112359e-07 -4.40704557e-07\n",
      "  2.43841311e-07  7.77559926e-09  1.53803831e-07  2.61423553e-07\n",
      "  1.34345665e-08 -1.90476727e-07 -8.08831455e-08 -4.03444678e-07\n",
      "  1.31487405e-06 -3.33828819e-08  2.93696133e-07  3.24525433e-07\n",
      " -7.70215720e-07  1.37032037e-07 -5.00602904e-07  1.31801494e-07\n",
      " -4.99951454e-08 -4.68236930e-08  2.39468588e-08 -8.25121771e-08\n",
      " -1.51624162e-07 -9.65455805e-07  7.00046688e-07  6.52464303e-07\n",
      "  8.19853272e-07 -1.67120107e-07  6.27211786e-07 -1.27512411e-08\n",
      " -1.38503765e-06  1.62941904e-06  6.08263508e-08  1.07801014e-06\n",
      " -7.13242620e-08 -1.86838851e-06  1.40078497e-07 -1.27902784e-07\n",
      " -2.60933565e-07  7.07509532e-07  6.32875698e-07 -1.66262659e-06\n",
      "  8.84614346e-07 -8.99966940e-07  1.95748117e-07  5.73389723e-07\n",
      " -7.62303901e-07  6.94478952e-08 -2.09919628e-07 -1.17118695e-07\n",
      "  6.96910407e-07  1.31381736e-07 -6.12759510e-08  1.40236723e-07\n",
      "  1.37928843e-08 -1.96888498e-07 -9.12156324e-08 -8.57999311e-08\n",
      "  1.94013267e-07 -1.83969009e-08 -5.92088426e-07  1.37541467e-07\n",
      "  1.69555450e-07  2.09466068e-07  5.88214164e-07  4.66294584e-07\n",
      " -4.82323239e-07 -1.19078241e-07 -5.92587980e-08 -6.96252725e-08\n",
      " -2.12402196e-07  1.35560142e-07 -7.51561088e-08  2.56451267e-08]\n",
      "(poly deg 5) linear model intercept (b): -322.214\n",
      "(poly deg 5) R-squared score (training): 0.792\n",
      "(poly deg 5) R-squared score (test): -2601.783\n",
      "(poly deg 5) RMSE score (train): 13.713\n",
      "(poly deg 5) RMSE score (test): 1499.796\n",
      "\n",
      "POLYNOMIAL DEGREE-10 W/ RIDGE REGRESSION\n",
      "(poly deg 10) linear model coeff (w):\n",
      "[ 0.00000000e+00  7.68787830e-30  8.38795854e-30 ...  2.72464543e-16\n",
      " -3.14148365e-17 -1.09156796e-17]\n",
      "(poly deg 10) linear model intercept (b): 55.069\n",
      "(poly deg 10) R-squared score (training): 0.846\n",
      "(poly deg 10) R-squared score (test): -11380044339.484\n",
      "(poly deg 10) RMSE score (train): 11.782\n",
      "(poly deg 10) RMSE score (test): 3136066.725\n",
      "\n"
     ]
    },
    {
     "name": "stderr",
     "output_type": "stream",
     "text": [
      "/usr/local/Cellar/jupyterlab/2.2.2/libexec/lib/python3.8/site-packages/sklearn/linear_model/_ridge.py:147: LinAlgWarning: Ill-conditioned matrix (rcond=3.04438e-25): result may not be accurate.\n",
      "  return linalg.solve(A, Xy, sym_pos=True,\n",
      "/usr/local/Cellar/jupyterlab/2.2.2/libexec/lib/python3.8/site-packages/sklearn/linear_model/_ridge.py:190: UserWarning: Singular matrix in solving dual problem. Using least-squares solution instead.\n",
      "  warnings.warn(\"Singular matrix in solving dual problem. Using \"\n"
     ]
    },
    {
     "data": {
      "image/png": "[encoded data removed]",
      "text/plain": [
       "<Figure size 432x288 with 1 Axes>"
      ]
     },
     "metadata": {
      "needs_background": "light"
     },
     "output_type": "display_data"
    }
   ],
   "source": [
    "for degree in [2, 3, 5, 10]:\n",
    "    poly = PolynomialFeatures(degree)\n",
    "    X_F1_poly = poly.fit_transform(X)\n",
    "\n",
    "    X_train, X_test, y_train, y_test = train_test_split(X_F1_poly, y, random_state=0)\n",
    "    linreg = Ridge().fit(X_train, y_train)\n",
    "\n",
    "    print('POLYNOMIAL DEGREE-{} W/ RIDGE REGRESSION'.format(degree))\n",
    "    print('(poly deg {}) linear model coeff (w):\\n{}'\n",
    "         .format(degree, linreg.coef_))\n",
    "    print('(poly deg {}) linear model intercept (b): {:.3f}'\n",
    "         .format(degree, linreg.intercept_))\n",
    "    print('(poly deg {}) R-squared score (training): {:.3f}'\n",
    "         .format(degree, linreg.score(X_train, y_train)))\n",
    "    print('(poly deg {}) R-squared score (test): {:.3f}'\n",
    "         .format(degree, linreg.score(X_test, y_test)))\n",
    "    print('(poly deg {}) RMSE score (train): {:.3f}'\n",
    "         .format(degree, sqrt(mean_squared_error(y_train, linreg.predict(X_train)))))\n",
    "    print('(poly deg {}) RMSE score (test): {:.3f}\\n'\n",
    "         .format(degree, sqrt(mean_squared_error(y_test, linreg.predict(X_test)))))\n",
    "\n",
    "plot_learning_curves(linreg,  X,y)"
   ]
  }
 ],
 "metadata": {
  "colab": {
   "collapsed_sections": [],
   "name": "DAP3.ipynb",
   "provenance": [],
   "toc_visible": true
  },
  "kernelspec": {
   "display_name": "Python 3",
   "language": "python",
   "name": "python3"
  },
  "language_info": {
   "codemirror_mode": {
    "name": "ipython",
    "version": 3
   },
   "file_extension": ".py",
   "mimetype": "text/x-python",
   "name": "python",
   "nbconvert_exporter": "python",
   "pygments_lexer": "ipython3",
   "version": "3.8.5"
  }
 },
 "nbformat": 4,
 "nbformat_minor": 1
}
