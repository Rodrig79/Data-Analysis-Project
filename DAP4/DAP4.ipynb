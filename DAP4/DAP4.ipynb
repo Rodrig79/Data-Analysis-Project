{
 "cells": [
  {
   "cell_type": "code",
   "execution_count": 6,
   "metadata": {
    "colab": {},
    "colab_type": "code",
    "id": "y2E1jbS4ZluC",
    "scrolled": false,
    "tags": []
   },
   "outputs": [
    {
     "name": "stdout",
     "output_type": "stream",
     "text": [
      "Requirement already satisfied: scikit-learn in c:\\users\\shaun\\appdata\\local\\programs\\python\\python37\\lib\\site-packages (0.23.2)Note: you may need to restart the kernel to use updated packages.\n"
     ]
    },
    {
     "name": "stderr",
     "output_type": "stream",
     "text": [
      "WARNING: You are using pip version 20.2.1; however, version 20.2.2 is available.\n",
      "You should consider upgrading via the 'c:\\users\\shaun\\appdata\\local\\programs\\python\\python37\\python.exe -m pip install --upgrade pip' command.\n"
     ]
    },
    {
     "name": "stdout",
     "output_type": "stream",
     "text": [
      "\n",
      "Requirement already satisfied: threadpoolctl>=2.0.0 in c:\\users\\shaun\\appdata\\local\\programs\\python\\python37\\lib\\site-packages (from scikit-learn) (2.1.0)\n",
      "Requirement already satisfied: scipy>=0.19.1 in c:\\users\\shaun\\appdata\\local\\programs\\python\\python37\\lib\\site-packages (from scikit-learn) (1.5.2)\n",
      "Requirement already satisfied: joblib>=0.11 in c:\\users\\shaun\\appdata\\local\\programs\\python\\python37\\lib\\site-packages (from scikit-learn) (0.16.0)\n",
      "Requirement already satisfied: numpy>=1.13.3 in c:\\users\\shaun\\appdata\\local\\programs\\python\\python37\\lib\\site-packages (from scikit-learn) (1.16.4)\n",
      "Requirement already satisfied: pandas in c:\\users\\shaun\\appdata\\local\\programs\\python\\python37\\lib\\site-packages (1.1.0)\n",
      "Requirement already satisfied: pytz>=2017.2 in c:\\users\\shaun\\appdata\\local\\programs\\python\\python37\\lib\\site-packages (from pandas) (2020.1)\n",
      "Requirement already satisfied: python-dateutil>=2.7.3 in c:\\users\\shaun\\appdata\\local\\programs\\python\\python37\\lib\\site-packages (from pandas) (2.8.1)\n",
      "Requirement already satisfied: numpy>=1.15.4 in c:\\users\\shaun\\appdata\\local\\programs\\python\\python37\\lib\\site-packages (from pandas) (1.16.4)\n",
      "Requirement already satisfied: six>=1.5 in c:\\users\\shaun\\appdata\\roaming\\python\\python37\\site-packages (from python-dateutil>=2.7.3->pandas) (1.12.0)\n",
      "Note: you may need to restart the kernel to use updated packages.\n"
     ]
    },
    {
     "name": "stderr",
     "output_type": "stream",
     "text": [
      "WARNING: You are using pip version 20.2.1; however, version 20.2.2 is available.\n",
      "You should consider upgrading via the 'c:\\users\\shaun\\appdata\\local\\programs\\python\\python37\\python.exe -m pip install --upgrade pip' command.\n"
     ]
    },
    {
     "name": "stdout",
     "output_type": "stream",
     "text": [
      "Requirement already satisfied: matplotlib in c:\\users\\shaun\\appdata\\local\\programs\\python\\python37\\lib\\site-packages (3.3.0)\n",
      "Requirement already satisfied: pyparsing!=2.0.4,!=2.1.2,!=2.1.6,>=2.0.3 in c:\\users\\shaun\\appdata\\local\\programs\\python\\python37\\lib\\site-packages (from matplotlib) (2.4.7)\n",
      "Requirement already satisfied: numpy>=1.15 in c:\\users\\shaun\\appdata\\local\\programs\\python\\python37\\lib\\site-packages (from matplotlib) (1.16.4)\n",
      "Requirement already satisfied: python-dateutil>=2.1 in c:\\users\\shaun\\appdata\\local\\programs\\python\\python37\\lib\\site-packages (from matplotlib) (2.8.1)\n",
      "Requirement already satisfied: kiwisolver>=1.0.1 in c:\\users\\shaun\\appdata\\local\\programs\\python\\python37\\lib\\site-packages (from matplotlib) (1.2.0)\n",
      "Requirement already satisfied: pillow>=6.2.0 in c:\\users\\shaun\\appdata\\local\\programs\\python\\python37\\lib\\site-packages (from matplotlib) (7.2.0)\n",
      "Requirement already satisfied: cycler>=0.10 in c:\\users\\shaun\\appdata\\local\\programs\\python\\python37\\lib\\site-packages (from matplotlib) (0.10.0)\n",
      "Note: you may need to restart the kernel to use updated packages.\n",
      "Requirement already satisfied: six>=1.5 in c:\\users\\shaun\\appdata\\roaming\\python\\python37\\site-packages (from python-dateutil>=2.1->matplotlib) (1.12.0)"
     ]
    },
    {
     "name": "stderr",
     "output_type": "stream",
     "text": [
      "WARNING: You are using pip version 20.2.1; however, version 20.2.2 is available.\n",
      "You should consider upgrading via the 'c:\\users\\shaun\\appdata\\local\\programs\\python\\python37\\python.exe -m pip install --upgrade pip' command.\n"
     ]
    },
    {
     "name": "stdout",
     "output_type": "stream",
     "text": [
      "\n",
      "Requirement already satisfied: seaborn in c:\\users\\shaun\\appdata\\local\\programs\\python\\python37\\lib\\site-packages (0.10.1)\n",
      "Requirement already satisfied: pandas>=0.22.0 in c:\\users\\shaun\\appdata\\local\\programs\\python\\python37\\lib\\site-packages (from seaborn) (1.1.0)\n",
      "Requirement already satisfied: numpy>=1.13.3 in c:\\users\\shaun\\appdata\\local\\programs\\python\\python37\\lib\\site-packages (from seaborn) (1.16.4)\n",
      "Requirement already satisfied: scipy>=1.0.1 in c:\\users\\shaun\\appdata\\local\\programs\\python\\python37\\lib\\site-packages (from seaborn) (1.5.2)\n",
      "Requirement already satisfied: matplotlib>=2.1.2 in c:\\users\\shaun\\appdata\\local\\programs\\python\\python37\\lib\\site-packages (from seaborn) (3.3.0)\n",
      "Requirement already satisfied: pytz>=2017.2 in c:\\users\\shaun\\appdata\\local\\programs\\python\\python37\\lib\\site-packages (from pandas>=0.22.0->seaborn) (2020.1)\n",
      "Requirement already satisfied: python-dateutil>=2.7.3 in c:\\users\\shaun\\appdata\\local\\programs\\python\\python37\\lib\\site-packages (from pandas>=0.22.0->seaborn) (2.8.1)\n",
      "Requirement already satisfied: kiwisolver>=1.0.1 in c:\\users\\shaun\\appdata\\local\\programs\\python\\python37\\lib\\site-packages (from matplotlib>=2.1.2->seaborn) (1.2.0)\n",
      "Requirement already satisfied: pillow>=6.2.0 in c:\\users\\shaun\\appdata\\local\\programs\\python\\python37\\lib\\site-packages (from matplotlib>=2.1.2->seaborn) (7.2.0)\n",
      "Requirement already satisfied: pyparsing!=2.0.4,!=2.1.2,!=2.1.6,>=2.0.3 in c:\\users\\shaun\\appdata\\local\\programs\\python\\python37\\lib\\site-packages (from matplotlib>=2.1.2->seaborn) (2.4.7)\n",
      "Requirement already satisfied: cycler>=0.10 in c:\\users\\shaun\\appdata\\local\\programs\\python\\python37\\lib\\site-packages (from matplotlib>=2.1.2->seaborn) (0.10.0)\n",
      "Requirement already satisfied: six>=1.5 in c:\\users\\shaun\\appdata\\roaming\\python\\python37\\site-packages (from python-dateutil>=2.7.3->pandas>=0.22.0->seaborn) (1.12.0)\n",
      "Note: you may need to restart the kernel to use updated packages.\n"
     ]
    },
    {
     "name": "stderr",
     "output_type": "stream",
     "text": [
      "WARNING: You are using pip version 20.2.1; however, version 20.2.2 is available.\n",
      "You should consider upgrading via the 'c:\\users\\shaun\\appdata\\local\\programs\\python\\python37\\python.exe -m pip install --upgrade pip' command.\n"
     ]
    },
    {
     "name": "stdout",
     "output_type": "stream",
     "text": [
      "Requirement already satisfied: graphviz in c:\\users\\shaun\\appdata\\local\\programs\\python\\python37\\lib\\site-packages (0.14.1)\n",
      "Note: you may need to restart the kernel to use updated packages.\n"
     ]
    },
    {
     "name": "stderr",
     "output_type": "stream",
     "text": [
      "WARNING: You are using pip version 20.2.1; however, version 20.2.2 is available.\n",
      "You should consider upgrading via the 'c:\\users\\shaun\\appdata\\local\\programs\\python\\python37\\python.exe -m pip install --upgrade pip' command.\n"
     ]
    },
    {
     "name": "stdout",
     "output_type": "stream",
     "text": [
      "Requirement already satisfied: scikit-plot in c:\\users\\shaun\\appdata\\local\\programs\\python\\python37\\lib\\site-packages (0.3.7)\n",
      "Requirement already satisfied: scipy>=0.9 in c:\\users\\shaun\\appdata\\local\\programs\\python\\python37\\lib\\site-packages (from scikit-plot) (1.5.2)\n",
      "Requirement already satisfied: joblib>=0.10 in c:\\users\\shaun\\appdata\\local\\programs\\python\\python37\\lib\\site-packages (from scikit-plot) (0.16.0)\n",
      "Requirement already satisfied: scikit-learn>=0.18 in c:\\users\\shaun\\appdata\\local\\programs\\python\\python37\\lib\\site-packages (from scikit-plot) (0.23.2)\n",
      "Requirement already satisfied: matplotlib>=1.4.0 in c:\\users\\shaun\\appdata\\local\\programs\\python\\python37\\lib\\site-packages (from scikit-plot) (3.3.0)\n",
      "Requirement already satisfied: numpy>=1.14.5 in c:\\users\\shaun\\appdata\\local\\programs\\python\\python37\\lib\\site-packages (from scipy>=0.9->scikit-plot) (1.16.4)\n",
      "Requirement already satisfied: threadpoolctl>=2.0.0 in c:\\users\\shaun\\appdata\\local\\programs\\python\\python37\\lib\\site-packages (from scikit-learn>=0.18->scikit-plot) (2.1.0)\n",
      "Requirement already satisfied: python-dateutil>=2.1 in c:\\users\\shaun\\appdata\\local\\programs\\python\\python37\\lib\\site-packages (from matplotlib>=1.4.0->scikit-plot) (2.8.1)\n",
      "Requirement already satisfied: pillow>=6.2.0 in c:\\users\\shaun\\appdata\\local\\programs\\python\\python37\\lib\\site-packages (from matplotlib>=1.4.0->scikit-plot) (7.2.0)\n",
      "Requirement already satisfied: kiwisolver>=1.0.1 in c:\\users\\shaun\\appdata\\local\\programs\\python\\python37\\lib\\site-packages (from matplotlib>=1.4.0->scikit-plot) (1.2.0)\n",
      "Requirement already satisfied: pyparsing!=2.0.4,!=2.1.2,!=2.1.6,>=2.0.3 in c:\\users\\shaun\\appdata\\local\\programs\\python\\python37\\lib\\site-packages (from matplotlib>=1.4.0->scikit-plot) (2.4.7)\n",
      "Requirement already satisfied: cycler>=0.10 in c:\\users\\shaun\\appdata\\local\\programs\\python\\python37\\lib\\site-packages (from matplotlib>=1.4.0->scikit-plot) (0.10.0)\n",
      "Requirement already satisfied: six>=1.5 in c:\\users\\shaun\\appdata\\roaming\\python\\python37\\site-packages (from python-dateutil>=2.1->matplotlib>=1.4.0->scikit-plot) (1.12.0)\n",
      "Note: you may need to restart the kernel to use updated packages.\n"
     ]
    },
    {
     "name": "stderr",
     "output_type": "stream",
     "text": [
      "WARNING: You are using pip version 20.2.1; however, version 20.2.2 is available.\n",
      "You should consider upgrading via the 'c:\\users\\shaun\\appdata\\local\\programs\\python\\python37\\python.exe -m pip install --upgrade pip' command.\n",
      "WARNING: You are using pip version 20.2.1; however, version 20.2.2 is available.\n",
      "You should consider upgrading via the 'c:\\users\\shaun\\appdata\\local\\programs\\python\\python37\\python.exe -m pip install --upgrade pip' command.\n"
     ]
    },
    {
     "name": "stdout",
     "output_type": "stream",
     "text": [
      "Requirement already satisfied: statsmodels in c:\\users\\shaun\\appdata\\local\\programs\\python\\python37\\lib\\site-packages (0.11.1)\n",
      "Requirement already satisfied: patsy>=0.5 in c:\\users\\shaun\\appdata\\local\\programs\\python\\python37\\lib\\site-packages (from statsmodels) (0.5.1)\n",
      "Requirement already satisfied: scipy>=1.0 in c:\\users\\shaun\\appdata\\local\\programs\\python\\python37\\lib\\site-packages (from statsmodels) (1.5.2)\n",
      "Requirement already satisfied: pandas>=0.21 in c:\\users\\shaun\\appdata\\local\\programs\\python\\python37\\lib\\site-packages (from statsmodels) (1.1.0)\n",
      "Requirement already satisfied: numpy>=1.14 in c:\\users\\shaun\\appdata\\local\\programs\\python\\python37\\lib\\site-packages (from statsmodels) (1.16.4)\n",
      "Requirement already satisfied: six in c:\\users\\shaun\\appdata\\roaming\\python\\python37\\site-packages (from patsy>=0.5->statsmodels) (1.12.0)\n",
      "Requirement already satisfied: python-dateutil>=2.7.3 in c:\\users\\shaun\\appdata\\local\\programs\\python\\python37\\lib\\site-packages (from pandas>=0.21->statsmodels) (2.8.1)\n",
      "Requirement already satisfied: pytz>=2017.2 in c:\\users\\shaun\\appdata\\local\\programs\\python\\python37\\lib\\site-packages (from pandas>=0.21->statsmodels) (2020.1)\n",
      "Note: you may need to restart the kernel to use updated packages.\n"
     ]
    }
   ],
   "source": [
    "#If you need to install in modules in jupyter notebook \n",
    "%pip install scikit-learn\n",
    "%pip install pandas\n",
    "%pip install matplotlib \n",
    "%pip install seaborn \n",
    "%pip install graphviz\n",
    "%pip install scikit-plot   \n",
    "%pip install statsmodels   \n",
    "\n",
    "\n",
    "#Python ≥3.5 is required\n",
    "import sys\n",
    "assert sys.version_info >= (3, 5)\n",
    "import datetime # Scikit-Learn ≥0.20 is required\n",
    "import sklearn\n",
    "assert sklearn.__version__ >= \"0.20\"\n",
    "\n",
    "\n",
    "# Common imports\n",
    "import numpy as np\n",
    "import pandas as pd\n",
    "import os\n",
    "from sklearn.model_selection import train_test_split\n",
    "import matplotlib.pyplot as plt\n",
    "from scipy import stats\n",
    "import scikitplot as skplt\n",
    "from sklearn.neighbors import KNeighborsClassifier  \n",
    "from sklearn.linear_model import LinearRegression\n",
    "# To plot pretty figures\n",
    "%matplotlib inline\n",
    "import matplotlib as mpl\n",
    "import matplotlib.pyplot as plt\n",
    "mpl.rc('axes', labelsize=14)\n",
    "mpl.rc('xtick', labelsize=12)\n",
    "mpl.rc('ytick', labelsize=12)\n",
    "from sklearn.model_selection import KFold\n",
    "from sklearn.metrics import mean_squared_error\n",
    "from sklearn.metrics import r2_score\n",
    "from sklearn.preprocessing import StandardScaler\n",
    "\n",
    "# to make this notebook's output stable across runs\n",
    "np.random.seed(42)\n",
    "\n",
    "# Where to save the figures\n",
    "PROJECT_ROOT_DIR = \".\"\n",
    "CHAPTER_ID = \"decision_trees\"\n",
    "IMAGES_PATH = os.path.join(PROJECT_ROOT_DIR, \"images\", CHAPTER_ID)\n",
    "\n",
    "os.makedirs(IMAGES_PATH, exist_ok=True)\n",
    "def save_fig(fig_id, tight_layout=True, fig_extension=\"png\", resolution=300):\n",
    "\n",
    "    path = os.path.join(IMAGES_PATH, fig_id + \".\" + fig_extension)\n",
    "    print(\"Saving figure\", fig_id)\n",
    "    if tight_layout:\n",
    "        plt.tight_layout()\n",
    "    plt.savefig(path, format=fig_extension, dpi=resolution)"
   ]
  },
  {
   "cell_type": "code",
   "execution_count": 7,
   "metadata": {
    "colab": {},
    "colab_type": "code",
    "id": "IvsV2RSPapC6",
    "scrolled": false
   },
   "outputs": [],
   "source": [
    "#changes the output for the print statements\n",
    "pd.set_option('display.max_rows', 10)\n",
    "pd.set_option('display.max_columns', None)\n",
    "pd.set_option('display.width', None)\n",
    "pd.set_option('display.max_colwidth',0)"
   ]
  },
  {
   "cell_type": "code",
   "execution_count": 320,
   "metadata": {
    "colab": {},
    "colab_type": "code",
    "id": "vtW9LfInZ_x2",
    "scrolled": false
   },
   "outputs": [],
   "source": [
    "#Pull \n",
    "df = pd.read_csv('https://raw.githubusercontent.com/Rodrig79/Machine-Learning-Data-Analysis-Project/master/rawData/pokemon.csv') "
   ]
  },
  {
   "cell_type": "code",
   "execution_count": 321,
   "metadata": {},
   "outputs": [],
   "source": [
    "from sklearn import preprocessing\n",
    "\n",
    "#Data Cleaning\n",
    "df = df[~df.Name.str.contains('Mega')] #removed pokemon with \"Mega\" in it\n",
    "df = df.drop(columns = [\"Name\",\"Type 1\",\"Type 2\",\"#\",\"Generation\"]) #Removed columns with names\n",
    "\n",
    "#normalization\n",
    "# X = df.values #returns a numpy array\n",
    "# min_max_scaler = preprocessing.MinMaxScaler()\n",
    "# x_scaled = min_max_scaler.fit_transform(X)\n",
    "# df=pd.DataFrame(x_scaled, columns=df.columns)\n"
   ]
  },
  {
   "cell_type": "code",
   "execution_count": 322,
   "metadata": {},
   "outputs": [],
   "source": [
    " #Splitting dataset to x and y\n",
    "y = df.Attack\n",
    "X = df[['Defense','HP','Sp. Atk','Sp. Def','Speed']]"
   ]
  },
  {
   "cell_type": "code",
   "execution_count": 323,
   "metadata": {},
   "outputs": [],
   "source": [
    "def plot_learning_curves(model, X, y):\n",
    "    X_train, X_val, y_train, y_val = train_test_split(X, y, test_size=0.2, random_state=10)\n",
    "    \n",
    "    train_errors, val_errors = [], []\n",
    "    \n",
    "    for m in range(1, len(X_train)):\n",
    "        model.fit(X_train[:m], y_train[:m])\n",
    "        y_train_predict = model.predict(X_train[:m])\n",
    "        y_val_predict = model.predict(X_val)\n",
    "        train_errors.append(mean_squared_error(y_train[:m], y_train_predict))\n",
    "        val_errors.append(mean_squared_error(y_val, y_val_predict))\n",
    "        \n",
    "    plt.plot(np.sqrt(train_errors), \"r-+\", linewidth=2, label=\"train\")\n",
    "    plt.plot(np.sqrt(val_errors), \"b-\", linewidth=3, label=\"val\")\n",
    "    plt.legend(loc=\"upper right\", fontsize=14)   # not shown in the book\n",
    "    plt.xlabel(\"Training set size\", fontsize=14) # not shown\n",
    "    plt.ylabel(\"RMSE\", fontsize=14)              # not shown"
   ]
  },
  {
   "cell_type": "markdown",
   "metadata": {},
   "source": [
    "# MultiVariate  Regression with sklearn"
   ]
  },
  {
   "cell_type": "code",
   "execution_count": 39,
   "metadata": {},
   "outputs": [],
   "source": [
    " from sklearn.linear_model import LinearRegression"
   ]
  },
  {
   "cell_type": "code",
   "execution_count": 50,
   "metadata": {},
   "outputs": [],
   "source": [
    "def MultiVariateLinearRegression(X,y):\n",
    "  X_train, X_test, y_train, y_test = train_test_split(X, y, test_size=0.60)\n",
    "  regr = LinearRegression()\n",
    "  regr.fit(X, y)\n",
    "  print('Intercept: \\n', regr.intercept_)\n",
    "  print('Coefficients: \\n', regr.coef_)\n",
    "  kf = KFold(n_splits=10, random_state=None, shuffle=True)\n",
    "  kf.get_n_splits(X)\n",
    "  for train_index, test_index in kf.split(X):\n",
    "        regr.fit(X_train, y_train)\n",
    "        y_pred = regr.predict(X_train)\n",
    "  print(\"coefficient of determination score\",r2_score(y_train,y_pred))\n",
    "  print(\"mean squared error\",mean_squared_error(y_train,y_pred,squared =False))\n"
   ]
  },
  {
   "cell_type": "code",
   "execution_count": 51,
   "metadata": {},
   "outputs": [
    {
     "name": "stdout",
     "output_type": "stream",
     "text": [
      "Intercept: \n",
      " 8.210680550338907\n",
      "Coefficients: \n",
      " [ 0.44614817  0.36994363  0.18231691 -0.31638889  0.29630742]\n",
      "coefficient of determination score 0.4287816961403771\n",
      "mean squared error 22.285849382912\n"
     ]
    }
   ],
   "source": [
    "MultiVariateLinearRegression(X,y)"
   ]
  },
  {
   "cell_type": "code",
   "execution_count": 267,
   "metadata": {},
   "outputs": [],
   "source": [
    "X = X.HP"
   ]
  },
  {
   "cell_type": "markdown",
   "metadata": {},
   "source": [
    "# Linear Regression with Gradient Descent "
   ]
  },
  {
   "cell_type": "code",
   "execution_count": 53,
   "metadata": {},
   "outputs": [
    {
     "name": "stdout",
     "output_type": "stream",
     "text": [
      "[41.85738349  0.49688982]\n"
     ]
    }
   ],
   "source": [
    "X_b = np.c_[np.ones((751, 1)), X]  # add x0 = 1 to each instance\n",
    "\n",
    "theta_best = np.linalg.inv(X_b.T.dot(X_b)).dot(X_b.T).dot(y)\n",
    "\n",
    "print(theta_best)"
   ]
  },
  {
   "cell_type": "code",
   "execution_count": 54,
   "metadata": {},
   "outputs": [
    {
     "data": {
      "text/plain": [
       "array([41.85738349, 42.85116314])"
      ]
     },
     "execution_count": 54,
     "metadata": {},
     "output_type": "execute_result"
    }
   ],
   "source": [
    "\n",
    "X_new = np.array([[0], [2]])\n",
    "X_new_b = np.c_[np.ones((2, 1)), X_new]  # add x0 = 1 to each instance\n",
    "\n",
    "y_predict = X_new_b.dot(theta_best)\n",
    "y_predict"
   ]
  },
  {
   "cell_type": "code",
   "execution_count": 99,
   "metadata": {},
   "outputs": [
    {
     "name": "stdout",
     "output_type": "stream",
     "text": [
      "[-0.91353895  0.36567757]\n"
     ]
    },
    {
     "data": {
      "text/plain": [
       "array([-1.03868168e+37, -8.14932855e+38])"
      ]
     },
     "execution_count": 99,
     "metadata": {},
     "output_type": "execute_result"
    }
   ],
   "source": [
    "eta = 0.1\n",
    "n_iterations = 10\n",
    "m = 100\n",
    "theta = np.random.randn(2, 1)\n",
    "theta = np.squeeze(np.asarray(theta))\n",
    "print (theta)\n",
    "for iteration in range(n_iterations):\n",
    "    gradients = 2/m * X_b.T.dot(X_b.dot(theta) - y)\n",
    "    theta = theta - eta * gradients\n",
    "theta"
   ]
  },
  {
   "cell_type": "code",
   "execution_count": 56,
   "metadata": {},
   "outputs": [
    {
     "data": {
      "text/plain": [
       "array([-7.57893295e+40, -1.01045286e+41, -1.34719895e+41, -6.56869470e+40,\n",
       "       -9.76778251e+40, -1.31352434e+41, -7.41055991e+40, -9.93615556e+40,\n",
       "       -1.33036164e+41, -7.57893295e+40, -8.42079817e+40, -1.01045286e+41,\n",
       "       -6.73706774e+40, -7.57893295e+40, -1.09463938e+41, -6.73706774e+40,\n",
       "       -1.06096477e+41, -1.39771086e+41, -5.05333731e+40, -9.26266338e+40,\n",
       "       -6.73706774e+40, -1.09463938e+41, -5.89520252e+40, -1.01045286e+41,\n",
       "       -5.89520252e+40, -1.01045286e+41, -8.42079817e+40, -1.26301242e+41,\n",
       "       -9.26266338e+40, -1.17882590e+41, -1.51557199e+41, -7.74730600e+40,\n",
       "       -1.02729016e+41, -1.36403625e+41, -1.17882590e+41, -1.59975851e+41,\n",
       "       -6.40032165e+40, -1.22933782e+41, -1.93650460e+41, -2.35743720e+41,\n",
       "       -6.73706774e+40, -1.26301242e+41, -7.57893295e+40, -1.01045286e+41,\n",
       "       -1.26301242e+41, -5.89520252e+40, -1.01045286e+41, -1.01045286e+41,\n",
       "       -1.17882590e+41, -1.68587645e+40, -5.89520252e+40, -6.73706774e+40,\n",
       "       -1.09463938e+41, -8.42079817e+40, -1.34719895e+41, -6.73706774e+40,\n",
       "       -1.09463938e+41, -9.26266338e+40, -1.51557199e+41, -6.73706774e+40,\n",
       "       -1.09463938e+41, -1.51557199e+41, -4.21147209e+40, -6.73706774e+40,\n",
       "       -9.26266338e+40, -1.17882590e+41, -1.34719895e+41, -1.51557199e+41,\n",
       "       -8.42079817e+40, -1.09463938e+41, -1.34719895e+41, -6.73706774e+40,\n",
       "       -1.34719895e+41, -6.73706774e+40, -9.26266338e+40, -1.34719895e+41,\n",
       "       -8.42079817e+40, -1.09463938e+41, -1.51557199e+41, -1.59975851e+41,\n",
       "       -4.21147209e+40, -8.42079817e+40, -8.75754425e+40, -5.89520252e+40,\n",
       "       -1.01045286e+41, -1.09463938e+41, -1.51557199e+41, -1.34719895e+41,\n",
       "       -1.76813155e+41, -5.05333731e+40, -8.42079817e+40, -5.05333731e+40,\n",
       "       -7.57893295e+40, -1.01045286e+41, -5.89520252e+40, -1.01045286e+41,\n",
       "       -1.43138547e+41, -5.05333731e+40, -9.26266338e+40, -6.73706774e+40,\n",
       "       -1.01045286e+41, -1.01045286e+41, -1.59975851e+41, -8.42079817e+40,\n",
       "       -1.01045286e+41, -8.42079817e+40, -8.42079817e+40, -1.51557199e+41,\n",
       "       -6.73706774e+40, -1.09463938e+41, -1.34719895e+41, -1.76813155e+41,\n",
       "       -4.20954068e+41, -1.09463938e+41, -1.76813155e+41, -5.05333731e+40,\n",
       "       -9.26266338e+40, -7.57893295e+40, -1.34719895e+41, -5.05333731e+40,\n",
       "       -1.01045286e+41, -6.73706774e+40, -1.17882590e+41, -1.09463938e+41,\n",
       "       -1.09463938e+41, -1.09463938e+41, -1.09463938e+41, -1.26301242e+41,\n",
       "       -3.36960688e+40, -1.59975851e+41, -2.18906416e+41, -8.08405208e+40,\n",
       "       -9.26266338e+40, -2.18906416e+41, -1.09463938e+41, -1.09463938e+41,\n",
       "       -1.09463938e+41, -5.89520252e+40, -1.17882590e+41, -5.05333731e+40,\n",
       "       -1.01045286e+41, -1.34719895e+41, -2.69418329e+41, -1.51557199e+41,\n",
       "       -1.51557199e+41, -1.51557199e+41, -6.90544078e+40, -1.02729016e+41,\n",
       "       -1.53240929e+41, -1.78496886e+41, -1.68394503e+41, -7.57893295e+40,\n",
       "       -1.01045286e+41, -6.56869470e+40, -9.76778251e+40, -1.31352434e+41,\n",
       "       -8.42079817e+40, -1.09463938e+41, -1.43138547e+41, -5.89520252e+40,\n",
       "       -1.43138547e+41, -1.01045286e+41, -1.68394503e+41, -6.73706774e+40,\n",
       "       -9.26266338e+40, -6.73706774e+40, -1.17882590e+41, -1.43138547e+41,\n",
       "       -1.26301242e+41, -2.10487764e+41, -3.36960688e+40, -8.42079817e+40,\n",
       "       -1.51557199e+41, -5.89520252e+40, -9.26266338e+40, -6.73706774e+40,\n",
       "       -1.09463938e+41, -9.26266338e+40, -1.17882590e+41, -1.51557199e+41,\n",
       "       -1.26301242e+41, -1.17882590e+41, -1.68394503e+41, -1.17882590e+41,\n",
       "       -1.51557199e+41, -5.89520252e+40, -9.26266338e+40, -1.26301242e+41,\n",
       "       -9.26266338e+40, -5.05333731e+40, -1.26301242e+41, -1.09463938e+41,\n",
       "       -9.26266338e+40, -1.59975851e+41, -1.09463938e+41, -1.59975851e+41,\n",
       "       -1.01045286e+41, -1.59975851e+41, -1.01045286e+41, -8.08405208e+40,\n",
       "       -3.19930242e+41, -1.17882590e+41, -8.42079817e+40, -1.26301242e+41,\n",
       "       -1.68394503e+41, -1.09463938e+41, -1.26301242e+41, -1.01045286e+41,\n",
       "       -1.51557199e+41, -1.09463938e+41, -1.17882590e+41, -3.36960688e+40,\n",
       "       -1.34719895e+41, -9.26266338e+40, -1.01045286e+41, -1.51557199e+41,\n",
       "       -6.73706774e+40, -8.42079817e+40, -8.42079817e+40, -1.68394503e+41,\n",
       "       -9.26266338e+40, -5.89520252e+40, -1.26301242e+41, -7.57893295e+40,\n",
       "       -1.09463938e+41, -1.09463938e+41, -7.57893295e+40, -1.26301242e+41,\n",
       "       -1.26301242e+41, -1.51557199e+41, -1.51557199e+41, -1.43138547e+41,\n",
       "       -1.22933782e+41, -9.26266338e+40, -5.89520252e+40, -8.42079817e+40,\n",
       "       -7.57893295e+40, -7.57893295e+40, -7.57893295e+40, -1.59975851e+41,\n",
       "       -4.29372720e+41, -1.51557199e+41, -1.93650460e+41, -1.68394503e+41,\n",
       "       -8.42079817e+40, -1.17882590e+41, -1.68394503e+41, -1.78496886e+41,\n",
       "       -1.78496886e+41, -1.68394503e+41, -6.73706774e+40, -8.42079817e+40,\n",
       "       -1.17882590e+41, -7.57893295e+40, -1.01045286e+41, -1.34719895e+41,\n",
       "       -8.42079817e+40, -1.17882590e+41, -1.68394503e+41, -5.89520252e+40,\n",
       "       -1.17882590e+41, -6.40032165e+40, -1.31352434e+41, -7.57893295e+40,\n",
       "       -8.42079817e+40, -1.01045286e+41, -8.42079817e+40, -1.01045286e+41,\n",
       "       -6.73706774e+40, -1.01045286e+41, -1.34719895e+41, -6.73706774e+40,\n",
       "       -1.17882590e+41, -1.51557199e+41, -6.73706774e+40, -1.01045286e+41,\n",
       "       -6.73706774e+40, -1.01045286e+41, -4.71659122e+40, -6.40032165e+40,\n",
       "       -1.14515129e+41, -6.73706774e+40, -1.17882590e+41, -1.01045286e+41,\n",
       "       -1.01045286e+41, -1.01045286e+41, -1.34719895e+41, -2.52581025e+41,\n",
       "       -5.22171035e+40, -1.02729016e+41, -1.70519060e+39, -1.07780208e+41,\n",
       "       -1.41454816e+41, -1.75129425e+41, -1.21250051e+41, -2.42478642e+41,\n",
       "       -8.42079817e+40, -5.05333731e+40, -8.42079817e+40, -1.17882590e+41,\n",
       "       -8.42079817e+40, -8.42079817e+40, -8.42079817e+40, -1.01045286e+41,\n",
       "       -1.17882590e+41, -5.05333731e+40, -1.01045286e+41, -6.73706774e+40,\n",
       "       -1.17882590e+41, -1.01045286e+41, -1.01045286e+41, -1.09463938e+41,\n",
       "       -1.09463938e+41, -8.42079817e+40, -1.17882590e+41, -1.68394503e+41,\n",
       "       -7.57893295e+40, -1.17882590e+41, -2.18906416e+41, -2.86255633e+41,\n",
       "       -1.01045286e+41, -1.17882590e+41, -1.17882590e+41, -1.01045286e+41,\n",
       "       -1.34719895e+41, -1.01045286e+41, -7.57893295e+40, -8.42079817e+40,\n",
       "       -1.34719895e+41, -8.42079817e+40, -1.17882590e+41, -7.57893295e+40,\n",
       "       -1.26301242e+41, -1.22933782e+41, -1.22933782e+41, -1.17882590e+41,\n",
       "       -1.17882590e+41, -8.42079817e+40, -1.85231808e+41, -7.24218687e+40,\n",
       "       -1.06096477e+41, -6.73706774e+40, -1.01045286e+41, -1.11147669e+41,\n",
       "       -1.44822277e+41, -7.57893295e+40, -1.26301242e+41, -3.36960688e+40,\n",
       "       -1.59975851e+41, -1.17882590e+41, -1.01045286e+41, -7.41055991e+40,\n",
       "       -1.07780208e+41, -3.36960688e+40, -6.73706774e+40, -1.66710773e+41,\n",
       "       -1.09463938e+41, -1.09463938e+41, -1.59975851e+41, -8.42079817e+40,\n",
       "       -1.34719895e+41, -1.17882590e+41, -1.51557199e+41, -1.85231808e+41,\n",
       "       -5.89520252e+40, -9.26266338e+40, -9.26266338e+40, -1.68394503e+41,\n",
       "       -7.24218687e+40, -7.57893295e+40, -1.09463938e+41, -1.59975851e+41,\n",
       "       -6.73706774e+40, -1.01045286e+41, -1.34719895e+41, -1.34719895e+41,\n",
       "       -1.34719895e+41, -1.34719895e+41, -1.34719895e+41, -1.34719895e+41,\n",
       "       -1.68394503e+41, -1.68394503e+41, -1.68394503e+41, -1.68394503e+41,\n",
       "       -1.76813155e+41, -1.68394503e+41, -8.42079817e+40, -8.42079817e+40,\n",
       "       -8.42079817e+40, -8.42079817e+40, -9.26266338e+40, -1.26301242e+41,\n",
       "       -1.59975851e+41, -7.41055991e+40, -1.07780208e+41, -1.27984973e+41,\n",
       "       -8.92591730e+40, -1.07780208e+41, -1.41454816e+41, -6.73706774e+40,\n",
       "       -9.26266338e+40, -1.43138547e+41, -9.93615556e+40, -1.33036164e+41,\n",
       "       -6.23194861e+40, -1.29668703e+41, -7.57893295e+40, -1.01045286e+41,\n",
       "       -1.34719895e+41, -6.73706774e+40, -1.01045286e+41, -1.12831399e+41,\n",
       "       -1.63343312e+41, -5.05333731e+40, -1.01045286e+41, -6.73706774e+40,\n",
       "       -1.01045286e+41, -1.01045286e+41, -1.01045286e+41, -1.17882590e+41,\n",
       "       -5.05333731e+40, -1.17882590e+41, -1.01045286e+41, -9.26266338e+40,\n",
       "       -1.43138547e+41, -7.57893295e+40, -1.17882590e+41, -1.27984973e+41,\n",
       "       -1.86915538e+41, -1.26301242e+41, -1.51557199e+41, -2.52581025e+41,\n",
       "       -9.26266338e+40, -1.09463938e+41, -1.01045286e+41, -1.68394503e+41,\n",
       "       -8.25242513e+40, -1.19566321e+41, -7.57893295e+40, -1.06096477e+41,\n",
       "       -1.73445694e+41, -9.59940947e+40, -1.12831399e+41, -8.42079817e+40,\n",
       "       -3.36960688e+40, -1.68394503e+41, -1.27984973e+41, -8.42079817e+40,\n",
       "       -9.76778251e+40, -1.14515129e+41, -1.81864347e+41, -2.27325068e+41,\n",
       "       -6.73706774e+40, -1.17882590e+41, -1.14515129e+41, -1.81864347e+41,\n",
       "       -6.73706774e+40, -1.17882590e+41, -8.08405208e+40, -1.39771086e+41,\n",
       "       -1.24617512e+41, -8.25242513e+40, -1.16198860e+41, -7.57893295e+40,\n",
       "       -1.01045286e+41, -1.51557199e+41, -1.17882590e+41, -1.17882590e+41,\n",
       "       -1.85231808e+41, -1.93650460e+41, -1.68394503e+41, -1.26301242e+41,\n",
       "       -1.26301242e+41, -1.43138547e+41, -1.44822277e+41, -1.09463938e+41,\n",
       "       -1.09463938e+41, -1.26301242e+41, -1.85231808e+41, -1.43138547e+41,\n",
       "       -1.14515129e+41, -1.01045286e+41, -7.57893295e+40, -1.17882590e+41,\n",
       "       -8.42079817e+40, -8.42079817e+40, -8.42079817e+40, -8.42079817e+40,\n",
       "       -8.42079817e+40, -8.42079817e+40, -1.26301242e+41, -1.34719895e+41,\n",
       "       -1.26301242e+41, -1.68394503e+41, -1.51557199e+41, -1.53240929e+41,\n",
       "       -1.85231808e+41, -2.52581025e+41, -2.52581025e+41, -2.02069112e+41,\n",
       "       -1.34719895e+41, -1.68394503e+41, -1.17882590e+41, -1.68394503e+41,\n",
       "       -1.68394503e+41, -2.02069112e+41, -1.68394503e+41, -7.57893295e+40,\n",
       "       -1.01045286e+41, -1.26301242e+41, -1.09463938e+41, -1.51557199e+41,\n",
       "       -1.85231808e+41, -9.26266338e+40, -1.26301242e+41, -1.59975851e+41,\n",
       "       -7.57893295e+40, -1.01045286e+41, -7.57893295e+40, -1.09463938e+41,\n",
       "       -1.43138547e+41, -6.90544078e+40, -1.07780208e+41, -8.42079817e+40,\n",
       "       -1.26301242e+41, -8.42079817e+40, -1.26301242e+41, -8.42079817e+40,\n",
       "       -1.26301242e+41, -1.27984973e+41, -1.95334190e+41, -8.42079817e+40,\n",
       "       -1.04412747e+41, -1.34719895e+41, -7.57893295e+40, -1.26301242e+41,\n",
       "       -9.26266338e+40, -1.17882590e+41, -1.43138547e+41, -9.26266338e+40,\n",
       "       -1.12831399e+41, -1.01045286e+41, -1.85231808e+41, -1.73445694e+41,\n",
       "       -1.26301242e+41, -1.43138547e+41, -1.76813155e+41, -8.42079817e+40,\n",
       "       -1.26301242e+41, -1.76813155e+41, -2.02069112e+41, -1.26301242e+41,\n",
       "       -7.57893295e+40, -9.26266338e+40, -1.26301242e+41, -5.05333731e+40,\n",
       "       -6.73706774e+40, -1.01045286e+41, -6.73706774e+40, -1.01045286e+41,\n",
       "       -7.57893295e+40, -1.17882590e+41, -1.17882590e+41, -8.42079817e+40,\n",
       "       -1.01045286e+41, -1.59975851e+41, -1.17882590e+41, -1.76813155e+41,\n",
       "       -1.76813155e+41, -1.26301242e+41, -8.42079817e+40, -1.17882590e+41,\n",
       "       -8.42079817e+40, -1.09463938e+41, -1.21250051e+41, -6.40032165e+40,\n",
       "       -9.76778251e+40, -9.09429034e+40, -1.24617512e+41, -9.26266338e+40,\n",
       "       -1.26301242e+41, -8.42079817e+40, -1.34719895e+41, -6.73706774e+40,\n",
       "       -1.01045286e+41, -9.26266338e+40, -1.26301242e+41, -7.57893295e+40,\n",
       "       -1.01045286e+41, -1.17882590e+41, -7.57893295e+40, -1.09463938e+41,\n",
       "       -1.85231808e+41, -1.04412747e+41, -1.26301242e+41, -6.06357557e+40,\n",
       "       -8.58917121e+40, -1.19566321e+41, -1.01045286e+41, -1.34719895e+41,\n",
       "       -9.26266338e+40, -8.42079817e+40, -1.17882590e+41, -1.16198860e+41,\n",
       "       -1.91966729e+41, -9.26266338e+40, -1.68394503e+41, -2.77836981e+41,\n",
       "       -8.42079817e+40, -1.17882590e+41, -7.41055991e+40, -1.24617512e+41,\n",
       "       -6.73706774e+40, -1.01045286e+41, -1.01045286e+41, -5.89520252e+40,\n",
       "       -1.09463938e+41, -1.43138547e+41, -9.26266338e+40, -1.26301242e+41,\n",
       "       -8.42079817e+40, -1.01045286e+41, -1.01045286e+41, -7.74730600e+40,\n",
       "       -1.11147669e+41, -1.27984973e+41, -9.26266338e+40, -1.59975851e+41,\n",
       "       -1.17882590e+41, -8.42079817e+40, -1.34719895e+41, -1.83548077e+41,\n",
       "       -7.57893295e+40, -1.09463938e+41, -1.29668703e+41, -9.93615556e+40,\n",
       "       -1.49873468e+41, -7.57893295e+40, -1.09463938e+41, -1.59975851e+41,\n",
       "       -1.17882590e+41, -1.68394503e+41, -1.17882590e+41, -1.85231808e+41,\n",
       "       -1.43138547e+41, -9.76778251e+40, -8.75754425e+40, -1.21250051e+41,\n",
       "       -1.54924660e+41, -9.26266338e+40, -1.43138547e+41, -1.53240929e+41,\n",
       "       -1.53240929e+41, -1.53240929e+41, -1.33036164e+41, -1.33036164e+41,\n",
       "       -1.33036164e+41, -1.33036164e+41, -1.68394503e+41, -1.68394503e+41,\n",
       "       -1.49873468e+41, -1.49873468e+41, -2.10487764e+41, -2.10487764e+41,\n",
       "       -2.10487764e+41, -1.53240929e+41, -1.53240929e+41, -1.68394503e+41,\n",
       "       -1.68394503e+41, -1.19566321e+41, -9.43103643e+40, -1.02729016e+41,\n",
       "       -1.48189738e+41, -6.73706774e+40, -9.93615556e+40, -1.26301242e+41,\n",
       "       -6.90544078e+40, -9.09429034e+40, -1.21250051e+41, -6.40032165e+40,\n",
       "       -1.43138547e+41, -7.57893295e+40, -1.04412747e+41, -1.31352434e+41,\n",
       "       -6.40032165e+40, -7.57893295e+40, -1.34719895e+41, -1.04412747e+41,\n",
       "       -1.44822277e+41, -7.41055991e+40, -9.09429034e+40, -1.31352434e+41,\n",
       "       -1.11147669e+41, -2.07120303e+41, -1.12831399e+41, -1.59975851e+41,\n",
       "       -1.26301242e+41, -1.04412747e+41, -1.24617512e+41, -1.24617512e+41,\n",
       "       -7.57893295e+40, -9.93615556e+40, -1.01045286e+41, -1.01045286e+41,\n",
       "       -1.31352434e+41, -1.70078234e+41, -1.04412747e+41, -1.38087355e+41,\n",
       "       -8.92591730e+40, -1.44822277e+41, -7.07381382e+40, -1.21250051e+41,\n",
       "       -8.42079817e+40, -1.09463938e+41, -8.42079817e+40, -1.19566321e+41,\n",
       "       -7.41055991e+40, -1.04412747e+41, -9.76778251e+40, -1.38087355e+41,\n",
       "       -1.29668703e+41, -2.07120303e+41, -1.59975851e+41, -1.31352434e+41,\n",
       "       -1.12831399e+41, -8.42079817e+40, -7.57893295e+40, -1.14515129e+41,\n",
       "       -1.51557199e+41, -9.59940947e+40, -7.24218687e+40, -1.43138547e+41,\n",
       "       -8.25242513e+40, -7.41055991e+40, -9.09429034e+40, -9.93615556e+40,\n",
       "       -1.09463938e+41, -9.26266338e+40, -1.26301242e+41, -1.43138547e+41,\n",
       "       -9.26266338e+40, -1.59975851e+41, -6.73706774e+40, -1.43138547e+41,\n",
       "       -2.12171494e+41, -2.12171494e+41, -1.81864347e+41, -8.42079817e+40,\n",
       "       -1.34719895e+41, -1.34719895e+41, -1.34719895e+41])"
      ]
     },
     "execution_count": 56,
     "metadata": {},
     "output_type": "execute_result"
    }
   ],
   "source": [
    "X_b.dot(theta)"
   ]
  },
  {
   "cell_type": "code",
   "execution_count": 57,
   "metadata": {},
   "outputs": [],
   "source": [
    "theta_path_bgd = []\n",
    "\n",
    "def plot_gradient_descent(theta, eta, theta_path=None):\n",
    "    m = len(X_b)\n",
    "    plt.plot(X, y, \"b.\")\n",
    "    n_iterations = 1000\n",
    "    for iteration in range(n_iterations):\n",
    "        if iteration < 10:\n",
    "            y_predict = X_new_b.dot(theta)\n",
    "            style = \"b-\" if iteration > 0 else \"r--\"\n",
    "            plt.plot(X_new, y_predict, style)\n",
    "            \n",
    "        gradients = 2/m * X_b.T.dot(X_b.dot(theta) - y)\n",
    "        theta = theta - eta * gradients\n",
    "        if theta_path is not None:\n",
    "            theta_path.append(theta)\n",
    "    plt.xlabel(\"$x_1$\", fontsize=18)\n",
    "    plt.axis([0, 240, 0, 350])\n",
    "    plt.title(r\"$\\eta = {}$\".format(eta), fontsize=16)"
   ]
  },
  {
   "cell_type": "code",
   "execution_count": 58,
   "metadata": {},
   "outputs": [
    {
     "name": "stderr",
     "output_type": "stream",
     "text": [
      "c:\\users\\shaun\\appdata\\local\\programs\\python\\python37\\lib\\site-packages\\ipykernel_launcher.py:14: RuntimeWarning: invalid value encountered in subtract\n",
      "  \n",
      "c:\\users\\shaun\\appdata\\local\\programs\\python\\python37\\lib\\site-packages\\ipykernel_launcher.py:14: RuntimeWarning: invalid value encountered in subtract\n",
      "  \n",
      "c:\\users\\shaun\\appdata\\local\\programs\\python\\python37\\lib\\site-packages\\ipykernel_launcher.py:14: RuntimeWarning: invalid value encountered in subtract\n",
      "  \n"
     ]
    },
    {
     "name": "stdout",
     "output_type": "stream",
     "text": [
      "Saving figure gradient_descent_plot\n"
     ]
    },
    {
     "data": {
      "image/png": "[encoded data removed]",
      "text/plain": [
       "<Figure size 720x288 with 3 Axes>"
      ]
     },
     "metadata": {
      "needs_background": "light"
     },
     "output_type": "display_data"
    }
   ],
   "source": [
    "np.random.seed(42)\n",
    "theta = np.random.randn(2, 1)\n",
    "theta = np.squeeze(np.asarray(theta))\n",
    "\n",
    "plt.figure(figsize=(10,4))\n",
    "plt.subplot(131); plot_gradient_descent(theta, eta=0.02)\n",
    "plt.ylabel(\"$y$\", rotation=0, fontsize=18)\n",
    "plt.subplot(132); plot_gradient_descent(theta, eta=0.1, theta_path=theta_path_bgd)\n",
    "plt.subplot(133); plot_gradient_descent(theta, eta=0.5)\n",
    "\n",
    "save_fig(\"gradient_descent_plot\")\n",
    "plt.show()"
   ]
  },
  {
   "cell_type": "markdown",
   "metadata": {},
   "source": [
    "# Gradient Descent Mini Batch"
   ]
  },
  {
   "cell_type": "code",
   "execution_count": 279,
   "metadata": {},
   "outputs": [],
   "source": [
    "def minibatch(X,y,eta):\n",
    "    theta_path_mgd = []\n",
    "    X_b = np.c_[np.ones((751, 1)), X]  # add x0 = 1 to each instance\n",
    "    m = len(X_b)\n",
    "    n_iterations = 50\n",
    "    minibatch_size = 31  \n",
    "    np.random.seed(42)\n",
    "    theta = np.random.randn(2,1)  # random initialization \n",
    "    t0, t1 = 200, 1000\n",
    "    def learning_schedule(t):\n",
    "        return t0 / (t + t1) \n",
    "    t = 0\n",
    "    for epoch in range(n_iterations):\n",
    "        shuffled_indices = np.random.permutation(m)\n",
    "        X_b_shuffled = X_b[shuffled_indices]\n",
    "        y_shuffled = y[shuffled_indices]\n",
    "        for i in range(0, m, minibatch_size):\n",
    "            t += 1\n",
    "            xi = X_b_shuffled[i:i+minibatch_size]\n",
    "            yi = y_shuffled[i:i+minibatch_size]\n",
    "            gradients = 2/minibatch_size * xi.T.dot(xi.dot(theta) - yi)\n",
    "            eta = learning_schedule(t)\n",
    "            theta = theta - eta * gradients\n",
    "            theta_path_mgd.append(theta)\n",
    "    theta"
   ]
  },
  {
   "cell_type": "code",
   "execution_count": 280,
   "metadata": {},
   "outputs": [],
   "source": [
    "Xarr = [[i] for i in X]\n",
    "Xarr = np.array(Xarr)\n",
    "yarr = [[i] for i in y]\n",
    "yarr = np.array(yarr)"
   ]
  },
  {
   "cell_type": "code",
   "execution_count": 282,
   "metadata": {},
   "outputs": [
    {
     "data": {
      "text/plain": [
       "array([-1.03868168e+37, -8.14932855e+38])"
      ]
     },
     "execution_count": 282,
     "metadata": {},
     "output_type": "execute_result"
    }
   ],
   "source": [
    "minibatch(Xa,ya,0.1)\n",
    "theta"
   ]
  },
  {
   "cell_type": "markdown",
   "metadata": {},
   "source": [
    "# Regularized Regression Model\n",
    "## Ridge"
   ]
  },
  {
   "cell_type": "code",
   "execution_count": 324,
   "metadata": {},
   "outputs": [
    {
     "name": "stdout",
     "output_type": "stream",
     "text": [
      "ridge regression linear model intercept: 7.009233212820817\n",
      "ridge regression linear model coeff:\n",
      "[ 0.41417311  0.40321748  0.19917968 -0.29035188  0.26331594]\n",
      "R-squared score (training): 0.417\n",
      "R-squared score (test): 0.443\n",
      "Number of non-zero features: 5\n"
     ]
    }
   ],
   "source": [
    "from sklearn.linear_model import Ridge\n",
    "X_train, X_test, y_train, y_test = train_test_split(X, y, random_state=0)\n",
    "\n",
    "linridge = Ridge(alpha=25.0).fit(X_train, y_train)\n",
    "\n",
    "print('ridge regression linear model intercept: {}'\n",
    "     .format(linridge.intercept_))\n",
    "print('ridge regression linear model coeff:\\n{}'\n",
    "     .format(linridge.coef_))\n",
    "print('R-squared score (training): {:.3f}'\n",
    "     .format(linridge.score(X_train, y_train)))\n",
    "print('R-squared score (test): {:.3f}'\n",
    "     .format(linridge.score(X_test, y_test)))\n",
    "print('Number of non-zero features: {}'\n",
    "     .format(np.sum(linridge.coef_ != 0)))"
   ]
  },
  {
   "cell_type": "code",
   "execution_count": 305,
   "metadata": {},
   "outputs": [
    {
     "name": "stdout",
     "output_type": "stream",
     "text": [
      "ridge regression linear model intercept: 0.01132031411257911\n",
      "ridge regression linear model coeff:\n",
      "[ 0.46154905  0.57376889  0.19350063 -0.2987089   0.26333349]\n",
      "R-squared score (training): 0.417\n",
      "R-squared score (test): 0.443\n",
      "Number of non-zero features: 5\n"
     ]
    }
   ],
   "source": [
    "from sklearn.preprocessing import MinMaxScaler\n",
    "scaler = MinMaxScaler()\n",
    "\n",
    "from sklearn.linear_model import Ridge\n",
    "X_train, X_test, y_train, y_test = train_test_split(X, y, random_state = 0)\n",
    "\n",
    "X_train_scaled = scaler.fit_transform(X_train)\n",
    "X_test_scaled = scaler.transform(X_test)\n",
    "\n",
    "linridge = Ridge(alpha=0).fit(X_train_scaled, y_train)\n",
    "\n",
    "print('ridge regression linear model intercept: {}'\n",
    "     .format(linridge.intercept_))\n",
    "print('ridge regression linear model coeff:\\n{}'\n",
    "     .format(linridge.coef_))\n",
    "print('R-squared score (training): {:.3f}'\n",
    "     .format(linridge.score(X_train_scaled, y_train)))\n",
    "print('R-squared score (test): {:.3f}'\n",
    "     .format(linridge.score(X_test_scaled, y_test)))\n",
    "print('Number of non-zero features: {}'\n",
    "     .format(np.sum(linridge.coef_ != 0)))"
   ]
  },
  {
   "cell_type": "code",
   "execution_count": 325,
   "metadata": {},
   "outputs": [
    {
     "data": {
      "image/png": "[encoded data removed]",
      "text/plain": [
       "<Figure size 432x288 with 1 Axes>"
      ]
     },
     "metadata": {
      "needs_background": "light"
     },
     "output_type": "display_data"
    }
   ],
   "source": [
    "plot_learning_curves(linridge,X,y)"
   ]
  },
  {
   "cell_type": "code",
   "execution_count": 326,
   "metadata": {},
   "outputs": [
    {
     "name": "stdout",
     "output_type": "stream",
     "text": [
      "Ridge regression: effect of alpha regularization parameter\n",
      "\n",
      "Alpha = 0.00\n",
      "num abs(coeff) > 1.0: 5, r-squared training: 0.42, r-squared test: 0.44\n",
      "\n",
      "Alpha = 1.00\n",
      "num abs(coeff) > 1.0: 5, r-squared training: 0.41, r-squared test: 0.44\n",
      "\n",
      "Alpha = 10.00\n",
      "num abs(coeff) > 1.0: 5, r-squared training: 0.32, r-squared test: 0.33\n",
      "\n",
      "Alpha = 20.00\n",
      "num abs(coeff) > 1.0: 5, r-squared training: 0.26, r-squared test: 0.27\n",
      "\n",
      "Alpha = 50.00\n",
      "num abs(coeff) > 1.0: 5, r-squared training: 0.18, r-squared test: 0.18\n",
      "\n",
      "Alpha = 100.00\n",
      "num abs(coeff) > 1.0: 5, r-squared training: 0.11, r-squared test: 0.11\n",
      "\n",
      "Alpha = 1000.00\n",
      "num abs(coeff) > 1.0: 2, r-squared training: 0.02, r-squared test: 0.01\n",
      "\n"
     ]
    }
   ],
   "source": [
    "print('Ridge regression: effect of alpha regularization parameter\\n')\n",
    "for this_alpha in [0, 1, 10, 20, 50, 100, 1000]:\n",
    "    linridge = Ridge(alpha = this_alpha).fit(X_train_scaled, y_train)\n",
    "    r2_train = linridge.score(X_train_scaled, y_train)\n",
    "    r2_test = linridge.score(X_test_scaled, y_test)\n",
    "    num_coeff_bigger = np.sum(abs(linridge.coef_) > 1.0)\n",
    "    print('Alpha = {:.2f}\\nnum abs(coeff) > 1.0: {}, \\\n",
    "r-squared training: {:.2f}, r-squared test: {:.2f}\\n'\n",
    "         .format(this_alpha, num_coeff_bigger, r2_train, r2_test))"
   ]
  },
  {
   "cell_type": "markdown",
   "metadata": {},
   "source": [
    "## Lasso Regression"
   ]
  },
  {
   "cell_type": "code",
   "execution_count": 327,
   "metadata": {},
   "outputs": [
    {
     "name": "stdout",
     "output_type": "stream",
     "text": [
      "lasso regression linear model intercept: 51.4179473980567\n",
      "lasso regression linear model coeff:\n",
      "[31.23253863  4.62098601 21.37208733  0.         12.45041015]\n",
      "Non-zero features: 4\n",
      "R-squared score (training): 0.219\n",
      "R-squared score (test): 0.223\n",
      "\n",
      "Features with non-zero weight (sorted by absolute magnitude):\n",
      "\tDefense, 31.233\n",
      "\tSp. Atk, 21.372\n",
      "\tSpeed, 12.450\n",
      "\tHP, 4.621\n"
     ]
    }
   ],
   "source": [
    "from sklearn.linear_model import Lasso\n",
    "from sklearn.preprocessing import MinMaxScaler\n",
    "scaler = MinMaxScaler()\n",
    "\n",
    "X_train, X_test, y_train, y_test = train_test_split(X, y, random_state = 0)\n",
    "\n",
    "X_train_scaled = scaler.fit_transform(X_train)\n",
    "X_test_scaled = scaler.transform(X_test)\n",
    "\n",
    "linlasso = Lasso(alpha=1, max_iter = 10000).fit(X_train_scaled, y_train)\n",
    "\n",
    "print('lasso regression linear model intercept: {}'\n",
    "     .format(linlasso.intercept_))\n",
    "print('lasso regression linear model coeff:\\n{}'\n",
    "     .format(linlasso.coef_))\n",
    "print('Non-zero features: {}'\n",
    "     .format(np.sum(linlasso.coef_ != 0)))\n",
    "print('R-squared score (training): {:.3f}'\n",
    "     .format(linlasso.score(X_train_scaled, y_train)))\n",
    "print('R-squared score (test): {:.3f}\\n'\n",
    "     .format(linlasso.score(X_test_scaled, y_test)))\n",
    "print('Features with non-zero weight (sorted by absolute magnitude):')\n",
    "\n",
    "for e in sorted (list(zip(list(X), linlasso.coef_)),\n",
    "                key = lambda e: -abs(e[1])):\n",
    "    if e[1] != 0:\n",
    "        print('\\t{}, {:.3f}'.format(e[0], e[1]))"
   ]
  },
  {
   "cell_type": "code",
   "execution_count": 329,
   "metadata": {},
   "outputs": [
    {
     "name": "stderr",
     "output_type": "stream",
     "text": [
      "c:\\users\\shaun\\appdata\\local\\programs\\python\\python37\\lib\\site-packages\\sklearn\\linear_model\\_coordinate_descent.py:531: ConvergenceWarning: Objective did not converge. You might want to increase the number of iterations. Duality gap: 0.0, tolerance: 0.0\n",
      "  positive)\n"
     ]
    },
    {
     "data": {
      "image/png": "[encoded data removed]",
      "text/plain": [
       "<Figure size 432x288 with 1 Axes>"
      ]
     },
     "metadata": {
      "needs_background": "light"
     },
     "output_type": "display_data"
    }
   ],
   "source": [
    "plot_learning_curves(linlasso,X,y)"
   ]
  },
  {
   "cell_type": "code",
   "execution_count": 330,
   "metadata": {},
   "outputs": [
    {
     "name": "stdout",
     "output_type": "stream",
     "text": [
      "Lasso regression: effect of alpha regularization\n",
      "parameter on number of features kept in final model\n",
      "\n",
      "Alpha = 0.50\n",
      "Features kept: 4, r-squared training: 0.34, r-squared test: 0.35\n",
      "\n",
      "Alpha = 1.00\n",
      "Features kept: 4, r-squared training: 0.22, r-squared test: 0.22\n",
      "\n",
      "Alpha = 2.00\n",
      "Features kept: 1, r-squared training: 0.01, r-squared test: 0.00\n",
      "\n",
      "Alpha = 3.00\n",
      "Features kept: 0, r-squared training: 0.00, r-squared test: -0.01\n",
      "\n",
      "Alpha = 5.00\n",
      "Features kept: 0, r-squared training: 0.00, r-squared test: -0.01\n",
      "\n",
      "Alpha = 10.00\n",
      "Features kept: 0, r-squared training: 0.00, r-squared test: -0.01\n",
      "\n",
      "Alpha = 20.00\n",
      "Features kept: 0, r-squared training: 0.00, r-squared test: -0.01\n",
      "\n",
      "Alpha = 50.00\n",
      "Features kept: 0, r-squared training: 0.00, r-squared test: -0.01\n",
      "\n"
     ]
    }
   ],
   "source": [
    "\n",
    "print('Lasso regression: effect of alpha regularization\\n\\\n",
    "parameter on number of features kept in final model\\n')\n",
    "\n",
    "for alpha in [0.5, 1, 2, 3, 5, 10, 20, 50]:\n",
    "    linlasso = Lasso(alpha, max_iter = 10000).fit(X_train_scaled, y_train)\n",
    "    r2_train = linlasso.score(X_train_scaled, y_train)\n",
    "    r2_test = linlasso.score(X_test_scaled, y_test)\n",
    "    \n",
    "    print('Alpha = {:.2f}\\nFeatures kept: {}, r-squared training: {:.2f}, \\\n",
    "r-squared test: {:.2f}\\n'\n",
    "         .format(alpha, np.sum(linlasso.coef_ != 0), r2_train, r2_test))"
   ]
  },
  {
   "cell_type": "markdown",
   "metadata": {},
   "source": [
    "## Polynomial regression"
   ]
  },
  {
   "cell_type": "code",
   "execution_count": 340,
   "metadata": {},
   "outputs": [],
   "source": [
    "from sklearn.preprocessing import PolynomialFeatures\n",
    "from sklearn.model_selection import KFold # import k-fold validation\n",
    "from sklearn.metrics import classification_report\n",
    "from sklearn.metrics import mean_squared_error\n",
    "from math import sqrt\n",
    "from sklearn.model_selection import train_test_split\n",
    "    \n",
    "X = df[['HP']]\n",
    "y = df['Attack']\n",
    "\n",
    "def plot_learning_curves(model, X, y):\n",
    "    X_train, X_val, y_train, y_val = train_test_split(X, y, test_size=0.2, random_state=10)\n",
    "    \n",
    "    train_errors, val_errors = [], []\n",
    "    \n",
    "    for m in range(1, len(X_train)):\n",
    "        model.fit(X_train[:m], y_train[:m])\n",
    "        y_train_predict = model.predict(X_train[:m])\n",
    "        y_val_predict = model.predict(X_val)\n",
    "        train_errors.append(mean_squared_error(y_train[:m], y_train_predict))\n",
    "        val_errors.append(mean_squared_error(y_val, y_val_predict))\n",
    "        \n",
    "    plt.plot(np.sqrt(train_errors), \"r-+\", linewidth=2, label=\"train\")\n",
    "    plt.plot(np.sqrt(val_errors), \"b-\", linewidth=3, label=\"val\")\n",
    "    plt.legend(loc=\"upper right\", fontsize=14)   # not shown in the book\n",
    "    plt.xlabel(\"Training set size\", fontsize=14) # not shown\n",
    "    plt.ylabel(\"RMSE\", fontsize=14)              # not shown"
   ]
  },
  {
   "cell_type": "code",
   "execution_count": 341,
   "metadata": {},
   "outputs": [
    {
     "name": "stdout",
     "output_type": "stream",
     "text": [
      "POLYNOMIAL DEGREE-2 W/ LINEAR REGRESSION\n",
      "(poly deg 2) linear model coeff (w):\n",
      "[ 0.          1.73626401 -0.00691279]\n",
      "(poly deg 2) linear model intercept (b): -6.327\n",
      "(poly deg 2) R-squared score (training): 0.323\n",
      "(poly deg 2) R-squared score (test): 0.320\n",
      "(poly deg 2) RMSE score (train): 24.717\n",
      "(poly deg 2) RMSE score (test): 24.249\n",
      "\n",
      "POLYNOMIAL DEGREE-3 W/ LINEAR REGRESSION\n",
      "(poly deg 3) linear model coeff (w):\n",
      "[ 0.00000000e+00  1.47304682e+00 -4.10179920e-03 -8.16642267e-06]\n",
      "(poly deg 3) linear model intercept (b): 0.628\n",
      "(poly deg 3) R-squared score (training): 0.324\n",
      "(poly deg 3) R-squared score (test): 0.318\n",
      "(poly deg 3) RMSE score (train): 24.702\n",
      "(poly deg 3) RMSE score (test): 24.276\n",
      "\n",
      "POLYNOMIAL DEGREE-5 W/ LINEAR REGRESSION\n",
      "(poly deg 5) linear model coeff (w):\n",
      "[ 0.00000000e+00 -2.50873352e+00  8.06158305e-02 -7.83143887e-04\n",
      "  3.07805417e-06 -4.36221637e-09]\n",
      "(poly deg 5) linear model intercept (b): 64.435\n",
      "(poly deg 5) R-squared score (training): 0.341\n",
      "(poly deg 5) R-squared score (test): 0.313\n",
      "(poly deg 5) RMSE score (train): 24.396\n",
      "(poly deg 5) RMSE score (test): 24.366\n",
      "\n",
      "POLYNOMIAL DEGREE-10 W/ LINEAR REGRESSION\n",
      "(poly deg 10) linear model coeff (w):\n",
      "[ 0.00000000e+00 -2.30815584e-08  7.68931413e-12  3.68192822e-10\n",
      "  1.40440428e-08  3.09867818e-07 -9.05829355e-09  1.06572016e-10\n",
      " -6.25071865e-13  1.81630109e-15 -2.08314188e-18]\n",
      "(poly deg 10) linear model intercept (b): 42.307\n",
      "(poly deg 10) R-squared score (training): 0.339\n",
      "(poly deg 10) R-squared score (test): -5.379\n",
      "(poly deg 10) RMSE score (train): 24.418\n",
      "(poly deg 10) RMSE score (test): 74.251\n",
      "\n"
     ]
    },
    {
     "data": {
      "image/png": "[encoded data removed]",
      "text/plain": [
       "<Figure size 432x288 with 1 Axes>"
      ]
     },
     "metadata": {
      "needs_background": "light"
     },
     "output_type": "display_data"
    }
   ],
   "source": [
    "for degree in [2, 3, 5,10]:\n",
    "    poly = PolynomialFeatures(degree)\n",
    "    X_F1_poly = poly.fit_transform(X)\n",
    "    \n",
    "    X_train, X_test, y_train, y_test = train_test_split(X_F1_poly, y, random_state=0)\n",
    "    linreg = LinearRegression().fit(X_train, y_train)\n",
    "\n",
    "    print('POLYNOMIAL DEGREE-{} W/ LINEAR REGRESSION'.format(degree))\n",
    "    print('(poly deg {}) linear model coeff (w):\\n{}'\n",
    "         .format(degree, linreg.coef_))\n",
    "    print('(poly deg {}) linear model intercept (b): {:.3f}'\n",
    "         .format(degree, linreg.intercept_))\n",
    "    print('(poly deg {}) R-squared score (training): {:.3f}'\n",
    "         .format(degree, linreg.score(X_train, y_train)))\n",
    "    print('(poly deg {}) R-squared score (test): {:.3f}'\n",
    "         .format(degree, linreg.score(X_test, y_test)))\n",
    "    print('(poly deg {}) RMSE score (train): {:.3f}'\n",
    "         .format(degree, sqrt(mean_squared_error(y_train, linreg.predict(X_train)))))\n",
    "    print('(poly deg {}) RMSE score (test): {:.3f}\\n'\n",
    "         .format(degree, sqrt(mean_squared_error(y_test, linreg.predict(X_test)))))\n",
    "\n",
    "plot_learning_curves(linreg,  X,y)"
   ]
  },
  {
   "cell_type": "code",
   "execution_count": 342,
   "metadata": {},
   "outputs": [
    {
     "name": "stdout",
     "output_type": "stream",
     "text": [
      "POLYNOMIAL DEGREE-2 W/ RIDGE REGRESSION\n",
      "(poly deg 2) linear model coeff (w):\n",
      "[ 0.          1.73621897 -0.00691255]\n",
      "(poly deg 2) linear model intercept (b): -6.325\n",
      "(poly deg 2) R-squared score (training): 0.323\n",
      "(poly deg 2) R-squared score (test): 0.320\n",
      "(poly deg 2) RMSE score (train): 24.717\n",
      "(poly deg 2) RMSE score (test): 24.249\n",
      "\n",
      "POLYNOMIAL DEGREE-3 W/ RIDGE REGRESSION\n",
      "(poly deg 3) linear model coeff (w):\n",
      "[ 0.00000000e+00  1.47276330e+00 -4.09898156e-03 -8.17403368e-06]\n",
      "(poly deg 3) linear model intercept (b): 0.636\n",
      "(poly deg 3) R-squared score (training): 0.324\n",
      "(poly deg 3) R-squared score (test): 0.318\n",
      "(poly deg 3) RMSE score (train): 24.702\n",
      "(poly deg 3) RMSE score (test): 24.276\n",
      "\n",
      "POLYNOMIAL DEGREE-5 W/ RIDGE REGRESSION\n",
      "(poly deg 5) linear model coeff (w):\n",
      "[ 0.00000000e+00 -2.50118554e+00  8.04409296e-02 -7.81351547e-04\n",
      "  3.06986891e-06 -4.34876994e-09]\n",
      "(poly deg 5) linear model intercept (b): 64.321\n",
      "(poly deg 5) R-squared score (training): 0.341\n",
      "(poly deg 5) R-squared score (test): 0.313\n",
      "(poly deg 5) RMSE score (train): 24.396\n",
      "(poly deg 5) RMSE score (test): 24.365\n",
      "\n",
      "POLYNOMIAL DEGREE-10 W/ RIDGE REGRESSION\n",
      "(poly deg 10) linear model coeff (w):\n",
      "[ 0.00000000e+00 -1.10084505e+01  6.41997709e-01 -1.73778627e-02\n",
      "  2.49805012e-04 -1.58816883e-06 -3.40456160e-09  1.24865792e-10\n",
      " -8.26738306e-13  2.41930099e-15 -2.72071667e-18]\n",
      "(poly deg 10) linear model intercept (b): 97.506\n",
      "(poly deg 10) R-squared score (training): 0.347\n",
      "(poly deg 10) R-squared score (test): -5.390\n",
      "(poly deg 10) RMSE score (train): 24.277\n",
      "(poly deg 10) RMSE score (test): 74.313\n",
      "\n"
     ]
    },
    {
     "name": "stderr",
     "output_type": "stream",
     "text": [
      "c:\\users\\shaun\\appdata\\local\\programs\\python\\python37\\lib\\site-packages\\sklearn\\linear_model\\_ridge.py:148: LinAlgWarning: Ill-conditioned matrix (rcond=9.49706e-25): result may not be accurate.\n",
      "  overwrite_a=True).T\n",
      "c:\\users\\shaun\\appdata\\local\\programs\\python\\python37\\lib\\site-packages\\sklearn\\linear_model\\_ridge.py:148: LinAlgWarning: Ill-conditioned matrix (rcond=1.09263e-48): result may not be accurate.\n",
      "  overwrite_a=True).T\n"
     ]
    },
    {
     "data": {
      "image/png": "[encoded data removed]",
      "text/plain": [
       "<Figure size 432x288 with 1 Axes>"
      ]
     },
     "metadata": {
      "needs_background": "light"
     },
     "output_type": "display_data"
    }
   ],
   "source": [
    "for degree in [2, 3, 5, 10]:\n",
    "    poly = PolynomialFeatures(degree)\n",
    "    X_F1_poly = poly.fit_transform(X)\n",
    "\n",
    "    X_train, X_test, y_train, y_test = train_test_split(X_F1_poly, y, random_state=0)\n",
    "    linreg = Ridge().fit(X_train, y_train)\n",
    "\n",
    "    print('POLYNOMIAL DEGREE-{} W/ RIDGE REGRESSION'.format(degree))\n",
    "    print('(poly deg {}) linear model coeff (w):\\n{}'\n",
    "         .format(degree, linreg.coef_))\n",
    "    print('(poly deg {}) linear model intercept (b): {:.3f}'\n",
    "         .format(degree, linreg.intercept_))\n",
    "    print('(poly deg {}) R-squared score (training): {:.3f}'\n",
    "         .format(degree, linreg.score(X_train, y_train)))\n",
    "    print('(poly deg {}) R-squared score (test): {:.3f}'\n",
    "         .format(degree, linreg.score(X_test, y_test)))\n",
    "    print('(poly deg {}) RMSE score (train): {:.3f}'\n",
    "         .format(degree, sqrt(mean_squared_error(y_train, linreg.predict(X_train)))))\n",
    "    print('(poly deg {}) RMSE score (test): {:.3f}\\n'\n",
    "         .format(degree, sqrt(mean_squared_error(y_test, linreg.predict(X_test)))))\n",
    "\n",
    "plot_learning_curves(linreg,  X,y)"
   ]
  }
 ],
 "metadata": {
  "colab": {
   "collapsed_sections": [],
   "name": "DAP3.ipynb",
   "provenance": [],
   "toc_visible": true
  },
  "kernelspec": {
   "display_name": "Python 3",
   "language": "python",
   "name": "python3"
  },
  "language_info": {
   "codemirror_mode": {
    "name": "ipython",
    "version": 3
   },
   "file_extension": ".py",
   "mimetype": "text/x-python",
   "name": "python",
   "nbconvert_exporter": "python",
   "pygments_lexer": "ipython3",
   "version": "3.7.0"
  }
 },
 "nbformat": 4,
 "nbformat_minor": 1
}
