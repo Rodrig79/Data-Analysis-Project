{
 "cells": [
  {
   "cell_type": "code",
   "execution_count": 6,
   "metadata": {
    "colab": {},
    "colab_type": "code",
    "id": "y2E1jbS4ZluC",
    "scrolled": false,
    "tags": []
   },
   "outputs": [
    {
     "name": "stdout",
     "output_type": "stream",
     "text": [
      "Requirement already satisfied: scikit-learn in c:\\users\\shaun\\appdata\\local\\programs\\python\\python37\\lib\\site-packages (0.23.2)Note: you may need to restart the kernel to use updated packages.\n"
     ]
    },
    {
     "name": "stderr",
     "output_type": "stream",
     "text": [
      "WARNING: You are using pip version 20.2.1; however, version 20.2.2 is available.\n",
      "You should consider upgrading via the 'c:\\users\\shaun\\appdata\\local\\programs\\python\\python37\\python.exe -m pip install --upgrade pip' command.\n"
     ]
    },
    {
     "name": "stdout",
     "output_type": "stream",
     "text": [
      "\n",
      "Requirement already satisfied: threadpoolctl>=2.0.0 in c:\\users\\shaun\\appdata\\local\\programs\\python\\python37\\lib\\site-packages (from scikit-learn) (2.1.0)\n",
      "Requirement already satisfied: scipy>=0.19.1 in c:\\users\\shaun\\appdata\\local\\programs\\python\\python37\\lib\\site-packages (from scikit-learn) (1.5.2)\n",
      "Requirement already satisfied: joblib>=0.11 in c:\\users\\shaun\\appdata\\local\\programs\\python\\python37\\lib\\site-packages (from scikit-learn) (0.16.0)\n",
      "Requirement already satisfied: numpy>=1.13.3 in c:\\users\\shaun\\appdata\\local\\programs\\python\\python37\\lib\\site-packages (from scikit-learn) (1.16.4)\n",
      "Requirement already satisfied: pandas in c:\\users\\shaun\\appdata\\local\\programs\\python\\python37\\lib\\site-packages (1.1.0)\n",
      "Requirement already satisfied: pytz>=2017.2 in c:\\users\\shaun\\appdata\\local\\programs\\python\\python37\\lib\\site-packages (from pandas) (2020.1)\n",
      "Requirement already satisfied: python-dateutil>=2.7.3 in c:\\users\\shaun\\appdata\\local\\programs\\python\\python37\\lib\\site-packages (from pandas) (2.8.1)\n",
      "Requirement already satisfied: numpy>=1.15.4 in c:\\users\\shaun\\appdata\\local\\programs\\python\\python37\\lib\\site-packages (from pandas) (1.16.4)\n",
      "Requirement already satisfied: six>=1.5 in c:\\users\\shaun\\appdata\\roaming\\python\\python37\\site-packages (from python-dateutil>=2.7.3->pandas) (1.12.0)\n",
      "Note: you may need to restart the kernel to use updated packages.\n"
     ]
    },
    {
     "name": "stderr",
     "output_type": "stream",
     "text": [
      "WARNING: You are using pip version 20.2.1; however, version 20.2.2 is available.\n",
      "You should consider upgrading via the 'c:\\users\\shaun\\appdata\\local\\programs\\python\\python37\\python.exe -m pip install --upgrade pip' command.\n"
     ]
    },
    {
     "name": "stdout",
     "output_type": "stream",
     "text": [
      "Requirement already satisfied: matplotlib in c:\\users\\shaun\\appdata\\local\\programs\\python\\python37\\lib\\site-packages (3.3.0)\n",
      "Requirement already satisfied: pyparsing!=2.0.4,!=2.1.2,!=2.1.6,>=2.0.3 in c:\\users\\shaun\\appdata\\local\\programs\\python\\python37\\lib\\site-packages (from matplotlib) (2.4.7)\n",
      "Requirement already satisfied: numpy>=1.15 in c:\\users\\shaun\\appdata\\local\\programs\\python\\python37\\lib\\site-packages (from matplotlib) (1.16.4)\n",
      "Requirement already satisfied: python-dateutil>=2.1 in c:\\users\\shaun\\appdata\\local\\programs\\python\\python37\\lib\\site-packages (from matplotlib) (2.8.1)\n",
      "Requirement already satisfied: kiwisolver>=1.0.1 in c:\\users\\shaun\\appdata\\local\\programs\\python\\python37\\lib\\site-packages (from matplotlib) (1.2.0)\n",
      "Requirement already satisfied: pillow>=6.2.0 in c:\\users\\shaun\\appdata\\local\\programs\\python\\python37\\lib\\site-packages (from matplotlib) (7.2.0)\n",
      "Requirement already satisfied: cycler>=0.10 in c:\\users\\shaun\\appdata\\local\\programs\\python\\python37\\lib\\site-packages (from matplotlib) (0.10.0)\n",
      "Note: you may need to restart the kernel to use updated packages.\n",
      "Requirement already satisfied: six>=1.5 in c:\\users\\shaun\\appdata\\roaming\\python\\python37\\site-packages (from python-dateutil>=2.1->matplotlib) (1.12.0)"
     ]
    },
    {
     "name": "stderr",
     "output_type": "stream",
     "text": [
      "WARNING: You are using pip version 20.2.1; however, version 20.2.2 is available.\n",
      "You should consider upgrading via the 'c:\\users\\shaun\\appdata\\local\\programs\\python\\python37\\python.exe -m pip install --upgrade pip' command.\n"
     ]
    },
    {
     "name": "stdout",
     "output_type": "stream",
     "text": [
      "\n",
      "Requirement already satisfied: seaborn in c:\\users\\shaun\\appdata\\local\\programs\\python\\python37\\lib\\site-packages (0.10.1)\n",
      "Requirement already satisfied: pandas>=0.22.0 in c:\\users\\shaun\\appdata\\local\\programs\\python\\python37\\lib\\site-packages (from seaborn) (1.1.0)\n",
      "Requirement already satisfied: numpy>=1.13.3 in c:\\users\\shaun\\appdata\\local\\programs\\python\\python37\\lib\\site-packages (from seaborn) (1.16.4)\n",
      "Requirement already satisfied: scipy>=1.0.1 in c:\\users\\shaun\\appdata\\local\\programs\\python\\python37\\lib\\site-packages (from seaborn) (1.5.2)\n",
      "Requirement already satisfied: matplotlib>=2.1.2 in c:\\users\\shaun\\appdata\\local\\programs\\python\\python37\\lib\\site-packages (from seaborn) (3.3.0)\n",
      "Requirement already satisfied: pytz>=2017.2 in c:\\users\\shaun\\appdata\\local\\programs\\python\\python37\\lib\\site-packages (from pandas>=0.22.0->seaborn) (2020.1)\n",
      "Requirement already satisfied: python-dateutil>=2.7.3 in c:\\users\\shaun\\appdata\\local\\programs\\python\\python37\\lib\\site-packages (from pandas>=0.22.0->seaborn) (2.8.1)\n",
      "Requirement already satisfied: kiwisolver>=1.0.1 in c:\\users\\shaun\\appdata\\local\\programs\\python\\python37\\lib\\site-packages (from matplotlib>=2.1.2->seaborn) (1.2.0)\n",
      "Requirement already satisfied: pillow>=6.2.0 in c:\\users\\shaun\\appdata\\local\\programs\\python\\python37\\lib\\site-packages (from matplotlib>=2.1.2->seaborn) (7.2.0)\n",
      "Requirement already satisfied: pyparsing!=2.0.4,!=2.1.2,!=2.1.6,>=2.0.3 in c:\\users\\shaun\\appdata\\local\\programs\\python\\python37\\lib\\site-packages (from matplotlib>=2.1.2->seaborn) (2.4.7)\n",
      "Requirement already satisfied: cycler>=0.10 in c:\\users\\shaun\\appdata\\local\\programs\\python\\python37\\lib\\site-packages (from matplotlib>=2.1.2->seaborn) (0.10.0)\n",
      "Requirement already satisfied: six>=1.5 in c:\\users\\shaun\\appdata\\roaming\\python\\python37\\site-packages (from python-dateutil>=2.7.3->pandas>=0.22.0->seaborn) (1.12.0)\n",
      "Note: you may need to restart the kernel to use updated packages.\n"
     ]
    },
    {
     "name": "stderr",
     "output_type": "stream",
     "text": [
      "WARNING: You are using pip version 20.2.1; however, version 20.2.2 is available.\n",
      "You should consider upgrading via the 'c:\\users\\shaun\\appdata\\local\\programs\\python\\python37\\python.exe -m pip install --upgrade pip' command.\n"
     ]
    },
    {
     "name": "stdout",
     "output_type": "stream",
     "text": [
      "Requirement already satisfied: graphviz in c:\\users\\shaun\\appdata\\local\\programs\\python\\python37\\lib\\site-packages (0.14.1)\n",
      "Note: you may need to restart the kernel to use updated packages.\n"
     ]
    },
    {
     "name": "stderr",
     "output_type": "stream",
     "text": [
      "WARNING: You are using pip version 20.2.1; however, version 20.2.2 is available.\n",
      "You should consider upgrading via the 'c:\\users\\shaun\\appdata\\local\\programs\\python\\python37\\python.exe -m pip install --upgrade pip' command.\n"
     ]
    },
    {
     "name": "stdout",
     "output_type": "stream",
     "text": [
      "Requirement already satisfied: scikit-plot in c:\\users\\shaun\\appdata\\local\\programs\\python\\python37\\lib\\site-packages (0.3.7)\n",
      "Requirement already satisfied: scipy>=0.9 in c:\\users\\shaun\\appdata\\local\\programs\\python\\python37\\lib\\site-packages (from scikit-plot) (1.5.2)\n",
      "Requirement already satisfied: joblib>=0.10 in c:\\users\\shaun\\appdata\\local\\programs\\python\\python37\\lib\\site-packages (from scikit-plot) (0.16.0)\n",
      "Requirement already satisfied: scikit-learn>=0.18 in c:\\users\\shaun\\appdata\\local\\programs\\python\\python37\\lib\\site-packages (from scikit-plot) (0.23.2)\n",
      "Requirement already satisfied: matplotlib>=1.4.0 in c:\\users\\shaun\\appdata\\local\\programs\\python\\python37\\lib\\site-packages (from scikit-plot) (3.3.0)\n",
      "Requirement already satisfied: numpy>=1.14.5 in c:\\users\\shaun\\appdata\\local\\programs\\python\\python37\\lib\\site-packages (from scipy>=0.9->scikit-plot) (1.16.4)\n",
      "Requirement already satisfied: threadpoolctl>=2.0.0 in c:\\users\\shaun\\appdata\\local\\programs\\python\\python37\\lib\\site-packages (from scikit-learn>=0.18->scikit-plot) (2.1.0)\n",
      "Requirement already satisfied: python-dateutil>=2.1 in c:\\users\\shaun\\appdata\\local\\programs\\python\\python37\\lib\\site-packages (from matplotlib>=1.4.0->scikit-plot) (2.8.1)\n",
      "Requirement already satisfied: pillow>=6.2.0 in c:\\users\\shaun\\appdata\\local\\programs\\python\\python37\\lib\\site-packages (from matplotlib>=1.4.0->scikit-plot) (7.2.0)\n",
      "Requirement already satisfied: kiwisolver>=1.0.1 in c:\\users\\shaun\\appdata\\local\\programs\\python\\python37\\lib\\site-packages (from matplotlib>=1.4.0->scikit-plot) (1.2.0)\n",
      "Requirement already satisfied: pyparsing!=2.0.4,!=2.1.2,!=2.1.6,>=2.0.3 in c:\\users\\shaun\\appdata\\local\\programs\\python\\python37\\lib\\site-packages (from matplotlib>=1.4.0->scikit-plot) (2.4.7)\n",
      "Requirement already satisfied: cycler>=0.10 in c:\\users\\shaun\\appdata\\local\\programs\\python\\python37\\lib\\site-packages (from matplotlib>=1.4.0->scikit-plot) (0.10.0)\n",
      "Requirement already satisfied: six>=1.5 in c:\\users\\shaun\\appdata\\roaming\\python\\python37\\site-packages (from python-dateutil>=2.1->matplotlib>=1.4.0->scikit-plot) (1.12.0)\n",
      "Note: you may need to restart the kernel to use updated packages.\n"
     ]
    },
    {
     "name": "stderr",
     "output_type": "stream",
     "text": [
      "WARNING: You are using pip version 20.2.1; however, version 20.2.2 is available.\n",
      "You should consider upgrading via the 'c:\\users\\shaun\\appdata\\local\\programs\\python\\python37\\python.exe -m pip install --upgrade pip' command.\n",
      "WARNING: You are using pip version 20.2.1; however, version 20.2.2 is available.\n",
      "You should consider upgrading via the 'c:\\users\\shaun\\appdata\\local\\programs\\python\\python37\\python.exe -m pip install --upgrade pip' command.\n"
     ]
    },
    {
     "name": "stdout",
     "output_type": "stream",
     "text": [
      "Requirement already satisfied: statsmodels in c:\\users\\shaun\\appdata\\local\\programs\\python\\python37\\lib\\site-packages (0.11.1)\n",
      "Requirement already satisfied: patsy>=0.5 in c:\\users\\shaun\\appdata\\local\\programs\\python\\python37\\lib\\site-packages (from statsmodels) (0.5.1)\n",
      "Requirement already satisfied: scipy>=1.0 in c:\\users\\shaun\\appdata\\local\\programs\\python\\python37\\lib\\site-packages (from statsmodels) (1.5.2)\n",
      "Requirement already satisfied: pandas>=0.21 in c:\\users\\shaun\\appdata\\local\\programs\\python\\python37\\lib\\site-packages (from statsmodels) (1.1.0)\n",
      "Requirement already satisfied: numpy>=1.14 in c:\\users\\shaun\\appdata\\local\\programs\\python\\python37\\lib\\site-packages (from statsmodels) (1.16.4)\n",
      "Requirement already satisfied: six in c:\\users\\shaun\\appdata\\roaming\\python\\python37\\site-packages (from patsy>=0.5->statsmodels) (1.12.0)\n",
      "Requirement already satisfied: python-dateutil>=2.7.3 in c:\\users\\shaun\\appdata\\local\\programs\\python\\python37\\lib\\site-packages (from pandas>=0.21->statsmodels) (2.8.1)\n",
      "Requirement already satisfied: pytz>=2017.2 in c:\\users\\shaun\\appdata\\local\\programs\\python\\python37\\lib\\site-packages (from pandas>=0.21->statsmodels) (2020.1)\n",
      "Note: you may need to restart the kernel to use updated packages.\n"
     ]
    }
   ],
   "source": [
    "#If you need to install in modules in jupyter notebook \n",
    "%pip install scikit-learn\n",
    "%pip install pandas\n",
    "%pip install matplotlib \n",
    "%pip install seaborn \n",
    "%pip install graphviz\n",
    "%pip install scikit-plot   \n",
    "%pip install statsmodels   \n",
    "\n",
    "\n",
    "#Python ≥3.5 is required\n",
    "import sys\n",
    "assert sys.version_info >= (3, 5)\n",
    "import datetime # Scikit-Learn ≥0.20 is required\n",
    "import sklearn\n",
    "assert sklearn.__version__ >= \"0.20\"\n",
    "\n",
    "\n",
    "# Common imports\n",
    "import numpy as np\n",
    "import pandas as pd\n",
    "import os\n",
    "from sklearn.model_selection import train_test_split\n",
    "import matplotlib.pyplot as plt\n",
    "from scipy import stats\n",
    "import scikitplot as skplt\n",
    "from sklearn.neighbors import KNeighborsClassifier  \n",
    "from sklearn.linear_model import LinearRegression\n",
    "# To plot pretty figures\n",
    "%matplotlib inline\n",
    "import matplotlib as mpl\n",
    "import matplotlib.pyplot as plt\n",
    "mpl.rc('axes', labelsize=14)\n",
    "mpl.rc('xtick', labelsize=12)\n",
    "mpl.rc('ytick', labelsize=12)\n",
    "from sklearn.model_selection import KFold\n",
    "from sklearn.metrics import mean_squared_error\n",
    "from sklearn.metrics import r2_score\n",
    "from sklearn.preprocessing import StandardScaler\n",
    "\n",
    "# to make this notebook's output stable across runs\n",
    "np.random.seed(42)\n",
    "\n",
    "# Where to save the figures\n",
    "PROJECT_ROOT_DIR = \".\"\n",
    "CHAPTER_ID = \"decision_trees\"\n",
    "IMAGES_PATH = os.path.join(PROJECT_ROOT_DIR, \"images\", CHAPTER_ID)\n",
    "\n",
    "os.makedirs(IMAGES_PATH, exist_ok=True)\n",
    "def save_fig(fig_id, tight_layout=True, fig_extension=\"png\", resolution=300):\n",
    "\n",
    "    path = os.path.join(IMAGES_PATH, fig_id + \".\" + fig_extension)\n",
    "    print(\"Saving figure\", fig_id)\n",
    "    if tight_layout:\n",
    "        plt.tight_layout()\n",
    "    plt.savefig(path, format=fig_extension, dpi=resolution)"
   ]
  },
  {
   "cell_type": "code",
   "execution_count": 7,
   "metadata": {
    "colab": {},
    "colab_type": "code",
    "id": "IvsV2RSPapC6",
    "scrolled": false
   },
   "outputs": [],
   "source": [
    "#changes the output for the print statements\n",
    "pd.set_option('display.max_rows', 10)\n",
    "pd.set_option('display.max_columns', None)\n",
    "pd.set_option('display.width', None)\n",
    "pd.set_option('display.max_colwidth',0)"
   ]
  },
  {
   "cell_type": "code",
   "execution_count": 262,
   "metadata": {
    "colab": {},
    "colab_type": "code",
    "id": "vtW9LfInZ_x2",
    "scrolled": false
   },
   "outputs": [],
   "source": [
    "#Pull \n",
    "df = pd.read_csv('https://raw.githubusercontent.com/Rodrig79/Machine-Learning-Data-Analysis-Project/master/rawData/pokemon.csv') "
   ]
  },
  {
   "cell_type": "code",
   "execution_count": 265,
   "metadata": {},
   "outputs": [
    {
     "ename": "AttributeError",
     "evalue": "'DataFrame' object has no attribute 'Name'",
     "output_type": "error",
     "traceback": [
      "\u001b[1;31m---------------------------------------------------------------------------\u001b[0m",
      "\u001b[1;31mAttributeError\u001b[0m                            Traceback (most recent call last)",
      "\u001b[1;32m<ipython-input-265-737f8718065d>\u001b[0m in \u001b[0;36m<module>\u001b[1;34m\u001b[0m\n\u001b[0;32m      2\u001b[0m \u001b[1;33m\u001b[0m\u001b[0m\n\u001b[0;32m      3\u001b[0m \u001b[1;31m#Data Cleaning\u001b[0m\u001b[1;33m\u001b[0m\u001b[1;33m\u001b[0m\u001b[0m\n\u001b[1;32m----> 4\u001b[1;33m \u001b[0mdf\u001b[0m \u001b[1;33m=\u001b[0m \u001b[0mdf\u001b[0m\u001b[1;33m[\u001b[0m\u001b[1;33m~\u001b[0m\u001b[0mdf\u001b[0m\u001b[1;33m.\u001b[0m\u001b[0mName\u001b[0m\u001b[1;33m.\u001b[0m\u001b[0mstr\u001b[0m\u001b[1;33m.\u001b[0m\u001b[0mcontains\u001b[0m\u001b[1;33m(\u001b[0m\u001b[1;34m'Mega'\u001b[0m\u001b[1;33m)\u001b[0m\u001b[1;33m]\u001b[0m \u001b[1;31m#removed pokemon with \"Mega\" in it\u001b[0m\u001b[1;33m\u001b[0m\u001b[0m\n\u001b[0m\u001b[0;32m      5\u001b[0m \u001b[0mdf\u001b[0m \u001b[1;33m=\u001b[0m \u001b[0mdf\u001b[0m\u001b[1;33m.\u001b[0m\u001b[0mdrop\u001b[0m\u001b[1;33m(\u001b[0m\u001b[0mcolumns\u001b[0m \u001b[1;33m=\u001b[0m \u001b[1;33m[\u001b[0m\u001b[1;34m\"Name\"\u001b[0m\u001b[1;33m,\u001b[0m\u001b[1;34m\"Type 1\"\u001b[0m\u001b[1;33m,\u001b[0m\u001b[1;34m\"Type 2\"\u001b[0m\u001b[1;33m,\u001b[0m\u001b[1;34m\"#\"\u001b[0m\u001b[1;33m,\u001b[0m\u001b[1;34m\"Generation\"\u001b[0m\u001b[1;33m]\u001b[0m\u001b[1;33m)\u001b[0m \u001b[1;31m#Removed columns with names\u001b[0m\u001b[1;33m\u001b[0m\u001b[0m\n\u001b[0;32m      6\u001b[0m \u001b[1;33m\u001b[0m\u001b[0m\n",
      "\u001b[1;32mc:\\users\\shaun\\appdata\\local\\programs\\python\\python37\\lib\\site-packages\\pandas\\core\\generic.py\u001b[0m in \u001b[0;36m__getattr__\u001b[1;34m(self, name)\u001b[0m\n\u001b[0;32m   5128\u001b[0m             \u001b[1;32mif\u001b[0m \u001b[0mself\u001b[0m\u001b[1;33m.\u001b[0m\u001b[0m_info_axis\u001b[0m\u001b[1;33m.\u001b[0m\u001b[0m_can_hold_identifiers_and_holds_name\u001b[0m\u001b[1;33m(\u001b[0m\u001b[0mname\u001b[0m\u001b[1;33m)\u001b[0m\u001b[1;33m:\u001b[0m\u001b[1;33m\u001b[0m\u001b[0m\n\u001b[0;32m   5129\u001b[0m                 \u001b[1;32mreturn\u001b[0m \u001b[0mself\u001b[0m\u001b[1;33m[\u001b[0m\u001b[0mname\u001b[0m\u001b[1;33m]\u001b[0m\u001b[1;33m\u001b[0m\u001b[0m\n\u001b[1;32m-> 5130\u001b[1;33m             \u001b[1;32mreturn\u001b[0m \u001b[0mobject\u001b[0m\u001b[1;33m.\u001b[0m\u001b[0m__getattribute__\u001b[0m\u001b[1;33m(\u001b[0m\u001b[0mself\u001b[0m\u001b[1;33m,\u001b[0m \u001b[0mname\u001b[0m\u001b[1;33m)\u001b[0m\u001b[1;33m\u001b[0m\u001b[0m\n\u001b[0m\u001b[0;32m   5131\u001b[0m \u001b[1;33m\u001b[0m\u001b[0m\n\u001b[0;32m   5132\u001b[0m     \u001b[1;32mdef\u001b[0m \u001b[0m__setattr__\u001b[0m\u001b[1;33m(\u001b[0m\u001b[0mself\u001b[0m\u001b[1;33m,\u001b[0m \u001b[0mname\u001b[0m\u001b[1;33m:\u001b[0m \u001b[0mstr\u001b[0m\u001b[1;33m,\u001b[0m \u001b[0mvalue\u001b[0m\u001b[1;33m)\u001b[0m \u001b[1;33m->\u001b[0m \u001b[1;32mNone\u001b[0m\u001b[1;33m:\u001b[0m\u001b[1;33m\u001b[0m\u001b[0m\n",
      "\u001b[1;31mAttributeError\u001b[0m: 'DataFrame' object has no attribute 'Name'"
     ]
    }
   ],
   "source": [
    "from sklearn import preprocessing\n",
    "\n",
    "#Data Cleaning\n",
    "df = df[~df.Name.str.contains('Mega')] #removed pokemon with \"Mega\" in it\n",
    "df = df.drop(columns = [\"Name\",\"Type 1\",\"Type 2\",\"#\",\"Generation\"]) #Removed columns with names\n",
    "\n",
    "#normalization\n",
    "X = df.values #returns a numpy array\n",
    "min_max_scaler = preprocessing.MinMaxScaler()\n",
    "x_scaled = min_max_scaler.fit_transform(X)\n",
    "df=pd.DataFrame(x_scaled, columns=df.columns)\n"
   ]
  },
  {
   "cell_type": "code",
   "execution_count": 266,
   "metadata": {},
   "outputs": [],
   "source": [
    " #Splitting dataset to x and y\n",
    "y = df.Attack\n",
    "X = df[['Defense','HP','Sp. Atk','Sp. Def','Speed']]"
   ]
  },
  {
   "cell_type": "code",
   "execution_count": 232,
   "metadata": {},
   "outputs": [
    {
     "data": {
      "text/html": [
       "<div>\n",
       "<style scoped>\n",
       "    .dataframe tbody tr th:only-of-type {\n",
       "        vertical-align: middle;\n",
       "    }\n",
       "\n",
       "    .dataframe tbody tr th {\n",
       "        vertical-align: top;\n",
       "    }\n",
       "\n",
       "    .dataframe thead th {\n",
       "        text-align: right;\n",
       "    }\n",
       "</style>\n",
       "<table border=\"1\" class=\"dataframe\">\n",
       "  <thead>\n",
       "    <tr style=\"text-align: right;\">\n",
       "      <th></th>\n",
       "      <th>Defense</th>\n",
       "      <th>HP</th>\n",
       "      <th>Sp. Atk</th>\n",
       "      <th>Sp. Def</th>\n",
       "      <th>Speed</th>\n",
       "    </tr>\n",
       "  </thead>\n",
       "  <tbody>\n",
       "    <tr>\n",
       "      <th>0</th>\n",
       "      <td>49</td>\n",
       "      <td>45</td>\n",
       "      <td>65</td>\n",
       "      <td>65</td>\n",
       "      <td>45</td>\n",
       "    </tr>\n",
       "    <tr>\n",
       "      <th>1</th>\n",
       "      <td>63</td>\n",
       "      <td>60</td>\n",
       "      <td>80</td>\n",
       "      <td>80</td>\n",
       "      <td>60</td>\n",
       "    </tr>\n",
       "    <tr>\n",
       "      <th>2</th>\n",
       "      <td>83</td>\n",
       "      <td>80</td>\n",
       "      <td>100</td>\n",
       "      <td>100</td>\n",
       "      <td>80</td>\n",
       "    </tr>\n",
       "    <tr>\n",
       "      <th>4</th>\n",
       "      <td>43</td>\n",
       "      <td>39</td>\n",
       "      <td>60</td>\n",
       "      <td>50</td>\n",
       "      <td>65</td>\n",
       "    </tr>\n",
       "    <tr>\n",
       "      <th>5</th>\n",
       "      <td>58</td>\n",
       "      <td>58</td>\n",
       "      <td>80</td>\n",
       "      <td>65</td>\n",
       "      <td>80</td>\n",
       "    </tr>\n",
       "    <tr>\n",
       "      <th>...</th>\n",
       "      <td>...</td>\n",
       "      <td>...</td>\n",
       "      <td>...</td>\n",
       "      <td>...</td>\n",
       "      <td>...</td>\n",
       "    </tr>\n",
       "    <tr>\n",
       "      <th>794</th>\n",
       "      <td>121</td>\n",
       "      <td>108</td>\n",
       "      <td>81</td>\n",
       "      <td>95</td>\n",
       "      <td>95</td>\n",
       "    </tr>\n",
       "    <tr>\n",
       "      <th>795</th>\n",
       "      <td>150</td>\n",
       "      <td>50</td>\n",
       "      <td>100</td>\n",
       "      <td>150</td>\n",
       "      <td>50</td>\n",
       "    </tr>\n",
       "    <tr>\n",
       "      <th>797</th>\n",
       "      <td>60</td>\n",
       "      <td>80</td>\n",
       "      <td>150</td>\n",
       "      <td>130</td>\n",
       "      <td>70</td>\n",
       "    </tr>\n",
       "    <tr>\n",
       "      <th>798</th>\n",
       "      <td>60</td>\n",
       "      <td>80</td>\n",
       "      <td>170</td>\n",
       "      <td>130</td>\n",
       "      <td>80</td>\n",
       "    </tr>\n",
       "    <tr>\n",
       "      <th>799</th>\n",
       "      <td>120</td>\n",
       "      <td>80</td>\n",
       "      <td>130</td>\n",
       "      <td>90</td>\n",
       "      <td>70</td>\n",
       "    </tr>\n",
       "  </tbody>\n",
       "</table>\n",
       "<p>751 rows × 5 columns</p>\n",
       "</div>"
      ],
      "text/plain": [
       "     Defense   HP  Sp. Atk  Sp. Def  Speed\n",
       "0    49       45   65       65       45   \n",
       "1    63       60   80       80       60   \n",
       "2    83       80   100      100      80   \n",
       "4    43       39   60       50       65   \n",
       "5    58       58   80       65       80   \n",
       "..   ..       ..   ..       ..       ..   \n",
       "794  121      108  81       95       95   \n",
       "795  150      50   100      150      50   \n",
       "797  60       80   150      130      70   \n",
       "798  60       80   170      130      80   \n",
       "799  120      80   130      90       70   \n",
       "\n",
       "[751 rows x 5 columns]"
      ]
     },
     "execution_count": 232,
     "metadata": {},
     "output_type": "execute_result"
    }
   ],
   "source": [
    "X"
   ]
  },
  {
   "cell_type": "markdown",
   "metadata": {},
   "source": [
    "# MultiVariate  Regression with sklearn"
   ]
  },
  {
   "cell_type": "code",
   "execution_count": 39,
   "metadata": {},
   "outputs": [],
   "source": [
    " from sklearn.linear_model import LinearRegression"
   ]
  },
  {
   "cell_type": "code",
   "execution_count": 50,
   "metadata": {},
   "outputs": [],
   "source": [
    "def MultiVariateLinearRegression(X,y):\n",
    "  X_train, X_test, y_train, y_test = train_test_split(X, y, test_size=0.60)\n",
    "  regr = LinearRegression()\n",
    "  regr.fit(X, y)\n",
    "  print('Intercept: \\n', regr.intercept_)\n",
    "  print('Coefficients: \\n', regr.coef_)\n",
    "  kf = KFold(n_splits=10, random_state=None, shuffle=True)\n",
    "  kf.get_n_splits(X)\n",
    "  for train_index, test_index in kf.split(X):\n",
    "        regr.fit(X_train, y_train)\n",
    "        y_pred = regr.predict(X_train)\n",
    "  print(\"coefficient of determination score\",r2_score(y_train,y_pred))\n",
    "  print(\"mean squared error\",mean_squared_error(y_train,y_pred,squared =False))\n"
   ]
  },
  {
   "cell_type": "code",
   "execution_count": 51,
   "metadata": {},
   "outputs": [
    {
     "name": "stdout",
     "output_type": "stream",
     "text": [
      "Intercept: \n",
      " 8.210680550338907\n",
      "Coefficients: \n",
      " [ 0.44614817  0.36994363  0.18231691 -0.31638889  0.29630742]\n",
      "coefficient of determination score 0.4287816961403771\n",
      "mean squared error 22.285849382912\n"
     ]
    }
   ],
   "source": [
    "MultiVariateLinearRegression(X,y)"
   ]
  },
  {
   "cell_type": "code",
   "execution_count": 267,
   "metadata": {},
   "outputs": [],
   "source": [
    "X = X.HP"
   ]
  },
  {
   "cell_type": "markdown",
   "metadata": {},
   "source": [
    "# Gradient Descent "
   ]
  },
  {
   "cell_type": "code",
   "execution_count": 53,
   "metadata": {},
   "outputs": [
    {
     "name": "stdout",
     "output_type": "stream",
     "text": [
      "[41.85738349  0.49688982]\n"
     ]
    }
   ],
   "source": [
    "X_b = np.c_[np.ones((751, 1)), X]  # add x0 = 1 to each instance\n",
    "\n",
    "theta_best = np.linalg.inv(X_b.T.dot(X_b)).dot(X_b.T).dot(y)\n",
    "\n",
    "print(theta_best)"
   ]
  },
  {
   "cell_type": "code",
   "execution_count": 54,
   "metadata": {},
   "outputs": [
    {
     "data": {
      "text/plain": [
       "array([41.85738349, 42.85116314])"
      ]
     },
     "execution_count": 54,
     "metadata": {},
     "output_type": "execute_result"
    }
   ],
   "source": [
    "\n",
    "X_new = np.array([[0], [2]])\n",
    "X_new_b = np.c_[np.ones((2, 1)), X_new]  # add x0 = 1 to each instance\n",
    "\n",
    "y_predict = X_new_b.dot(theta_best)\n",
    "y_predict"
   ]
  },
  {
   "cell_type": "code",
   "execution_count": 99,
   "metadata": {},
   "outputs": [
    {
     "name": "stdout",
     "output_type": "stream",
     "text": [
      "[-0.91353895  0.36567757]\n"
     ]
    },
    {
     "data": {
      "text/plain": [
       "array([-1.03868168e+37, -8.14932855e+38])"
      ]
     },
     "execution_count": 99,
     "metadata": {},
     "output_type": "execute_result"
    }
   ],
   "source": [
    "eta = 0.1\n",
    "n_iterations = 10\n",
    "m = 100\n",
    "theta = np.random.randn(2, 1)\n",
    "theta = np.squeeze(np.asarray(theta))\n",
    "print (theta)\n",
    "for iteration in range(n_iterations):\n",
    "    gradients = 2/m * X_b.T.dot(X_b.dot(theta) - y)\n",
    "    theta = theta - eta * gradients\n",
    "theta"
   ]
  },
  {
   "cell_type": "code",
   "execution_count": 56,
   "metadata": {},
   "outputs": [
    {
     "data": {
      "text/plain": [
       "array([-7.57893295e+40, -1.01045286e+41, -1.34719895e+41, -6.56869470e+40,\n",
       "       -9.76778251e+40, -1.31352434e+41, -7.41055991e+40, -9.93615556e+40,\n",
       "       -1.33036164e+41, -7.57893295e+40, -8.42079817e+40, -1.01045286e+41,\n",
       "       -6.73706774e+40, -7.57893295e+40, -1.09463938e+41, -6.73706774e+40,\n",
       "       -1.06096477e+41, -1.39771086e+41, -5.05333731e+40, -9.26266338e+40,\n",
       "       -6.73706774e+40, -1.09463938e+41, -5.89520252e+40, -1.01045286e+41,\n",
       "       -5.89520252e+40, -1.01045286e+41, -8.42079817e+40, -1.26301242e+41,\n",
       "       -9.26266338e+40, -1.17882590e+41, -1.51557199e+41, -7.74730600e+40,\n",
       "       -1.02729016e+41, -1.36403625e+41, -1.17882590e+41, -1.59975851e+41,\n",
       "       -6.40032165e+40, -1.22933782e+41, -1.93650460e+41, -2.35743720e+41,\n",
       "       -6.73706774e+40, -1.26301242e+41, -7.57893295e+40, -1.01045286e+41,\n",
       "       -1.26301242e+41, -5.89520252e+40, -1.01045286e+41, -1.01045286e+41,\n",
       "       -1.17882590e+41, -1.68587645e+40, -5.89520252e+40, -6.73706774e+40,\n",
       "       -1.09463938e+41, -8.42079817e+40, -1.34719895e+41, -6.73706774e+40,\n",
       "       -1.09463938e+41, -9.26266338e+40, -1.51557199e+41, -6.73706774e+40,\n",
       "       -1.09463938e+41, -1.51557199e+41, -4.21147209e+40, -6.73706774e+40,\n",
       "       -9.26266338e+40, -1.17882590e+41, -1.34719895e+41, -1.51557199e+41,\n",
       "       -8.42079817e+40, -1.09463938e+41, -1.34719895e+41, -6.73706774e+40,\n",
       "       -1.34719895e+41, -6.73706774e+40, -9.26266338e+40, -1.34719895e+41,\n",
       "       -8.42079817e+40, -1.09463938e+41, -1.51557199e+41, -1.59975851e+41,\n",
       "       -4.21147209e+40, -8.42079817e+40, -8.75754425e+40, -5.89520252e+40,\n",
       "       -1.01045286e+41, -1.09463938e+41, -1.51557199e+41, -1.34719895e+41,\n",
       "       -1.76813155e+41, -5.05333731e+40, -8.42079817e+40, -5.05333731e+40,\n",
       "       -7.57893295e+40, -1.01045286e+41, -5.89520252e+40, -1.01045286e+41,\n",
       "       -1.43138547e+41, -5.05333731e+40, -9.26266338e+40, -6.73706774e+40,\n",
       "       -1.01045286e+41, -1.01045286e+41, -1.59975851e+41, -8.42079817e+40,\n",
       "       -1.01045286e+41, -8.42079817e+40, -8.42079817e+40, -1.51557199e+41,\n",
       "       -6.73706774e+40, -1.09463938e+41, -1.34719895e+41, -1.76813155e+41,\n",
       "       -4.20954068e+41, -1.09463938e+41, -1.76813155e+41, -5.05333731e+40,\n",
       "       -9.26266338e+40, -7.57893295e+40, -1.34719895e+41, -5.05333731e+40,\n",
       "       -1.01045286e+41, -6.73706774e+40, -1.17882590e+41, -1.09463938e+41,\n",
       "       -1.09463938e+41, -1.09463938e+41, -1.09463938e+41, -1.26301242e+41,\n",
       "       -3.36960688e+40, -1.59975851e+41, -2.18906416e+41, -8.08405208e+40,\n",
       "       -9.26266338e+40, -2.18906416e+41, -1.09463938e+41, -1.09463938e+41,\n",
       "       -1.09463938e+41, -5.89520252e+40, -1.17882590e+41, -5.05333731e+40,\n",
       "       -1.01045286e+41, -1.34719895e+41, -2.69418329e+41, -1.51557199e+41,\n",
       "       -1.51557199e+41, -1.51557199e+41, -6.90544078e+40, -1.02729016e+41,\n",
       "       -1.53240929e+41, -1.78496886e+41, -1.68394503e+41, -7.57893295e+40,\n",
       "       -1.01045286e+41, -6.56869470e+40, -9.76778251e+40, -1.31352434e+41,\n",
       "       -8.42079817e+40, -1.09463938e+41, -1.43138547e+41, -5.89520252e+40,\n",
       "       -1.43138547e+41, -1.01045286e+41, -1.68394503e+41, -6.73706774e+40,\n",
       "       -9.26266338e+40, -6.73706774e+40, -1.17882590e+41, -1.43138547e+41,\n",
       "       -1.26301242e+41, -2.10487764e+41, -3.36960688e+40, -8.42079817e+40,\n",
       "       -1.51557199e+41, -5.89520252e+40, -9.26266338e+40, -6.73706774e+40,\n",
       "       -1.09463938e+41, -9.26266338e+40, -1.17882590e+41, -1.51557199e+41,\n",
       "       -1.26301242e+41, -1.17882590e+41, -1.68394503e+41, -1.17882590e+41,\n",
       "       -1.51557199e+41, -5.89520252e+40, -9.26266338e+40, -1.26301242e+41,\n",
       "       -9.26266338e+40, -5.05333731e+40, -1.26301242e+41, -1.09463938e+41,\n",
       "       -9.26266338e+40, -1.59975851e+41, -1.09463938e+41, -1.59975851e+41,\n",
       "       -1.01045286e+41, -1.59975851e+41, -1.01045286e+41, -8.08405208e+40,\n",
       "       -3.19930242e+41, -1.17882590e+41, -8.42079817e+40, -1.26301242e+41,\n",
       "       -1.68394503e+41, -1.09463938e+41, -1.26301242e+41, -1.01045286e+41,\n",
       "       -1.51557199e+41, -1.09463938e+41, -1.17882590e+41, -3.36960688e+40,\n",
       "       -1.34719895e+41, -9.26266338e+40, -1.01045286e+41, -1.51557199e+41,\n",
       "       -6.73706774e+40, -8.42079817e+40, -8.42079817e+40, -1.68394503e+41,\n",
       "       -9.26266338e+40, -5.89520252e+40, -1.26301242e+41, -7.57893295e+40,\n",
       "       -1.09463938e+41, -1.09463938e+41, -7.57893295e+40, -1.26301242e+41,\n",
       "       -1.26301242e+41, -1.51557199e+41, -1.51557199e+41, -1.43138547e+41,\n",
       "       -1.22933782e+41, -9.26266338e+40, -5.89520252e+40, -8.42079817e+40,\n",
       "       -7.57893295e+40, -7.57893295e+40, -7.57893295e+40, -1.59975851e+41,\n",
       "       -4.29372720e+41, -1.51557199e+41, -1.93650460e+41, -1.68394503e+41,\n",
       "       -8.42079817e+40, -1.17882590e+41, -1.68394503e+41, -1.78496886e+41,\n",
       "       -1.78496886e+41, -1.68394503e+41, -6.73706774e+40, -8.42079817e+40,\n",
       "       -1.17882590e+41, -7.57893295e+40, -1.01045286e+41, -1.34719895e+41,\n",
       "       -8.42079817e+40, -1.17882590e+41, -1.68394503e+41, -5.89520252e+40,\n",
       "       -1.17882590e+41, -6.40032165e+40, -1.31352434e+41, -7.57893295e+40,\n",
       "       -8.42079817e+40, -1.01045286e+41, -8.42079817e+40, -1.01045286e+41,\n",
       "       -6.73706774e+40, -1.01045286e+41, -1.34719895e+41, -6.73706774e+40,\n",
       "       -1.17882590e+41, -1.51557199e+41, -6.73706774e+40, -1.01045286e+41,\n",
       "       -6.73706774e+40, -1.01045286e+41, -4.71659122e+40, -6.40032165e+40,\n",
       "       -1.14515129e+41, -6.73706774e+40, -1.17882590e+41, -1.01045286e+41,\n",
       "       -1.01045286e+41, -1.01045286e+41, -1.34719895e+41, -2.52581025e+41,\n",
       "       -5.22171035e+40, -1.02729016e+41, -1.70519060e+39, -1.07780208e+41,\n",
       "       -1.41454816e+41, -1.75129425e+41, -1.21250051e+41, -2.42478642e+41,\n",
       "       -8.42079817e+40, -5.05333731e+40, -8.42079817e+40, -1.17882590e+41,\n",
       "       -8.42079817e+40, -8.42079817e+40, -8.42079817e+40, -1.01045286e+41,\n",
       "       -1.17882590e+41, -5.05333731e+40, -1.01045286e+41, -6.73706774e+40,\n",
       "       -1.17882590e+41, -1.01045286e+41, -1.01045286e+41, -1.09463938e+41,\n",
       "       -1.09463938e+41, -8.42079817e+40, -1.17882590e+41, -1.68394503e+41,\n",
       "       -7.57893295e+40, -1.17882590e+41, -2.18906416e+41, -2.86255633e+41,\n",
       "       -1.01045286e+41, -1.17882590e+41, -1.17882590e+41, -1.01045286e+41,\n",
       "       -1.34719895e+41, -1.01045286e+41, -7.57893295e+40, -8.42079817e+40,\n",
       "       -1.34719895e+41, -8.42079817e+40, -1.17882590e+41, -7.57893295e+40,\n",
       "       -1.26301242e+41, -1.22933782e+41, -1.22933782e+41, -1.17882590e+41,\n",
       "       -1.17882590e+41, -8.42079817e+40, -1.85231808e+41, -7.24218687e+40,\n",
       "       -1.06096477e+41, -6.73706774e+40, -1.01045286e+41, -1.11147669e+41,\n",
       "       -1.44822277e+41, -7.57893295e+40, -1.26301242e+41, -3.36960688e+40,\n",
       "       -1.59975851e+41, -1.17882590e+41, -1.01045286e+41, -7.41055991e+40,\n",
       "       -1.07780208e+41, -3.36960688e+40, -6.73706774e+40, -1.66710773e+41,\n",
       "       -1.09463938e+41, -1.09463938e+41, -1.59975851e+41, -8.42079817e+40,\n",
       "       -1.34719895e+41, -1.17882590e+41, -1.51557199e+41, -1.85231808e+41,\n",
       "       -5.89520252e+40, -9.26266338e+40, -9.26266338e+40, -1.68394503e+41,\n",
       "       -7.24218687e+40, -7.57893295e+40, -1.09463938e+41, -1.59975851e+41,\n",
       "       -6.73706774e+40, -1.01045286e+41, -1.34719895e+41, -1.34719895e+41,\n",
       "       -1.34719895e+41, -1.34719895e+41, -1.34719895e+41, -1.34719895e+41,\n",
       "       -1.68394503e+41, -1.68394503e+41, -1.68394503e+41, -1.68394503e+41,\n",
       "       -1.76813155e+41, -1.68394503e+41, -8.42079817e+40, -8.42079817e+40,\n",
       "       -8.42079817e+40, -8.42079817e+40, -9.26266338e+40, -1.26301242e+41,\n",
       "       -1.59975851e+41, -7.41055991e+40, -1.07780208e+41, -1.27984973e+41,\n",
       "       -8.92591730e+40, -1.07780208e+41, -1.41454816e+41, -6.73706774e+40,\n",
       "       -9.26266338e+40, -1.43138547e+41, -9.93615556e+40, -1.33036164e+41,\n",
       "       -6.23194861e+40, -1.29668703e+41, -7.57893295e+40, -1.01045286e+41,\n",
       "       -1.34719895e+41, -6.73706774e+40, -1.01045286e+41, -1.12831399e+41,\n",
       "       -1.63343312e+41, -5.05333731e+40, -1.01045286e+41, -6.73706774e+40,\n",
       "       -1.01045286e+41, -1.01045286e+41, -1.01045286e+41, -1.17882590e+41,\n",
       "       -5.05333731e+40, -1.17882590e+41, -1.01045286e+41, -9.26266338e+40,\n",
       "       -1.43138547e+41, -7.57893295e+40, -1.17882590e+41, -1.27984973e+41,\n",
       "       -1.86915538e+41, -1.26301242e+41, -1.51557199e+41, -2.52581025e+41,\n",
       "       -9.26266338e+40, -1.09463938e+41, -1.01045286e+41, -1.68394503e+41,\n",
       "       -8.25242513e+40, -1.19566321e+41, -7.57893295e+40, -1.06096477e+41,\n",
       "       -1.73445694e+41, -9.59940947e+40, -1.12831399e+41, -8.42079817e+40,\n",
       "       -3.36960688e+40, -1.68394503e+41, -1.27984973e+41, -8.42079817e+40,\n",
       "       -9.76778251e+40, -1.14515129e+41, -1.81864347e+41, -2.27325068e+41,\n",
       "       -6.73706774e+40, -1.17882590e+41, -1.14515129e+41, -1.81864347e+41,\n",
       "       -6.73706774e+40, -1.17882590e+41, -8.08405208e+40, -1.39771086e+41,\n",
       "       -1.24617512e+41, -8.25242513e+40, -1.16198860e+41, -7.57893295e+40,\n",
       "       -1.01045286e+41, -1.51557199e+41, -1.17882590e+41, -1.17882590e+41,\n",
       "       -1.85231808e+41, -1.93650460e+41, -1.68394503e+41, -1.26301242e+41,\n",
       "       -1.26301242e+41, -1.43138547e+41, -1.44822277e+41, -1.09463938e+41,\n",
       "       -1.09463938e+41, -1.26301242e+41, -1.85231808e+41, -1.43138547e+41,\n",
       "       -1.14515129e+41, -1.01045286e+41, -7.57893295e+40, -1.17882590e+41,\n",
       "       -8.42079817e+40, -8.42079817e+40, -8.42079817e+40, -8.42079817e+40,\n",
       "       -8.42079817e+40, -8.42079817e+40, -1.26301242e+41, -1.34719895e+41,\n",
       "       -1.26301242e+41, -1.68394503e+41, -1.51557199e+41, -1.53240929e+41,\n",
       "       -1.85231808e+41, -2.52581025e+41, -2.52581025e+41, -2.02069112e+41,\n",
       "       -1.34719895e+41, -1.68394503e+41, -1.17882590e+41, -1.68394503e+41,\n",
       "       -1.68394503e+41, -2.02069112e+41, -1.68394503e+41, -7.57893295e+40,\n",
       "       -1.01045286e+41, -1.26301242e+41, -1.09463938e+41, -1.51557199e+41,\n",
       "       -1.85231808e+41, -9.26266338e+40, -1.26301242e+41, -1.59975851e+41,\n",
       "       -7.57893295e+40, -1.01045286e+41, -7.57893295e+40, -1.09463938e+41,\n",
       "       -1.43138547e+41, -6.90544078e+40, -1.07780208e+41, -8.42079817e+40,\n",
       "       -1.26301242e+41, -8.42079817e+40, -1.26301242e+41, -8.42079817e+40,\n",
       "       -1.26301242e+41, -1.27984973e+41, -1.95334190e+41, -8.42079817e+40,\n",
       "       -1.04412747e+41, -1.34719895e+41, -7.57893295e+40, -1.26301242e+41,\n",
       "       -9.26266338e+40, -1.17882590e+41, -1.43138547e+41, -9.26266338e+40,\n",
       "       -1.12831399e+41, -1.01045286e+41, -1.85231808e+41, -1.73445694e+41,\n",
       "       -1.26301242e+41, -1.43138547e+41, -1.76813155e+41, -8.42079817e+40,\n",
       "       -1.26301242e+41, -1.76813155e+41, -2.02069112e+41, -1.26301242e+41,\n",
       "       -7.57893295e+40, -9.26266338e+40, -1.26301242e+41, -5.05333731e+40,\n",
       "       -6.73706774e+40, -1.01045286e+41, -6.73706774e+40, -1.01045286e+41,\n",
       "       -7.57893295e+40, -1.17882590e+41, -1.17882590e+41, -8.42079817e+40,\n",
       "       -1.01045286e+41, -1.59975851e+41, -1.17882590e+41, -1.76813155e+41,\n",
       "       -1.76813155e+41, -1.26301242e+41, -8.42079817e+40, -1.17882590e+41,\n",
       "       -8.42079817e+40, -1.09463938e+41, -1.21250051e+41, -6.40032165e+40,\n",
       "       -9.76778251e+40, -9.09429034e+40, -1.24617512e+41, -9.26266338e+40,\n",
       "       -1.26301242e+41, -8.42079817e+40, -1.34719895e+41, -6.73706774e+40,\n",
       "       -1.01045286e+41, -9.26266338e+40, -1.26301242e+41, -7.57893295e+40,\n",
       "       -1.01045286e+41, -1.17882590e+41, -7.57893295e+40, -1.09463938e+41,\n",
       "       -1.85231808e+41, -1.04412747e+41, -1.26301242e+41, -6.06357557e+40,\n",
       "       -8.58917121e+40, -1.19566321e+41, -1.01045286e+41, -1.34719895e+41,\n",
       "       -9.26266338e+40, -8.42079817e+40, -1.17882590e+41, -1.16198860e+41,\n",
       "       -1.91966729e+41, -9.26266338e+40, -1.68394503e+41, -2.77836981e+41,\n",
       "       -8.42079817e+40, -1.17882590e+41, -7.41055991e+40, -1.24617512e+41,\n",
       "       -6.73706774e+40, -1.01045286e+41, -1.01045286e+41, -5.89520252e+40,\n",
       "       -1.09463938e+41, -1.43138547e+41, -9.26266338e+40, -1.26301242e+41,\n",
       "       -8.42079817e+40, -1.01045286e+41, -1.01045286e+41, -7.74730600e+40,\n",
       "       -1.11147669e+41, -1.27984973e+41, -9.26266338e+40, -1.59975851e+41,\n",
       "       -1.17882590e+41, -8.42079817e+40, -1.34719895e+41, -1.83548077e+41,\n",
       "       -7.57893295e+40, -1.09463938e+41, -1.29668703e+41, -9.93615556e+40,\n",
       "       -1.49873468e+41, -7.57893295e+40, -1.09463938e+41, -1.59975851e+41,\n",
       "       -1.17882590e+41, -1.68394503e+41, -1.17882590e+41, -1.85231808e+41,\n",
       "       -1.43138547e+41, -9.76778251e+40, -8.75754425e+40, -1.21250051e+41,\n",
       "       -1.54924660e+41, -9.26266338e+40, -1.43138547e+41, -1.53240929e+41,\n",
       "       -1.53240929e+41, -1.53240929e+41, -1.33036164e+41, -1.33036164e+41,\n",
       "       -1.33036164e+41, -1.33036164e+41, -1.68394503e+41, -1.68394503e+41,\n",
       "       -1.49873468e+41, -1.49873468e+41, -2.10487764e+41, -2.10487764e+41,\n",
       "       -2.10487764e+41, -1.53240929e+41, -1.53240929e+41, -1.68394503e+41,\n",
       "       -1.68394503e+41, -1.19566321e+41, -9.43103643e+40, -1.02729016e+41,\n",
       "       -1.48189738e+41, -6.73706774e+40, -9.93615556e+40, -1.26301242e+41,\n",
       "       -6.90544078e+40, -9.09429034e+40, -1.21250051e+41, -6.40032165e+40,\n",
       "       -1.43138547e+41, -7.57893295e+40, -1.04412747e+41, -1.31352434e+41,\n",
       "       -6.40032165e+40, -7.57893295e+40, -1.34719895e+41, -1.04412747e+41,\n",
       "       -1.44822277e+41, -7.41055991e+40, -9.09429034e+40, -1.31352434e+41,\n",
       "       -1.11147669e+41, -2.07120303e+41, -1.12831399e+41, -1.59975851e+41,\n",
       "       -1.26301242e+41, -1.04412747e+41, -1.24617512e+41, -1.24617512e+41,\n",
       "       -7.57893295e+40, -9.93615556e+40, -1.01045286e+41, -1.01045286e+41,\n",
       "       -1.31352434e+41, -1.70078234e+41, -1.04412747e+41, -1.38087355e+41,\n",
       "       -8.92591730e+40, -1.44822277e+41, -7.07381382e+40, -1.21250051e+41,\n",
       "       -8.42079817e+40, -1.09463938e+41, -8.42079817e+40, -1.19566321e+41,\n",
       "       -7.41055991e+40, -1.04412747e+41, -9.76778251e+40, -1.38087355e+41,\n",
       "       -1.29668703e+41, -2.07120303e+41, -1.59975851e+41, -1.31352434e+41,\n",
       "       -1.12831399e+41, -8.42079817e+40, -7.57893295e+40, -1.14515129e+41,\n",
       "       -1.51557199e+41, -9.59940947e+40, -7.24218687e+40, -1.43138547e+41,\n",
       "       -8.25242513e+40, -7.41055991e+40, -9.09429034e+40, -9.93615556e+40,\n",
       "       -1.09463938e+41, -9.26266338e+40, -1.26301242e+41, -1.43138547e+41,\n",
       "       -9.26266338e+40, -1.59975851e+41, -6.73706774e+40, -1.43138547e+41,\n",
       "       -2.12171494e+41, -2.12171494e+41, -1.81864347e+41, -8.42079817e+40,\n",
       "       -1.34719895e+41, -1.34719895e+41, -1.34719895e+41])"
      ]
     },
     "execution_count": 56,
     "metadata": {},
     "output_type": "execute_result"
    }
   ],
   "source": [
    "X_b.dot(theta)"
   ]
  },
  {
   "cell_type": "code",
   "execution_count": 57,
   "metadata": {},
   "outputs": [],
   "source": [
    "theta_path_bgd = []\n",
    "\n",
    "def plot_gradient_descent(theta, eta, theta_path=None):\n",
    "    m = len(X_b)\n",
    "    plt.plot(X, y, \"b.\")\n",
    "    n_iterations = 1000\n",
    "    for iteration in range(n_iterations):\n",
    "        if iteration < 10:\n",
    "            y_predict = X_new_b.dot(theta)\n",
    "            style = \"b-\" if iteration > 0 else \"r--\"\n",
    "            plt.plot(X_new, y_predict, style)\n",
    "            \n",
    "        gradients = 2/m * X_b.T.dot(X_b.dot(theta) - y)\n",
    "        theta = theta - eta * gradients\n",
    "        if theta_path is not None:\n",
    "            theta_path.append(theta)\n",
    "    plt.xlabel(\"$x_1$\", fontsize=18)\n",
    "    plt.axis([0, 240, 0, 350])\n",
    "    plt.title(r\"$\\eta = {}$\".format(eta), fontsize=16)"
   ]
  },
  {
   "cell_type": "code",
   "execution_count": 58,
   "metadata": {},
   "outputs": [
    {
     "name": "stderr",
     "output_type": "stream",
     "text": [
      "c:\\users\\shaun\\appdata\\local\\programs\\python\\python37\\lib\\site-packages\\ipykernel_launcher.py:14: RuntimeWarning: invalid value encountered in subtract\n",
      "  \n",
      "c:\\users\\shaun\\appdata\\local\\programs\\python\\python37\\lib\\site-packages\\ipykernel_launcher.py:14: RuntimeWarning: invalid value encountered in subtract\n",
      "  \n",
      "c:\\users\\shaun\\appdata\\local\\programs\\python\\python37\\lib\\site-packages\\ipykernel_launcher.py:14: RuntimeWarning: invalid value encountered in subtract\n",
      "  \n"
     ]
    },
    {
     "name": "stdout",
     "output_type": "stream",
     "text": [
      "Saving figure gradient_descent_plot\n"
     ]
    },
    {
     "data": {
      "image/png": "[encoded data removed]",
      "text/plain": [
       "<Figure size 720x288 with 3 Axes>"
      ]
     },
     "metadata": {
      "needs_background": "light"
     },
     "output_type": "display_data"
    }
   ],
   "source": [
    "np.random.seed(42)\n",
    "theta = np.random.randn(2, 1)\n",
    "theta = np.squeeze(np.asarray(theta))\n",
    "\n",
    "plt.figure(figsize=(10,4))\n",
    "plt.subplot(131); plot_gradient_descent(theta, eta=0.02)\n",
    "plt.ylabel(\"$y$\", rotation=0, fontsize=18)\n",
    "plt.subplot(132); plot_gradient_descent(theta, eta=0.1, theta_path=theta_path_bgd)\n",
    "plt.subplot(133); plot_gradient_descent(theta, eta=0.5)\n",
    "\n",
    "save_fig(\"gradient_descent_plot\")\n",
    "plt.show()"
   ]
  },
  {
   "cell_type": "markdown",
   "metadata": {},
   "source": [
    "# Gradient Descent Mini Batch"
   ]
  },
  {
   "cell_type": "code",
   "execution_count": 279,
   "metadata": {},
   "outputs": [],
   "source": [
    "def minibatch(X,y,eta):\n",
    "    theta_path_mgd = []\n",
    "    X_b = np.c_[np.ones((751, 1)), X]  # add x0 = 1 to each instance\n",
    "    m = len(X_b)\n",
    "    n_iterations = 50\n",
    "    minibatch_size = 31  \n",
    "    np.random.seed(42)\n",
    "    theta = np.random.randn(2,1)  # random initialization \n",
    "    t0, t1 = 200, 1000\n",
    "    def learning_schedule(t):\n",
    "        return t0 / (t + t1) \n",
    "    t = 0\n",
    "    for epoch in range(n_iterations):\n",
    "        shuffled_indices = np.random.permutation(m)\n",
    "        X_b_shuffled = X_b[shuffled_indices]\n",
    "        y_shuffled = y[shuffled_indices]\n",
    "        for i in range(0, m, minibatch_size):\n",
    "            t += 1\n",
    "            xi = X_b_shuffled[i:i+minibatch_size]\n",
    "            yi = y_shuffled[i:i+minibatch_size]\n",
    "            gradients = 2/minibatch_size * xi.T.dot(xi.dot(theta) - yi)\n",
    "            eta = learning_schedule(t)\n",
    "            theta = theta - eta * gradients\n",
    "            theta_path_mgd.append(theta)\n",
    "    theta"
   ]
  },
  {
   "cell_type": "code",
   "execution_count": 280,
   "metadata": {},
   "outputs": [],
   "source": [
    "Xarr = [[i] for i in X]\n",
    "Xarr = np.array(Xarr)\n",
    "yarr = [[i] for i in y]\n",
    "yarr = np.array(yarr)"
   ]
  },
  {
   "cell_type": "code",
   "execution_count": 281,
   "metadata": {},
   "outputs": [
    {
     "data": {
      "text/plain": [
       "array([-1.03868168e+37, -8.14932855e+38])"
      ]
     },
     "execution_count": 281,
     "metadata": {},
     "output_type": "execute_result"
    }
   ],
   "source": [
    "minibatch(Xa,ya,0.1)\n",
    "theta"
   ]
  },
  {
   "cell_type": "markdown",
   "metadata": {},
   "source": [
    "# Regularized Regression Model"
   ]
  }
 ],
 "metadata": {
  "colab": {
   "collapsed_sections": [],
   "name": "DAP3.ipynb",
   "provenance": [],
   "toc_visible": true
  },
  "kernelspec": {
   "display_name": "Python 3",
   "language": "python",
   "name": "python3"
  },
  "language_info": {
   "codemirror_mode": {
    "name": "ipython",
    "version": 3
   },
   "file_extension": ".py",
   "mimetype": "text/x-python",
   "name": "python",
   "nbconvert_exporter": "python",
   "pygments_lexer": "ipython3",
   "version": "3.7.0"
  }
 },
 "nbformat": 4,
 "nbformat_minor": 1
}
