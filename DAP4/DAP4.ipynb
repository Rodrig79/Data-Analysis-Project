{
 "cells": [
  {
   "cell_type": "code",
   "execution_count": 96,
   "metadata": {
    "colab": {},
    "colab_type": "code",
    "id": "y2E1jbS4ZluC",
    "scrolled": false,
    "tags": []
   },
   "outputs": [
    {
     "name": "stdout",
     "output_type": "stream",
     "text": [
      "Requirement already satisfied: scikit-learn in /usr/local/Cellar/jupyterlab/2.2.2/libexec/lib/python3.8/site-packages (0.23.2)\n",
      "Requirement already satisfied: threadpoolctl>=2.0.0 in /usr/local/Cellar/jupyterlab/2.2.2/libexec/lib/python3.8/site-packages (from scikit-learn) (2.1.0)\n",
      "Requirement already satisfied: numpy>=1.13.3 in /usr/local/Cellar/jupyterlab/2.2.2/libexec/lib/python3.8/site-packages (from scikit-learn) (1.19.1)\n",
      "Requirement already satisfied: joblib>=0.11 in /usr/local/Cellar/jupyterlab/2.2.2/libexec/lib/python3.8/site-packages (from scikit-learn) (0.16.0)\n",
      "Requirement already satisfied: scipy>=0.19.1 in /usr/local/Cellar/jupyterlab/2.2.2/libexec/lib/python3.8/site-packages (from scikit-learn) (1.5.2)\n",
      "\u001b[33mWARNING: You are using pip version 20.2; however, version 20.2.2 is available.\n",
      "You should consider upgrading via the '/usr/local/Cellar/jupyterlab/2.2.2/libexec/bin/python3.8 -m pip install --upgrade pip' command.\u001b[0m\n",
      "Note: you may need to restart the kernel to use updated packages.\n",
      "Requirement already satisfied: pandas in /usr/local/Cellar/jupyterlab/2.2.2/libexec/lib/python3.8/site-packages (1.1.0)\n",
      "Requirement already satisfied: python-dateutil>=2.7.3 in /usr/local/Cellar/jupyterlab/2.2.2/libexec/lib/python3.8/site-packages (from pandas) (2.8.1)\n",
      "Requirement already satisfied: pytz>=2017.2 in /usr/local/Cellar/jupyterlab/2.2.2/libexec/lib/python3.8/site-packages (from pandas) (2020.1)\n",
      "Requirement already satisfied: numpy>=1.15.4 in /usr/local/Cellar/jupyterlab/2.2.2/libexec/lib/python3.8/site-packages (from pandas) (1.19.1)\n",
      "Requirement already satisfied: six>=1.5 in /usr/local/Cellar/jupyterlab/2.2.2/libexec/lib/python3.8/site-packages (from python-dateutil>=2.7.3->pandas) (1.15.0)\n",
      "\u001b[33mWARNING: You are using pip version 20.2; however, version 20.2.2 is available.\n",
      "You should consider upgrading via the '/usr/local/Cellar/jupyterlab/2.2.2/libexec/bin/python3.8 -m pip install --upgrade pip' command.\u001b[0m\n",
      "Note: you may need to restart the kernel to use updated packages.\n",
      "Requirement already satisfied: matplotlib in /usr/local/Cellar/jupyterlab/2.2.2/libexec/lib/python3.8/site-packages (3.3.0)\n",
      "Requirement already satisfied: pillow>=6.2.0 in /usr/local/Cellar/jupyterlab/2.2.2/libexec/lib/python3.8/site-packages (from matplotlib) (7.2.0)\n",
      "Requirement already satisfied: python-dateutil>=2.1 in /usr/local/Cellar/jupyterlab/2.2.2/libexec/lib/python3.8/site-packages (from matplotlib) (2.8.1)\n",
      "Requirement already satisfied: numpy>=1.15 in /usr/local/Cellar/jupyterlab/2.2.2/libexec/lib/python3.8/site-packages (from matplotlib) (1.19.1)\n",
      "Requirement already satisfied: kiwisolver>=1.0.1 in /usr/local/Cellar/jupyterlab/2.2.2/libexec/lib/python3.8/site-packages (from matplotlib) (1.2.0)\n",
      "Requirement already satisfied: cycler>=0.10 in /usr/local/Cellar/jupyterlab/2.2.2/libexec/lib/python3.8/site-packages (from matplotlib) (0.10.0)\n",
      "Requirement already satisfied: pyparsing!=2.0.4,!=2.1.2,!=2.1.6,>=2.0.3 in /usr/local/Cellar/jupyterlab/2.2.2/libexec/lib/python3.8/site-packages (from matplotlib) (2.4.7)\n",
      "Requirement already satisfied: six>=1.5 in /usr/local/Cellar/jupyterlab/2.2.2/libexec/lib/python3.8/site-packages (from python-dateutil>=2.1->matplotlib) (1.15.0)\n",
      "\u001b[33mWARNING: You are using pip version 20.2; however, version 20.2.2 is available.\n",
      "You should consider upgrading via the '/usr/local/Cellar/jupyterlab/2.2.2/libexec/bin/python3.8 -m pip install --upgrade pip' command.\u001b[0m\n",
      "Note: you may need to restart the kernel to use updated packages.\n",
      "Requirement already satisfied: seaborn in /usr/local/Cellar/jupyterlab/2.2.2/libexec/lib/python3.8/site-packages (0.10.1)\n",
      "Requirement already satisfied: scipy>=1.0.1 in /usr/local/Cellar/jupyterlab/2.2.2/libexec/lib/python3.8/site-packages (from seaborn) (1.5.2)\n",
      "Requirement already satisfied: numpy>=1.13.3 in /usr/local/Cellar/jupyterlab/2.2.2/libexec/lib/python3.8/site-packages (from seaborn) (1.19.1)\n",
      "Requirement already satisfied: pandas>=0.22.0 in /usr/local/Cellar/jupyterlab/2.2.2/libexec/lib/python3.8/site-packages (from seaborn) (1.1.0)\n",
      "Requirement already satisfied: matplotlib>=2.1.2 in /usr/local/Cellar/jupyterlab/2.2.2/libexec/lib/python3.8/site-packages (from seaborn) (3.3.0)\n",
      "Requirement already satisfied: python-dateutil>=2.7.3 in /usr/local/Cellar/jupyterlab/2.2.2/libexec/lib/python3.8/site-packages (from pandas>=0.22.0->seaborn) (2.8.1)\n",
      "Requirement already satisfied: pytz>=2017.2 in /usr/local/Cellar/jupyterlab/2.2.2/libexec/lib/python3.8/site-packages (from pandas>=0.22.0->seaborn) (2020.1)\n",
      "Requirement already satisfied: pillow>=6.2.0 in /usr/local/Cellar/jupyterlab/2.2.2/libexec/lib/python3.8/site-packages (from matplotlib>=2.1.2->seaborn) (7.2.0)\n",
      "Requirement already satisfied: pyparsing!=2.0.4,!=2.1.2,!=2.1.6,>=2.0.3 in /usr/local/Cellar/jupyterlab/2.2.2/libexec/lib/python3.8/site-packages (from matplotlib>=2.1.2->seaborn) (2.4.7)\n",
      "Requirement already satisfied: cycler>=0.10 in /usr/local/Cellar/jupyterlab/2.2.2/libexec/lib/python3.8/site-packages (from matplotlib>=2.1.2->seaborn) (0.10.0)\n",
      "Requirement already satisfied: kiwisolver>=1.0.1 in /usr/local/Cellar/jupyterlab/2.2.2/libexec/lib/python3.8/site-packages (from matplotlib>=2.1.2->seaborn) (1.2.0)\n",
      "Requirement already satisfied: six>=1.5 in /usr/local/Cellar/jupyterlab/2.2.2/libexec/lib/python3.8/site-packages (from python-dateutil>=2.7.3->pandas>=0.22.0->seaborn) (1.15.0)\n",
      "\u001b[33mWARNING: You are using pip version 20.2; however, version 20.2.2 is available.\n",
      "You should consider upgrading via the '/usr/local/Cellar/jupyterlab/2.2.2/libexec/bin/python3.8 -m pip install --upgrade pip' command.\u001b[0m\n",
      "Note: you may need to restart the kernel to use updated packages.\n",
      "Requirement already satisfied: graphviz in /usr/local/Cellar/jupyterlab/2.2.2/libexec/lib/python3.8/site-packages (0.14.1)\n",
      "\u001b[33mWARNING: You are using pip version 20.2; however, version 20.2.2 is available.\n",
      "You should consider upgrading via the '/usr/local/Cellar/jupyterlab/2.2.2/libexec/bin/python3.8 -m pip install --upgrade pip' command.\u001b[0m\n",
      "Note: you may need to restart the kernel to use updated packages.\n",
      "Requirement already satisfied: scikit-plot in /usr/local/Cellar/jupyterlab/2.2.2/libexec/lib/python3.8/site-packages (0.3.7)\n",
      "Requirement already satisfied: scipy>=0.9 in /usr/local/Cellar/jupyterlab/2.2.2/libexec/lib/python3.8/site-packages (from scikit-plot) (1.5.2)\n",
      "Requirement already satisfied: scikit-learn>=0.18 in /usr/local/Cellar/jupyterlab/2.2.2/libexec/lib/python3.8/site-packages (from scikit-plot) (0.23.2)\n",
      "Requirement already satisfied: matplotlib>=1.4.0 in /usr/local/Cellar/jupyterlab/2.2.2/libexec/lib/python3.8/site-packages (from scikit-plot) (3.3.0)\n",
      "Requirement already satisfied: joblib>=0.10 in /usr/local/Cellar/jupyterlab/2.2.2/libexec/lib/python3.8/site-packages (from scikit-plot) (0.16.0)\n",
      "Requirement already satisfied: numpy>=1.14.5 in /usr/local/Cellar/jupyterlab/2.2.2/libexec/lib/python3.8/site-packages (from scipy>=0.9->scikit-plot) (1.19.1)\n",
      "Requirement already satisfied: threadpoolctl>=2.0.0 in /usr/local/Cellar/jupyterlab/2.2.2/libexec/lib/python3.8/site-packages (from scikit-learn>=0.18->scikit-plot) (2.1.0)\n",
      "Requirement already satisfied: pillow>=6.2.0 in /usr/local/Cellar/jupyterlab/2.2.2/libexec/lib/python3.8/site-packages (from matplotlib>=1.4.0->scikit-plot) (7.2.0)\n",
      "Requirement already satisfied: pyparsing!=2.0.4,!=2.1.2,!=2.1.6,>=2.0.3 in /usr/local/Cellar/jupyterlab/2.2.2/libexec/lib/python3.8/site-packages (from matplotlib>=1.4.0->scikit-plot) (2.4.7)\n",
      "Requirement already satisfied: python-dateutil>=2.1 in /usr/local/Cellar/jupyterlab/2.2.2/libexec/lib/python3.8/site-packages (from matplotlib>=1.4.0->scikit-plot) (2.8.1)\n",
      "Requirement already satisfied: kiwisolver>=1.0.1 in /usr/local/Cellar/jupyterlab/2.2.2/libexec/lib/python3.8/site-packages (from matplotlib>=1.4.0->scikit-plot) (1.2.0)\n",
      "Requirement already satisfied: cycler>=0.10 in /usr/local/Cellar/jupyterlab/2.2.2/libexec/lib/python3.8/site-packages (from matplotlib>=1.4.0->scikit-plot) (0.10.0)\n",
      "Requirement already satisfied: six>=1.5 in /usr/local/Cellar/jupyterlab/2.2.2/libexec/lib/python3.8/site-packages (from python-dateutil>=2.1->matplotlib>=1.4.0->scikit-plot) (1.15.0)\n",
      "\u001b[33mWARNING: You are using pip version 20.2; however, version 20.2.2 is available.\n",
      "You should consider upgrading via the '/usr/local/Cellar/jupyterlab/2.2.2/libexec/bin/python3.8 -m pip install --upgrade pip' command.\u001b[0m\n"
     ]
    },
    {
     "name": "stdout",
     "output_type": "stream",
     "text": [
      "Note: you may need to restart the kernel to use updated packages.\n",
      "Requirement already satisfied: statsmodels in /usr/local/Cellar/jupyterlab/2.2.2/libexec/lib/python3.8/site-packages (0.11.1)\n",
      "Requirement already satisfied: numpy>=1.14 in /usr/local/Cellar/jupyterlab/2.2.2/libexec/lib/python3.8/site-packages (from statsmodels) (1.19.1)\n",
      "Requirement already satisfied: scipy>=1.0 in /usr/local/Cellar/jupyterlab/2.2.2/libexec/lib/python3.8/site-packages (from statsmodels) (1.5.2)\n",
      "Requirement already satisfied: patsy>=0.5 in /usr/local/Cellar/jupyterlab/2.2.2/libexec/lib/python3.8/site-packages (from statsmodels) (0.5.1)\n",
      "Requirement already satisfied: pandas>=0.21 in /usr/local/Cellar/jupyterlab/2.2.2/libexec/lib/python3.8/site-packages (from statsmodels) (1.1.0)\n",
      "Requirement already satisfied: six in /usr/local/Cellar/jupyterlab/2.2.2/libexec/lib/python3.8/site-packages (from patsy>=0.5->statsmodels) (1.15.0)\n",
      "Requirement already satisfied: python-dateutil>=2.7.3 in /usr/local/Cellar/jupyterlab/2.2.2/libexec/lib/python3.8/site-packages (from pandas>=0.21->statsmodels) (2.8.1)\n",
      "Requirement already satisfied: pytz>=2017.2 in /usr/local/Cellar/jupyterlab/2.2.2/libexec/lib/python3.8/site-packages (from pandas>=0.21->statsmodels) (2020.1)\n",
      "\u001b[33mWARNING: You are using pip version 20.2; however, version 20.2.2 is available.\n",
      "You should consider upgrading via the '/usr/local/Cellar/jupyterlab/2.2.2/libexec/bin/python3.8 -m pip install --upgrade pip' command.\u001b[0m\n",
      "Note: you may need to restart the kernel to use updated packages.\n"
     ]
    }
   ],
   "source": [
    "#If you need to install in modules in jupyter notebook \n",
    "%pip install scikit-learn\n",
    "%pip install pandas\n",
    "%pip install matplotlib \n",
    "%pip install seaborn \n",
    "%pip install graphviz\n",
    "%pip install scikit-plot   \n",
    "%pip install statsmodels   \n",
    "\n",
    "\n",
    "#Python ≥3.5 is required\n",
    "import sys\n",
    "assert sys.version_info >= (3, 5)\n",
    "import datetime # Scikit-Learn ≥0.20 is required\n",
    "import sklearn\n",
    "assert sklearn.__version__ >= \"0.20\"\n",
    "\n",
    "\n",
    "# Common imports\n",
    "import numpy as np\n",
    "import pandas as pd\n",
    "import os\n",
    "from sklearn.model_selection import train_test_split\n",
    "import matplotlib.pyplot as plt\n",
    "from scipy import stats\n",
    "import scikitplot as skplt\n",
    "from sklearn.neighbors import KNeighborsClassifier  \n",
    "from sklearn.linear_model import LinearRegression\n",
    "# To plot pretty figures\n",
    "%matplotlib inline\n",
    "import matplotlib as mpl\n",
    "import matplotlib.pyplot as plt\n",
    "mpl.rc('axes', labelsize=14)\n",
    "mpl.rc('xtick', labelsize=12)\n",
    "mpl.rc('ytick', labelsize=12)\n",
    "from sklearn.model_selection import KFold\n",
    "from sklearn.metrics import mean_squared_error\n",
    "from sklearn.metrics import r2_score\n",
    "from sklearn.preprocessing import StandardScaler\n",
    "\n",
    "# to make this notebook's output stable across runs\n",
    "np.random.seed(42)\n",
    "\n",
    "# Where to save the figures\n",
    "PROJECT_ROOT_DIR = \".\"\n",
    "CHAPTER_ID = \"decision_trees\"\n",
    "IMAGES_PATH = os.path.join(PROJECT_ROOT_DIR, \"images\", CHAPTER_ID)\n",
    "\n",
    "os.makedirs(IMAGES_PATH, exist_ok=True)\n",
    "def save_fig(fig_id, tight_layout=True, fig_extension=\"png\", resolution=300):\n",
    "\n",
    "    path = os.path.join(IMAGES_PATH, fig_id + \".\" + fig_extension)\n",
    "    print(\"Saving figure\", fig_id)\n",
    "    if tight_layout:\n",
    "        plt.tight_layout()\n",
    "    plt.savefig(path, format=fig_extension, dpi=resolution)"
   ]
  },
  {
   "cell_type": "code",
   "execution_count": 242,
   "metadata": {
    "colab": {},
    "colab_type": "code",
    "id": "IvsV2RSPapC6",
    "scrolled": false
   },
   "outputs": [],
   "source": [
    "#changes the output for the print statements\n",
    "pd.set_option('display.max_rows', 10)\n",
    "pd.set_option('display.max_columns', None)\n",
    "pd.set_option('display.width', None)\n",
    "pd.set_option('display.max_colwidth',0)"
   ]
  },
  {
   "cell_type": "code",
   "execution_count": 468,
   "metadata": {
    "colab": {},
    "colab_type": "code",
    "id": "vtW9LfInZ_x2",
    "scrolled": false
   },
   "outputs": [],
   "source": [
    "#Pull \n",
    "df = pd.read_csv('https://raw.githubusercontent.com/Rodrig79/Machine-Learning-Data-Analysis-Project/master/rawData/pokemon.csv') "
   ]
  },
  {
   "cell_type": "code",
   "execution_count": 469,
   "metadata": {},
   "outputs": [],
   "source": [
    "from sklearn import preprocessing\n",
    "\n",
    "#Data Cleaning\n",
    "df = df[~df.Name.str.contains('Mega')] #removed pokemon with \"Mega\" in it\n",
    "df = df.drop(columns = [\"Name\",\"Type 1\",\"Type 2\",\"#\",\"Generation\"]) #Removed columns with names\n",
    "\n",
    "#normalization\n",
    "# X = df.values #returns a numpy array\n",
    "# min_max_scaler = preprocessing.MinMaxScaler()\n",
    "# x_scaled = min_max_scaler.fit_transform(x)\n",
    "# df=pd.DataFrame(x_scaled, columns=df.columns)\n"
   ]
  },
  {
   "cell_type": "code",
   "execution_count": 470,
   "metadata": {},
   "outputs": [],
   "source": [
    " #Splitting dataset to x and y\n",
    "y = df.Attack\n",
    "X = df[['Defense','HP','Sp. Atk','Sp. Def','Speed']]\n",
    "# X = df.HP"
   ]
  },
  {
   "cell_type": "markdown",
   "metadata": {},
   "source": [
    "# MultiVariate  Regression"
   ]
  },
  {
   "cell_type": "code",
   "execution_count": 471,
   "metadata": {},
   "outputs": [],
   "source": [
    " from sklearn.linear_model import LinearRegression"
   ]
  },
  {
   "cell_type": "code",
   "execution_count": 429,
   "metadata": {},
   "outputs": [],
   "source": [
    "def MultiVariateLinearRegression(X,y):\n",
    "  X_train, X_test, y_train, y_test = train_test_split(X, y, test_size=0.60)\n",
    "  regr = LinearRegression()\n",
    "  regr.fit(X, y)\n",
    "  print('Intercept: \\n', regr.intercept_)\n",
    "  print('Coefficients: \\n', regr.coef_)\n",
    "  kf = KFold(n_splits=10, random_state=None, shuffle=True)\n",
    "  kf.get_n_splits(X)\n",
    "  for train_index, test_index in kf.split(X):\n",
    "        regr.fit(X_train, y_train)\n",
    "        y_pred = regr.predict(X_train)\n",
    "  print(\"coefficient of determination score\",r2_score(y_train,y_pred))\n",
    "  print(\"mean squared error\",mean_squared_error(y_train,y_pred,squared =False))\n"
   ]
  },
  {
   "cell_type": "code",
   "execution_count": 430,
   "metadata": {},
   "outputs": [
    {
     "name": "stdout",
     "output_type": "stream",
     "text": [
      "Intercept: \n",
      " 8.210680550338893\n",
      "Coefficients: \n",
      " [ 0.44614817  0.36994363  0.18231691 -0.31638889  0.29630742]\n",
      "coefficient of determination score 0.4365030132081522\n",
      "mean squared error 22.01083432325809\n"
     ]
    }
   ],
   "source": [
    "MultiVariateLinearRegression(X,y)"
   ]
  },
  {
   "cell_type": "code",
   "execution_count": 477,
   "metadata": {},
   "outputs": [],
   "source": [
    "X = X.HP"
   ]
  },
  {
   "cell_type": "code",
   "execution_count": 478,
   "metadata": {},
   "outputs": [
    {
     "name": "stdout",
     "output_type": "stream",
     "text": [
      "0      45 \n",
      "1      60 \n",
      "2      80 \n",
      "4      39 \n",
      "5      58 \n",
      "       .. \n",
      "794    108\n",
      "795    50 \n",
      "797    80 \n",
      "798    80 \n",
      "799    80 \n",
      "Name: HP, Length: 751, dtype: int64\n"
     ]
    }
   ],
   "source": [
    " print(X)"
   ]
  },
  {
   "cell_type": "markdown",
   "metadata": {},
   "source": [
    "# Gradient Descent Mini Batch"
   ]
  },
  {
   "cell_type": "code",
   "execution_count": 479,
   "metadata": {},
   "outputs": [
    {
     "name": "stdout",
     "output_type": "stream",
     "text": [
      "0      45 \n",
      "1      60 \n",
      "2      80 \n",
      "4      39 \n",
      "5      58 \n",
      "       .. \n",
      "794    108\n",
      "795    50 \n",
      "797    80 \n",
      "798    80 \n",
      "799    80 \n",
      "Name: HP, Length: 751, dtype: int64\n"
     ]
    }
   ],
   "source": [
    "print(X)"
   ]
  },
  {
   "cell_type": "code",
   "execution_count": 494,
   "metadata": {},
   "outputs": [
    {
     "name": "stdout",
     "output_type": "stream",
     "text": [
      "[41.85738349  0.49688982]\n"
     ]
    }
   ],
   "source": [
    "X_b = np.c_[np.ones((751, 1)), X]  # add x0 = 1 to each instance\n",
    "\n",
    "theta_best = np.linalg.inv(X_b.T.dot(X_b)).dot(X_b.T).dot(y)\n",
    "\n",
    "print(theta_best)"
   ]
  },
  {
   "cell_type": "code",
   "execution_count": 495,
   "metadata": {},
   "outputs": [
    {
     "ename": "KeyError",
     "evalue": "\"Passing list-likes to .loc or [] with any missing labels is no longer supported. The following labels were missing: Int64Index([591, 494, 248, 409, 336,\\n            ...\\n            339, 387, 413,  87,  71],\\n           dtype='int64', length=48). See https://pandas.pydata.org/pandas-docs/stable/user_guide/indexing.html#deprecate-loc-reindex-listlike\"",
     "output_type": "error",
     "traceback": [
      "\u001b[0;31m---------------------------------------------------------------------------\u001b[0m",
      "\u001b[0;31mKeyError\u001b[0m                                  Traceback (most recent call last)",
      "\u001b[0;32m<ipython-input-495-e6ae53c797d0>\u001b[0m in \u001b[0;36m<module>\u001b[0;34m\u001b[0m\n\u001b[1;32m     15\u001b[0m     \u001b[0mshuffled_indices\u001b[0m \u001b[0;34m=\u001b[0m \u001b[0mnp\u001b[0m\u001b[0;34m.\u001b[0m\u001b[0mrandom\u001b[0m\u001b[0;34m.\u001b[0m\u001b[0mpermutation\u001b[0m\u001b[0;34m(\u001b[0m\u001b[0mm\u001b[0m\u001b[0;34m)\u001b[0m\u001b[0;34m\u001b[0m\u001b[0;34m\u001b[0m\u001b[0m\n\u001b[1;32m     16\u001b[0m     \u001b[0mX_b_shuffled\u001b[0m \u001b[0;34m=\u001b[0m \u001b[0mX_b\u001b[0m\u001b[0;34m[\u001b[0m\u001b[0mshuffled_indices\u001b[0m\u001b[0;34m]\u001b[0m\u001b[0;34m\u001b[0m\u001b[0;34m\u001b[0m\u001b[0m\n\u001b[0;32m---> 17\u001b[0;31m     \u001b[0my_shuffled\u001b[0m \u001b[0;34m=\u001b[0m \u001b[0my\u001b[0m\u001b[0;34m[\u001b[0m\u001b[0mshuffled_indices\u001b[0m\u001b[0;34m]\u001b[0m\u001b[0;34m\u001b[0m\u001b[0;34m\u001b[0m\u001b[0m\n\u001b[0m\u001b[1;32m     18\u001b[0m     \u001b[0;32mfor\u001b[0m \u001b[0mi\u001b[0m \u001b[0;32min\u001b[0m \u001b[0mrange\u001b[0m\u001b[0;34m(\u001b[0m\u001b[0;36m0\u001b[0m\u001b[0;34m,\u001b[0m \u001b[0mm\u001b[0m\u001b[0;34m,\u001b[0m \u001b[0mminibatch_size\u001b[0m\u001b[0;34m)\u001b[0m\u001b[0;34m:\u001b[0m\u001b[0;34m\u001b[0m\u001b[0;34m\u001b[0m\u001b[0m\n\u001b[1;32m     19\u001b[0m         \u001b[0mt\u001b[0m \u001b[0;34m+=\u001b[0m \u001b[0;36m1\u001b[0m\u001b[0;34m\u001b[0m\u001b[0;34m\u001b[0m\u001b[0m\n",
      "\u001b[0;32m/usr/local/Cellar/jupyterlab/2.2.2/libexec/lib/python3.8/site-packages/pandas/core/series.py\u001b[0m in \u001b[0;36m__getitem__\u001b[0;34m(self, key)\u001b[0m\n\u001b[1;32m    906\u001b[0m             \u001b[0;32mreturn\u001b[0m \u001b[0mself\u001b[0m\u001b[0;34m.\u001b[0m\u001b[0m_get_values\u001b[0m\u001b[0;34m(\u001b[0m\u001b[0mkey\u001b[0m\u001b[0;34m)\u001b[0m\u001b[0;34m\u001b[0m\u001b[0;34m\u001b[0m\u001b[0m\n\u001b[1;32m    907\u001b[0m \u001b[0;34m\u001b[0m\u001b[0m\n\u001b[0;32m--> 908\u001b[0;31m         \u001b[0;32mreturn\u001b[0m \u001b[0mself\u001b[0m\u001b[0;34m.\u001b[0m\u001b[0m_get_with\u001b[0m\u001b[0;34m(\u001b[0m\u001b[0mkey\u001b[0m\u001b[0;34m)\u001b[0m\u001b[0;34m\u001b[0m\u001b[0;34m\u001b[0m\u001b[0m\n\u001b[0m\u001b[1;32m    909\u001b[0m \u001b[0;34m\u001b[0m\u001b[0m\n\u001b[1;32m    910\u001b[0m     \u001b[0;32mdef\u001b[0m \u001b[0m_get_with\u001b[0m\u001b[0;34m(\u001b[0m\u001b[0mself\u001b[0m\u001b[0;34m,\u001b[0m \u001b[0mkey\u001b[0m\u001b[0;34m)\u001b[0m\u001b[0;34m:\u001b[0m\u001b[0;34m\u001b[0m\u001b[0;34m\u001b[0m\u001b[0m\n",
      "\u001b[0;32m/usr/local/Cellar/jupyterlab/2.2.2/libexec/lib/python3.8/site-packages/pandas/core/series.py\u001b[0m in \u001b[0;36m_get_with\u001b[0;34m(self, key)\u001b[0m\n\u001b[1;32m    941\u001b[0m             \u001b[0;31m#  (i.e. self.iloc) or label-based (i.e. self.loc)\u001b[0m\u001b[0;34m\u001b[0m\u001b[0;34m\u001b[0m\u001b[0;34m\u001b[0m\u001b[0m\n\u001b[1;32m    942\u001b[0m             \u001b[0;32mif\u001b[0m \u001b[0;32mnot\u001b[0m \u001b[0mself\u001b[0m\u001b[0;34m.\u001b[0m\u001b[0mindex\u001b[0m\u001b[0;34m.\u001b[0m\u001b[0m_should_fallback_to_positional\u001b[0m\u001b[0;34m(\u001b[0m\u001b[0;34m)\u001b[0m\u001b[0;34m:\u001b[0m\u001b[0;34m\u001b[0m\u001b[0;34m\u001b[0m\u001b[0m\n\u001b[0;32m--> 943\u001b[0;31m                 \u001b[0;32mreturn\u001b[0m \u001b[0mself\u001b[0m\u001b[0;34m.\u001b[0m\u001b[0mloc\u001b[0m\u001b[0;34m[\u001b[0m\u001b[0mkey\u001b[0m\u001b[0;34m]\u001b[0m\u001b[0;34m\u001b[0m\u001b[0;34m\u001b[0m\u001b[0m\n\u001b[0m\u001b[1;32m    944\u001b[0m             \u001b[0;32melse\u001b[0m\u001b[0;34m:\u001b[0m\u001b[0;34m\u001b[0m\u001b[0;34m\u001b[0m\u001b[0m\n\u001b[1;32m    945\u001b[0m                 \u001b[0;32mreturn\u001b[0m \u001b[0mself\u001b[0m\u001b[0;34m.\u001b[0m\u001b[0miloc\u001b[0m\u001b[0;34m[\u001b[0m\u001b[0mkey\u001b[0m\u001b[0;34m]\u001b[0m\u001b[0;34m\u001b[0m\u001b[0;34m\u001b[0m\u001b[0m\n",
      "\u001b[0;32m/usr/local/Cellar/jupyterlab/2.2.2/libexec/lib/python3.8/site-packages/pandas/core/indexing.py\u001b[0m in \u001b[0;36m__getitem__\u001b[0;34m(self, key)\u001b[0m\n\u001b[1;32m    877\u001b[0m \u001b[0;34m\u001b[0m\u001b[0m\n\u001b[1;32m    878\u001b[0m             \u001b[0mmaybe_callable\u001b[0m \u001b[0;34m=\u001b[0m \u001b[0mcom\u001b[0m\u001b[0;34m.\u001b[0m\u001b[0mapply_if_callable\u001b[0m\u001b[0;34m(\u001b[0m\u001b[0mkey\u001b[0m\u001b[0;34m,\u001b[0m \u001b[0mself\u001b[0m\u001b[0;34m.\u001b[0m\u001b[0mobj\u001b[0m\u001b[0;34m)\u001b[0m\u001b[0;34m\u001b[0m\u001b[0;34m\u001b[0m\u001b[0m\n\u001b[0;32m--> 879\u001b[0;31m             \u001b[0;32mreturn\u001b[0m \u001b[0mself\u001b[0m\u001b[0;34m.\u001b[0m\u001b[0m_getitem_axis\u001b[0m\u001b[0;34m(\u001b[0m\u001b[0mmaybe_callable\u001b[0m\u001b[0;34m,\u001b[0m \u001b[0maxis\u001b[0m\u001b[0;34m=\u001b[0m\u001b[0maxis\u001b[0m\u001b[0;34m)\u001b[0m\u001b[0;34m\u001b[0m\u001b[0;34m\u001b[0m\u001b[0m\n\u001b[0m\u001b[1;32m    880\u001b[0m \u001b[0;34m\u001b[0m\u001b[0m\n\u001b[1;32m    881\u001b[0m     \u001b[0;32mdef\u001b[0m \u001b[0m_is_scalar_access\u001b[0m\u001b[0;34m(\u001b[0m\u001b[0mself\u001b[0m\u001b[0;34m,\u001b[0m \u001b[0mkey\u001b[0m\u001b[0;34m:\u001b[0m \u001b[0mTuple\u001b[0m\u001b[0;34m)\u001b[0m\u001b[0;34m:\u001b[0m\u001b[0;34m\u001b[0m\u001b[0;34m\u001b[0m\u001b[0m\n",
      "\u001b[0;32m/usr/local/Cellar/jupyterlab/2.2.2/libexec/lib/python3.8/site-packages/pandas/core/indexing.py\u001b[0m in \u001b[0;36m_getitem_axis\u001b[0;34m(self, key, axis)\u001b[0m\n\u001b[1;32m   1097\u001b[0m                     \u001b[0;32mraise\u001b[0m \u001b[0mValueError\u001b[0m\u001b[0;34m(\u001b[0m\u001b[0;34m\"Cannot index with multidimensional key\"\u001b[0m\u001b[0;34m)\u001b[0m\u001b[0;34m\u001b[0m\u001b[0;34m\u001b[0m\u001b[0m\n\u001b[1;32m   1098\u001b[0m \u001b[0;34m\u001b[0m\u001b[0m\n\u001b[0;32m-> 1099\u001b[0;31m                 \u001b[0;32mreturn\u001b[0m \u001b[0mself\u001b[0m\u001b[0;34m.\u001b[0m\u001b[0m_getitem_iterable\u001b[0m\u001b[0;34m(\u001b[0m\u001b[0mkey\u001b[0m\u001b[0;34m,\u001b[0m \u001b[0maxis\u001b[0m\u001b[0;34m=\u001b[0m\u001b[0maxis\u001b[0m\u001b[0;34m)\u001b[0m\u001b[0;34m\u001b[0m\u001b[0;34m\u001b[0m\u001b[0m\n\u001b[0m\u001b[1;32m   1100\u001b[0m \u001b[0;34m\u001b[0m\u001b[0m\n\u001b[1;32m   1101\u001b[0m             \u001b[0;31m# nested tuple slicing\u001b[0m\u001b[0;34m\u001b[0m\u001b[0;34m\u001b[0m\u001b[0;34m\u001b[0m\u001b[0m\n",
      "\u001b[0;32m/usr/local/Cellar/jupyterlab/2.2.2/libexec/lib/python3.8/site-packages/pandas/core/indexing.py\u001b[0m in \u001b[0;36m_getitem_iterable\u001b[0;34m(self, key, axis)\u001b[0m\n\u001b[1;32m   1035\u001b[0m \u001b[0;34m\u001b[0m\u001b[0m\n\u001b[1;32m   1036\u001b[0m         \u001b[0;31m# A collection of keys\u001b[0m\u001b[0;34m\u001b[0m\u001b[0;34m\u001b[0m\u001b[0;34m\u001b[0m\u001b[0m\n\u001b[0;32m-> 1037\u001b[0;31m         \u001b[0mkeyarr\u001b[0m\u001b[0;34m,\u001b[0m \u001b[0mindexer\u001b[0m \u001b[0;34m=\u001b[0m \u001b[0mself\u001b[0m\u001b[0;34m.\u001b[0m\u001b[0m_get_listlike_indexer\u001b[0m\u001b[0;34m(\u001b[0m\u001b[0mkey\u001b[0m\u001b[0;34m,\u001b[0m \u001b[0maxis\u001b[0m\u001b[0;34m,\u001b[0m \u001b[0mraise_missing\u001b[0m\u001b[0;34m=\u001b[0m\u001b[0;32mFalse\u001b[0m\u001b[0;34m)\u001b[0m\u001b[0;34m\u001b[0m\u001b[0;34m\u001b[0m\u001b[0m\n\u001b[0m\u001b[1;32m   1038\u001b[0m         return self.obj._reindex_with_indexers(\n\u001b[1;32m   1039\u001b[0m             \u001b[0;34m{\u001b[0m\u001b[0maxis\u001b[0m\u001b[0;34m:\u001b[0m \u001b[0;34m[\u001b[0m\u001b[0mkeyarr\u001b[0m\u001b[0;34m,\u001b[0m \u001b[0mindexer\u001b[0m\u001b[0;34m]\u001b[0m\u001b[0;34m}\u001b[0m\u001b[0;34m,\u001b[0m \u001b[0mcopy\u001b[0m\u001b[0;34m=\u001b[0m\u001b[0;32mTrue\u001b[0m\u001b[0;34m,\u001b[0m \u001b[0mallow_dups\u001b[0m\u001b[0;34m=\u001b[0m\u001b[0;32mTrue\u001b[0m\u001b[0;34m\u001b[0m\u001b[0;34m\u001b[0m\u001b[0m\n",
      "\u001b[0;32m/usr/local/Cellar/jupyterlab/2.2.2/libexec/lib/python3.8/site-packages/pandas/core/indexing.py\u001b[0m in \u001b[0;36m_get_listlike_indexer\u001b[0;34m(self, key, axis, raise_missing)\u001b[0m\n\u001b[1;32m   1252\u001b[0m             \u001b[0mkeyarr\u001b[0m\u001b[0;34m,\u001b[0m \u001b[0mindexer\u001b[0m\u001b[0;34m,\u001b[0m \u001b[0mnew_indexer\u001b[0m \u001b[0;34m=\u001b[0m \u001b[0max\u001b[0m\u001b[0;34m.\u001b[0m\u001b[0m_reindex_non_unique\u001b[0m\u001b[0;34m(\u001b[0m\u001b[0mkeyarr\u001b[0m\u001b[0;34m)\u001b[0m\u001b[0;34m\u001b[0m\u001b[0;34m\u001b[0m\u001b[0m\n\u001b[1;32m   1253\u001b[0m \u001b[0;34m\u001b[0m\u001b[0m\n\u001b[0;32m-> 1254\u001b[0;31m         \u001b[0mself\u001b[0m\u001b[0;34m.\u001b[0m\u001b[0m_validate_read_indexer\u001b[0m\u001b[0;34m(\u001b[0m\u001b[0mkeyarr\u001b[0m\u001b[0;34m,\u001b[0m \u001b[0mindexer\u001b[0m\u001b[0;34m,\u001b[0m \u001b[0maxis\u001b[0m\u001b[0;34m,\u001b[0m \u001b[0mraise_missing\u001b[0m\u001b[0;34m=\u001b[0m\u001b[0mraise_missing\u001b[0m\u001b[0;34m)\u001b[0m\u001b[0;34m\u001b[0m\u001b[0;34m\u001b[0m\u001b[0m\n\u001b[0m\u001b[1;32m   1255\u001b[0m         \u001b[0;32mreturn\u001b[0m \u001b[0mkeyarr\u001b[0m\u001b[0;34m,\u001b[0m \u001b[0mindexer\u001b[0m\u001b[0;34m\u001b[0m\u001b[0;34m\u001b[0m\u001b[0m\n\u001b[1;32m   1256\u001b[0m \u001b[0;34m\u001b[0m\u001b[0m\n",
      "\u001b[0;32m/usr/local/Cellar/jupyterlab/2.2.2/libexec/lib/python3.8/site-packages/pandas/core/indexing.py\u001b[0m in \u001b[0;36m_validate_read_indexer\u001b[0;34m(self, key, indexer, axis, raise_missing)\u001b[0m\n\u001b[1;32m   1313\u001b[0m \u001b[0;34m\u001b[0m\u001b[0m\n\u001b[1;32m   1314\u001b[0m                 \u001b[0;32mwith\u001b[0m \u001b[0moption_context\u001b[0m\u001b[0;34m(\u001b[0m\u001b[0;34m\"display.max_seq_items\"\u001b[0m\u001b[0;34m,\u001b[0m \u001b[0;36m10\u001b[0m\u001b[0;34m,\u001b[0m \u001b[0;34m\"display.width\"\u001b[0m\u001b[0;34m,\u001b[0m \u001b[0;36m80\u001b[0m\u001b[0;34m)\u001b[0m\u001b[0;34m:\u001b[0m\u001b[0;34m\u001b[0m\u001b[0;34m\u001b[0m\u001b[0m\n\u001b[0;32m-> 1315\u001b[0;31m                     raise KeyError(\n\u001b[0m\u001b[1;32m   1316\u001b[0m                         \u001b[0;34m\"Passing list-likes to .loc or [] with any missing labels \"\u001b[0m\u001b[0;34m\u001b[0m\u001b[0;34m\u001b[0m\u001b[0m\n\u001b[1;32m   1317\u001b[0m                         \u001b[0;34m\"is no longer supported. \"\u001b[0m\u001b[0;34m\u001b[0m\u001b[0;34m\u001b[0m\u001b[0m\n",
      "\u001b[0;31mKeyError\u001b[0m: \"Passing list-likes to .loc or [] with any missing labels is no longer supported. The following labels were missing: Int64Index([591, 494, 248, 409, 336,\\n            ...\\n            339, 387, 413,  87,  71],\\n           dtype='int64', length=48). See https://pandas.pydata.org/pandas-docs/stable/user_guide/indexing.html#deprecate-loc-reindex-listlike\""
     ]
    }
   ],
   "source": [
    "theta_path_mgd = []\n",
    "\n",
    "n_iterations = 50\n",
    "minibatch_size = 20\n",
    "\n",
    "np.random.seed(42)\n",
    "theta = np.random.randn(2,1)  # random initialization\n",
    "\n",
    "t0, t1 = 200, 1000\n",
    "def learning_schedule(t):\n",
    "    return t0 / (t + t1)\n",
    "\n",
    "t = 0\n",
    "for epoch in range(n_iterations):\n",
    "    shuffled_indices = np.random.permutation(m)\n",
    "    X_b_shuffled = X_b[shuffled_indices]\n",
    "    y_shuffled = y[shuffled_indices]\n",
    "    for i in range(0, m, minibatch_size):\n",
    "        t += 1\n",
    "        xi = X_b_shuffled[i:i+minibatch_size]\n",
    "        yi = y_shuffled[i:i+minibatch_size]\n",
    "        gradients = 2/minibatch_size * xi.T.dot(xi.dot(theta) - yi)\n",
    "        eta = learning_schedule(t)\n",
    "        theta = theta - eta * gradients\n",
    "        theta_path_mgd.append(theta)"
   ]
  },
  {
   "cell_type": "code",
   "execution_count": 497,
   "metadata": {},
   "outputs": [
    {
     "data": {
      "text/plain": [
       "array([41.85738349, 42.85116314])"
      ]
     },
     "execution_count": 497,
     "metadata": {},
     "output_type": "execute_result"
    }
   ],
   "source": [
    "\n",
    "X_new = np.array([[0], [2]])\n",
    "X_new_b = np.c_[np.ones((2, 1)), X_new]  # add x0 = 1 to each instance\n",
    "\n",
    "y_predict = X_new_b.dot(theta_best)\n",
    "y_predict"
   ]
  },
  {
   "cell_type": "code",
   "execution_count": 500,
   "metadata": {},
   "outputs": [
    {
     "name": "stdout",
     "output_type": "stream",
     "text": [
      "[0.59374218 1.21281507]\n"
     ]
    },
    {
     "data": {
      "text/plain": [
       "array([2.91776703e+36, 2.28923285e+38])"
      ]
     },
     "execution_count": 500,
     "metadata": {},
     "output_type": "execute_result"
    }
   ],
   "source": [
    "eta = 0.1\n",
    "n_iterations = 10\n",
    "m = 100\n",
    "theta = np.random.randn(2, 1)\n",
    "theta = np.squeeze(np.asarray(theta))\n",
    "print (theta)\n",
    "for iteration in range(n_iterations):\n",
    "    gradients = 2/m * X_b.T.dot(X_b.dot(theta) - y)\n",
    "    theta = theta - eta * gradients\n",
    "theta"
   ]
  },
  {
   "cell_type": "code",
   "execution_count": 502,
   "metadata": {},
   "outputs": [
    {
     "data": {
      "text/plain": [
       "array([1.03044656e+40, 1.37383149e+40, 1.83167806e+40, 8.93092588e+39,\n",
       "       1.32804683e+40, 1.78589340e+40, 1.00755423e+40, 1.35093916e+40,\n",
       "       1.80878573e+40, 1.03044656e+40, 1.14490820e+40, 1.37383149e+40,\n",
       "       9.15984917e+39, 1.03044656e+40, 1.48829313e+40, 9.15984917e+39,\n",
       "       1.44250847e+40, 1.90035504e+40, 6.87061632e+39, 1.25936984e+40,\n",
       "       9.15984917e+39, 1.48829313e+40, 8.01523274e+39, 1.37383149e+40,\n",
       "       8.01523274e+39, 1.37383149e+40, 1.14490820e+40, 1.71721641e+40,\n",
       "       1.25936984e+40, 1.60275477e+40, 2.06060134e+40, 1.05333889e+40,\n",
       "       1.39672382e+40, 1.85457039e+40, 1.60275477e+40, 2.17506298e+40,\n",
       "       8.70200260e+39, 1.67143176e+40, 2.63290956e+40, 3.20521777e+40,\n",
       "       9.15984917e+39, 1.71721641e+40, 1.03044656e+40, 1.37383149e+40,\n",
       "       1.71721641e+40, 8.01523274e+39, 1.37383149e+40, 1.37383149e+40,\n",
       "       1.60275477e+40, 2.29215062e+39, 8.01523274e+39, 9.15984917e+39,\n",
       "       1.48829313e+40, 1.14490820e+40, 1.83167806e+40, 9.15984917e+39,\n",
       "       1.48829313e+40, 1.25936984e+40, 2.06060134e+40, 9.15984917e+39,\n",
       "       1.48829313e+40, 2.06060134e+40, 5.72599989e+39, 9.15984917e+39,\n",
       "       1.25936984e+40, 1.60275477e+40, 1.83167806e+40, 2.06060134e+40,\n",
       "       1.14490820e+40, 1.48829313e+40, 1.83167806e+40, 9.15984917e+39,\n",
       "       1.83167806e+40, 9.15984917e+39, 1.25936984e+40, 1.83167806e+40,\n",
       "       1.14490820e+40, 1.48829313e+40, 2.06060134e+40, 2.17506298e+40,\n",
       "       5.72599989e+39, 1.14490820e+40, 1.19069286e+40, 8.01523274e+39,\n",
       "       1.37383149e+40, 1.48829313e+40, 2.06060134e+40, 1.83167806e+40,\n",
       "       2.40398627e+40, 6.87061632e+39, 1.14490820e+40, 6.87061632e+39,\n",
       "       1.03044656e+40, 1.37383149e+40, 8.01523274e+39, 1.37383149e+40,\n",
       "       1.94613970e+40, 6.87061632e+39, 1.25936984e+40, 9.15984917e+39,\n",
       "       1.37383149e+40, 1.37383149e+40, 2.17506298e+40, 1.14490820e+40,\n",
       "       1.37383149e+40, 1.14490820e+40, 1.14490820e+40, 2.06060134e+40,\n",
       "       9.15984917e+39, 1.48829313e+40, 1.83167806e+40, 2.40398627e+40,\n",
       "       5.72337390e+40, 1.48829313e+40, 2.40398627e+40, 6.87061632e+39,\n",
       "       1.25936984e+40, 1.03044656e+40, 1.83167806e+40, 6.87061632e+39,\n",
       "       1.37383149e+40, 9.15984917e+39, 1.60275477e+40, 1.48829313e+40,\n",
       "       1.48829313e+40, 1.48829313e+40, 1.48829313e+40, 1.71721641e+40,\n",
       "       4.58138347e+39, 2.17506298e+40, 2.97629448e+40, 1.09912355e+40,\n",
       "       1.25936984e+40, 2.97629448e+40, 1.48829313e+40, 1.48829313e+40,\n",
       "       1.48829313e+40, 8.01523274e+39, 1.60275477e+40, 6.87061632e+39,\n",
       "       1.37383149e+40, 1.83167806e+40, 3.66306434e+40, 2.06060134e+40,\n",
       "       2.06060134e+40, 2.06060134e+40, 9.38877246e+39, 1.39672382e+40,\n",
       "       2.08349367e+40, 2.42687860e+40, 2.28952463e+40, 1.03044656e+40,\n",
       "       1.37383149e+40, 8.93092588e+39, 1.32804683e+40, 1.78589340e+40,\n",
       "       1.14490820e+40, 1.48829313e+40, 1.94613970e+40, 8.01523274e+39,\n",
       "       1.94613970e+40, 1.37383149e+40, 2.28952463e+40, 9.15984917e+39,\n",
       "       1.25936984e+40, 9.15984917e+39, 1.60275477e+40, 1.94613970e+40,\n",
       "       1.71721641e+40, 2.86183284e+40, 4.58138347e+39, 1.14490820e+40,\n",
       "       2.06060134e+40, 8.01523274e+39, 1.25936984e+40, 9.15984917e+39,\n",
       "       1.48829313e+40, 1.25936984e+40, 1.60275477e+40, 2.06060134e+40,\n",
       "       1.71721641e+40, 1.60275477e+40, 2.28952463e+40, 1.60275477e+40,\n",
       "       2.06060134e+40, 8.01523274e+39, 1.25936984e+40, 1.71721641e+40,\n",
       "       1.25936984e+40, 6.87061632e+39, 1.71721641e+40, 1.48829313e+40,\n",
       "       1.25936984e+40, 2.17506298e+40, 1.48829313e+40, 2.17506298e+40,\n",
       "       1.37383149e+40, 2.17506298e+40, 1.37383149e+40, 1.09912355e+40,\n",
       "       4.34983419e+40, 1.60275477e+40, 1.14490820e+40, 1.71721641e+40,\n",
       "       2.28952463e+40, 1.48829313e+40, 1.71721641e+40, 1.37383149e+40,\n",
       "       2.06060134e+40, 1.48829313e+40, 1.60275477e+40, 4.58138347e+39,\n",
       "       1.83167806e+40, 1.25936984e+40, 1.37383149e+40, 2.06060134e+40,\n",
       "       9.15984917e+39, 1.14490820e+40, 1.14490820e+40, 2.28952463e+40,\n",
       "       1.25936984e+40, 8.01523274e+39, 1.71721641e+40, 1.03044656e+40,\n",
       "       1.48829313e+40, 1.48829313e+40, 1.03044656e+40, 1.71721641e+40,\n",
       "       1.71721641e+40, 2.06060134e+40, 2.06060134e+40, 1.94613970e+40,\n",
       "       1.67143176e+40, 1.25936984e+40, 8.01523274e+39, 1.14490820e+40,\n",
       "       1.03044656e+40, 1.03044656e+40, 1.03044656e+40, 2.17506298e+40,\n",
       "       5.83783555e+40, 2.06060134e+40, 2.63290956e+40, 2.28952463e+40,\n",
       "       1.14490820e+40, 1.60275477e+40, 2.28952463e+40, 2.42687860e+40,\n",
       "       2.42687860e+40, 2.28952463e+40, 9.15984917e+39, 1.14490820e+40,\n",
       "       1.60275477e+40, 1.03044656e+40, 1.37383149e+40, 1.83167806e+40,\n",
       "       1.14490820e+40, 1.60275477e+40, 2.28952463e+40, 8.01523274e+39,\n",
       "       1.60275477e+40, 8.70200260e+39, 1.78589340e+40, 1.03044656e+40,\n",
       "       1.14490820e+40, 1.37383149e+40, 1.14490820e+40, 1.37383149e+40,\n",
       "       9.15984917e+39, 1.37383149e+40, 1.83167806e+40, 9.15984917e+39,\n",
       "       1.60275477e+40, 2.06060134e+40, 9.15984917e+39, 1.37383149e+40,\n",
       "       9.15984917e+39, 1.37383149e+40, 6.41276975e+39, 8.70200260e+39,\n",
       "       1.55697012e+40, 9.15984917e+39, 1.60275477e+40, 1.37383149e+40,\n",
       "       1.37383149e+40, 1.37383149e+40, 1.83167806e+40, 3.43414105e+40,\n",
       "       7.09953960e+39, 1.39672382e+40, 2.31841052e+38, 1.46540080e+40,\n",
       "       1.92324737e+40, 2.38109394e+40, 1.64853943e+40, 3.29678708e+40,\n",
       "       1.14490820e+40, 6.87061632e+39, 1.14490820e+40, 1.60275477e+40,\n",
       "       1.14490820e+40, 1.14490820e+40, 1.14490820e+40, 1.37383149e+40,\n",
       "       1.60275477e+40, 6.87061632e+39, 1.37383149e+40, 9.15984917e+39,\n",
       "       1.60275477e+40, 1.37383149e+40, 1.37383149e+40, 1.48829313e+40,\n",
       "       1.48829313e+40, 1.14490820e+40, 1.60275477e+40, 2.28952463e+40,\n",
       "       1.03044656e+40, 1.60275477e+40, 2.97629448e+40, 3.89198762e+40,\n",
       "       1.37383149e+40, 1.60275477e+40, 1.60275477e+40, 1.37383149e+40,\n",
       "       1.83167806e+40, 1.37383149e+40, 1.03044656e+40, 1.14490820e+40,\n",
       "       1.83167806e+40, 1.14490820e+40, 1.60275477e+40, 1.03044656e+40,\n",
       "       1.71721641e+40, 1.67143176e+40, 1.67143176e+40, 1.60275477e+40,\n",
       "       1.60275477e+40, 1.14490820e+40, 2.51844791e+40, 9.84661903e+39,\n",
       "       1.44250847e+40, 9.15984917e+39, 1.37383149e+40, 1.51118546e+40,\n",
       "       1.96903203e+40, 1.03044656e+40, 1.71721641e+40, 4.58138347e+39,\n",
       "       2.17506298e+40, 1.60275477e+40, 1.37383149e+40, 1.00755423e+40,\n",
       "       1.46540080e+40, 4.58138347e+39, 9.15984917e+39, 2.26663230e+40,\n",
       "       1.48829313e+40, 1.48829313e+40, 2.17506298e+40, 1.14490820e+40,\n",
       "       1.83167806e+40, 1.60275477e+40, 2.06060134e+40, 2.51844791e+40,\n",
       "       8.01523274e+39, 1.25936984e+40, 1.25936984e+40, 2.28952463e+40,\n",
       "       9.84661903e+39, 1.03044656e+40, 1.48829313e+40, 2.17506298e+40,\n",
       "       9.15984917e+39, 1.37383149e+40, 1.83167806e+40, 1.83167806e+40,\n",
       "       1.83167806e+40, 1.83167806e+40, 1.83167806e+40, 1.83167806e+40,\n",
       "       2.28952463e+40, 2.28952463e+40, 2.28952463e+40, 2.28952463e+40,\n",
       "       2.40398627e+40, 2.28952463e+40, 1.14490820e+40, 1.14490820e+40,\n",
       "       1.14490820e+40, 1.14490820e+40, 1.25936984e+40, 1.71721641e+40,\n",
       "       2.17506298e+40, 1.00755423e+40, 1.46540080e+40, 1.74010874e+40,\n",
       "       1.21358519e+40, 1.46540080e+40, 1.92324737e+40, 9.15984917e+39,\n",
       "       1.25936984e+40, 1.94613970e+40, 1.35093916e+40, 1.80878573e+40,\n",
       "       8.47307931e+39, 1.76300107e+40, 1.03044656e+40, 1.37383149e+40,\n",
       "       1.83167806e+40, 9.15984917e+39, 1.37383149e+40, 1.53407779e+40,\n",
       "       2.22084764e+40, 6.87061632e+39, 1.37383149e+40, 9.15984917e+39,\n",
       "       1.37383149e+40, 1.37383149e+40, 1.37383149e+40, 1.60275477e+40,\n",
       "       6.87061632e+39, 1.60275477e+40, 1.37383149e+40, 1.25936984e+40,\n",
       "       1.94613970e+40, 1.03044656e+40, 1.60275477e+40, 1.74010874e+40,\n",
       "       2.54134024e+40, 1.71721641e+40, 2.06060134e+40, 3.43414105e+40,\n",
       "       1.25936984e+40, 1.48829313e+40, 1.37383149e+40, 2.28952463e+40,\n",
       "       1.12201587e+40, 1.62564710e+40, 1.03044656e+40, 1.44250847e+40,\n",
       "       2.35820161e+40, 1.30515450e+40, 1.53407779e+40, 1.14490820e+40,\n",
       "       4.58138347e+39, 2.28952463e+40, 1.74010874e+40, 1.14490820e+40,\n",
       "       1.32804683e+40, 1.55697012e+40, 2.47266326e+40, 3.09075613e+40,\n",
       "       9.15984917e+39, 1.60275477e+40, 1.55697012e+40, 2.47266326e+40,\n",
       "       9.15984917e+39, 1.60275477e+40, 1.09912355e+40, 1.90035504e+40,\n",
       "       1.69432409e+40, 1.12201587e+40, 1.57986244e+40, 1.03044656e+40,\n",
       "       1.37383149e+40, 2.06060134e+40, 1.60275477e+40, 1.60275477e+40,\n",
       "       2.51844791e+40, 2.63290956e+40, 2.28952463e+40, 1.71721641e+40,\n",
       "       1.71721641e+40, 1.94613970e+40, 1.96903203e+40, 1.48829313e+40,\n",
       "       1.48829313e+40, 1.71721641e+40, 2.51844791e+40, 1.94613970e+40,\n",
       "       1.55697012e+40, 1.37383149e+40, 1.03044656e+40, 1.60275477e+40,\n",
       "       1.14490820e+40, 1.14490820e+40, 1.14490820e+40, 1.14490820e+40,\n",
       "       1.14490820e+40, 1.14490820e+40, 1.71721641e+40, 1.83167806e+40,\n",
       "       1.71721641e+40, 2.28952463e+40, 2.06060134e+40, 2.08349367e+40,\n",
       "       2.51844791e+40, 3.43414105e+40, 3.43414105e+40, 2.74737120e+40,\n",
       "       1.83167806e+40, 2.28952463e+40, 1.60275477e+40, 2.28952463e+40,\n",
       "       2.28952463e+40, 2.74737120e+40, 2.28952463e+40, 1.03044656e+40,\n",
       "       1.37383149e+40, 1.71721641e+40, 1.48829313e+40, 2.06060134e+40,\n",
       "       2.51844791e+40, 1.25936984e+40, 1.71721641e+40, 2.17506298e+40,\n",
       "       1.03044656e+40, 1.37383149e+40, 1.03044656e+40, 1.48829313e+40,\n",
       "       1.94613970e+40, 9.38877246e+39, 1.46540080e+40, 1.14490820e+40,\n",
       "       1.71721641e+40, 1.14490820e+40, 1.71721641e+40, 1.14490820e+40,\n",
       "       1.71721641e+40, 1.74010874e+40, 2.65580188e+40, 1.14490820e+40,\n",
       "       1.41961614e+40, 1.83167806e+40, 1.03044656e+40, 1.71721641e+40,\n",
       "       1.25936984e+40, 1.60275477e+40, 1.94613970e+40, 1.25936984e+40,\n",
       "       1.53407779e+40, 1.37383149e+40, 2.51844791e+40, 2.35820161e+40,\n",
       "       1.71721641e+40, 1.94613970e+40, 2.40398627e+40, 1.14490820e+40,\n",
       "       1.71721641e+40, 2.40398627e+40, 2.74737120e+40, 1.71721641e+40,\n",
       "       1.03044656e+40, 1.25936984e+40, 1.71721641e+40, 6.87061632e+39,\n",
       "       9.15984917e+39, 1.37383149e+40, 9.15984917e+39, 1.37383149e+40,\n",
       "       1.03044656e+40, 1.60275477e+40, 1.60275477e+40, 1.14490820e+40,\n",
       "       1.37383149e+40, 2.17506298e+40, 1.60275477e+40, 2.40398627e+40,\n",
       "       2.40398627e+40, 1.71721641e+40, 1.14490820e+40, 1.60275477e+40,\n",
       "       1.14490820e+40, 1.48829313e+40, 1.64853943e+40, 8.70200260e+39,\n",
       "       1.32804683e+40, 1.23647752e+40, 1.69432409e+40, 1.25936984e+40,\n",
       "       1.71721641e+40, 1.14490820e+40, 1.83167806e+40, 9.15984917e+39,\n",
       "       1.37383149e+40, 1.25936984e+40, 1.71721641e+40, 1.03044656e+40,\n",
       "       1.37383149e+40, 1.60275477e+40, 1.03044656e+40, 1.48829313e+40,\n",
       "       2.51844791e+40, 1.41961614e+40, 1.71721641e+40, 8.24415603e+39,\n",
       "       1.16780053e+40, 1.62564710e+40, 1.37383149e+40, 1.83167806e+40,\n",
       "       1.25936984e+40, 1.14490820e+40, 1.60275477e+40, 1.57986244e+40,\n",
       "       2.61001723e+40, 1.25936984e+40, 2.28952463e+40, 3.77752598e+40,\n",
       "       1.14490820e+40, 1.60275477e+40, 1.00755423e+40, 1.69432409e+40,\n",
       "       9.15984917e+39, 1.37383149e+40, 1.37383149e+40, 8.01523274e+39,\n",
       "       1.48829313e+40, 1.94613970e+40, 1.25936984e+40, 1.71721641e+40,\n",
       "       1.14490820e+40, 1.37383149e+40, 1.37383149e+40, 1.05333889e+40,\n",
       "       1.51118546e+40, 1.74010874e+40, 1.25936984e+40, 2.17506298e+40,\n",
       "       1.60275477e+40, 1.14490820e+40, 1.83167806e+40, 2.49555558e+40,\n",
       "       1.03044656e+40, 1.48829313e+40, 1.76300107e+40, 1.35093916e+40,\n",
       "       2.03770901e+40, 1.03044656e+40, 1.48829313e+40, 2.17506298e+40,\n",
       "       1.60275477e+40, 2.28952463e+40, 1.60275477e+40, 2.51844791e+40,\n",
       "       1.94613970e+40, 1.32804683e+40, 1.19069286e+40, 1.64853943e+40,\n",
       "       2.10638600e+40, 1.25936984e+40, 1.94613970e+40, 2.08349367e+40,\n",
       "       2.08349367e+40, 2.08349367e+40, 1.80878573e+40, 1.80878573e+40,\n",
       "       1.80878573e+40, 1.80878573e+40, 2.28952463e+40, 2.28952463e+40,\n",
       "       2.03770901e+40, 2.03770901e+40, 2.86183284e+40, 2.86183284e+40,\n",
       "       2.86183284e+40, 2.08349367e+40, 2.08349367e+40, 2.28952463e+40,\n",
       "       2.28952463e+40, 1.62564710e+40, 1.28226217e+40, 1.39672382e+40,\n",
       "       2.01481669e+40, 9.15984917e+39, 1.35093916e+40, 1.71721641e+40,\n",
       "       9.38877246e+39, 1.23647752e+40, 1.64853943e+40, 8.70200260e+39,\n",
       "       1.94613970e+40, 1.03044656e+40, 1.41961614e+40, 1.78589340e+40,\n",
       "       8.70200260e+39, 1.03044656e+40, 1.83167806e+40, 1.41961614e+40,\n",
       "       1.96903203e+40, 1.00755423e+40, 1.23647752e+40, 1.78589340e+40,\n",
       "       1.51118546e+40, 2.81604818e+40, 1.53407779e+40, 2.17506298e+40,\n",
       "       1.71721641e+40, 1.41961614e+40, 1.69432409e+40, 1.69432409e+40,\n",
       "       1.03044656e+40, 1.35093916e+40, 1.37383149e+40, 1.37383149e+40,\n",
       "       1.78589340e+40, 2.31241696e+40, 1.41961614e+40, 1.87746271e+40,\n",
       "       1.21358519e+40, 1.96903203e+40, 9.61769574e+39, 1.64853943e+40,\n",
       "       1.14490820e+40, 1.48829313e+40, 1.14490820e+40, 1.62564710e+40,\n",
       "       1.00755423e+40, 1.41961614e+40, 1.32804683e+40, 1.87746271e+40,\n",
       "       1.76300107e+40, 2.81604818e+40, 2.17506298e+40, 1.78589340e+40,\n",
       "       1.53407779e+40, 1.14490820e+40, 1.03044656e+40, 1.55697012e+40,\n",
       "       2.06060134e+40, 1.30515450e+40, 9.84661903e+39, 1.94613970e+40,\n",
       "       1.12201587e+40, 1.00755423e+40, 1.23647752e+40, 1.35093916e+40,\n",
       "       1.48829313e+40, 1.25936984e+40, 1.71721641e+40, 1.94613970e+40,\n",
       "       1.25936984e+40, 2.17506298e+40, 9.15984917e+39, 1.94613970e+40,\n",
       "       2.88472517e+40, 2.88472517e+40, 2.47266326e+40, 1.14490820e+40,\n",
       "       1.83167806e+40, 1.83167806e+40, 1.83167806e+40])"
      ]
     },
     "execution_count": 502,
     "metadata": {},
     "output_type": "execute_result"
    }
   ],
   "source": [
    "X_b.dot(theta)"
   ]
  },
  {
   "cell_type": "code",
   "execution_count": 507,
   "metadata": {},
   "outputs": [],
   "source": [
    "theta_path_bgd = []\n",
    "\n",
    "def plot_gradient_descent(theta, eta, theta_path=None):\n",
    "    m = len(X_b)\n",
    "    plt.plot(X, y, \"b.\")\n",
    "    n_iterations = 1000\n",
    "    for iteration in range(n_iterations):\n",
    "        if iteration < 10:\n",
    "            y_predict = X_new_b.dot(theta)\n",
    "            style = \"b-\" if iteration > 0 else \"r--\"\n",
    "            plt.plot(X_new, y_predict, style)\n",
    "            \n",
    "        gradients = 2/m * X_b.T.dot(X_b.dot(theta) - y)\n",
    "        theta = theta - eta * gradients\n",
    "        if theta_path is not None:\n",
    "            theta_path.append(theta)\n",
    "    plt.xlabel(\"$x_1$\", fontsize=18)\n",
    "    plt.axis([0, 240, 0, 350])\n",
    "    plt.title(r\"$\\eta = {}$\".format(eta), fontsize=16)"
   ]
  },
  {
   "cell_type": "code",
   "execution_count": 509,
   "metadata": {},
   "outputs": [
    {
     "name": "stderr",
     "output_type": "stream",
     "text": [
      "<ipython-input-507-3ecd99aff936>:14: RuntimeWarning: invalid value encountered in subtract\n",
      "  theta = theta - eta * gradients\n",
      "<ipython-input-507-3ecd99aff936>:14: RuntimeWarning: invalid value encountered in subtract\n",
      "  theta = theta - eta * gradients\n",
      "<ipython-input-507-3ecd99aff936>:14: RuntimeWarning: invalid value encountered in subtract\n",
      "  theta = theta - eta * gradients\n"
     ]
    },
    {
     "name": "stdout",
     "output_type": "stream",
     "text": [
      "Saving figure gradient_descent_plot\n"
     ]
    },
    {
     "data": {
      "image/png": "[encoded data removed]",
      "text/plain": [
       "<Figure size 720x288 with 3 Axes>"
      ]
     },
     "metadata": {
      "needs_background": "light"
     },
     "output_type": "display_data"
    }
   ],
   "source": [
    "np.random.seed(42)\n",
    "theta = np.random.randn(2, 1)\n",
    "theta = np.squeeze(np.asarray(theta))\n",
    "\n",
    "plt.figure(figsize=(10,4))\n",
    "plt.subplot(131); plot_gradient_descent(theta, eta=0.02)\n",
    "plt.ylabel(\"$y$\", rotation=0, fontsize=18)\n",
    "plt.subplot(132); plot_gradient_descent(theta, eta=0.1, theta_path=theta_path_bgd)\n",
    "plt.subplot(133); plot_gradient_descent(theta, eta=0.5)\n",
    "\n",
    "save_fig(\"gradient_descent_plot\")\n",
    "plt.show()"
   ]
  },
  {
   "cell_type": "code",
   "execution_count": 522,
   "metadata": {},
   "outputs": [
    {
     "ename": "KeyError",
     "evalue": "\"Passing list-likes to .loc or [] with any missing labels is no longer supported. The following labels were missing: Int64Index([12, 7, 19, 3, 8, 23, 87, 71], dtype='int64'). See https://pandas.pydata.org/pandas-docs/stable/user_guide/indexing.html#deprecate-loc-reindex-listlike\"",
     "output_type": "error",
     "traceback": [
      "\u001b[0;31m---------------------------------------------------------------------------\u001b[0m",
      "\u001b[0;31mKeyError\u001b[0m                                  Traceback (most recent call last)",
      "\u001b[0;32m<ipython-input-522-e6ae53c797d0>\u001b[0m in \u001b[0;36m<module>\u001b[0;34m\u001b[0m\n\u001b[1;32m     15\u001b[0m     \u001b[0mshuffled_indices\u001b[0m \u001b[0;34m=\u001b[0m \u001b[0mnp\u001b[0m\u001b[0;34m.\u001b[0m\u001b[0mrandom\u001b[0m\u001b[0;34m.\u001b[0m\u001b[0mpermutation\u001b[0m\u001b[0;34m(\u001b[0m\u001b[0mm\u001b[0m\u001b[0;34m)\u001b[0m\u001b[0;34m\u001b[0m\u001b[0;34m\u001b[0m\u001b[0m\n\u001b[1;32m     16\u001b[0m     \u001b[0mX_b_shuffled\u001b[0m \u001b[0;34m=\u001b[0m \u001b[0mX_b\u001b[0m\u001b[0;34m[\u001b[0m\u001b[0mshuffled_indices\u001b[0m\u001b[0;34m]\u001b[0m\u001b[0;34m\u001b[0m\u001b[0;34m\u001b[0m\u001b[0m\n\u001b[0;32m---> 17\u001b[0;31m     \u001b[0my_shuffled\u001b[0m \u001b[0;34m=\u001b[0m \u001b[0my\u001b[0m\u001b[0;34m[\u001b[0m\u001b[0mshuffled_indices\u001b[0m\u001b[0;34m]\u001b[0m\u001b[0;34m\u001b[0m\u001b[0;34m\u001b[0m\u001b[0m\n\u001b[0m\u001b[1;32m     18\u001b[0m     \u001b[0;32mfor\u001b[0m \u001b[0mi\u001b[0m \u001b[0;32min\u001b[0m \u001b[0mrange\u001b[0m\u001b[0;34m(\u001b[0m\u001b[0;36m0\u001b[0m\u001b[0;34m,\u001b[0m \u001b[0mm\u001b[0m\u001b[0;34m,\u001b[0m \u001b[0mminibatch_size\u001b[0m\u001b[0;34m)\u001b[0m\u001b[0;34m:\u001b[0m\u001b[0;34m\u001b[0m\u001b[0;34m\u001b[0m\u001b[0m\n\u001b[1;32m     19\u001b[0m         \u001b[0mt\u001b[0m \u001b[0;34m+=\u001b[0m \u001b[0;36m1\u001b[0m\u001b[0;34m\u001b[0m\u001b[0;34m\u001b[0m\u001b[0m\n",
      "\u001b[0;32m/usr/local/Cellar/jupyterlab/2.2.2/libexec/lib/python3.8/site-packages/pandas/core/series.py\u001b[0m in \u001b[0;36m__getitem__\u001b[0;34m(self, key)\u001b[0m\n\u001b[1;32m    906\u001b[0m             \u001b[0;32mreturn\u001b[0m \u001b[0mself\u001b[0m\u001b[0;34m.\u001b[0m\u001b[0m_get_values\u001b[0m\u001b[0;34m(\u001b[0m\u001b[0mkey\u001b[0m\u001b[0;34m)\u001b[0m\u001b[0;34m\u001b[0m\u001b[0;34m\u001b[0m\u001b[0m\n\u001b[1;32m    907\u001b[0m \u001b[0;34m\u001b[0m\u001b[0m\n\u001b[0;32m--> 908\u001b[0;31m         \u001b[0;32mreturn\u001b[0m \u001b[0mself\u001b[0m\u001b[0;34m.\u001b[0m\u001b[0m_get_with\u001b[0m\u001b[0;34m(\u001b[0m\u001b[0mkey\u001b[0m\u001b[0;34m)\u001b[0m\u001b[0;34m\u001b[0m\u001b[0;34m\u001b[0m\u001b[0m\n\u001b[0m\u001b[1;32m    909\u001b[0m \u001b[0;34m\u001b[0m\u001b[0m\n\u001b[1;32m    910\u001b[0m     \u001b[0;32mdef\u001b[0m \u001b[0m_get_with\u001b[0m\u001b[0;34m(\u001b[0m\u001b[0mself\u001b[0m\u001b[0;34m,\u001b[0m \u001b[0mkey\u001b[0m\u001b[0;34m)\u001b[0m\u001b[0;34m:\u001b[0m\u001b[0;34m\u001b[0m\u001b[0;34m\u001b[0m\u001b[0m\n",
      "\u001b[0;32m/usr/local/Cellar/jupyterlab/2.2.2/libexec/lib/python3.8/site-packages/pandas/core/series.py\u001b[0m in \u001b[0;36m_get_with\u001b[0;34m(self, key)\u001b[0m\n\u001b[1;32m    941\u001b[0m             \u001b[0;31m#  (i.e. self.iloc) or label-based (i.e. self.loc)\u001b[0m\u001b[0;34m\u001b[0m\u001b[0;34m\u001b[0m\u001b[0;34m\u001b[0m\u001b[0m\n\u001b[1;32m    942\u001b[0m             \u001b[0;32mif\u001b[0m \u001b[0;32mnot\u001b[0m \u001b[0mself\u001b[0m\u001b[0;34m.\u001b[0m\u001b[0mindex\u001b[0m\u001b[0;34m.\u001b[0m\u001b[0m_should_fallback_to_positional\u001b[0m\u001b[0;34m(\u001b[0m\u001b[0;34m)\u001b[0m\u001b[0;34m:\u001b[0m\u001b[0;34m\u001b[0m\u001b[0;34m\u001b[0m\u001b[0m\n\u001b[0;32m--> 943\u001b[0;31m                 \u001b[0;32mreturn\u001b[0m \u001b[0mself\u001b[0m\u001b[0;34m.\u001b[0m\u001b[0mloc\u001b[0m\u001b[0;34m[\u001b[0m\u001b[0mkey\u001b[0m\u001b[0;34m]\u001b[0m\u001b[0;34m\u001b[0m\u001b[0;34m\u001b[0m\u001b[0m\n\u001b[0m\u001b[1;32m    944\u001b[0m             \u001b[0;32melse\u001b[0m\u001b[0;34m:\u001b[0m\u001b[0;34m\u001b[0m\u001b[0;34m\u001b[0m\u001b[0m\n\u001b[1;32m    945\u001b[0m                 \u001b[0;32mreturn\u001b[0m \u001b[0mself\u001b[0m\u001b[0;34m.\u001b[0m\u001b[0miloc\u001b[0m\u001b[0;34m[\u001b[0m\u001b[0mkey\u001b[0m\u001b[0;34m]\u001b[0m\u001b[0;34m\u001b[0m\u001b[0;34m\u001b[0m\u001b[0m\n",
      "\u001b[0;32m/usr/local/Cellar/jupyterlab/2.2.2/libexec/lib/python3.8/site-packages/pandas/core/indexing.py\u001b[0m in \u001b[0;36m__getitem__\u001b[0;34m(self, key)\u001b[0m\n\u001b[1;32m    877\u001b[0m \u001b[0;34m\u001b[0m\u001b[0m\n\u001b[1;32m    878\u001b[0m             \u001b[0mmaybe_callable\u001b[0m \u001b[0;34m=\u001b[0m \u001b[0mcom\u001b[0m\u001b[0;34m.\u001b[0m\u001b[0mapply_if_callable\u001b[0m\u001b[0;34m(\u001b[0m\u001b[0mkey\u001b[0m\u001b[0;34m,\u001b[0m \u001b[0mself\u001b[0m\u001b[0;34m.\u001b[0m\u001b[0mobj\u001b[0m\u001b[0;34m)\u001b[0m\u001b[0;34m\u001b[0m\u001b[0;34m\u001b[0m\u001b[0m\n\u001b[0;32m--> 879\u001b[0;31m             \u001b[0;32mreturn\u001b[0m \u001b[0mself\u001b[0m\u001b[0;34m.\u001b[0m\u001b[0m_getitem_axis\u001b[0m\u001b[0;34m(\u001b[0m\u001b[0mmaybe_callable\u001b[0m\u001b[0;34m,\u001b[0m \u001b[0maxis\u001b[0m\u001b[0;34m=\u001b[0m\u001b[0maxis\u001b[0m\u001b[0;34m)\u001b[0m\u001b[0;34m\u001b[0m\u001b[0;34m\u001b[0m\u001b[0m\n\u001b[0m\u001b[1;32m    880\u001b[0m \u001b[0;34m\u001b[0m\u001b[0m\n\u001b[1;32m    881\u001b[0m     \u001b[0;32mdef\u001b[0m \u001b[0m_is_scalar_access\u001b[0m\u001b[0;34m(\u001b[0m\u001b[0mself\u001b[0m\u001b[0;34m,\u001b[0m \u001b[0mkey\u001b[0m\u001b[0;34m:\u001b[0m \u001b[0mTuple\u001b[0m\u001b[0;34m)\u001b[0m\u001b[0;34m:\u001b[0m\u001b[0;34m\u001b[0m\u001b[0;34m\u001b[0m\u001b[0m\n",
      "\u001b[0;32m/usr/local/Cellar/jupyterlab/2.2.2/libexec/lib/python3.8/site-packages/pandas/core/indexing.py\u001b[0m in \u001b[0;36m_getitem_axis\u001b[0;34m(self, key, axis)\u001b[0m\n\u001b[1;32m   1097\u001b[0m                     \u001b[0;32mraise\u001b[0m \u001b[0mValueError\u001b[0m\u001b[0;34m(\u001b[0m\u001b[0;34m\"Cannot index with multidimensional key\"\u001b[0m\u001b[0;34m)\u001b[0m\u001b[0;34m\u001b[0m\u001b[0;34m\u001b[0m\u001b[0m\n\u001b[1;32m   1098\u001b[0m \u001b[0;34m\u001b[0m\u001b[0m\n\u001b[0;32m-> 1099\u001b[0;31m                 \u001b[0;32mreturn\u001b[0m \u001b[0mself\u001b[0m\u001b[0;34m.\u001b[0m\u001b[0m_getitem_iterable\u001b[0m\u001b[0;34m(\u001b[0m\u001b[0mkey\u001b[0m\u001b[0;34m,\u001b[0m \u001b[0maxis\u001b[0m\u001b[0;34m=\u001b[0m\u001b[0maxis\u001b[0m\u001b[0;34m)\u001b[0m\u001b[0;34m\u001b[0m\u001b[0;34m\u001b[0m\u001b[0m\n\u001b[0m\u001b[1;32m   1100\u001b[0m \u001b[0;34m\u001b[0m\u001b[0m\n\u001b[1;32m   1101\u001b[0m             \u001b[0;31m# nested tuple slicing\u001b[0m\u001b[0;34m\u001b[0m\u001b[0;34m\u001b[0m\u001b[0;34m\u001b[0m\u001b[0m\n",
      "\u001b[0;32m/usr/local/Cellar/jupyterlab/2.2.2/libexec/lib/python3.8/site-packages/pandas/core/indexing.py\u001b[0m in \u001b[0;36m_getitem_iterable\u001b[0;34m(self, key, axis)\u001b[0m\n\u001b[1;32m   1035\u001b[0m \u001b[0;34m\u001b[0m\u001b[0m\n\u001b[1;32m   1036\u001b[0m         \u001b[0;31m# A collection of keys\u001b[0m\u001b[0;34m\u001b[0m\u001b[0;34m\u001b[0m\u001b[0;34m\u001b[0m\u001b[0m\n\u001b[0;32m-> 1037\u001b[0;31m         \u001b[0mkeyarr\u001b[0m\u001b[0;34m,\u001b[0m \u001b[0mindexer\u001b[0m \u001b[0;34m=\u001b[0m \u001b[0mself\u001b[0m\u001b[0;34m.\u001b[0m\u001b[0m_get_listlike_indexer\u001b[0m\u001b[0;34m(\u001b[0m\u001b[0mkey\u001b[0m\u001b[0;34m,\u001b[0m \u001b[0maxis\u001b[0m\u001b[0;34m,\u001b[0m \u001b[0mraise_missing\u001b[0m\u001b[0;34m=\u001b[0m\u001b[0;32mFalse\u001b[0m\u001b[0;34m)\u001b[0m\u001b[0;34m\u001b[0m\u001b[0;34m\u001b[0m\u001b[0m\n\u001b[0m\u001b[1;32m   1038\u001b[0m         return self.obj._reindex_with_indexers(\n\u001b[1;32m   1039\u001b[0m             \u001b[0;34m{\u001b[0m\u001b[0maxis\u001b[0m\u001b[0;34m:\u001b[0m \u001b[0;34m[\u001b[0m\u001b[0mkeyarr\u001b[0m\u001b[0;34m,\u001b[0m \u001b[0mindexer\u001b[0m\u001b[0;34m]\u001b[0m\u001b[0;34m}\u001b[0m\u001b[0;34m,\u001b[0m \u001b[0mcopy\u001b[0m\u001b[0;34m=\u001b[0m\u001b[0;32mTrue\u001b[0m\u001b[0;34m,\u001b[0m \u001b[0mallow_dups\u001b[0m\u001b[0;34m=\u001b[0m\u001b[0;32mTrue\u001b[0m\u001b[0;34m\u001b[0m\u001b[0;34m\u001b[0m\u001b[0m\n",
      "\u001b[0;32m/usr/local/Cellar/jupyterlab/2.2.2/libexec/lib/python3.8/site-packages/pandas/core/indexing.py\u001b[0m in \u001b[0;36m_get_listlike_indexer\u001b[0;34m(self, key, axis, raise_missing)\u001b[0m\n\u001b[1;32m   1252\u001b[0m             \u001b[0mkeyarr\u001b[0m\u001b[0;34m,\u001b[0m \u001b[0mindexer\u001b[0m\u001b[0;34m,\u001b[0m \u001b[0mnew_indexer\u001b[0m \u001b[0;34m=\u001b[0m \u001b[0max\u001b[0m\u001b[0;34m.\u001b[0m\u001b[0m_reindex_non_unique\u001b[0m\u001b[0;34m(\u001b[0m\u001b[0mkeyarr\u001b[0m\u001b[0;34m)\u001b[0m\u001b[0;34m\u001b[0m\u001b[0;34m\u001b[0m\u001b[0m\n\u001b[1;32m   1253\u001b[0m \u001b[0;34m\u001b[0m\u001b[0m\n\u001b[0;32m-> 1254\u001b[0;31m         \u001b[0mself\u001b[0m\u001b[0;34m.\u001b[0m\u001b[0m_validate_read_indexer\u001b[0m\u001b[0;34m(\u001b[0m\u001b[0mkeyarr\u001b[0m\u001b[0;34m,\u001b[0m \u001b[0mindexer\u001b[0m\u001b[0;34m,\u001b[0m \u001b[0maxis\u001b[0m\u001b[0;34m,\u001b[0m \u001b[0mraise_missing\u001b[0m\u001b[0;34m=\u001b[0m\u001b[0mraise_missing\u001b[0m\u001b[0;34m)\u001b[0m\u001b[0;34m\u001b[0m\u001b[0;34m\u001b[0m\u001b[0m\n\u001b[0m\u001b[1;32m   1255\u001b[0m         \u001b[0;32mreturn\u001b[0m \u001b[0mkeyarr\u001b[0m\u001b[0;34m,\u001b[0m \u001b[0mindexer\u001b[0m\u001b[0;34m\u001b[0m\u001b[0;34m\u001b[0m\u001b[0m\n\u001b[1;32m   1256\u001b[0m \u001b[0;34m\u001b[0m\u001b[0m\n",
      "\u001b[0;32m/usr/local/Cellar/jupyterlab/2.2.2/libexec/lib/python3.8/site-packages/pandas/core/indexing.py\u001b[0m in \u001b[0;36m_validate_read_indexer\u001b[0;34m(self, key, indexer, axis, raise_missing)\u001b[0m\n\u001b[1;32m   1313\u001b[0m \u001b[0;34m\u001b[0m\u001b[0m\n\u001b[1;32m   1314\u001b[0m                 \u001b[0;32mwith\u001b[0m \u001b[0moption_context\u001b[0m\u001b[0;34m(\u001b[0m\u001b[0;34m\"display.max_seq_items\"\u001b[0m\u001b[0;34m,\u001b[0m \u001b[0;36m10\u001b[0m\u001b[0;34m,\u001b[0m \u001b[0;34m\"display.width\"\u001b[0m\u001b[0;34m,\u001b[0m \u001b[0;36m80\u001b[0m\u001b[0;34m)\u001b[0m\u001b[0;34m:\u001b[0m\u001b[0;34m\u001b[0m\u001b[0;34m\u001b[0m\u001b[0m\n\u001b[0;32m-> 1315\u001b[0;31m                     raise KeyError(\n\u001b[0m\u001b[1;32m   1316\u001b[0m                         \u001b[0;34m\"Passing list-likes to .loc or [] with any missing labels \"\u001b[0m\u001b[0;34m\u001b[0m\u001b[0;34m\u001b[0m\u001b[0m\n\u001b[1;32m   1317\u001b[0m                         \u001b[0;34m\"is no longer supported. \"\u001b[0m\u001b[0;34m\u001b[0m\u001b[0;34m\u001b[0m\u001b[0m\n",
      "\u001b[0;31mKeyError\u001b[0m: \"Passing list-likes to .loc or [] with any missing labels is no longer supported. The following labels were missing: Int64Index([12, 7, 19, 3, 8, 23, 87, 71], dtype='int64'). See https://pandas.pydata.org/pandas-docs/stable/user_guide/indexing.html#deprecate-loc-reindex-listlike\""
     ]
    }
   ],
   "source": [
    "theta_path_mgd = []\n",
    "\n",
    "n_iterations = 50\n",
    "minibatch_size = 20\n",
    "\n",
    "np.random.seed(42)\n",
    "theta = np.random.randn(2,1)  # random initialization\n",
    "\n",
    "t0, t1 = 200, 1000\n",
    "def learning_schedule(t):\n",
    "    return t0 / (t + t1)\n",
    "\n",
    "t = 0\n",
    "for epoch in range(n_iterations):\n",
    "    shuffled_indices = np.random.permutation(m)\n",
    "    X_b_shuffled = X_b[shuffled_indices]\n",
    "    y_shuffled = y[shuffled_indices]\n",
    "    for i in range(0, m, minibatch_size):\n",
    "        t += 1\n",
    "        xi = X_b_shuffled[i:i+minibatch_size]\n",
    "        yi = y_shuffled[i:i+minibatch_size]\n",
    "        gradients = 2/minibatch_size * xi.T.dot(xi.dot(theta) - yi)\n",
    "        eta = learning_schedule(t)\n",
    "        theta = theta - eta * gradients\n",
    "        theta_path_mgd.append(theta)"
   ]
  },
  {
   "cell_type": "code",
   "execution_count": 517,
   "metadata": {},
   "outputs": [
    {
     "data": {
      "text/plain": [
       "array([[ 0.49671415],\n",
       "       [-0.1382643 ]])"
      ]
     },
     "execution_count": 517,
     "metadata": {},
     "output_type": "execute_result"
    }
   ],
   "source": [
    "np.random.seed(42)\n",
    "theta = np.random.randn(2,1) \n",
    "theta"
   ]
  }
 ],
 "metadata": {
  "colab": {
   "collapsed_sections": [],
   "name": "DAP3.ipynb",
   "provenance": [],
   "toc_visible": true
  },
  "kernelspec": {
   "display_name": "Python 3",
   "language": "python",
   "name": "python3"
  },
  "language_info": {
   "codemirror_mode": {
    "name": "ipython",
    "version": 3
   },
   "file_extension": ".py",
   "mimetype": "text/x-python",
   "name": "python",
   "nbconvert_exporter": "python",
   "pygments_lexer": "ipython3",
   "version": "3.8.5"
  }
 },
 "nbformat": 4,
 "nbformat_minor": 1
}
