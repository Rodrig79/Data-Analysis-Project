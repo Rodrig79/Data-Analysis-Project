{
 "cells": [
  {
   "cell_type": "code",
   "execution_count": 10,
   "metadata": {
    "colab": {},
    "colab_type": "code",
    "id": "rO6N5JjOCznb"
   },
   "outputs": [],
   "source": [
    "#If you need to install in modules in jupyter notebook \n",
    "# %pip install scikit-learn\n",
    "# %pip install pandas\n",
    "# %pip install matplotlib \n",
    "\n",
    "#Python ≥3.5 is required\n",
    "import sys\n",
    "assert sys.version_info >= (3, 5)\n",
    "import datetime\n",
    "\n",
    "# Scikit-Learn ≥0.20 is required\n",
    "import sklearn\n",
    "assert sklearn.__version__ >= \"0.20\"\n",
    "\n",
    "# Common imports\n",
    "import numpy as np\n",
    "import pandas as pd\n",
    "import os\n",
    "from sklearn.metrics import confusion_matrix\n",
    "from sklearn.metrics import classification_report\n",
    "from sklearn.model_selection import train_test_split\n",
    "import matplotlib.pyplot as plt\n",
    "from scipy import stats\n",
    "\n",
    "# To plot pretty figures\n",
    "%matplotlib inline\n",
    "import matplotlib as mpl\n",
    "import matplotlib.pyplot as plt\n",
    "mpl.rc('axes', labelsize=14)\n",
    "mpl.rc('xtick', labelsize=12)\n",
    "mpl.rc('ytick', labelsize=12)\n",
    "\n",
    "# to make this notebook's output stable across runs\n",
    "np.random.seed(42)\n",
    "\n",
    "# Where to save the figures\n",
    "PROJECT_ROOT_DIR = \".\"\n",
    "CHAPTER_ID = \"decision_trees\"\n",
    "IMAGES_PATH = os.path.join(PROJECT_ROOT_DIR, \"images\", CHAPTER_ID)\n",
    "\n",
    "os.makedirs(IMAGES_PATH, exist_ok=True)\n",
    "\n",
    "def save_fig(fig_id, tight_layout=True, fig_extension=\"png\", resolution=300):\n",
    "    path = os.path.join(IMAGES_PATH, fig_id + \".\" + fig_extension)\n",
    "    print(\"Saving figure\", fig_id)\n",
    "    if tight_layout:\n",
    "        plt.tight_layout()\n",
    "    plt.savefig(path, format=fig_extension, dpi=resolution)"
   ]
  },
  {
   "cell_type": "code",
   "execution_count": 105,
   "metadata": {
    "colab": {},
    "colab_type": "code",
    "id": "oHaaZZR99wIu"
   },
   "outputs": [],
   "source": [
    "#Pull \n",
    "df = pd.read_csv('https://raw.githubusercontent.com/Rodrig79/Machine-Learning-Data-Analysis-Project/master/rawData/pokemon.csv')"
   ]
  },
  {
   "cell_type": "code",
   "execution_count": 106,
   "metadata": {},
   "outputs": [],
   "source": [
    "\n",
    "#Data Cleaning\n",
    "df = df[~df.Name.str.contains('Mega')] #removed pokemon with \"Mega\" in it\n",
    "df = df.drop(columns = [\"Name\",\"Type 1\",\"Type 2\",\"#\",\"Generation\",\"Legendary\"]) #Removed columns with names\n",
    "\n",
    "# removing extreme outliers\n",
    "# statesData = statesData[statesData[\"cases\"].between(statesData[\"cases\"].quantile(.15), statesData[\"cases\"].quantile(.85))]\n",
    "# statesData = statesData[statesData[\"deaths\"].between(statesData[\"deaths\"].quantile(.15), statesData[\"deaths\"].quantile(.85))]"
   ]
  },
  {
   "cell_type": "code",
   "execution_count": 107,
   "metadata": {},
   "outputs": [
    {
     "name": "stdout",
     "output_type": "stream",
     "text": [
      "     Total   HP  Attack  Defense  Sp. Atk  Sp. Def  Speed\n",
      "0      318   45      49       49       65       65     45\n",
      "1      405   60      62       63       80       80     60\n",
      "2      525   80      82       83      100      100     80\n",
      "4      309   39      52       43       60       50     65\n",
      "5      405   58      64       58       80       65     80\n",
      "..     ...  ...     ...      ...      ...      ...    ...\n",
      "794    600  108     100      121       81       95     95\n",
      "795    600   50     100      150      100      150     50\n",
      "797    600   80     110       60      150      130     70\n",
      "798    680   80     160       60      170      130     80\n",
      "799    600   80     110      120      130       90     70\n",
      "\n",
      "[751 rows x 7 columns]\n"
     ]
    }
   ],
   "source": [
    "print(df)"
   ]
  },
  {
   "cell_type": "code",
   "execution_count": null,
   "metadata": {
    "colab": {
     "base_uri": "https://localhost:8080/",
     "height": 476
    },
    "colab_type": "code",
    "id": "6yM6ux-XDBXT",
    "outputId": "aa1b3b67-7861-4ef8-bee2-066c70e537a3"
   },
   "outputs": [],
   "source": [
    "# removing extreme outliers\n",
    "# statesData = statesData[statesData[\"cases\"].between(statesData[\"cases\"].quantile(.15), statesData[\"cases\"].quantile(.85))]\n",
    "# statesData = statesData[statesData[\"deaths\"].between(statesData[\"deaths\"].quantile(.15), statesData[\"deaths\"].quantile(.85))]\n",
    "\n"
   ]
  },
  {
   "cell_type": "code",
   "execution_count": null,
   "metadata": {
    "colab": {},
    "colab_type": "code",
    "id": "IYaJ297Sv-5H"
   },
   "outputs": [],
   "source": [
    "#changes the output for the print statements\n",
    "pd.set_option('display.max_rows', 10)\n",
    "pd.set_option('display.max_columns', None)\n",
    "pd.set_option('display.width', None)\n",
    "pd.set_option('display.max_colwidth',0)"
   ]
  },
  {
   "cell_type": "code",
   "execution_count": 108,
   "metadata": {
    "colab": {
     "base_uri": "https://localhost:8080/",
     "height": 1000
    },
    "colab_type": "code",
    "id": "mpo1Dg7Xevmm",
    "outputId": "51bbb374-4684-43c2-86f8-330254f96034"
   },
   "outputs": [
    {
     "name": "stdout",
     "output_type": "stream",
     "text": [
      "min\n",
      "\n",
      "Total      180\n",
      "HP           1\n",
      "Attack       5\n",
      "Defense      5\n",
      "Sp. Atk     10\n",
      "Sp. Def     20\n",
      "Speed        5\n",
      "dtype: int64\n",
      "\n",
      "max\n",
      "\n",
      "Total      770\n",
      "HP         255\n",
      "Attack     180\n",
      "Defense    230\n",
      "Sp. Atk    180\n",
      "Sp. Def    230\n",
      "Speed      180\n",
      "dtype: int64\n",
      "\n",
      "mean\n",
      "\n",
      "Total      423.322237\n",
      "HP          68.669774\n",
      "Attack      75.978695\n",
      "Defense     71.744341\n",
      "Sp. Atk     70.213049\n",
      "Sp. Def     70.109188\n",
      "Speed       66.607190\n",
      "dtype: float64\n",
      "\n",
      "median\n",
      "\n",
      "Total      430.0\n",
      "HP          65.0\n",
      "Attack      75.0\n",
      "Defense     68.0\n",
      "Sp. Atk     65.0\n",
      "Sp. Def     65.0\n",
      "Speed       65.0\n",
      "dtype: float64\n",
      "\n",
      "standard deviation\n",
      "\n",
      "Total      112.932936\n",
      "HP          25.946152\n",
      "Attack      29.920554\n",
      "Defense     29.629870\n",
      "Sp. Atk     30.263860\n",
      "Sp. Def     27.401096\n",
      "Speed       27.845601\n",
      "dtype: float64\n",
      "\n",
      "first quartile\n",
      "\n",
      "Total      325.0\n",
      "HP          50.0\n",
      "Attack      55.0\n",
      "Defense     50.0\n",
      "Sp. Atk     45.0\n",
      "Sp. Def     50.0\n",
      "Speed       45.0\n",
      "Name: 0.25, dtype: float64\n",
      "\n",
      "second quartile\n",
      "\n",
      "Total      430.0\n",
      "HP          65.0\n",
      "Attack      75.0\n",
      "Defense     68.0\n",
      "Sp. Atk     65.0\n",
      "Sp. Def     65.0\n",
      "Speed       65.0\n",
      "Name: 0.5, dtype: float64\n",
      "\n",
      "third quartile\n",
      "\n",
      "Total      500.0\n",
      "HP          80.0\n",
      "Attack      95.0\n",
      "Defense     90.0\n",
      "Sp. Atk     90.0\n",
      "Sp. Def     85.0\n",
      "Speed       88.5\n",
      "Name: 0.75, dtype: float64\n"
     ]
    },
    {
     "data": {
      "image/png": "[encoded data removed]",
      "text/plain": [
       "<Figure size 432x288 with 1 Axes>"
      ]
     },
     "metadata": {
      "needs_background": "light"
     },
     "output_type": "display_data"
    },
    {
     "data": {
      "image/png": "[encoded data removed]",
      "text/plain": [
       "<Figure size 432x288 with 1 Axes>"
      ]
     },
     "metadata": {
      "needs_background": "light"
     },
     "output_type": "display_data"
    },
    {
     "data": {
      "image/png": "[encoded data removed]",
      "text/plain": [
       "<Figure size 432x288 with 1 Axes>"
      ]
     },
     "metadata": {
      "needs_background": "light"
     },
     "output_type": "display_data"
    },
    {
     "data": {
      "image/png": "[encoded data removed]",
      "text/plain": [
       "<Figure size 432x288 with 1 Axes>"
      ]
     },
     "metadata": {
      "needs_background": "light"
     },
     "output_type": "display_data"
    },
    {
     "data": {
      "image/png": "[encoded data removed]",
      "text/plain": [
       "<Figure size 432x288 with 1 Axes>"
      ]
     },
     "metadata": {
      "needs_background": "light"
     },
     "output_type": "display_data"
    },
    {
     "data": {
      "image/png": "[encoded data removed]",
      "text/plain": [
       "<Figure size 432x288 with 1 Axes>"
      ]
     },
     "metadata": {
      "needs_background": "light"
     },
     "output_type": "display_data"
    },
    {
     "data": {
      "image/png": "[encoded data removed]",
      "text/plain": [
       "<Figure size 432x288 with 1 Axes>"
      ]
     },
     "metadata": {
      "needs_background": "light"
     },
     "output_type": "display_data"
    }
   ],
   "source": [
    "print(\"min\\n\")\n",
    "print(df.min())\n",
    "print(\"\\nmax\\n\")\n",
    "print(df.max())\n",
    "print(\"\\nmean\\n\")\n",
    "print(df.mean(skipna=False))\n",
    "print(\"\\nmedian\\n\")\n",
    "print(df.median())\n",
    "print(\"\\nstandard deviation\\n\")\n",
    "print(df.std())\n",
    "\n",
    "print(\"\\nfirst quartile\\n\")\n",
    "print(df.quantile(0.25))\n",
    "print(\"\\nsecond quartile\\n\")\n",
    "print(df.quantile(0.50))\n",
    "print(\"\\nthird quartile\\n\")\n",
    "print(df.quantile(0.75))\n",
    " \n",
    "boxplot = df.boxplot(column='Total') \n",
    "plt.show()\n",
    "boxplot = df.boxplot(column='HP') \n",
    "plt.show()\n",
    "boxplot = df.boxplot(column='Attack') \n",
    "plt.show()\n",
    "boxplot = df.boxplot(column='Defense') \n",
    "plt.show()\n",
    "boxplot = df.boxplot(column='Sp. Atk') \n",
    "plt.show()\n",
    "boxplot = df.boxplot(column='Sp. Def') \n",
    "plt.show()\n",
    "boxplot = df.boxplot(column='Speed') \n",
    "plt.show()"
   ]
  },
  {
   "cell_type": "code",
   "execution_count": null,
   "metadata": {},
   "outputs": [],
   "source": []
  },
  {
   "cell_type": "code",
   "execution_count": null,
   "metadata": {
    "colab": {
     "base_uri": "https://localhost:8080/",
     "height": 153
    },
    "colab_type": "code",
    "id": "ZsFNv5_EeKI8",
    "outputId": "9862ec2a-6833-46b9-91ba-88b4da4b57b6"
   },
   "outputs": [],
   "source": [
    "statesData.dtypes"
   ]
  }
 ],
 "metadata": {
  "colab": {
   "collapsed_sections": [],
   "name": "DAP2.ipynb",
   "provenance": []
  },
  "kernelspec": {
   "display_name": "Python 3",
   "language": "python",
   "name": "python3"
  },
  "language_info": {
   "codemirror_mode": {
    "name": "ipython",
    "version": 3
   },
   "file_extension": ".py",
   "mimetype": "text/x-python",
   "name": "python",
   "nbconvert_exporter": "python",
   "pygments_lexer": "ipython3",
   "version": "3.8.3"
  }
 },
 "nbformat": 4,
 "nbformat_minor": 1
}
