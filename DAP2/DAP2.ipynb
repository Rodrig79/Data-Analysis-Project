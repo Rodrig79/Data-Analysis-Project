{
 "cells": [
  {
   "cell_type": "code",
   "execution_count": 59,
   "metadata": {},
   "outputs": [
    {
     "name": "stdout",
     "output_type": "stream",
     "text": [
      "Requirement already satisfied: scikit-learn in /usr/local/Cellar/jupyterlab/2.1.5/libexec/lib/python3.8/site-packages (0.23.1)\n",
      "Requirement already satisfied: threadpoolctl>=2.0.0 in /usr/local/Cellar/jupyterlab/2.1.5/libexec/lib/python3.8/site-packages (from scikit-learn) (2.1.0)\n",
      "Requirement already satisfied: scipy>=0.19.1 in /usr/local/Cellar/jupyterlab/2.1.5/libexec/lib/python3.8/site-packages (from scikit-learn) (1.5.2)\n",
      "Requirement already satisfied: numpy>=1.13.3 in /usr/local/Cellar/jupyterlab/2.1.5/libexec/lib/python3.8/site-packages (from scikit-learn) (1.19.1)\n",
      "Requirement already satisfied: joblib>=0.11 in /usr/local/Cellar/jupyterlab/2.1.5/libexec/lib/python3.8/site-packages (from scikit-learn) (0.16.0)\n",
      "\u001b[33mWARNING: You are using pip version 20.1.1; however, version 20.2 is available.\n",
      "You should consider upgrading via the '/usr/local/Cellar/jupyterlab/2.1.5/libexec/bin/python3.8 -m pip install --upgrade pip' command.\u001b[0m\n",
      "Note: you may need to restart the kernel to use updated packages.\n",
      "Requirement already satisfied: pandas in /usr/local/Cellar/jupyterlab/2.1.5/libexec/lib/python3.8/site-packages (1.1.0)\n",
      "Requirement already satisfied: python-dateutil>=2.7.3 in /usr/local/Cellar/jupyterlab/2.1.5/libexec/lib/python3.8/site-packages (from pandas) (2.8.1)\n",
      "Requirement already satisfied: numpy>=1.15.4 in /usr/local/Cellar/jupyterlab/2.1.5/libexec/lib/python3.8/site-packages (from pandas) (1.19.1)\n",
      "Requirement already satisfied: pytz>=2017.2 in /usr/local/Cellar/jupyterlab/2.1.5/libexec/lib/python3.8/site-packages (from pandas) (2020.1)\n",
      "Requirement already satisfied: six>=1.5 in /usr/local/Cellar/jupyterlab/2.1.5/libexec/lib/python3.8/site-packages (from python-dateutil>=2.7.3->pandas) (1.15.0)\n",
      "\u001b[33mWARNING: You are using pip version 20.1.1; however, version 20.2 is available.\n",
      "You should consider upgrading via the '/usr/local/Cellar/jupyterlab/2.1.5/libexec/bin/python3.8 -m pip install --upgrade pip' command.\u001b[0m\n",
      "Note: you may need to restart the kernel to use updated packages.\n",
      "Requirement already satisfied: matplotlib in /usr/local/Cellar/jupyterlab/2.1.5/libexec/lib/python3.8/site-packages (3.3.0)\n",
      "Requirement already satisfied: cycler>=0.10 in /usr/local/Cellar/jupyterlab/2.1.5/libexec/lib/python3.8/site-packages (from matplotlib) (0.10.0)\n",
      "Requirement already satisfied: pillow>=6.2.0 in /usr/local/Cellar/jupyterlab/2.1.5/libexec/lib/python3.8/site-packages (from matplotlib) (7.2.0)\n",
      "Requirement already satisfied: kiwisolver>=1.0.1 in /usr/local/Cellar/jupyterlab/2.1.5/libexec/lib/python3.8/site-packages (from matplotlib) (1.2.0)\n",
      "Requirement already satisfied: pyparsing!=2.0.4,!=2.1.2,!=2.1.6,>=2.0.3 in /usr/local/Cellar/jupyterlab/2.1.5/libexec/lib/python3.8/site-packages (from matplotlib) (2.4.7)\n",
      "Requirement already satisfied: numpy>=1.15 in /usr/local/Cellar/jupyterlab/2.1.5/libexec/lib/python3.8/site-packages (from matplotlib) (1.19.1)\n",
      "Requirement already satisfied: python-dateutil>=2.1 in /usr/local/Cellar/jupyterlab/2.1.5/libexec/lib/python3.8/site-packages (from matplotlib) (2.8.1)\n",
      "Requirement already satisfied: six in /usr/local/Cellar/jupyterlab/2.1.5/libexec/lib/python3.8/site-packages (from cycler>=0.10->matplotlib) (1.15.0)\n",
      "\u001b[33mWARNING: You are using pip version 20.1.1; however, version 20.2 is available.\n",
      "You should consider upgrading via the '/usr/local/Cellar/jupyterlab/2.1.5/libexec/bin/python3.8 -m pip install --upgrade pip' command.\u001b[0m\n",
      "Note: you may need to restart the kernel to use updated packages.\n"
     ]
    }
   ],
   "source": [
    "%pip install scikit-learn\n",
    "%pip install pandas\n",
    "%pip install matplotlib "
   ]
  },
  {
   "cell_type": "code",
   "execution_count": 60,
   "metadata": {
    "colab": {},
    "colab_type": "code",
    "id": "rO6N5JjOCznb"
   },
   "outputs": [],
   "source": [
    "#Python ≥3.5 is required\n",
    "import sys\n",
    "assert sys.version_info >= (3, 5)\n",
    "import datetime\n",
    "\n",
    "# Scikit-Learn ≥0.20 is required\n",
    "import sklearn\n",
    "assert sklearn.__version__ >= \"0.20\"\n",
    "\n",
    "# Common imports\n",
    "import numpy as np\n",
    "import pandas as pd\n",
    "import os\n",
    "from sklearn.metrics import confusion_matrix\n",
    "from sklearn.metrics import classification_report\n",
    "from sklearn.model_selection import train_test_split\n",
    "import matplotlib.pyplot as plt\n",
    "from scipy import stats\n",
    "\n",
    "# To plot pretty figures\n",
    "%matplotlib inline\n",
    "import matplotlib as mpl\n",
    "import matplotlib.pyplot as plt\n",
    "mpl.rc('axes', labelsize=14)\n",
    "mpl.rc('xtick', labelsize=12)\n",
    "mpl.rc('ytick', labelsize=12)\n",
    "\n",
    "# to make this notebook's output stable across runs\n",
    "np.random.seed(42)\n",
    "\n",
    "# Where to save the figures\n",
    "PROJECT_ROOT_DIR = \".\"\n",
    "CHAPTER_ID = \"decision_trees\"\n",
    "IMAGES_PATH = os.path.join(PROJECT_ROOT_DIR, \"images\", CHAPTER_ID)\n",
    "\n",
    "os.makedirs(IMAGES_PATH, exist_ok=True)\n",
    "\n",
    "def save_fig(fig_id, tight_layout=True, fig_extension=\"png\", resolution=300):\n",
    "    path = os.path.join(IMAGES_PATH, fig_id + \".\" + fig_extension)\n",
    "    print(\"Saving figure\", fig_id)\n",
    "    if tight_layout:\n",
    "        plt.tight_layout()\n",
    "    plt.savefig(path, format=fig_extension, dpi=resolution)"
   ]
  },
  {
   "cell_type": "code",
   "execution_count": 61,
   "metadata": {
    "colab": {},
    "colab_type": "code",
    "id": "oHaaZZR99wIu"
   },
   "outputs": [],
   "source": [
    "#Pull \n",
    "df = pd.read_csv('https://raw.githubusercontent.com/Rodrig79/Machine-Learning-Data-Analysis-Project/master/rawData/pokemon.csv')"
   ]
  },
  {
   "cell_type": "code",
   "execution_count": 62,
   "metadata": {},
   "outputs": [],
   "source": [
    "#Data Cleaning\n",
    "df = df.drop(columns = [\"Name\",\"Type 1\",\"Type 2\",\"#\",\"Generation\",\"Legendary\"])\n",
    "\n",
    "# removing extreme outliers\n",
    "# statesData = statesData[statesData[\"cases\"].between(statesData[\"cases\"].quantile(.15), statesData[\"cases\"].quantile(.85))]\n",
    "# statesData = statesData[statesData[\"deaths\"].between(statesData[\"deaths\"].quantile(.15), statesData[\"deaths\"].quantile(.85))]"
   ]
  },
  {
   "cell_type": "code",
   "execution_count": 63,
   "metadata": {},
   "outputs": [
    {
     "name": "stdout",
     "output_type": "stream",
     "text": [
      "     Total  HP  Attack  Defense  Sp. Atk  Sp. Def  Speed\n",
      "0    318    45  49      49       65       65       45   \n",
      "1    405    60  62      63       80       80       60   \n",
      "2    525    80  82      83       100      100      80   \n",
      "3    625    80  100     123      122      120      80   \n",
      "4    309    39  52      43       60       50       65   \n",
      "..   ...    ..  ..      ..       ..       ..       ..   \n",
      "795  600    50  100     150      100      150      50   \n",
      "796  700    50  160     110      160      110      110  \n",
      "797  600    80  110     60       150      130      70   \n",
      "798  680    80  160     60       170      130      80   \n",
      "799  600    80  110     120      130      90       70   \n",
      "\n",
      "[800 rows x 7 columns]\n"
     ]
    }
   ],
   "source": [
    "print(df)"
   ]
  },
  {
   "cell_type": "code",
   "execution_count": 64,
   "metadata": {
    "colab": {
     "base_uri": "https://localhost:8080/",
     "height": 476
    },
    "colab_type": "code",
    "id": "6yM6ux-XDBXT",
    "outputId": "aa1b3b67-7861-4ef8-bee2-066c70e537a3"
   },
   "outputs": [],
   "source": [
    "# removing extreme outliers\n",
    "# statesData = statesData[statesData[\"cases\"].between(statesData[\"cases\"].quantile(.15), statesData[\"cases\"].quantile(.85))]\n",
    "# statesData = statesData[statesData[\"deaths\"].between(statesData[\"deaths\"].quantile(.15), statesData[\"deaths\"].quantile(.85))]\n",
    "\n"
   ]
  },
  {
   "cell_type": "code",
   "execution_count": 65,
   "metadata": {
    "colab": {},
    "colab_type": "code",
    "id": "IYaJ297Sv-5H"
   },
   "outputs": [],
   "source": [
    "#changes the output for the print statements\n",
    "pd.set_option('display.max_rows', 10)\n",
    "pd.set_option('display.max_columns', None)\n",
    "pd.set_option('display.width', None)\n",
    "pd.set_option('display.max_colwidth',0)"
   ]
  },
  {
   "cell_type": "code",
   "execution_count": 66,
   "metadata": {
    "colab": {
     "base_uri": "https://localhost:8080/",
     "height": 1000
    },
    "colab_type": "code",
    "id": "mpo1Dg7Xevmm",
    "outputId": "51bbb374-4684-43c2-86f8-330254f96034"
   },
   "outputs": [
    {
     "name": "stdout",
     "output_type": "stream",
     "text": [
      "min\n",
      "\n",
      "Total      180\n",
      "HP         1  \n",
      "Attack     5  \n",
      "Defense    5  \n",
      "Sp. Atk    10 \n",
      "Sp. Def    20 \n",
      "Speed      5  \n",
      "dtype: int64\n",
      "\n",
      "max\n",
      "\n",
      "Total      780\n",
      "HP         255\n",
      "Attack     190\n",
      "Defense    230\n",
      "Sp. Atk    194\n",
      "Sp. Def    230\n",
      "Speed      180\n",
      "dtype: int64\n",
      "\n",
      "mean\n",
      "\n",
      "Total      435.10250\n",
      "HP         69.25875 \n",
      "Attack     79.00125 \n",
      "Defense    73.84250 \n",
      "Sp. Atk    72.82000 \n",
      "Sp. Def    71.90250 \n",
      "Speed      68.27750 \n",
      "dtype: float64\n",
      "\n",
      "median\n",
      "\n",
      "Total      450.0\n",
      "HP         65.0 \n",
      "Attack     75.0 \n",
      "Defense    70.0 \n",
      "Sp. Atk    65.0 \n",
      "Sp. Def    70.0 \n",
      "Speed      65.0 \n",
      "dtype: float64\n",
      "\n",
      "standard deviation\n",
      "\n",
      "Total      119.963040\n",
      "HP         25.534669 \n",
      "Attack     32.457366 \n",
      "Defense    31.183501 \n",
      "Sp. Atk    32.722294 \n",
      "Sp. Def    27.828916 \n",
      "Speed      29.060474 \n",
      "dtype: float64\n",
      "\n",
      "first quartile\n",
      "\n",
      "Total      330.00\n",
      "HP         50.00 \n",
      "Attack     55.00 \n",
      "Defense    50.00 \n",
      "Sp. Atk    49.75 \n",
      "Sp. Def    50.00 \n",
      "Speed      45.00 \n",
      "Name: 0.25, dtype: float64\n",
      "\n",
      "second quartile\n",
      "\n",
      "Total      450.0\n",
      "HP         65.0 \n",
      "Attack     75.0 \n",
      "Defense    70.0 \n",
      "Sp. Atk    65.0 \n",
      "Sp. Def    70.0 \n",
      "Speed      65.0 \n",
      "Name: 0.5, dtype: float64\n",
      "\n",
      "third quartile\n",
      "\n",
      "Total      515.0\n",
      "HP         80.0 \n",
      "Attack     100.0\n",
      "Defense    90.0 \n",
      "Sp. Atk    95.0 \n",
      "Sp. Def    90.0 \n",
      "Speed      90.0 \n",
      "Name: 0.75, dtype: float64\n"
     ]
    },
    {
     "data": {
      "image/png": "[encoded data removed]",
      "text/plain": [
       "<Figure size 432x288 with 1 Axes>"
      ]
     },
     "metadata": {
      "needs_background": "light"
     },
     "output_type": "display_data"
    },
    {
     "data": {
      "image/png": "[encoded data removed]",
      "text/plain": [
       "<Figure size 432x288 with 1 Axes>"
      ]
     },
     "metadata": {
      "needs_background": "light"
     },
     "output_type": "display_data"
    },
    {
     "data": {
      "image/png": "[encoded data removed]",
      "text/plain": [
       "<Figure size 432x288 with 1 Axes>"
      ]
     },
     "metadata": {
      "needs_background": "light"
     },
     "output_type": "display_data"
    },
    {
     "data": {
      "image/png": "[encoded data removed]",
      "text/plain": [
       "<Figure size 432x288 with 1 Axes>"
      ]
     },
     "metadata": {
      "needs_background": "light"
     },
     "output_type": "display_data"
    },
    {
     "data": {
      "image/png": "[encoded data removed]",
      "text/plain": [
       "<Figure size 432x288 with 1 Axes>"
      ]
     },
     "metadata": {
      "needs_background": "light"
     },
     "output_type": "display_data"
    },
    {
     "data": {
      "image/png": "[encoded data removed]",
      "text/plain": [
       "<Figure size 432x288 with 1 Axes>"
      ]
     },
     "metadata": {
      "needs_background": "light"
     },
     "output_type": "display_data"
    },
    {
     "data": {
      "image/png": "[encoded data removed]",
      "text/plain": [
       "<Figure size 432x288 with 1 Axes>"
      ]
     },
     "metadata": {
      "needs_background": "light"
     },
     "output_type": "display_data"
    }
   ],
   "source": [
    "print(\"min\\n\")\n",
    "print(df.min())\n",
    "print(\"\\nmax\\n\")\n",
    "print(df.max())\n",
    "print(\"\\nmean\\n\")\n",
    "print(df.mean(skipna=False))\n",
    "print(\"\\nmedian\\n\")\n",
    "print(df.median())\n",
    "print(\"\\nstandard deviation\\n\")\n",
    "print(df.std())\n",
    "\n",
    "print(\"\\nfirst quartile\\n\")\n",
    "print(df.quantile(0.25))\n",
    "print(\"\\nsecond quartile\\n\")\n",
    "print(df.quantile(0.50))\n",
    "print(\"\\nthird quartile\\n\")\n",
    "print(df.quantile(0.75))\n",
    " \n",
    "boxplot = df.boxplot(column='Total') \n",
    "plt.show()\n",
    "boxplot = df.boxplot(column='HP') \n",
    "plt.show()\n",
    "boxplot = df.boxplot(column='Attack') \n",
    "plt.show()\n",
    "boxplot = df.boxplot(column='Defense') \n",
    "plt.show()\n",
    "boxplot = df.boxplot(column='Sp. Atk') \n",
    "plt.show()\n",
    "boxplot = df.boxplot(column='Sp. Def') \n",
    "plt.show()\n",
    "boxplot = df.boxplot(column='Speed') \n",
    "plt.show()"
   ]
  },
  {
   "cell_type": "code",
   "execution_count": 67,
   "metadata": {
    "colab": {
     "base_uri": "https://localhost:8080/",
     "height": 153
    },
    "colab_type": "code",
    "id": "ZsFNv5_EeKI8",
    "outputId": "9862ec2a-6833-46b9-91ba-88b4da4b57b6"
   },
   "outputs": [
    {
     "data": {
      "text/plain": [
       "#             int64 \n",
       "Name          object\n",
       "Type 1        object\n",
       "Type 2        object\n",
       "Total         int64 \n",
       "              ...   \n",
       "Sp. Atk       int64 \n",
       "Sp. Def       int64 \n",
       "Speed         int64 \n",
       "Generation    int64 \n",
       "Legendary     bool  \n",
       "Length: 13, dtype: object"
      ]
     },
     "execution_count": 67,
     "metadata": {},
     "output_type": "execute_result"
    }
   ],
   "source": [
    "statesData.dtypes"
   ]
  }
 ],
 "metadata": {
  "colab": {
   "collapsed_sections": [],
   "name": "DAP2.ipynb",
   "provenance": []
  },
  "kernelspec": {
   "display_name": "Python 3",
   "language": "python",
   "name": "python3"
  },
  "language_info": {
   "codemirror_mode": {
    "name": "ipython",
    "version": 3
   },
   "file_extension": ".py",
   "mimetype": "text/x-python",
   "name": "python",
   "nbconvert_exporter": "python",
   "pygments_lexer": "ipython3",
   "version": "3.8.3"
  }
 },
 "nbformat": 4,
 "nbformat_minor": 1
}
