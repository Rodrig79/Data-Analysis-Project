{
 "cells": [
  {
   "cell_type": "code",
   "execution_count": 2,
   "metadata": {
    "colab": {},
    "colab_type": "code",
    "id": "rO6N5JjOCznb",
    "scrolled": true
   },
   "outputs": [],
   "source": [
    "#If you need to install in modules in jupyter notebook \n",
    "# %pip install scikit-learn\n",
    "# %pip install pandas\n",
    "# %pip install matplotlib \n",
    "\n",
    "#Python ≥3.5 is required\n",
    "import sys\n",
    "assert sys.version_info >= (3, 5)\n",
    "import datetime\n",
    "\n",
    "# Scikit-Learn ≥0.20 is required\n",
    "import sklearn\n",
    "assert sklearn.__version__ >= \"0.20\"\n",
    "\n",
    "# Common imports\n",
    "import numpy as np\n",
    "import pandas as pd\n",
    "import os\n",
    "from sklearn.metrics import confusion_matrix\n",
    "from sklearn.metrics import classification_report\n",
    "from sklearn.model_selection import train_test_split\n",
    "import matplotlib.pyplot as plt\n",
    "from scipy import stats\n",
    "\n",
    "# To plot pretty figures\n",
    "%matplotlib inline\n",
    "import matplotlib as mpl\n",
    "import matplotlib.pyplot as plt\n",
    "mpl.rc('axes', labelsize=14)\n",
    "mpl.rc('xtick', labelsize=12)\n",
    "mpl.rc('ytick', labelsize=12)\n",
    "\n",
    "# to make this notebook's output stable across runs\n",
    "np.random.seed(42)\n",
    "\n",
    "# Where to save the figures\n",
    "PROJECT_ROOT_DIR = \".\"\n",
    "CHAPTER_ID = \"decision_trees\"\n",
    "IMAGES_PATH = os.path.join(PROJECT_ROOT_DIR, \"images\", CHAPTER_ID)\n",
    "\n",
    "os.makedirs(IMAGES_PATH, exist_ok=True)\n",
    "\n",
    "def save_fig(fig_id, tight_layout=True, fig_extension=\"png\", resolution=300):\n",
    "    path = os.path.join(IMAGES_PATH, fig_id + \".\" + fig_extension)\n",
    "    print(\"Saving figure\", fig_id)\n",
    "    if tight_layout:\n",
    "        plt.tight_layout()\n",
    "    plt.savefig(path, format=fig_extension, dpi=resolution)"
   ]
  },
  {
   "cell_type": "code",
   "execution_count": 8,
   "metadata": {
    "colab": {},
    "colab_type": "code",
    "id": "oHaaZZR99wIu",
    "scrolled": true
   },
   "outputs": [],
   "source": [
    "#Pull \n",
    "df = pd.read_csv('https://raw.githubusercontent.com/Rodrig79/Machine-Learning-Data-Analysis-Project/master/rawData/pokemon.csv')"
   ]
  },
  {
   "cell_type": "code",
   "execution_count": 9,
   "metadata": {
    "scrolled": true
   },
   "outputs": [],
   "source": [
    "from sklearn import preprocessing\n",
    "\n",
    "#Data Cleaning\n",
    "df = df[~df.Name.str.contains('Mega')] #removed pokemon with \"Mega\" in it\n",
    "df = df.drop(columns = [\"Name\",\"Type 1\",\"Type 2\",\"#\",\"Generation\",\"Legendary\"]) #Removed columns with names\n",
    "\n",
    "x = df.values #returns a numpy array\n",
    "min_max_scaler = preprocessing.MinMaxScaler()\n",
    "x_scaled = min_max_scaler.fit_transform(x)\n",
    "df=pd.DataFrame(x_scaled, columns=df.columns)\n",
    "\n",
    "# removing extreme outliers\n",
    "# statesData = statesData[statesData[\"cases\"].between(statesData[\"cases\"].quantile(.15), statesData[\"cases\"].quantile(.85))]\n",
    "# statesData = statesData[statesData[\"deaths\"].between(statesData[\"deaths\"].quantile(.15), statesData[\"deaths\"].quantile(.85))]"
   ]
  },
  {
   "cell_type": "code",
   "execution_count": 10,
   "metadata": {
    "scrolled": true
   },
   "outputs": [
    {
     "name": "stdout",
     "output_type": "stream",
     "text": [
      "        Total        HP    Attack   Defense   Sp. Atk   Sp. Def     Speed\n",
      "0    0.233898  0.173228  0.251429  0.195556  0.323529  0.214286  0.228571\n",
      "1    0.381356  0.232283  0.325714  0.257778  0.411765  0.285714  0.314286\n",
      "2    0.584746  0.311024  0.440000  0.346667  0.529412  0.380952  0.428571\n",
      "3    0.218644  0.149606  0.268571  0.168889  0.294118  0.142857  0.342857\n",
      "4    0.381356  0.224409  0.337143  0.235556  0.411765  0.214286  0.428571\n",
      "..        ...       ...       ...       ...       ...       ...       ...\n",
      "746  0.711864  0.421260  0.542857  0.515556  0.417647  0.357143  0.514286\n",
      "747  0.711864  0.192913  0.542857  0.644444  0.529412  0.619048  0.257143\n",
      "748  0.711864  0.311024  0.600000  0.244444  0.823529  0.523810  0.371429\n",
      "749  0.847458  0.311024  0.885714  0.244444  0.941176  0.523810  0.428571\n",
      "750  0.711864  0.311024  0.600000  0.511111  0.705882  0.333333  0.371429\n",
      "\n",
      "[751 rows x 7 columns]\n"
     ]
    }
   ],
   "source": [
    "print(df)"
   ]
  },
  {
   "cell_type": "code",
   "execution_count": 11,
   "metadata": {
    "colab": {
     "base_uri": "https://localhost:8080/",
     "height": 476
    },
    "colab_type": "code",
    "id": "6yM6ux-XDBXT",
    "outputId": "aa1b3b67-7861-4ef8-bee2-066c70e537a3",
    "scrolled": true
   },
   "outputs": [],
   "source": [
    "# removing extreme outliers\n",
    "# statesData = statesData[statesData[\"cases\"].between(statesData[\"cases\"].quantile(.15), statesData[\"cases\"].quantile(.85))]\n",
    "# statesData = statesData[statesData[\"deaths\"].between(statesData[\"deaths\"].quantile(.15), statesData[\"deaths\"].quantile(.85))]\n",
    "\n"
   ]
  },
  {
   "cell_type": "code",
   "execution_count": 12,
   "metadata": {
    "colab": {},
    "colab_type": "code",
    "id": "IYaJ297Sv-5H",
    "scrolled": true
   },
   "outputs": [],
   "source": [
    "#changes the output for the print statements\n",
    "pd.set_option('display.max_rows', 10)\n",
    "pd.set_option('display.max_columns', None)\n",
    "pd.set_option('display.width', None)\n",
    "pd.set_option('display.max_colwidth',0)"
   ]
  },
  {
   "cell_type": "code",
   "execution_count": 13,
   "metadata": {
    "colab": {
     "base_uri": "https://localhost:8080/",
     "height": 1000
    },
    "colab_type": "code",
    "id": "mpo1Dg7Xevmm",
    "outputId": "51bbb374-4684-43c2-86f8-330254f96034",
    "scrolled": false
   },
   "outputs": [
    {
     "name": "stdout",
     "output_type": "stream",
     "text": [
      "min\n",
      "\n",
      "Total      0.0\n",
      "HP         0.0\n",
      "Attack     0.0\n",
      "Defense    0.0\n",
      "Sp. Atk    0.0\n",
      "Sp. Def    0.0\n",
      "Speed      0.0\n",
      "dtype: float64\n",
      "\n",
      "max\n",
      "\n",
      "Total      1.0\n",
      "HP         1.0\n",
      "Attack     1.0\n",
      "Defense    1.0\n",
      "Sp. Atk    1.0\n",
      "Sp. Def    1.0\n",
      "Speed      1.0\n",
      "dtype: float64\n",
      "\n",
      "mean\n",
      "\n",
      "Total      0.412411\n",
      "HP         0.266416\n",
      "Attack     0.405593\n",
      "Defense    0.296642\n",
      "Sp. Atk    0.354194\n",
      "Sp. Def    0.238615\n",
      "Speed      0.352041\n",
      "dtype: float64\n",
      "\n",
      "median\n",
      "\n",
      "Total      0.423729\n",
      "HP         0.251969\n",
      "Attack     0.400000\n",
      "Defense    0.280000\n",
      "Sp. Atk    0.323529\n",
      "Sp. Def    0.214286\n",
      "Speed      0.342857\n",
      "dtype: float64\n",
      "\n",
      "standard deviation\n",
      "\n",
      "Total      0.191412\n",
      "HP         0.102150\n",
      "Attack     0.170975\n",
      "Defense    0.131688\n",
      "Sp. Atk    0.178023\n",
      "Sp. Def    0.130481\n",
      "Speed      0.159118\n",
      "dtype: float64\n",
      "\n",
      "first quartile\n",
      "\n",
      "Total      0.245763\n",
      "HP         0.192913\n",
      "Attack     0.285714\n",
      "Defense    0.200000\n",
      "Sp. Atk    0.205882\n",
      "Sp. Def    0.142857\n",
      "Speed      0.228571\n",
      "Name: 0.25, dtype: float64\n",
      "\n",
      "second quartile\n",
      "\n",
      "Total      0.423729\n",
      "HP         0.251969\n",
      "Attack     0.400000\n",
      "Defense    0.280000\n",
      "Sp. Atk    0.323529\n",
      "Sp. Def    0.214286\n",
      "Speed      0.342857\n",
      "Name: 0.5, dtype: float64\n",
      "\n",
      "third quartile\n",
      "\n",
      "Total      0.542373\n",
      "HP         0.311024\n",
      "Attack     0.514286\n",
      "Defense    0.377778\n",
      "Sp. Atk    0.470588\n",
      "Sp. Def    0.309524\n",
      "Speed      0.477143\n",
      "Name: 0.75, dtype: float64\n"
     ]
    },
    {
     "data": {
      "image/png": "[encoded data removed]",
      "text/plain": [
       "<Figure size 432x288 with 1 Axes>"
      ]
     },
     "metadata": {
      "needs_background": "light"
     },
     "output_type": "display_data"
    },
    {
     "data": {
      "image/png": "[encoded data removed]",
      "text/plain": [
       "<Figure size 432x288 with 1 Axes>"
      ]
     },
     "metadata": {
      "needs_background": "light"
     },
     "output_type": "display_data"
    },
    {
     "data": {
      "image/png": "[encoded data removed]",
      "text/plain": [
       "<Figure size 432x288 with 1 Axes>"
      ]
     },
     "metadata": {
      "needs_background": "light"
     },
     "output_type": "display_data"
    },
    {
     "data": {
      "image/png": "[encoded data removed]",
      "text/plain": [
       "<Figure size 432x288 with 1 Axes>"
      ]
     },
     "metadata": {
      "needs_background": "light"
     },
     "output_type": "display_data"
    },
    {
     "data": {
      "image/png": "[encoded data removed]",
      "text/plain": [
       "<Figure size 432x288 with 1 Axes>"
      ]
     },
     "metadata": {
      "needs_background": "light"
     },
     "output_type": "display_data"
    },
    {
     "data": {
      "image/png": "[encoded data removed]",
      "text/plain": [
       "<Figure size 432x288 with 1 Axes>"
      ]
     },
     "metadata": {
      "needs_background": "light"
     },
     "output_type": "display_data"
    },
    {
     "data": {
      "image/png": "[encoded data removed]",
      "text/plain": [
       "<Figure size 432x288 with 1 Axes>"
      ]
     },
     "metadata": {
      "needs_background": "light"
     },
     "output_type": "display_data"
    },
    {
     "data": {
      "text/plain": [
       "array([[<AxesSubplot:title={'center':'Total'}>,\n",
       "        <AxesSubplot:title={'center':'HP'}>,\n",
       "        <AxesSubplot:title={'center':'Attack'}>],\n",
       "       [<AxesSubplot:title={'center':'Defense'}>,\n",
       "        <AxesSubplot:title={'center':'Sp. Atk'}>,\n",
       "        <AxesSubplot:title={'center':'Sp. Def'}>],\n",
       "       [<AxesSubplot:title={'center':'Speed'}>, <AxesSubplot:>,\n",
       "        <AxesSubplot:>]], dtype=object)"
      ]
     },
     "execution_count": 13,
     "metadata": {},
     "output_type": "execute_result"
    },
    {
     "data": {
      "image/png": "[encoded data removed]",
      "text/plain": [
       "<Figure size 432x288 with 9 Axes>"
      ]
     },
     "metadata": {
      "needs_background": "light"
     },
     "output_type": "display_data"
    }
   ],
   "source": [
    "print(\"min\\n\")\n",
    "print(df.min())\n",
    "print(\"\\nmax\\n\")\n",
    "print(df.max())\n",
    "print(\"\\nmean\\n\")\n",
    "print(df.mean(skipna=False))\n",
    "print(\"\\nmedian\\n\")\n",
    "print(df.median())\n",
    "print(\"\\nstandard deviation\\n\")\n",
    "print(df.std())\n",
    "\n",
    "print(\"\\nfirst quartile\\n\")\n",
    "print(df.quantile(0.25))\n",
    "print(\"\\nsecond quartile\\n\")\n",
    "print(df.quantile(0.50))\n",
    "print(\"\\nthird quartile\\n\")\n",
    "print(df.quantile(0.75))\n",
    " \n",
    "boxplot = df.boxplot(column='Total') \n",
    "plt.show()\n",
    "boxplot = df.boxplot(column='HP') \n",
    "plt.show()\n",
    "boxplot = df.boxplot(column='Attack') \n",
    "plt.show()\n",
    "boxplot = df.boxplot(column='Defense') \n",
    "plt.show()\n",
    "boxplot = df.boxplot(column='Sp. Atk') \n",
    "plt.show()\n",
    "boxplot = df.boxplot(column='Sp. Def') \n",
    "plt.show()\n",
    "boxplot = df.boxplot(column='Speed') \n",
    "plt.show()\n",
    "df.hist()"
   ]
  },
  {
   "cell_type": "code",
   "execution_count": null,
   "metadata": {},
   "outputs": [],
   "source": []
  }
 ],
 "metadata": {
  "colab": {
   "collapsed_sections": [],
   "name": "DAP2.ipynb",
   "provenance": []
  },
  "kernelspec": {
   "display_name": "Python 3",
   "language": "python",
   "name": "python3"
  },
  "language_info": {
   "codemirror_mode": {
    "name": "ipython",
    "version": 3
   },
   "file_extension": ".py",
   "mimetype": "text/x-python",
   "name": "python",
   "nbconvert_exporter": "python",
   "pygments_lexer": "ipython3",
   "version": "3.8.3"
  }
 },
 "nbformat": 4,
 "nbformat_minor": 1
}
